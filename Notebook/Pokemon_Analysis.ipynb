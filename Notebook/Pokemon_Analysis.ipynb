{
 "cells": [
  {
   "cell_type": "markdown",
   "metadata": {
    "toc": true
   },
   "source": [
    "<h1>Table of Contents<span class=\"tocSkip\"></span></h1>\n",
    "<div class=\"toc\"><ul class=\"toc-item\"><li><span><a href=\"#Base-Stat-Analysis\" data-toc-modified-id=\"Base-Stat-Analysis-1\"><span class=\"toc-item-num\">1&nbsp;&nbsp;</span>Base Stat Analysis</a></span><ul class=\"toc-item\"><li><span><a href=\"#Data-Cleaning\" data-toc-modified-id=\"Data-Cleaning-1.1\"><span class=\"toc-item-num\">1.1&nbsp;&nbsp;</span>Data Cleaning</a></span></li><li><span><a href=\"#Principal-Component-Analysis\" data-toc-modified-id=\"Principal-Component-Analysis-1.2\"><span class=\"toc-item-num\">1.2&nbsp;&nbsp;</span>Principal Component Analysis</a></span><ul class=\"toc-item\"><li><span><a href=\"#Preprocessing-Data\" data-toc-modified-id=\"Preprocessing-Data-1.2.1\"><span class=\"toc-item-num\">1.2.1&nbsp;&nbsp;</span>Preprocessing Data</a></span></li><li><span><a href=\"#Perfrom-PCA\" data-toc-modified-id=\"Perfrom-PCA-1.2.2\"><span class=\"toc-item-num\">1.2.2&nbsp;&nbsp;</span>Perfrom PCA</a></span></li><li><span><a href=\"#Data-Visualization\" data-toc-modified-id=\"Data-Visualization-1.2.3\"><span class=\"toc-item-num\">1.2.3&nbsp;&nbsp;</span>Data Visualization</a></span></li></ul></li></ul></li><li><span><a href=\"#Clustering\" data-toc-modified-id=\"Clustering-2\"><span class=\"toc-item-num\">2&nbsp;&nbsp;</span>Clustering</a></span><ul class=\"toc-item\"><li><span><a href=\"#Mean-Shift-Clustering\" data-toc-modified-id=\"Mean-Shift-Clustering-2.1\"><span class=\"toc-item-num\">2.1&nbsp;&nbsp;</span>Mean Shift Clustering</a></span><ul class=\"toc-item\"><li><span><a href=\"#Outlier-Analysis\" data-toc-modified-id=\"Outlier-Analysis-2.1.1\"><span class=\"toc-item-num\">2.1.1&nbsp;&nbsp;</span>Outlier Analysis</a></span><ul class=\"toc-item\"><li><span><a href=\"#Analyze-Cluster-2\" data-toc-modified-id=\"Analyze-Cluster-2-2.1.1.1\"><span class=\"toc-item-num\">2.1.1.1&nbsp;&nbsp;</span>Analyze Cluster 2</a></span></li><li><span><a href=\"#Analyze-Cluster-3\" data-toc-modified-id=\"Analyze-Cluster-3-2.1.1.2\"><span class=\"toc-item-num\">2.1.1.2&nbsp;&nbsp;</span>Analyze Cluster 3</a></span></li></ul></li></ul></li><li><span><a href=\"#Kmeans\" data-toc-modified-id=\"Kmeans-2.2\"><span class=\"toc-item-num\">2.2&nbsp;&nbsp;</span>Kmeans</a></span></li></ul></li><li><span><a href=\"#Data-Training-1\" data-toc-modified-id=\"Data-Training-1-3\"><span class=\"toc-item-num\">3&nbsp;&nbsp;</span>Data Training 1</a></span><ul class=\"toc-item\"><li><span><a href=\"#Data-Preprocessing\" data-toc-modified-id=\"Data-Preprocessing-3.1\"><span class=\"toc-item-num\">3.1&nbsp;&nbsp;</span>Data Preprocessing</a></span><ul class=\"toc-item\"><li><span><a href=\"#Preprocess-Base-Stats\" data-toc-modified-id=\"Preprocess-Base-Stats-3.1.1\"><span class=\"toc-item-num\">3.1.1&nbsp;&nbsp;</span>Preprocess Base Stats</a></span></li><li><span><a href=\"#Preprocess-Clustering-Result\" data-toc-modified-id=\"Preprocess-Clustering-Result-3.1.2\"><span class=\"toc-item-num\">3.1.2&nbsp;&nbsp;</span>Preprocess Clustering Result</a></span></li></ul></li><li><span><a href=\"#Data-Training-only-with-Base-Stats\" data-toc-modified-id=\"Data-Training-only-with-Base-Stats-3.2\"><span class=\"toc-item-num\">3.2&nbsp;&nbsp;</span>Data Training only with Base Stats</a></span><ul class=\"toc-item\"><li><span><a href=\"#Training-Set-:-Testing-Set-=-0.75-:-0.25\" data-toc-modified-id=\"Training-Set-:-Testing-Set-=-0.75-:-0.25-3.2.1\"><span class=\"toc-item-num\">3.2.1&nbsp;&nbsp;</span>Training Set : Testing Set = 0.75 : 0.25</a></span></li><li><span><a href=\"#Training-Set-:-Testing-Set-=-0.5-:-0.5\" data-toc-modified-id=\"Training-Set-:-Testing-Set-=-0.5-:-0.5-3.2.2\"><span class=\"toc-item-num\">3.2.2&nbsp;&nbsp;</span>Training Set : Testing Set = 0.5 : 0.5</a></span></li><li><span><a href=\"#Training-Set-:-Testing-Set-=-0.25-:-0.75\" data-toc-modified-id=\"Training-Set-:-Testing-Set-=-0.25-:-0.75-3.2.3\"><span class=\"toc-item-num\">3.2.3&nbsp;&nbsp;</span>Training Set : Testing Set = 0.25 : 0.75</a></span></li></ul></li><li><span><a href=\"#Data-Training-only-with-Kmeans-Clustering-Result\" data-toc-modified-id=\"Data-Training-only-with-Kmeans-Clustering-Result-3.3\"><span class=\"toc-item-num\">3.3&nbsp;&nbsp;</span>Data Training only with Kmeans Clustering Result</a></span></li><li><span><a href=\"#Data-Training-with-Base-Stats-and-Kmeans-Clustering-Result\" data-toc-modified-id=\"Data-Training-with-Base-Stats-and-Kmeans-Clustering-Result-3.4\"><span class=\"toc-item-num\">3.4&nbsp;&nbsp;</span>Data Training with Base Stats and Kmeans Clustering Result</a></span></li></ul></li><li><span><a href=\"#Type-/-First-Attack-Analysis\" data-toc-modified-id=\"Type-/-First-Attack-Analysis-4\"><span class=\"toc-item-num\">4&nbsp;&nbsp;</span>Type / First Attack Analysis</a></span><ul class=\"toc-item\"><li><span><a href=\"#Type-Advantage\" data-toc-modified-id=\"Type-Advantage-4.1\"><span class=\"toc-item-num\">4.1&nbsp;&nbsp;</span>Type Advantage</a></span></li><li><span><a href=\"#First-Attack-Advantage\" data-toc-modified-id=\"First-Attack-Advantage-4.2\"><span class=\"toc-item-num\">4.2&nbsp;&nbsp;</span>First Attack Advantage</a></span></li><li><span><a href=\"#First-Attacker-and-Type-Advantage\" data-toc-modified-id=\"First-Attacker-and-Type-Advantage-4.3\"><span class=\"toc-item-num\">4.3&nbsp;&nbsp;</span>First Attacker and Type Advantage</a></span></li></ul></li><li><span><a href=\"#Data-Training-2\" data-toc-modified-id=\"Data-Training-2-5\"><span class=\"toc-item-num\">5&nbsp;&nbsp;</span>Data Training 2</a></span><ul class=\"toc-item\"><li><span><a href=\"#Data-Preprocessing\" data-toc-modified-id=\"Data-Preprocessing-5.1\"><span class=\"toc-item-num\">5.1&nbsp;&nbsp;</span>Data Preprocessing</a></span></li><li><span><a href=\"#Data-Training-with-Type-Effectiveness\" data-toc-modified-id=\"Data-Training-with-Type-Effectiveness-5.2\"><span class=\"toc-item-num\">5.2&nbsp;&nbsp;</span>Data Training with Type Effectiveness</a></span><ul class=\"toc-item\"><li><span><a href=\"#Training-Set-:-Testing-Set-=-0.75-:-0.25\" data-toc-modified-id=\"Training-Set-:-Testing-Set-=-0.75-:-0.25-5.2.1\"><span class=\"toc-item-num\">5.2.1&nbsp;&nbsp;</span>Training Set : Testing Set = 0.75 : 0.25</a></span></li><li><span><a href=\"#Random-Forest-Feature-Importance\" data-toc-modified-id=\"Random-Forest-Feature-Importance-5.2.2\"><span class=\"toc-item-num\">5.2.2&nbsp;&nbsp;</span>Random Forest Feature Importance</a></span></li><li><span><a href=\"#Training-Set-:-Testing-Set-=-0.5-:-0.5\" data-toc-modified-id=\"Training-Set-:-Testing-Set-=-0.5-:-0.5-5.2.3\"><span class=\"toc-item-num\">5.2.3&nbsp;&nbsp;</span>Training Set : Testing Set = 0.5 : 0.5</a></span></li><li><span><a href=\"#Training-Set-:-Testing-Set-=-0.25-:-0.75\" data-toc-modified-id=\"Training-Set-:-Testing-Set-=-0.25-:-0.75-5.2.4\"><span class=\"toc-item-num\">5.2.4&nbsp;&nbsp;</span>Training Set : Testing Set = 0.25 : 0.75</a></span></li><li><span><a href=\"#Decision-Tree-Feature-Importance\" data-toc-modified-id=\"Decision-Tree-Feature-Importance-5.2.5\"><span class=\"toc-item-num\">5.2.5&nbsp;&nbsp;</span>Decision Tree Feature Importance</a></span></li></ul></li></ul></li><li><span><a href=\"#Pokemon-Combat-Prediction\" data-toc-modified-id=\"Pokemon-Combat-Prediction-6\"><span class=\"toc-item-num\">6&nbsp;&nbsp;</span>Pokemon Combat Prediction</a></span><ul class=\"toc-item\"><li><span><a href=\"#Random-Forest-Classification\" data-toc-modified-id=\"Random-Forest-Classification-6.1\"><span class=\"toc-item-num\">6.1&nbsp;&nbsp;</span>Random Forest Classification</a></span><ul class=\"toc-item\"><li><span><a href=\"#Parameter-Tuning\" data-toc-modified-id=\"Parameter-Tuning-6.1.1\"><span class=\"toc-item-num\">6.1.1&nbsp;&nbsp;</span>Parameter Tuning</a></span></li><li><span><a href=\"#Random-Forest\" data-toc-modified-id=\"Random-Forest-6.1.2\"><span class=\"toc-item-num\">6.1.2&nbsp;&nbsp;</span>Random Forest</a></span></li></ul></li><li><span><a href=\"#Data-Visualization\" data-toc-modified-id=\"Data-Visualization-6.2\"><span class=\"toc-item-num\">6.2&nbsp;&nbsp;</span>Data Visualization</a></span></li><li><span><a href=\"#Predict-tests.csv-With-Random-Forest\" data-toc-modified-id=\"Predict-tests.csv-With-Random-Forest-6.3\"><span class=\"toc-item-num\">6.3&nbsp;&nbsp;</span>Predict tests.csv With Random Forest</a></span></li></ul></li></ul></div>"
   ]
  },
  {
   "cell_type": "markdown",
   "metadata": {},
   "source": [
    "# Base Stat Analysis"
   ]
  },
  {
   "cell_type": "code",
   "execution_count": 1,
   "metadata": {
    "collapsed": true
   },
   "outputs": [],
   "source": [
    "%matplotlib inline"
   ]
  },
  {
   "cell_type": "code",
   "execution_count": 2,
   "metadata": {
    "collapsed": true
   },
   "outputs": [],
   "source": [
    "import numpy as np\n",
    "import pandas as pd\n",
    "import seaborn as sns\n",
    "import matplotlib.cm as cm\n",
    "import matplotlib.pyplot as plt\n",
    "from sklearn.preprocessing import StandardScaler\n",
    "from sklearn.decomposition import PCA\n",
    "from sklearn.cluster import MeanShift\n",
    "from mpl_toolkits.mplot3d import Axes3D"
   ]
  },
  {
   "cell_type": "code",
   "execution_count": 3,
   "metadata": {
    "collapsed": true
   },
   "outputs": [],
   "source": [
    "import warnings\n",
    "warnings.simplefilter('ignore')"
   ]
  },
  {
   "cell_type": "code",
   "execution_count": 4,
   "metadata": {
    "collapsed": true
   },
   "outputs": [],
   "source": [
    "#load data\n",
    "pokemon = pd.read_csv(\"/Users/gillianchiang/Desktop/Course/year4_sem2/COMP4912/Data/pokemon-challenge/pokemon.csv\")\n",
    "combats = pd.read_csv(\"/Users/gillianchiang/Desktop/Course/year4_sem2/COMP4912/Data/pokemon-challenge/combats.csv\")"
   ]
  },
  {
   "cell_type": "code",
   "execution_count": 5,
   "metadata": {},
   "outputs": [
    {
     "data": {
      "text/html": [
       "<div>\n",
       "<style>\n",
       "    .dataframe thead tr:only-child th {\n",
       "        text-align: right;\n",
       "    }\n",
       "\n",
       "    .dataframe thead th {\n",
       "        text-align: left;\n",
       "    }\n",
       "\n",
       "    .dataframe tbody tr th {\n",
       "        vertical-align: top;\n",
       "    }\n",
       "</style>\n",
       "<table border=\"1\" class=\"dataframe\">\n",
       "  <thead>\n",
       "    <tr style=\"text-align: right;\">\n",
       "      <th></th>\n",
       "      <th>#</th>\n",
       "      <th>Name</th>\n",
       "      <th>Type 1</th>\n",
       "      <th>Type 2</th>\n",
       "      <th>HP</th>\n",
       "      <th>Attack</th>\n",
       "      <th>Defense</th>\n",
       "      <th>Sp. Atk</th>\n",
       "      <th>Sp. Def</th>\n",
       "      <th>Speed</th>\n",
       "      <th>Generation</th>\n",
       "      <th>Legendary</th>\n",
       "    </tr>\n",
       "  </thead>\n",
       "  <tbody>\n",
       "    <tr>\n",
       "      <th>0</th>\n",
       "      <td>1</td>\n",
       "      <td>Bulbasaur</td>\n",
       "      <td>Grass</td>\n",
       "      <td>Poison</td>\n",
       "      <td>45</td>\n",
       "      <td>49</td>\n",
       "      <td>49</td>\n",
       "      <td>65</td>\n",
       "      <td>65</td>\n",
       "      <td>45</td>\n",
       "      <td>1</td>\n",
       "      <td>False</td>\n",
       "    </tr>\n",
       "    <tr>\n",
       "      <th>1</th>\n",
       "      <td>2</td>\n",
       "      <td>Ivysaur</td>\n",
       "      <td>Grass</td>\n",
       "      <td>Poison</td>\n",
       "      <td>60</td>\n",
       "      <td>62</td>\n",
       "      <td>63</td>\n",
       "      <td>80</td>\n",
       "      <td>80</td>\n",
       "      <td>60</td>\n",
       "      <td>1</td>\n",
       "      <td>False</td>\n",
       "    </tr>\n",
       "    <tr>\n",
       "      <th>2</th>\n",
       "      <td>3</td>\n",
       "      <td>Venusaur</td>\n",
       "      <td>Grass</td>\n",
       "      <td>Poison</td>\n",
       "      <td>80</td>\n",
       "      <td>82</td>\n",
       "      <td>83</td>\n",
       "      <td>100</td>\n",
       "      <td>100</td>\n",
       "      <td>80</td>\n",
       "      <td>1</td>\n",
       "      <td>False</td>\n",
       "    </tr>\n",
       "    <tr>\n",
       "      <th>3</th>\n",
       "      <td>4</td>\n",
       "      <td>Mega Venusaur</td>\n",
       "      <td>Grass</td>\n",
       "      <td>Poison</td>\n",
       "      <td>80</td>\n",
       "      <td>100</td>\n",
       "      <td>123</td>\n",
       "      <td>122</td>\n",
       "      <td>120</td>\n",
       "      <td>80</td>\n",
       "      <td>1</td>\n",
       "      <td>False</td>\n",
       "    </tr>\n",
       "    <tr>\n",
       "      <th>4</th>\n",
       "      <td>5</td>\n",
       "      <td>Charmander</td>\n",
       "      <td>Fire</td>\n",
       "      <td>NaN</td>\n",
       "      <td>39</td>\n",
       "      <td>52</td>\n",
       "      <td>43</td>\n",
       "      <td>60</td>\n",
       "      <td>50</td>\n",
       "      <td>65</td>\n",
       "      <td>1</td>\n",
       "      <td>False</td>\n",
       "    </tr>\n",
       "  </tbody>\n",
       "</table>\n",
       "</div>"
      ],
      "text/plain": [
       "   #           Name Type 1  Type 2  HP  Attack  Defense  Sp. Atk  Sp. Def  \\\n",
       "0  1      Bulbasaur  Grass  Poison  45      49       49       65       65   \n",
       "1  2        Ivysaur  Grass  Poison  60      62       63       80       80   \n",
       "2  3       Venusaur  Grass  Poison  80      82       83      100      100   \n",
       "3  4  Mega Venusaur  Grass  Poison  80     100      123      122      120   \n",
       "4  5     Charmander   Fire     NaN  39      52       43       60       50   \n",
       "\n",
       "   Speed  Generation  Legendary  \n",
       "0     45           1      False  \n",
       "1     60           1      False  \n",
       "2     80           1      False  \n",
       "3     80           1      False  \n",
       "4     65           1      False  "
      ]
     },
     "execution_count": 5,
     "metadata": {},
     "output_type": "execute_result"
    }
   ],
   "source": [
    "pokemon.head()"
   ]
  },
  {
   "cell_type": "markdown",
   "metadata": {},
   "source": [
    "## Data Cleaning"
   ]
  },
  {
   "cell_type": "code",
   "execution_count": 6,
   "metadata": {
    "scrolled": true
   },
   "outputs": [
    {
     "name": "stdout",
     "output_type": "stream",
     "text": [
      "<class 'pandas.core.frame.DataFrame'>\n",
      "RangeIndex: 800 entries, 0 to 799\n",
      "Data columns (total 12 columns):\n",
      "#             800 non-null int64\n",
      "Name          799 non-null object\n",
      "Type 1        800 non-null object\n",
      "Type 2        414 non-null object\n",
      "HP            800 non-null int64\n",
      "Attack        800 non-null int64\n",
      "Defense       800 non-null int64\n",
      "Sp. Atk       800 non-null int64\n",
      "Sp. Def       800 non-null int64\n",
      "Speed         800 non-null int64\n",
      "Generation    800 non-null int64\n",
      "Legendary     800 non-null bool\n",
      "dtypes: bool(1), int64(8), object(3)\n",
      "memory usage: 69.6+ KB\n"
     ]
    }
   ],
   "source": [
    "pokemon.info()"
   ]
  },
  {
   "cell_type": "markdown",
   "metadata": {},
   "source": [
    "According to date info, we found out that one of the \"Name\" is missing, and Pokemon's without a second type is showed as NaN. Thus, we would like to fill in the blanks to make the data complete."
   ]
  },
  {
   "cell_type": "code",
   "execution_count": 7,
   "metadata": {
    "scrolled": true
   },
   "outputs": [
    {
     "data": {
      "text/html": [
       "<div>\n",
       "<style>\n",
       "    .dataframe thead tr:only-child th {\n",
       "        text-align: right;\n",
       "    }\n",
       "\n",
       "    .dataframe thead th {\n",
       "        text-align: left;\n",
       "    }\n",
       "\n",
       "    .dataframe tbody tr th {\n",
       "        vertical-align: top;\n",
       "    }\n",
       "</style>\n",
       "<table border=\"1\" class=\"dataframe\">\n",
       "  <thead>\n",
       "    <tr style=\"text-align: right;\">\n",
       "      <th></th>\n",
       "      <th>#</th>\n",
       "      <th>Name</th>\n",
       "      <th>Type 1</th>\n",
       "      <th>Type 2</th>\n",
       "      <th>HP</th>\n",
       "      <th>Attack</th>\n",
       "      <th>Defense</th>\n",
       "      <th>Sp. Atk</th>\n",
       "      <th>Sp. Def</th>\n",
       "      <th>Speed</th>\n",
       "      <th>Generation</th>\n",
       "      <th>Legendary</th>\n",
       "    </tr>\n",
       "  </thead>\n",
       "  <tbody>\n",
       "    <tr>\n",
       "      <th>62</th>\n",
       "      <td>63</td>\n",
       "      <td>NaN</td>\n",
       "      <td>Fighting</td>\n",
       "      <td>NaN</td>\n",
       "      <td>65</td>\n",
       "      <td>105</td>\n",
       "      <td>60</td>\n",
       "      <td>60</td>\n",
       "      <td>70</td>\n",
       "      <td>95</td>\n",
       "      <td>1</td>\n",
       "      <td>False</td>\n",
       "    </tr>\n",
       "  </tbody>\n",
       "</table>\n",
       "</div>"
      ],
      "text/plain": [
       "     # Name    Type 1 Type 2  HP  Attack  Defense  Sp. Atk  Sp. Def  Speed  \\\n",
       "62  63  NaN  Fighting    NaN  65     105       60       60       70     95   \n",
       "\n",
       "    Generation  Legendary  \n",
       "62           1      False  "
      ]
     },
     "execution_count": 7,
     "metadata": {},
     "output_type": "execute_result"
    }
   ],
   "source": [
    "pokemon.loc[pokemon['Name'].isnull()==True]"
   ]
  },
  {
   "cell_type": "markdown",
   "metadata": {},
   "source": [
    "<p>According to <a href=\"https://pokemondb.net/pokedex/all\"> Pokemon Database</a>, we found out the No.63 pokemon is \"Primeape\".</p>"
   ]
  },
  {
   "cell_type": "code",
   "execution_count": 8,
   "metadata": {
    "collapsed": true
   },
   "outputs": [],
   "source": [
    "pokemon['Name'] = pokemon['Name'].fillna('Primeape')\n",
    "pokemon['Type 2'] = pokemon['Type 2'].fillna('None')"
   ]
  },
  {
   "cell_type": "code",
   "execution_count": 9,
   "metadata": {},
   "outputs": [
    {
     "name": "stdout",
     "output_type": "stream",
     "text": [
      "<class 'pandas.core.frame.DataFrame'>\n",
      "RangeIndex: 800 entries, 0 to 799\n",
      "Data columns (total 12 columns):\n",
      "#             800 non-null int64\n",
      "Name          800 non-null object\n",
      "Type 1        800 non-null object\n",
      "Type 2        800 non-null object\n",
      "HP            800 non-null int64\n",
      "Attack        800 non-null int64\n",
      "Defense       800 non-null int64\n",
      "Sp. Atk       800 non-null int64\n",
      "Sp. Def       800 non-null int64\n",
      "Speed         800 non-null int64\n",
      "Generation    800 non-null int64\n",
      "Legendary     800 non-null bool\n",
      "dtypes: bool(1), int64(8), object(3)\n",
      "memory usage: 69.6+ KB\n"
     ]
    }
   ],
   "source": [
    "pokemon.info()"
   ]
  },
  {
   "cell_type": "markdown",
   "metadata": {},
   "source": [
    "## Principal Component Analysis"
   ]
  },
  {
   "cell_type": "markdown",
   "metadata": {},
   "source": [
    "Since clustering generally depends on some sort of distance measure, which groups the points that are near each other into the same cluster. However, in high dimensional spaces, distance measures do not work very well. Therefore, I tried to reduce the number of dimensions first by implementing PCA so that the distance metric can make sense."
   ]
  },
  {
   "cell_type": "markdown",
   "metadata": {},
   "source": [
    "### Preprocessing Data"
   ]
  },
  {
   "cell_type": "code",
   "execution_count": 10,
   "metadata": {
    "collapsed": true,
    "slideshow": {
     "slide_type": "skip"
    }
   },
   "outputs": [],
   "source": [
    "pokemon[\"Total\"] = pokemon[\"HP\"] + pokemon[\"Attack\"] + pokemon[\"Defense\"] + pokemon[\"Sp. Atk\"] + pokemon[\"Sp. Def\"] + pokemon[\"Speed\"]\n",
    "stats=['Attack', 'Defense','HP', 'Sp. Atk','Sp. Def', 'Speed', 'Total']"
   ]
  },
  {
   "cell_type": "code",
   "execution_count": 11,
   "metadata": {},
   "outputs": [
    {
     "name": "stderr",
     "output_type": "stream",
     "text": [
      "ERROR:root:Cell magic `%%` not found.\n"
     ]
    }
   ],
   "source": [
    "%%\n",
    "from pandas.plotting import scatter_matrix\n",
    "scatter_matrix(pokemon[stats], alpha=0.2, figsize=(10, 10), diagonal='kde')\n",
    "scatter_matrix"
   ]
  },
  {
   "cell_type": "code",
   "execution_count": 12,
   "metadata": {},
   "outputs": [
    {
     "name": "stdout",
     "output_type": "stream",
     "text": [
      "mean: -2.48689957516e-16\n",
      "SD: 1.0\n"
     ]
    }
   ],
   "source": [
    "#standardize the data\n",
    "stat = ['HP', 'Attack', 'Defense', 'Sp. Atk','Sp. Def', 'Speed']\n",
    "poke_stat_scaled = StandardScaler().fit_transform(pokemon[stat])\n",
    "\n",
    "print(\"mean: \"+str(poke_stat_scaled[:,0].mean()))  # very close to 0\n",
    "print(\"SD: \"+str(poke_stat_scaled[:,0].std()))  # very close to 1"
   ]
  },
  {
   "cell_type": "markdown",
   "metadata": {},
   "source": [
    "### Perfrom PCA"
   ]
  },
  {
   "cell_type": "code",
   "execution_count": 13,
   "metadata": {},
   "outputs": [
    {
     "name": "stdout",
     "output_type": "stream",
     "text": [
      "Number of principle components: 5\n",
      "PC1: 45.19%\n",
      "PC2: 18.23%\n",
      "PC3: 12.98%\n",
      "PC4: 12.01%\n",
      "PC5: 7.14%\n",
      "Total explained variance ratio: 95.55%\n"
     ]
    }
   ],
   "source": [
    "#pca\n",
    "pca = PCA(n_components = 'mle',svd_solver='full') #maximum likelihood estimation\n",
    "pcscores = pd.DataFrame(pca.fit_transform(poke_stat_scaled)) \n",
    "pcscores.columns = ['PC'+str(i+1) for i in range(len(pcscores.columns))]\n",
    "#print(pca.explained_variance_ratio_)\n",
    "#print(pca.explained_variance_)\n",
    "\n",
    "print(\"Number of principle components: \"+str(pca.n_components_))\n",
    "pcaVarRatioSum = 0\n",
    "for i in range(pca.n_components_):\n",
    "    pcaVarRatio = pca.explained_variance_ratio_.tolist()\n",
    "    pcaSingleVarRatio = \"{:.2%}\".format(pcaVarRatio[i])\n",
    "    print(\"PC\"+str(i+1)+\": \"+str(pcaSingleVarRatio))\n",
    "    pcaVarRatioSum = pcaVarRatioSum + pcaVarRatio[i]\n",
    "print(\"Total explained variance ratio: \"+\"{:.2%}\".format(pcaVarRatioSum))\n",
    "    \n",
    "    "
   ]
  },
  {
   "cell_type": "markdown",
   "metadata": {},
   "source": [
    "When we perform PCA with Maximum Likelihood Estimation, the base stats are reduced to 5 principle components, which explained 95.55% of variance. This shows that PCA might not be an neccessary step before implementing the clustering method in this dataset."
   ]
  },
  {
   "cell_type": "code",
   "execution_count": 14,
   "metadata": {},
   "outputs": [
    {
     "data": {
      "text/html": [
       "<div>\n",
       "<style>\n",
       "    .dataframe thead tr:only-child th {\n",
       "        text-align: right;\n",
       "    }\n",
       "\n",
       "    .dataframe thead th {\n",
       "        text-align: left;\n",
       "    }\n",
       "\n",
       "    .dataframe tbody tr th {\n",
       "        vertical-align: top;\n",
       "    }\n",
       "</style>\n",
       "<table border=\"1\" class=\"dataframe\">\n",
       "  <thead>\n",
       "    <tr style=\"text-align: right;\">\n",
       "      <th></th>\n",
       "      <th>HP</th>\n",
       "      <th>Attack</th>\n",
       "      <th>Defense</th>\n",
       "      <th>Sp. Atk</th>\n",
       "      <th>Sp. Def</th>\n",
       "      <th>Speed</th>\n",
       "    </tr>\n",
       "  </thead>\n",
       "  <tbody>\n",
       "    <tr>\n",
       "      <th>PC1</th>\n",
       "      <td>0.389886</td>\n",
       "      <td>0.439254</td>\n",
       "      <td>0.363747</td>\n",
       "      <td>0.457162</td>\n",
       "      <td>0.448570</td>\n",
       "      <td>0.335440</td>\n",
       "    </tr>\n",
       "    <tr>\n",
       "      <th>PC2</th>\n",
       "      <td>0.084835</td>\n",
       "      <td>-0.011825</td>\n",
       "      <td>0.628789</td>\n",
       "      <td>-0.305414</td>\n",
       "      <td>0.239097</td>\n",
       "      <td>-0.668463</td>\n",
       "    </tr>\n",
       "    <tr>\n",
       "      <th>PC3</th>\n",
       "      <td>-0.471926</td>\n",
       "      <td>-0.594153</td>\n",
       "      <td>0.069339</td>\n",
       "      <td>0.305612</td>\n",
       "      <td>0.565594</td>\n",
       "      <td>0.078513</td>\n",
       "    </tr>\n",
       "    <tr>\n",
       "      <th>PC4</th>\n",
       "      <td>0.717691</td>\n",
       "      <td>-0.405836</td>\n",
       "      <td>-0.419237</td>\n",
       "      <td>0.147517</td>\n",
       "      <td>0.185445</td>\n",
       "      <td>-0.297163</td>\n",
       "    </tr>\n",
       "    <tr>\n",
       "      <th>PC5</th>\n",
       "      <td>0.219991</td>\n",
       "      <td>-0.190255</td>\n",
       "      <td>0.059032</td>\n",
       "      <td>-0.735345</td>\n",
       "      <td>0.300200</td>\n",
       "      <td>0.530161</td>\n",
       "    </tr>\n",
       "  </tbody>\n",
       "</table>\n",
       "</div>"
      ],
      "text/plain": [
       "           HP    Attack   Defense   Sp. Atk   Sp. Def     Speed\n",
       "PC1  0.389886  0.439254  0.363747  0.457162  0.448570  0.335440\n",
       "PC2  0.084835 -0.011825  0.628789 -0.305414  0.239097 -0.668463\n",
       "PC3 -0.471926 -0.594153  0.069339  0.305612  0.565594  0.078513\n",
       "PC4  0.717691 -0.405836 -0.419237  0.147517  0.185445 -0.297163\n",
       "PC5  0.219991 -0.190255  0.059032 -0.735345  0.300200  0.530161"
      ]
     },
     "execution_count": 14,
     "metadata": {},
     "output_type": "execute_result"
    }
   ],
   "source": [
    "#loading factors\n",
    "loadings = pd.DataFrame(pca.components_, columns=stat)\n",
    "loadings.index = ['PC'+str(i+1) for i in range(len(pcscores.columns))]\n",
    "loadings"
   ]
  },
  {
   "cell_type": "code",
   "execution_count": 15,
   "metadata": {
    "scrolled": true
   },
   "outputs": [
    {
     "data": {
      "image/png": "[encoded data removed]",
      "text/plain": [
       "<matplotlib.figure.Figure at 0x1a15d70cf8>"
      ]
     },
     "metadata": {},
     "output_type": "display_data"
    }
   ],
   "source": [
    "#visualize the square values of loading factors\n",
    "load_sqr = loadings**2 #so that the sum of the stats will equal to 1\n",
    "ax1 = sns.heatmap(load_sqr.transpose(), linewidths=0.5, cmap=\"BuGn\", annot=True)\n",
    "ax1.set_xticklabels(ax1.xaxis.get_majorticklabels(), rotation=0)\n",
    "ax1.set_yticklabels(ax1.yaxis.get_majorticklabels(), rotation=0)\n",
    "plt.show()"
   ]
  },
  {
   "cell_type": "markdown",
   "metadata": {},
   "source": [
    "The darkest shades in the plot above indicate which parameters are the most important. For example, PC4 show that HP is the most dominant parameter. That is, Pokemon with high HP will have high absolute values of PC4.<br>\n",
    "<br>\n",
    "However, if you want to see more trends, the <b>actual values</b> of the loading factors will give you more insights:"
   ]
  },
  {
   "cell_type": "code",
   "execution_count": 16,
   "metadata": {},
   "outputs": [
    {
     "data": {
      "image/png": "[encoded data removed]",
      "text/plain": [
       "<matplotlib.figure.Figure at 0x1a15d703c8>"
      ]
     },
     "metadata": {},
     "output_type": "display_data"
    }
   ],
   "source": [
    "ax = sns.heatmap(loadings.transpose(), center=0, linewidths=0.5, \n",
    "                 cmap=\"RdBu\", vmin=-1, vmax=1, annot=True)\n",
    "ax.set_xticklabels(ax.xaxis.get_majorticklabels(), rotation=0)\n",
    "ax.set_yticklabels(ax.yaxis.get_majorticklabels(), rotation=0)\n",
    "plt.show()"
   ]
  },
  {
   "cell_type": "markdown",
   "metadata": {},
   "source": [
    "For example, a Pokemon with high Defense or low Speed will have a positive value of PC2. On the other hand, things like Attack or Sp. Defense will control what value a Pokemon will have for PC3."
   ]
  },
  {
   "cell_type": "markdown",
   "metadata": {},
   "source": [
    "The next step, I would like first visualize the dataset, then implement clustering method to find out the how the pokemons can be grouped together."
   ]
  },
  {
   "cell_type": "markdown",
   "metadata": {},
   "source": [
    "--------------------------------"
   ]
  },
  {
   "cell_type": "markdown",
   "metadata": {},
   "source": [
    "### Data Visualization"
   ]
  },
  {
   "cell_type": "markdown",
   "metadata": {},
   "source": [
    "I use <b>biplot</b> to examine the data, which is a scatter plot with vectors indicating what direction a datapoint will take in the PCA given its underlying parameters. In addition, the <b>Pokemon Type</b> will be colored to see if there is any obvious trends."
   ]
  },
  {
   "cell_type": "code",
   "execution_count": 17,
   "metadata": {},
   "outputs": [
    {
     "data": {
      "image/png": "[encoded data removed]",
      "text/plain": [
       "<matplotlib.figure.Figure at 0x1a1f06b6d8>"
      ]
     },
     "metadata": {},
     "output_type": "display_data"
    }
   ],
   "source": [
    "from math import sqrt\n",
    "# Create labels abased on Type 1\n",
    "labels = set(pokemon['Type 1'])\n",
    "pokemon['type'] = pokemon['Type 1']\n",
    "lab_dict = dict()\n",
    "for i, elem in enumerate(labels):\n",
    "    lab_dict[elem] = i\n",
    "pokemon = pokemon.replace({'type' : lab_dict})\n",
    "\n",
    "pc_types = pcscores.copy()\n",
    "pc_types['Type'] = pokemon['Type 1']\n",
    "pc_types = pc_types.sort_values('Type')\n",
    "\n",
    "# Biplots\n",
    "def biplot(pcscores, loadings, xval=0, yval=1, max_arrow=0.2, alpha=0.4):\n",
    "    n = loadings.shape[1]\n",
    "    scalex = 1.0 / (pcscores.iloc[:, xval].max() - pcscores.iloc[:, xval].min())  # Rescaling to be from -1 to +1\n",
    "    scaley = 1.0 / (pcscores.iloc[:, yval].max() - pcscores.iloc[:, yval].min())\n",
    "\n",
    "    pcscores.iloc[:, xval] = pcscores.iloc[:, xval] * scalex\n",
    "    pcscores.iloc[:, yval] = pcscores.iloc[:, yval] * scaley\n",
    "\n",
    "    g = sns.lmplot(x='PC{}'.format(xval + 1), y='PC{}'.format(yval + 1), hue='Type', data=pcscores,\n",
    "                   fit_reg=False, size=8, palette=sns.color_palette(\"hls\", n_colors=20))\n",
    "\n",
    "    for i in range(n):\n",
    "        # Only plot the longer ones\n",
    "        length = sqrt(loadings.iloc[xval, i] ** 2 + loadings.iloc[yval, i] ** 2)\n",
    "        if length < max_arrow:\n",
    "            continue\n",
    "\n",
    "        plt.arrow(0, 0, loadings.iloc[xval, i], loadings.iloc[yval, i], color='k', alpha=0.9)\n",
    "        plt.text(loadings.iloc[xval, i] * 1.15, loadings.iloc[yval, i] * 1.15,\n",
    "                 loadings.columns.tolist()[i], color='k', ha='center', va='center')\n",
    "        \n",
    "    g.set(ylim=(-1, 1))\n",
    "    g.set(xlim=(-1, 1))   \n",
    "    plt.grid(True)\n",
    "    \n",
    "# Actually make a biplot (PC3 vs PC4)\n",
    "biplot(pc_types, loadings, 2, 3, max_arrow=0.3)"
   ]
  },
  {
   "cell_type": "markdown",
   "metadata": {},
   "source": [
    "<b>Check whether the PCA result is as expected:</b>\n",
    "- There are 2 normal type pokemon with high value of PC4, which means they probably have high HP and low Attack, Defense and Speed. "
   ]
  },
  {
   "cell_type": "code",
   "execution_count": 18,
   "metadata": {},
   "outputs": [
    {
     "data": {
      "text/html": [
       "<div>\n",
       "<style>\n",
       "    .dataframe thead tr:only-child th {\n",
       "        text-align: right;\n",
       "    }\n",
       "\n",
       "    .dataframe thead th {\n",
       "        text-align: left;\n",
       "    }\n",
       "\n",
       "    .dataframe tbody tr th {\n",
       "        vertical-align: top;\n",
       "    }\n",
       "</style>\n",
       "<table border=\"1\" class=\"dataframe\">\n",
       "  <thead>\n",
       "    <tr style=\"text-align: right;\">\n",
       "      <th></th>\n",
       "      <th>PC1</th>\n",
       "      <th>PC2</th>\n",
       "      <th>PC3</th>\n",
       "      <th>PC4</th>\n",
       "      <th>PC5</th>\n",
       "    </tr>\n",
       "  </thead>\n",
       "  <tbody>\n",
       "    <tr>\n",
       "      <th>0</th>\n",
       "      <td>-1.556375</td>\n",
       "      <td>-0.021482</td>\n",
       "      <td>0.666504</td>\n",
       "      <td>0.184176</td>\n",
       "      <td>-0.403807</td>\n",
       "    </tr>\n",
       "    <tr>\n",
       "      <th>1</th>\n",
       "      <td>-0.362867</td>\n",
       "      <td>-0.050269</td>\n",
       "      <td>0.667913</td>\n",
       "      <td>0.269254</td>\n",
       "      <td>-0.225788</td>\n",
       "    </tr>\n",
       "    <tr>\n",
       "      <th>2</th>\n",
       "      <td>1.280152</td>\n",
       "      <td>-0.062720</td>\n",
       "      <td>0.623914</td>\n",
       "      <td>0.331391</td>\n",
       "      <td>-0.001545</td>\n",
       "    </tr>\n",
       "    <tr>\n",
       "      <th>3</th>\n",
       "      <td>2.620916</td>\n",
       "      <td>0.704263</td>\n",
       "      <td>0.995538</td>\n",
       "      <td>-0.199321</td>\n",
       "      <td>-0.310170</td>\n",
       "    </tr>\n",
       "    <tr>\n",
       "      <th>4</th>\n",
       "      <td>-1.758284</td>\n",
       "      <td>-0.706179</td>\n",
       "      <td>0.411454</td>\n",
       "      <td>-0.268602</td>\n",
       "      <td>-0.168877</td>\n",
       "    </tr>\n",
       "  </tbody>\n",
       "</table>\n",
       "</div>"
      ],
      "text/plain": [
       "        PC1       PC2       PC3       PC4       PC5\n",
       "0 -1.556375 -0.021482  0.666504  0.184176 -0.403807\n",
       "1 -0.362867 -0.050269  0.667913  0.269254 -0.225788\n",
       "2  1.280152 -0.062720  0.623914  0.331391 -0.001545\n",
       "3  2.620916  0.704263  0.995538 -0.199321 -0.310170\n",
       "4 -1.758284 -0.706179  0.411454 -0.268602 -0.168877"
      ]
     },
     "execution_count": 18,
     "metadata": {},
     "output_type": "execute_result"
    }
   ],
   "source": [
    "pcscores.head()"
   ]
  },
  {
   "cell_type": "code",
   "execution_count": 19,
   "metadata": {
    "scrolled": false
   },
   "outputs": [
    {
     "data": {
      "text/html": [
       "<div>\n",
       "<style>\n",
       "    .dataframe thead tr:only-child th {\n",
       "        text-align: right;\n",
       "    }\n",
       "\n",
       "    .dataframe thead th {\n",
       "        text-align: left;\n",
       "    }\n",
       "\n",
       "    .dataframe tbody tr th {\n",
       "        vertical-align: top;\n",
       "    }\n",
       "</style>\n",
       "<table border=\"1\" class=\"dataframe\">\n",
       "  <thead>\n",
       "    <tr style=\"text-align: right;\">\n",
       "      <th></th>\n",
       "      <th>#</th>\n",
       "      <th>Name</th>\n",
       "      <th>Type 1</th>\n",
       "      <th>Type 2</th>\n",
       "      <th>HP</th>\n",
       "      <th>Attack</th>\n",
       "      <th>Defense</th>\n",
       "      <th>Sp. Atk</th>\n",
       "      <th>Sp. Def</th>\n",
       "      <th>Speed</th>\n",
       "      <th>Generation</th>\n",
       "      <th>Legendary</th>\n",
       "      <th>Total</th>\n",
       "      <th>type</th>\n",
       "    </tr>\n",
       "  </thead>\n",
       "  <tbody>\n",
       "    <tr>\n",
       "      <th>261</th>\n",
       "      <td>262</td>\n",
       "      <td>Blissey</td>\n",
       "      <td>Normal</td>\n",
       "      <td>None</td>\n",
       "      <td>255</td>\n",
       "      <td>10</td>\n",
       "      <td>10</td>\n",
       "      <td>75</td>\n",
       "      <td>135</td>\n",
       "      <td>55</td>\n",
       "      <td>2</td>\n",
       "      <td>False</td>\n",
       "      <td>540</td>\n",
       "      <td>4</td>\n",
       "    </tr>\n",
       "    <tr>\n",
       "      <th>121</th>\n",
       "      <td>122</td>\n",
       "      <td>Chansey</td>\n",
       "      <td>Normal</td>\n",
       "      <td>None</td>\n",
       "      <td>250</td>\n",
       "      <td>5</td>\n",
       "      <td>5</td>\n",
       "      <td>35</td>\n",
       "      <td>105</td>\n",
       "      <td>50</td>\n",
       "      <td>1</td>\n",
       "      <td>False</td>\n",
       "      <td>450</td>\n",
       "      <td>4</td>\n",
       "    </tr>\n",
       "  </tbody>\n",
       "</table>\n",
       "</div>"
      ],
      "text/plain": [
       "       #     Name  Type 1 Type 2   HP  Attack  Defense  Sp. Atk  Sp. Def  \\\n",
       "261  262  Blissey  Normal   None  255      10       10       75      135   \n",
       "121  122  Chansey  Normal   None  250       5        5       35      105   \n",
       "\n",
       "     Speed  Generation  Legendary  Total  type  \n",
       "261     55           2      False    540     4  \n",
       "121     50           1      False    450     4  "
      ]
     },
     "execution_count": 19,
     "metadata": {},
     "output_type": "execute_result"
    }
   ],
   "source": [
    "#find the pokemons in PC4 with highest HP\n",
    "pc4_poke = pc_types.sort_values(by='PC4', ascending=False)[:2]\n",
    "pokemon.loc[pc4_poke.index]"
   ]
  },
  {
   "cell_type": "code",
   "execution_count": 20,
   "metadata": {
    "scrolled": false
   },
   "outputs": [
    {
     "data": {
      "text/html": [
       "<div>\n",
       "<style>\n",
       "    .dataframe thead tr:only-child th {\n",
       "        text-align: right;\n",
       "    }\n",
       "\n",
       "    .dataframe thead th {\n",
       "        text-align: left;\n",
       "    }\n",
       "\n",
       "    .dataframe tbody tr th {\n",
       "        vertical-align: top;\n",
       "    }\n",
       "</style>\n",
       "<table border=\"1\" class=\"dataframe\">\n",
       "  <thead>\n",
       "    <tr style=\"text-align: right;\">\n",
       "      <th></th>\n",
       "      <th>#</th>\n",
       "      <th>Name</th>\n",
       "      <th>Type 1</th>\n",
       "      <th>Type 2</th>\n",
       "      <th>HP</th>\n",
       "      <th>Attack</th>\n",
       "      <th>Defense</th>\n",
       "      <th>Sp. Atk</th>\n",
       "      <th>Sp. Def</th>\n",
       "      <th>Speed</th>\n",
       "      <th>Generation</th>\n",
       "      <th>Legendary</th>\n",
       "      <th>Total</th>\n",
       "      <th>type</th>\n",
       "    </tr>\n",
       "  </thead>\n",
       "  <tbody>\n",
       "    <tr>\n",
       "      <th>261</th>\n",
       "      <td>262</td>\n",
       "      <td>Blissey</td>\n",
       "      <td>Normal</td>\n",
       "      <td>None</td>\n",
       "      <td>255</td>\n",
       "      <td>10</td>\n",
       "      <td>10</td>\n",
       "      <td>75</td>\n",
       "      <td>135</td>\n",
       "      <td>55</td>\n",
       "      <td>2</td>\n",
       "      <td>False</td>\n",
       "      <td>540</td>\n",
       "      <td>4</td>\n",
       "    </tr>\n",
       "    <tr>\n",
       "      <th>121</th>\n",
       "      <td>122</td>\n",
       "      <td>Chansey</td>\n",
       "      <td>Normal</td>\n",
       "      <td>None</td>\n",
       "      <td>250</td>\n",
       "      <td>5</td>\n",
       "      <td>5</td>\n",
       "      <td>35</td>\n",
       "      <td>105</td>\n",
       "      <td>50</td>\n",
       "      <td>1</td>\n",
       "      <td>False</td>\n",
       "      <td>450</td>\n",
       "      <td>4</td>\n",
       "    </tr>\n",
       "  </tbody>\n",
       "</table>\n",
       "</div>"
      ],
      "text/plain": [
       "       #     Name  Type 1 Type 2   HP  Attack  Defense  Sp. Atk  Sp. Def  \\\n",
       "261  262  Blissey  Normal   None  255      10       10       75      135   \n",
       "121  122  Chansey  Normal   None  250       5        5       35      105   \n",
       "\n",
       "     Speed  Generation  Legendary  Total  type  \n",
       "261     55           2      False    540     4  \n",
       "121     50           1      False    450     4  "
      ]
     },
     "execution_count": 20,
     "metadata": {},
     "output_type": "execute_result"
    }
   ],
   "source": [
    "#sort the pokemon data by HP\n",
    "pokemon.sort_values(by='HP', ascending=False)[:2]"
   ]
  },
  {
   "cell_type": "markdown",
   "metadata": {},
   "source": [
    "- There is 1 bug type pokemon with high value of PC3, which means it probably has high Sp. Def and low HP, Sp. Atk and Speed. "
   ]
  },
  {
   "cell_type": "code",
   "execution_count": 21,
   "metadata": {
    "scrolled": false
   },
   "outputs": [
    {
     "data": {
      "text/html": [
       "<div>\n",
       "<style>\n",
       "    .dataframe thead tr:only-child th {\n",
       "        text-align: right;\n",
       "    }\n",
       "\n",
       "    .dataframe thead th {\n",
       "        text-align: left;\n",
       "    }\n",
       "\n",
       "    .dataframe tbody tr th {\n",
       "        vertical-align: top;\n",
       "    }\n",
       "</style>\n",
       "<table border=\"1\" class=\"dataframe\">\n",
       "  <thead>\n",
       "    <tr style=\"text-align: right;\">\n",
       "      <th></th>\n",
       "      <th>#</th>\n",
       "      <th>Name</th>\n",
       "      <th>Type 1</th>\n",
       "      <th>Type 2</th>\n",
       "      <th>HP</th>\n",
       "      <th>Attack</th>\n",
       "      <th>Defense</th>\n",
       "      <th>Sp. Atk</th>\n",
       "      <th>Sp. Def</th>\n",
       "      <th>Speed</th>\n",
       "      <th>Generation</th>\n",
       "      <th>Legendary</th>\n",
       "      <th>Total</th>\n",
       "      <th>type</th>\n",
       "    </tr>\n",
       "  </thead>\n",
       "  <tbody>\n",
       "    <tr>\n",
       "      <th>230</th>\n",
       "      <td>231</td>\n",
       "      <td>Shuckle</td>\n",
       "      <td>Bug</td>\n",
       "      <td>Rock</td>\n",
       "      <td>20</td>\n",
       "      <td>10</td>\n",
       "      <td>230</td>\n",
       "      <td>10</td>\n",
       "      <td>230</td>\n",
       "      <td>5</td>\n",
       "      <td>2</td>\n",
       "      <td>False</td>\n",
       "      <td>505</td>\n",
       "      <td>10</td>\n",
       "    </tr>\n",
       "  </tbody>\n",
       "</table>\n",
       "</div>"
      ],
      "text/plain": [
       "       #     Name Type 1 Type 2  HP  Attack  Defense  Sp. Atk  Sp. Def  Speed  \\\n",
       "230  231  Shuckle    Bug   Rock  20      10      230       10      230      5   \n",
       "\n",
       "     Generation  Legendary  Total  type  \n",
       "230           2      False    505    10  "
      ]
     },
     "execution_count": 21,
     "metadata": {},
     "output_type": "execute_result"
    }
   ],
   "source": [
    "#find the pokemons in PC3 with highest Sp. Def\n",
    "pc3_poke = pc_types.sort_values(by='PC3', ascending=False)[:1]\n",
    "pokemon.loc[pc3_poke.index]"
   ]
  },
  {
   "cell_type": "code",
   "execution_count": 22,
   "metadata": {
    "scrolled": false
   },
   "outputs": [
    {
     "data": {
      "text/html": [
       "<div>\n",
       "<style>\n",
       "    .dataframe thead tr:only-child th {\n",
       "        text-align: right;\n",
       "    }\n",
       "\n",
       "    .dataframe thead th {\n",
       "        text-align: left;\n",
       "    }\n",
       "\n",
       "    .dataframe tbody tr th {\n",
       "        vertical-align: top;\n",
       "    }\n",
       "</style>\n",
       "<table border=\"1\" class=\"dataframe\">\n",
       "  <thead>\n",
       "    <tr style=\"text-align: right;\">\n",
       "      <th></th>\n",
       "      <th>#</th>\n",
       "      <th>Name</th>\n",
       "      <th>Type 1</th>\n",
       "      <th>Type 2</th>\n",
       "      <th>HP</th>\n",
       "      <th>Attack</th>\n",
       "      <th>Defense</th>\n",
       "      <th>Sp. Atk</th>\n",
       "      <th>Sp. Def</th>\n",
       "      <th>Speed</th>\n",
       "      <th>Generation</th>\n",
       "      <th>Legendary</th>\n",
       "      <th>Total</th>\n",
       "      <th>type</th>\n",
       "    </tr>\n",
       "  </thead>\n",
       "  <tbody>\n",
       "    <tr>\n",
       "      <th>230</th>\n",
       "      <td>231</td>\n",
       "      <td>Shuckle</td>\n",
       "      <td>Bug</td>\n",
       "      <td>Rock</td>\n",
       "      <td>20</td>\n",
       "      <td>10</td>\n",
       "      <td>230</td>\n",
       "      <td>10</td>\n",
       "      <td>230</td>\n",
       "      <td>5</td>\n",
       "      <td>2</td>\n",
       "      <td>False</td>\n",
       "      <td>505</td>\n",
       "      <td>10</td>\n",
       "    </tr>\n",
       "  </tbody>\n",
       "</table>\n",
       "</div>"
      ],
      "text/plain": [
       "       #     Name Type 1 Type 2  HP  Attack  Defense  Sp. Atk  Sp. Def  Speed  \\\n",
       "230  231  Shuckle    Bug   Rock  20      10      230       10      230      5   \n",
       "\n",
       "     Generation  Legendary  Total  type  \n",
       "230           2      False    505    10  "
      ]
     },
     "execution_count": 22,
     "metadata": {},
     "output_type": "execute_result"
    }
   ],
   "source": [
    "pokemon.sort_values(by='Sp. Def', ascending=False)[:1]"
   ]
  },
  {
   "cell_type": "markdown",
   "metadata": {},
   "source": [
    "\n",
    "The result is as expected. However, most pokemons are centrally distributed, which can hardly observe any trends between the types. "
   ]
  },
  {
   "cell_type": "code",
   "execution_count": 23,
   "metadata": {
    "scrolled": false
   },
   "outputs": [
    {
     "name": "stderr",
     "output_type": "stream",
     "text": [
      "ERROR:root:Cell magic `%%` not found.\n"
     ]
    }
   ],
   "source": [
    "%%\n",
    "g = sns.pairplot(pc_types, hue='Type', palette=sns.color_palette(\"RdBu\", n_colors=20))"
   ]
  },
  {
   "cell_type": "markdown",
   "metadata": {},
   "source": [
    "After visualizing the data, the next step is to implement clustering methods put the pokemons into groups."
   ]
  },
  {
   "cell_type": "markdown",
   "metadata": {},
   "source": [
    "--------------------------------"
   ]
  },
  {
   "cell_type": "markdown",
   "metadata": {},
   "source": [
    "# Clustering\n",
    "## Mean Shift Clustering"
   ]
  },
  {
   "cell_type": "markdown",
   "metadata": {},
   "source": [
    "Since we do not know how many clusters will there be in this dataset, we adopted <b>Mean Shift Clustering</b> to implement unsupervised machine learning."
   ]
  },
  {
   "cell_type": "code",
   "execution_count": 24,
   "metadata": {},
   "outputs": [
    {
     "name": "stdout",
     "output_type": "stream",
     "text": [
      "Number of estimated clusters: 3\n",
      "Count of cluster1 : 796\n",
      "Count of cluster2 : 3\n",
      "Count of cluster3 : 1\n"
     ]
    }
   ],
   "source": [
    "#clustering \n",
    "ms = MeanShift()\n",
    "ms.fit(pcscores)\n",
    "labels = ms.labels_\n",
    "cluster_centers = ms.cluster_centers_\n",
    "pcscores_arr = np.array(pcscores)\n",
    "colors = plt.cm.tab10(np.linspace(0, 1, 10))\n",
    "\n",
    "unique, counts = np.unique(labels, return_counts=True)\n",
    "cluster_counts = np.asarray((unique, counts)).T\n",
    "n_clusters_ = len(cluster_counts)\n",
    "\n",
    "print(\"Number of estimated clusters:\", n_clusters_)\n",
    "for i in range(len(cluster_counts)):\n",
    "    group = 'cluster'+str(i+1)\n",
    "    print(\"Count of \"+group+' :', cluster_counts[i][1])"
   ]
  },
  {
   "cell_type": "markdown",
   "metadata": {},
   "source": [
    "1. According to the mean shift clustering method, we can discover that most of the pokemons are in the same cluster.\n",
    "2. Although we reduced the dimensions from 6 to 4, it is still hard to view 4D data, therefore, we tried to used 2D plot and 3D plot to visualize the data with the cluster center. "
   ]
  },
  {
   "cell_type": "code",
   "execution_count": 25,
   "metadata": {},
   "outputs": [
    {
     "data": {
      "image/png": "[encoded data removed]",
      "text/plain": [
       "<matplotlib.figure.Figure at 0x1a1f06b630>"
      ]
     },
     "metadata": {},
     "output_type": "display_data"
    }
   ],
   "source": [
    "#2D visualization\n",
    "fig, ax = plt.subplots()\n",
    "for i in range(len(pcscores_arr)):\n",
    "    ax.scatter(pcscores_arr[i][2], pcscores_arr[i][3], c=colors[labels[i]])\n",
    "ax.scatter(cluster_centers[:,2],cluster_centers[:,3], marker=\"x\",color='k', s=150, linewidths = 5, zorder=10)\n",
    "plt.title('2D Pokemon Clusters')\n",
    "ax.set_xlabel('PC3')\n",
    "ax.set_ylabel('PC4')\n",
    "plt.grid(True)\n",
    "plt.show()"
   ]
  },
  {
   "cell_type": "code",
   "execution_count": 26,
   "metadata": {},
   "outputs": [
    {
     "data": {
      "image/png": "[encoded data removed]",
      "text/plain": [
       "<matplotlib.figure.Figure at 0x1a1fcfeb70>"
      ]
     },
     "metadata": {},
     "output_type": "display_data"
    },
    {
     "name": "stdout",
     "output_type": "stream",
     "text": [
      "Clusters centers points:\n",
      "[[-0.53164448 -0.1094121  -0.03073481 -0.04129142  0.01750439]\n",
      " [ 1.40144978  0.23972975 -1.4577019   7.34232795  2.5052496 ]\n",
      " [ 1.07656453  6.41447043  4.97934432 -1.20451716  2.23986007]]\n"
     ]
    }
   ],
   "source": [
    "#3D visualization\n",
    "fig = plt.figure()\n",
    "ax = fig.add_subplot(111, projection='3d')\n",
    "\n",
    "for i in range(len(pcscores_arr)):\n",
    "    ax.scatter(pcscores_arr[i][1], pcscores_arr[i][2], pcscores_arr[i][3], c=colors[labels[i]], marker='o')\n",
    "\n",
    "ax.scatter(cluster_centers[:,1],cluster_centers[:,2],cluster_centers[:,3], marker=\"x\",color='k', s=150, linewidths = 5, zorder=10)\n",
    "ax.set_xlabel('PC2')\n",
    "ax.set_ylabel('PC3')\n",
    "ax.set_zlabel('PC4')\n",
    "plt.show()\n",
    "print(\"Clusters centers points:\")\n",
    "print(cluster_centers)"
   ]
  },
  {
   "cell_type": "markdown",
   "metadata": {},
   "source": [
    "Mean shift clustering is first used because we don't know how many clusters will there be in this data. After implementing the method, the pokemon data is separated into 3 clusters. However, the result showed that the first cluster has contained 99.375% of pokemons. The next step, I would like to first focus on the outliners (cluster 2 and cluster 3)."
   ]
  },
  {
   "cell_type": "markdown",
   "metadata": {},
   "source": [
    "### Outlier Analysis"
   ]
  },
  {
   "cell_type": "code",
   "execution_count": 27,
   "metadata": {
    "collapsed": true,
    "scrolled": false
   },
   "outputs": [],
   "source": [
    "plabel = pokemon.copy()\n",
    "plabel['label'] = labels\n",
    "newPokemon = pd.concat([plabel, pcscores], axis=1)"
   ]
  },
  {
   "cell_type": "code",
   "execution_count": 28,
   "metadata": {},
   "outputs": [
    {
     "data": {
      "text/html": [
       "<div>\n",
       "<style>\n",
       "    .dataframe thead tr:only-child th {\n",
       "        text-align: right;\n",
       "    }\n",
       "\n",
       "    .dataframe thead th {\n",
       "        text-align: left;\n",
       "    }\n",
       "\n",
       "    .dataframe tbody tr th {\n",
       "        vertical-align: top;\n",
       "    }\n",
       "</style>\n",
       "<table border=\"1\" class=\"dataframe\">\n",
       "  <thead>\n",
       "    <tr style=\"text-align: right;\">\n",
       "      <th></th>\n",
       "      <th>#</th>\n",
       "      <th>Name</th>\n",
       "      <th>Type 1</th>\n",
       "      <th>Type 2</th>\n",
       "      <th>HP</th>\n",
       "      <th>Attack</th>\n",
       "      <th>Defense</th>\n",
       "      <th>Sp. Atk</th>\n",
       "      <th>Sp. Def</th>\n",
       "      <th>Speed</th>\n",
       "      <th>Generation</th>\n",
       "      <th>Legendary</th>\n",
       "      <th>Total</th>\n",
       "      <th>type</th>\n",
       "      <th>label</th>\n",
       "      <th>PC1</th>\n",
       "      <th>PC2</th>\n",
       "      <th>PC3</th>\n",
       "      <th>PC4</th>\n",
       "      <th>PC5</th>\n",
       "    </tr>\n",
       "  </thead>\n",
       "  <tbody>\n",
       "    <tr>\n",
       "      <th>121</th>\n",
       "      <td>122</td>\n",
       "      <td>Chansey</td>\n",
       "      <td>Normal</td>\n",
       "      <td>None</td>\n",
       "      <td>250</td>\n",
       "      <td>5</td>\n",
       "      <td>5</td>\n",
       "      <td>35</td>\n",
       "      <td>105</td>\n",
       "      <td>50</td>\n",
       "      <td>1</td>\n",
       "      <td>False</td>\n",
       "      <td>450</td>\n",
       "      <td>4</td>\n",
       "      <td>1</td>\n",
       "      <td>0.749816</td>\n",
       "      <td>0.297262</td>\n",
       "      <td>-1.869955</td>\n",
       "      <td>7.172270</td>\n",
       "      <td>2.735804</td>\n",
       "    </tr>\n",
       "    <tr>\n",
       "      <th>217</th>\n",
       "      <td>218</td>\n",
       "      <td>Wobbuffet</td>\n",
       "      <td>Psychic</td>\n",
       "      <td>None</td>\n",
       "      <td>190</td>\n",
       "      <td>33</td>\n",
       "      <td>58</td>\n",
       "      <td>33</td>\n",
       "      <td>58</td>\n",
       "      <td>33</td>\n",
       "      <td>2</td>\n",
       "      <td>False</td>\n",
       "      <td>405</td>\n",
       "      <td>9</td>\n",
       "      <td>1</td>\n",
       "      <td>-0.151475</td>\n",
       "      <td>1.162863</td>\n",
       "      <td>-2.175783</td>\n",
       "      <td>4.273044</td>\n",
       "      <td>1.382044</td>\n",
       "    </tr>\n",
       "    <tr>\n",
       "      <th>261</th>\n",
       "      <td>262</td>\n",
       "      <td>Blissey</td>\n",
       "      <td>Normal</td>\n",
       "      <td>None</td>\n",
       "      <td>255</td>\n",
       "      <td>10</td>\n",
       "      <td>10</td>\n",
       "      <td>75</td>\n",
       "      <td>135</td>\n",
       "      <td>55</td>\n",
       "      <td>2</td>\n",
       "      <td>False</td>\n",
       "      <td>540</td>\n",
       "      <td>4</td>\n",
       "      <td>1</td>\n",
       "      <td>2.053084</td>\n",
       "      <td>0.182197</td>\n",
       "      <td>-1.045449</td>\n",
       "      <td>7.512386</td>\n",
       "      <td>2.274695</td>\n",
       "    </tr>\n",
       "    <tr>\n",
       "      <th>230</th>\n",
       "      <td>231</td>\n",
       "      <td>Shuckle</td>\n",
       "      <td>Bug</td>\n",
       "      <td>Rock</td>\n",
       "      <td>20</td>\n",
       "      <td>10</td>\n",
       "      <td>230</td>\n",
       "      <td>10</td>\n",
       "      <td>230</td>\n",
       "      <td>5</td>\n",
       "      <td>2</td>\n",
       "      <td>False</td>\n",
       "      <td>505</td>\n",
       "      <td>10</td>\n",
       "      <td>2</td>\n",
       "      <td>1.076565</td>\n",
       "      <td>6.414470</td>\n",
       "      <td>4.979344</td>\n",
       "      <td>-1.204517</td>\n",
       "      <td>2.239860</td>\n",
       "    </tr>\n",
       "  </tbody>\n",
       "</table>\n",
       "</div>"
      ],
      "text/plain": [
       "       #       Name   Type 1 Type 2   HP  Attack  Defense  Sp. Atk  Sp. Def  \\\n",
       "121  122    Chansey   Normal   None  250       5        5       35      105   \n",
       "217  218  Wobbuffet  Psychic   None  190      33       58       33       58   \n",
       "261  262    Blissey   Normal   None  255      10       10       75      135   \n",
       "230  231    Shuckle      Bug   Rock   20      10      230       10      230   \n",
       "\n",
       "     Speed  Generation  Legendary  Total  type  label       PC1       PC2  \\\n",
       "121     50           1      False    450     4      1  0.749816  0.297262   \n",
       "217     33           2      False    405     9      1 -0.151475  1.162863   \n",
       "261     55           2      False    540     4      1  2.053084  0.182197   \n",
       "230      5           2      False    505    10      2  1.076565  6.414470   \n",
       "\n",
       "          PC3       PC4       PC5  \n",
       "121 -1.869955  7.172270  2.735804  \n",
       "217 -2.175783  4.273044  1.382044  \n",
       "261 -1.045449  7.512386  2.274695  \n",
       "230  4.979344 -1.204517  2.239860  "
      ]
     },
     "execution_count": 28,
     "metadata": {},
     "output_type": "execute_result"
    }
   ],
   "source": [
    "#outlier = newPokemon.loc[:,['#','label']]\n",
    "outlier = newPokemon.query('label  == [1, 2]').sort_values(by='label')\n",
    "outlier"
   ]
  },
  {
   "cell_type": "markdown",
   "metadata": {},
   "source": [
    "1. Cluster 2 (label 1): \n",
    "    - 2 pokemons are normal type and another one is psychic\n",
    "    - All of them have high PC4\n",
    "    - High HP, Low attack and defense\n",
    "    - None Legendary or Mega-evolved pokemon \n",
    "2. Cluster 3 (label 2): \n",
    "    - High Defense and Sp.Def\n",
    "    - Low HP, Attack, Sp. Atk, Speed\n",
    "    - High value of PC2 and PC3 and low value of PC1 and PC4\n",
    "    - None Legendary or Mega-evolved pokemon "
   ]
  },
  {
   "cell_type": "markdown",
   "metadata": {},
   "source": [
    "#### Analyze Cluster 2"
   ]
  },
  {
   "cell_type": "code",
   "execution_count": 29,
   "metadata": {},
   "outputs": [
    {
     "data": {
      "text/html": [
       "<div>\n",
       "<style>\n",
       "    .dataframe thead tr:only-child th {\n",
       "        text-align: right;\n",
       "    }\n",
       "\n",
       "    .dataframe thead th {\n",
       "        text-align: left;\n",
       "    }\n",
       "\n",
       "    .dataframe tbody tr th {\n",
       "        vertical-align: top;\n",
       "    }\n",
       "</style>\n",
       "<table border=\"1\" class=\"dataframe\">\n",
       "  <thead>\n",
       "    <tr style=\"text-align: right;\">\n",
       "      <th></th>\n",
       "      <th>First_pokemon</th>\n",
       "      <th>Second_pokemon</th>\n",
       "      <th>Winner</th>\n",
       "    </tr>\n",
       "  </thead>\n",
       "  <tbody>\n",
       "    <tr>\n",
       "      <th>258</th>\n",
       "      <td>644</td>\n",
       "      <td>218</td>\n",
       "      <td>644</td>\n",
       "    </tr>\n",
       "    <tr>\n",
       "      <th>452</th>\n",
       "      <td>122</td>\n",
       "      <td>588</td>\n",
       "      <td>588</td>\n",
       "    </tr>\n",
       "    <tr>\n",
       "      <th>506</th>\n",
       "      <td>262</td>\n",
       "      <td>67</td>\n",
       "      <td>67</td>\n",
       "    </tr>\n",
       "    <tr>\n",
       "      <th>589</th>\n",
       "      <td>262</td>\n",
       "      <td>210</td>\n",
       "      <td>210</td>\n",
       "    </tr>\n",
       "    <tr>\n",
       "      <th>660</th>\n",
       "      <td>262</td>\n",
       "      <td>47</td>\n",
       "      <td>47</td>\n",
       "    </tr>\n",
       "  </tbody>\n",
       "</table>\n",
       "</div>"
      ],
      "text/plain": [
       "     First_pokemon  Second_pokemon  Winner\n",
       "258            644             218     644\n",
       "452            122             588     588\n",
       "506            262              67      67\n",
       "589            262             210     210\n",
       "660            262              47      47"
      ]
     },
     "execution_count": 29,
     "metadata": {},
     "output_type": "execute_result"
    }
   ],
   "source": [
    "clus2_Idx = outlier.query('label == 1')['#'].tolist()\n",
    "clus2_combat = combats[combats['First_pokemon'].isin(clus2_Idx) | combats['Second_pokemon'].isin(clus2_Idx)]\n",
    "clus2_combat.head()"
   ]
  },
  {
   "cell_type": "code",
   "execution_count": 30,
   "metadata": {
    "collapsed": true
   },
   "outputs": [],
   "source": [
    "clus2_win = clus2_combat.copy()\n",
    "clus2_win['WinCombat'] = clus2_win['Winner'].isin(clus2_Idx)\n",
    "clus2_win['WinCombat'] = np.where(clus2_win['WinCombat'] == True, clus2_win['Winner'], \"Others\")"
   ]
  },
  {
   "cell_type": "code",
   "execution_count": 31,
   "metadata": {},
   "outputs": [
    {
     "data": {
      "text/html": [
       "<div>\n",
       "<style>\n",
       "    .dataframe thead tr:only-child th {\n",
       "        text-align: right;\n",
       "    }\n",
       "\n",
       "    .dataframe thead th {\n",
       "        text-align: left;\n",
       "    }\n",
       "\n",
       "    .dataframe tbody tr th {\n",
       "        vertical-align: top;\n",
       "    }\n",
       "</style>\n",
       "<table border=\"1\" class=\"dataframe\">\n",
       "  <thead>\n",
       "    <tr style=\"text-align: right;\">\n",
       "      <th></th>\n",
       "      <th>Winner</th>\n",
       "    </tr>\n",
       "    <tr>\n",
       "      <th>WinCombat</th>\n",
       "      <th></th>\n",
       "    </tr>\n",
       "  </thead>\n",
       "  <tbody>\n",
       "    <tr>\n",
       "      <th>122</th>\n",
       "      <td>15</td>\n",
       "    </tr>\n",
       "    <tr>\n",
       "      <th>218</th>\n",
       "      <td>18</td>\n",
       "    </tr>\n",
       "    <tr>\n",
       "      <th>262</th>\n",
       "      <td>40</td>\n",
       "    </tr>\n",
       "    <tr>\n",
       "      <th>Others</th>\n",
       "      <td>287</td>\n",
       "    </tr>\n",
       "  </tbody>\n",
       "</table>\n",
       "</div>"
      ],
      "text/plain": [
       "           Winner\n",
       "WinCombat        \n",
       "122            15\n",
       "218            18\n",
       "262            40\n",
       "Others        287"
      ]
     },
     "execution_count": 31,
     "metadata": {},
     "output_type": "execute_result"
    }
   ],
   "source": [
    "clus2_win_count = clus2_win.pivot_table(values='Winner', index=['WinCombat'], aggfunc='count')\n",
    "clus2_win_count"
   ]
  },
  {
   "cell_type": "code",
   "execution_count": 32,
   "metadata": {},
   "outputs": [
    {
     "data": {
      "image/png": "[encoded data removed]",
      "text/plain": [
       "<matplotlib.figure.Figure at 0x1a1f1b87f0>"
      ]
     },
     "metadata": {},
     "output_type": "display_data"
    }
   ],
   "source": [
    "colors = plt.cm.tab20(np.linspace(0, 1, 20))\n",
    "fig1, ax1 = plt.subplots()\n",
    "ax1.pie(clus2_win_count.loc[clus2_win_count.index], labels=clus2_win_count.index, colors=colors, autopct='%1.1f%%')\n",
    "ax1.axis('equal') \n",
    "plt.title(\"Winning Ratio of Cluster 2 pokemon\")\n",
    "plt.show()"
   ]
  },
  {
   "cell_type": "markdown",
   "metadata": {},
   "source": [
    "The result shows that although pokemons in cluster 2 has low attack and defense, however, with high HP, they may still win the game. Therefore, we would like to conduct a further anaylsis to discover in what kind of situation these pokemons could win the combat."
   ]
  },
  {
   "cell_type": "code",
   "execution_count": 33,
   "metadata": {},
   "outputs": [
    {
     "data": {
      "text/html": [
       "<div>\n",
       "<style>\n",
       "    .dataframe thead tr:only-child th {\n",
       "        text-align: right;\n",
       "    }\n",
       "\n",
       "    .dataframe thead th {\n",
       "        text-align: left;\n",
       "    }\n",
       "\n",
       "    .dataframe tbody tr th {\n",
       "        vertical-align: top;\n",
       "    }\n",
       "</style>\n",
       "<table border=\"1\" class=\"dataframe\">\n",
       "  <thead>\n",
       "    <tr style=\"text-align: right;\">\n",
       "      <th></th>\n",
       "      <th>First_pokemon</th>\n",
       "      <th>Second_pokemon</th>\n",
       "    </tr>\n",
       "    <tr>\n",
       "      <th>WinCombat</th>\n",
       "      <th></th>\n",
       "      <th></th>\n",
       "    </tr>\n",
       "  </thead>\n",
       "  <tbody>\n",
       "    <tr>\n",
       "      <th>122</th>\n",
       "      <td>3</td>\n",
       "      <td>12</td>\n",
       "    </tr>\n",
       "    <tr>\n",
       "      <th>218</th>\n",
       "      <td>12</td>\n",
       "      <td>6</td>\n",
       "    </tr>\n",
       "    <tr>\n",
       "      <th>262</th>\n",
       "      <td>24</td>\n",
       "      <td>16</td>\n",
       "    </tr>\n",
       "  </tbody>\n",
       "</table>\n",
       "</div>"
      ],
      "text/plain": [
       "           First_pokemon  Second_pokemon\n",
       "WinCombat                               \n",
       "122                    3              12\n",
       "218                   12               6\n",
       "262                   24              16"
      ]
     },
     "execution_count": 33,
     "metadata": {},
     "output_type": "execute_result"
    }
   ],
   "source": [
    "outlier_win = clus2_win.query('WinCombat != \"Others\"').copy()\n",
    "outlier_win['isFstPoke'] = outlier_win['First_pokemon'].isin(outlier_win['Winner'])\n",
    "\n",
    "clus2_win_fs = outlier_win.pivot_table(values='Winner', index=['WinCombat'], columns=['isFstPoke'], aggfunc='count')\n",
    "clus2_win_fs.columns = ['First_pokemon', 'Second_pokemon']\n",
    "clus2_win_fs"
   ]
  },
  {
   "cell_type": "markdown",
   "metadata": {},
   "source": [
    "#### Analyze Cluster 3"
   ]
  },
  {
   "cell_type": "code",
   "execution_count": 34,
   "metadata": {
    "collapsed": true
   },
   "outputs": [],
   "source": [
    "clus3_Idx = outlier.query('label == 2')['#'].tolist()\n",
    "clus3_combat = combats[combats['First_pokemon'].isin(clus3_Idx) | combats['Second_pokemon'].isin(clus3_Idx)]"
   ]
  },
  {
   "cell_type": "code",
   "execution_count": 35,
   "metadata": {
    "collapsed": true
   },
   "outputs": [],
   "source": [
    "clus3_win = clus3_combat.copy()\n",
    "clus3_win['WinCombat'] = clus3_win['Winner'].isin(clus3_Idx)\n",
    "clus3_win['WinCombat'] = np.where(clus3_win['WinCombat'] == True, clus3_win['Winner'], \"Others\")"
   ]
  },
  {
   "cell_type": "code",
   "execution_count": 36,
   "metadata": {},
   "outputs": [
    {
     "data": {
      "text/html": [
       "<div>\n",
       "<style>\n",
       "    .dataframe thead tr:only-child th {\n",
       "        text-align: right;\n",
       "    }\n",
       "\n",
       "    .dataframe thead th {\n",
       "        text-align: left;\n",
       "    }\n",
       "\n",
       "    .dataframe tbody tr th {\n",
       "        vertical-align: top;\n",
       "    }\n",
       "</style>\n",
       "<table border=\"1\" class=\"dataframe\">\n",
       "  <thead>\n",
       "    <tr style=\"text-align: right;\">\n",
       "      <th></th>\n",
       "      <th>Winner</th>\n",
       "    </tr>\n",
       "    <tr>\n",
       "      <th>WinCombat</th>\n",
       "      <th></th>\n",
       "    </tr>\n",
       "  </thead>\n",
       "  <tbody>\n",
       "    <tr>\n",
       "      <th>Others</th>\n",
       "      <td>135</td>\n",
       "    </tr>\n",
       "  </tbody>\n",
       "</table>\n",
       "</div>"
      ],
      "text/plain": [
       "           Winner\n",
       "WinCombat        \n",
       "Others        135"
      ]
     },
     "execution_count": 36,
     "metadata": {},
     "output_type": "execute_result"
    }
   ],
   "source": [
    "clus3_win = clus3_win.pivot_table(values='Winner', index=['WinCombat'], aggfunc='count')\n",
    "clus3_win"
   ]
  },
  {
   "cell_type": "code",
   "execution_count": 37,
   "metadata": {},
   "outputs": [
    {
     "data": {
      "image/png": "[encoded data removed]",
      "text/plain": [
       "<matplotlib.figure.Figure at 0x1a1f943d30>"
      ]
     },
     "metadata": {},
     "output_type": "display_data"
    }
   ],
   "source": [
    "colors = plt.cm.tab20(np.linspace(0, 1, 20))\n",
    "fig1, ax1 = plt.subplots()\n",
    "ax1.pie(clus3_win.loc[clus3_win.index], labels=clus3_win.index, colors=colors, autopct='%1.1f%%')\n",
    "ax1.axis('equal') \n",
    "plt.title(\"Winning Ratio of Cluster 3 pokemon\")\n",
    "plt.show()"
   ]
  },
  {
   "cell_type": "markdown",
   "metadata": {},
   "source": [
    "Among the 135 combats, Shuckle (#231) lost all the games, which may predict although having a high defense and Sp.Def (high PC2 and PC3), it could not help it win the combat.  "
   ]
  },
  {
   "cell_type": "markdown",
   "metadata": {},
   "source": [
    "After analyzing the outliers, I would like to use Kmeans clustering method to do a further analysis. Unlike mean shift, kmeans allows the users to decide how many clusters they would like the machine to generate. In this way, I could find out how the machine will divide cluster 1. "
   ]
  },
  {
   "cell_type": "markdown",
   "metadata": {},
   "source": [
    "## Kmeans"
   ]
  },
  {
   "cell_type": "code",
   "execution_count": 38,
   "metadata": {
    "collapsed": true
   },
   "outputs": [],
   "source": [
    "from sklearn.cluster import KMeans\n",
    "from sklearn.metrics import silhouette_samples, silhouette_score"
   ]
  },
  {
   "cell_type": "markdown",
   "metadata": {},
   "source": [
    "Find the optimal k (number of clusters):\n",
    "- Elbow Method\n",
    "- Silhouette Method"
   ]
  },
  {
   "cell_type": "code",
   "execution_count": 39,
   "metadata": {
    "collapsed": true
   },
   "outputs": [],
   "source": [
    "#elbow method\n",
    "x = []\n",
    "y = []\n",
    "for k in range (1, 11):\n",
    "    # create a kmeans model on our data, using k clusters.  \n",
    "    # random_state helps ensure that the algorithm returns the same results each time.\n",
    "    ekmeans = KMeans(n_clusters=k, random_state=10).fit(pcscores.iloc[:, :])\n",
    "    eklabels = ekmeans.labels_\n",
    "    # sum of distances of samples to their closest cluster center\n",
    "    interia = ekmeans.inertia_\n",
    "    x.append(k)\n",
    "    y.append(interia)"
   ]
  },
  {
   "cell_type": "code",
   "execution_count": 40,
   "metadata": {},
   "outputs": [
    {
     "data": {
      "image/png": "[encoded data removed]",
      "text/plain": [
       "<matplotlib.figure.Figure at 0x1a1f89e710>"
      ]
     },
     "metadata": {},
     "output_type": "display_data"
    }
   ],
   "source": [
    "f, ax = plt.subplots()\n",
    "ax.plot(x, y, zorder=2, marker='o')\n",
    "\n",
    "#for i, txt in enumerate(y):\n",
    "#    ax.annotate(int(txt), (x[i],y[i]))\n",
    "\n",
    "plt.title(\"Determine the best K\")    \n",
    "ax.set_xlabel(\"Number of clusters\")\n",
    "ax.set_ylabel(\"Inertia\")\n",
    "plt.show()"
   ]
  },
  {
   "cell_type": "markdown",
   "metadata": {},
   "source": [
    "Although the elbow point of this dataset is not really obvious, according to this result, I will choose to generate 4 clusters by implementing kmeans."
   ]
  },
  {
   "cell_type": "code",
   "execution_count": 41,
   "metadata": {},
   "outputs": [
    {
     "name": "stdout",
     "output_type": "stream",
     "text": [
      "Count of cluster1 : 280\n",
      "Count of cluster2 : 119\n",
      "Count of cluster3 : 205\n",
      "Count of cluster4 : 196\n"
     ]
    }
   ],
   "source": [
    "cluster_num = 4\n",
    "kmeans = KMeans(n_clusters=cluster_num, random_state=10)\n",
    "kmeans.fit(pcscores)\n",
    "\n",
    "centroids = kmeans.cluster_centers_\n",
    "klabels = kmeans.labels_\n",
    "#print(centroids)\n",
    "\n",
    "gname = []\n",
    "gcenters = []\n",
    "for i in range(cluster_num):\n",
    "    gname.append(i)\n",
    "    center = centroids[i].tolist()\n",
    "    (x, y) = (center[0], center[1])\n",
    "    gcenters.append((x, y))\n",
    "    groups = dict(zip(gname, gcenters))\n",
    "\n",
    "for i in range(cluster_num):\n",
    "    group = 'cluster'+str(i+1)\n",
    "    print(\"Count of \"+group+' :', str(klabels.tolist().count(i)))\n",
    "    "
   ]
  },
  {
   "cell_type": "code",
   "execution_count": 42,
   "metadata": {
    "collapsed": true
   },
   "outputs": [],
   "source": [
    "pkmeans = pokemon.copy()\n",
    "pkmeans['klabel'] = klabels\n",
    "KmeansPoke = pd.concat([pkmeans, pcscores], axis=1)"
   ]
  },
  {
   "cell_type": "code",
   "execution_count": 43,
   "metadata": {},
   "outputs": [
    {
     "data": {
      "image/png": "[encoded data removed]",
      "text/plain": [
       "<matplotlib.figure.Figure at 0x1a1f879550>"
      ]
     },
     "metadata": {},
     "output_type": "display_data"
    }
   ],
   "source": [
    "colors = plt.cm.Pastel1(np.linspace(0, 1, 10))\n",
    "groups_keys = list(groups.keys())\n",
    "#loop through labels and plot each cluster\n",
    "for i, label in enumerate(groups.keys()):\n",
    "\n",
    "    #add data points \n",
    "    plt.scatter(x=KmeansPoke.loc[KmeansPoke['klabel']==label, 'PC1'], \n",
    "                y=KmeansPoke.loc[KmeansPoke['klabel']==label,'PC2'],\n",
    "                color=colors[i])\n",
    "    \n",
    "    #add label\n",
    "    plt.annotate(label, xy = groups[groups_keys[i]],\n",
    "                 horizontalalignment='center', verticalalignment='center',\n",
    "                 size=20, color='k') \n",
    "    \n",
    "\n",
    "plt.title('2D Pokemon Kmeans Clustering')\n",
    "plt.xlabel('PC1')\n",
    "plt.ylabel('PC2')\n",
    "plt.legend(groups_keys, loc='best')\n",
    "plt.show()"
   ]
  },
  {
   "cell_type": "code",
   "execution_count": 44,
   "metadata": {},
   "outputs": [
    {
     "data": {
      "text/html": [
       "<div>\n",
       "<style>\n",
       "    .dataframe thead tr:only-child th {\n",
       "        text-align: right;\n",
       "    }\n",
       "\n",
       "    .dataframe thead th {\n",
       "        text-align: left;\n",
       "    }\n",
       "\n",
       "    .dataframe tbody tr th {\n",
       "        vertical-align: top;\n",
       "    }\n",
       "</style>\n",
       "<table border=\"1\" class=\"dataframe\">\n",
       "  <thead>\n",
       "    <tr style=\"text-align: right;\">\n",
       "      <th>WinCombat</th>\n",
       "      <th>False</th>\n",
       "      <th>True</th>\n",
       "    </tr>\n",
       "  </thead>\n",
       "  <tbody>\n",
       "    <tr>\n",
       "      <th>c0</th>\n",
       "      <td>63.08%</td>\n",
       "      <td>36.92%</td>\n",
       "    </tr>\n",
       "    <tr>\n",
       "      <th>c1</th>\n",
       "      <td>15.16%</td>\n",
       "      <td>84.84%</td>\n",
       "    </tr>\n",
       "    <tr>\n",
       "      <th>c2</th>\n",
       "      <td>19.06%</td>\n",
       "      <td>80.94%</td>\n",
       "    </tr>\n",
       "    <tr>\n",
       "      <th>c3</th>\n",
       "      <td>55.56%</td>\n",
       "      <td>44.44%</td>\n",
       "    </tr>\n",
       "  </tbody>\n",
       "</table>\n",
       "</div>"
      ],
      "text/plain": [
       "WinCombat   False   True \n",
       "c0         63.08%  36.92%\n",
       "c1         15.16%  84.84%\n",
       "c2         19.06%  80.94%\n",
       "c3         55.56%  44.44%"
      ]
     },
     "execution_count": 44,
     "metadata": {},
     "output_type": "execute_result"
    }
   ],
   "source": [
    "kclus_combat_index = []\n",
    "kclus_combat_table = []\n",
    "for i in range(cluster_num):\n",
    "    \n",
    "    kclus_Idx = KmeansPoke.query('klabel == '+str(i))['#'].tolist()\n",
    "    kclus_combat = combats[combats['First_pokemon'].isin(kclus_Idx) | combats['Second_pokemon'].isin(kclus_Idx)]\n",
    "    winner = kclus_combat['Winner'].isin(kclus_Idx).tolist()\n",
    "    kclus_combat = kclus_combat.assign(WinCombat=winner)\n",
    "    kclusPivot = kclus_combat.pivot_table(values='Winner', index=['WinCombat'], aggfunc='count')\n",
    "    \n",
    "    locals()[\"c\"+str(i+1)] = kclus_combat.pivot_table(values='Winner', columns=['WinCombat'], aggfunc='count')\n",
    "    kclus_combat_index.append(\"c\"+str(i))\n",
    "    kclus_combat_table.append(locals()[\"c\"+str(i+1)])\n",
    "\n",
    "\n",
    "kclus_win = pd.concat(kclus_combat_table)\n",
    "kclus_win.index = kclus_combat_index\n",
    "total = kclus_win.sum(axis=1)\n",
    "\n",
    "kclus_win[False] = (kclus_win[False] / total).apply('{:.2%}'.format)\n",
    "kclus_win[True] = (kclus_win[True] / total).apply('{:.2%}'.format)\n",
    "\n",
    "kclus_win"
   ]
  },
  {
   "cell_type": "markdown",
   "metadata": {},
   "source": [
    "When we implemented kmeans clustering method, we are asked to specify how many clusters we want to generate.\n",
    "- When there are 4 clusters:\n",
    "    - two groups with high winning rate \n",
    "    - two group with low winning rate "
   ]
  },
  {
   "cell_type": "code",
   "execution_count": 45,
   "metadata": {},
   "outputs": [
    {
     "data": {
      "text/html": [
       "<div>\n",
       "<style>\n",
       "    .dataframe thead tr:only-child th {\n",
       "        text-align: right;\n",
       "    }\n",
       "\n",
       "    .dataframe thead th {\n",
       "        text-align: left;\n",
       "    }\n",
       "\n",
       "    .dataframe tbody tr th {\n",
       "        vertical-align: top;\n",
       "    }\n",
       "</style>\n",
       "<table border=\"1\" class=\"dataframe\">\n",
       "  <thead>\n",
       "    <tr style=\"text-align: right;\">\n",
       "      <th>klabel</th>\n",
       "      <th>0</th>\n",
       "      <th>1</th>\n",
       "      <th>2</th>\n",
       "      <th>3</th>\n",
       "      <th>All</th>\n",
       "    </tr>\n",
       "  </thead>\n",
       "  <tbody>\n",
       "    <tr>\n",
       "      <th>Attack</th>\n",
       "      <td>53.678571</td>\n",
       "      <td>119.907563</td>\n",
       "      <td>84.400000</td>\n",
       "      <td>84.693878</td>\n",
       "      <td>79.00125</td>\n",
       "    </tr>\n",
       "    <tr>\n",
       "      <th>Defense</th>\n",
       "      <td>52.346429</td>\n",
       "      <td>92.260504</td>\n",
       "      <td>66.185366</td>\n",
       "      <td>101.377551</td>\n",
       "      <td>73.84250</td>\n",
       "    </tr>\n",
       "    <tr>\n",
       "      <th>HP</th>\n",
       "      <td>49.907143</td>\n",
       "      <td>89.638655</td>\n",
       "      <td>70.565854</td>\n",
       "      <td>83.163265</td>\n",
       "      <td>69.25875</td>\n",
       "    </tr>\n",
       "    <tr>\n",
       "      <th>Sp. Atk</th>\n",
       "      <td>47.628571</td>\n",
       "      <td>119.285714</td>\n",
       "      <td>77.839024</td>\n",
       "      <td>75.346939</td>\n",
       "      <td>72.82000</td>\n",
       "    </tr>\n",
       "    <tr>\n",
       "      <th>Sp. Def</th>\n",
       "      <td>49.110714</td>\n",
       "      <td>97.193277</td>\n",
       "      <td>71.624390</td>\n",
       "      <td>89.397959</td>\n",
       "      <td>71.90250</td>\n",
       "    </tr>\n",
       "    <tr>\n",
       "      <th>Speed</th>\n",
       "      <td>49.192857</td>\n",
       "      <td>100.134454</td>\n",
       "      <td>91.043902</td>\n",
       "      <td>52.387755</td>\n",
       "      <td>68.27750</td>\n",
       "    </tr>\n",
       "    <tr>\n",
       "      <th>Total</th>\n",
       "      <td>301.864286</td>\n",
       "      <td>618.420168</td>\n",
       "      <td>461.658537</td>\n",
       "      <td>486.367347</td>\n",
       "      <td>435.10250</td>\n",
       "    </tr>\n",
       "  </tbody>\n",
       "</table>\n",
       "</div>"
      ],
      "text/plain": [
       "klabel            0           1           2           3        All\n",
       "Attack    53.678571  119.907563   84.400000   84.693878   79.00125\n",
       "Defense   52.346429   92.260504   66.185366  101.377551   73.84250\n",
       "HP        49.907143   89.638655   70.565854   83.163265   69.25875\n",
       "Sp. Atk   47.628571  119.285714   77.839024   75.346939   72.82000\n",
       "Sp. Def   49.110714   97.193277   71.624390   89.397959   71.90250\n",
       "Speed     49.192857  100.134454   91.043902   52.387755   68.27750\n",
       "Total    301.864286  618.420168  461.658537  486.367347  435.10250"
      ]
     },
     "execution_count": 45,
     "metadata": {},
     "output_type": "execute_result"
    }
   ],
   "source": [
    "kstats = KmeansPoke.pivot_table(values=stats,index=['klabel'], aggfunc='mean').fillna(0)\n",
    "kstats = kstats.transpose()\n",
    "kstats = kstats.assign(All=pokemon[stats].mean())\n",
    "kstats"
   ]
  },
  {
   "cell_type": "code",
   "execution_count": 46,
   "metadata": {},
   "outputs": [
    {
     "data": {
      "text/html": [
       "<div>\n",
       "<style>\n",
       "    .dataframe thead tr:only-child th {\n",
       "        text-align: right;\n",
       "    }\n",
       "\n",
       "    .dataframe thead th {\n",
       "        text-align: left;\n",
       "    }\n",
       "\n",
       "    .dataframe tbody tr th {\n",
       "        vertical-align: top;\n",
       "    }\n",
       "</style>\n",
       "<table border=\"1\" class=\"dataframe\">\n",
       "  <thead>\n",
       "    <tr style=\"text-align: right;\">\n",
       "      <th></th>\n",
       "      <th>count</th>\n",
       "      <th>mean</th>\n",
       "      <th>std</th>\n",
       "      <th>min</th>\n",
       "      <th>25%</th>\n",
       "      <th>50%</th>\n",
       "      <th>75%</th>\n",
       "      <th>max</th>\n",
       "    </tr>\n",
       "  </thead>\n",
       "  <tbody>\n",
       "    <tr>\n",
       "      <th>Attack</th>\n",
       "      <td>800.0</td>\n",
       "      <td>79.00125</td>\n",
       "      <td>32.457366</td>\n",
       "      <td>5.0</td>\n",
       "      <td>55.00</td>\n",
       "      <td>75.0</td>\n",
       "      <td>100.0</td>\n",
       "      <td>190.0</td>\n",
       "    </tr>\n",
       "    <tr>\n",
       "      <th>Defense</th>\n",
       "      <td>800.0</td>\n",
       "      <td>73.84250</td>\n",
       "      <td>31.183501</td>\n",
       "      <td>5.0</td>\n",
       "      <td>50.00</td>\n",
       "      <td>70.0</td>\n",
       "      <td>90.0</td>\n",
       "      <td>230.0</td>\n",
       "    </tr>\n",
       "    <tr>\n",
       "      <th>HP</th>\n",
       "      <td>800.0</td>\n",
       "      <td>69.25875</td>\n",
       "      <td>25.534669</td>\n",
       "      <td>1.0</td>\n",
       "      <td>50.00</td>\n",
       "      <td>65.0</td>\n",
       "      <td>80.0</td>\n",
       "      <td>255.0</td>\n",
       "    </tr>\n",
       "    <tr>\n",
       "      <th>Sp. Atk</th>\n",
       "      <td>800.0</td>\n",
       "      <td>72.82000</td>\n",
       "      <td>32.722294</td>\n",
       "      <td>10.0</td>\n",
       "      <td>49.75</td>\n",
       "      <td>65.0</td>\n",
       "      <td>95.0</td>\n",
       "      <td>194.0</td>\n",
       "    </tr>\n",
       "    <tr>\n",
       "      <th>Sp. Def</th>\n",
       "      <td>800.0</td>\n",
       "      <td>71.90250</td>\n",
       "      <td>27.828916</td>\n",
       "      <td>20.0</td>\n",
       "      <td>50.00</td>\n",
       "      <td>70.0</td>\n",
       "      <td>90.0</td>\n",
       "      <td>230.0</td>\n",
       "    </tr>\n",
       "    <tr>\n",
       "      <th>Speed</th>\n",
       "      <td>800.0</td>\n",
       "      <td>68.27750</td>\n",
       "      <td>29.060474</td>\n",
       "      <td>5.0</td>\n",
       "      <td>45.00</td>\n",
       "      <td>65.0</td>\n",
       "      <td>90.0</td>\n",
       "      <td>180.0</td>\n",
       "    </tr>\n",
       "    <tr>\n",
       "      <th>Total</th>\n",
       "      <td>800.0</td>\n",
       "      <td>435.10250</td>\n",
       "      <td>119.963040</td>\n",
       "      <td>180.0</td>\n",
       "      <td>330.00</td>\n",
       "      <td>450.0</td>\n",
       "      <td>515.0</td>\n",
       "      <td>780.0</td>\n",
       "    </tr>\n",
       "  </tbody>\n",
       "</table>\n",
       "</div>"
      ],
      "text/plain": [
       "         count       mean         std    min     25%    50%    75%    max\n",
       "Attack   800.0   79.00125   32.457366    5.0   55.00   75.0  100.0  190.0\n",
       "Defense  800.0   73.84250   31.183501    5.0   50.00   70.0   90.0  230.0\n",
       "HP       800.0   69.25875   25.534669    1.0   50.00   65.0   80.0  255.0\n",
       "Sp. Atk  800.0   72.82000   32.722294   10.0   49.75   65.0   95.0  194.0\n",
       "Sp. Def  800.0   71.90250   27.828916   20.0   50.00   70.0   90.0  230.0\n",
       "Speed    800.0   68.27750   29.060474    5.0   45.00   65.0   90.0  180.0\n",
       "Total    800.0  435.10250  119.963040  180.0  330.00  450.0  515.0  780.0"
      ]
     },
     "execution_count": 46,
     "metadata": {},
     "output_type": "execute_result"
    }
   ],
   "source": [
    "pokemon[stats].describe().transpose()"
   ]
  },
  {
   "cell_type": "code",
   "execution_count": 47,
   "metadata": {},
   "outputs": [
    {
     "data": {
      "text/html": [
       "<div>\n",
       "<style>\n",
       "    .dataframe thead tr:only-child th {\n",
       "        text-align: right;\n",
       "    }\n",
       "\n",
       "    .dataframe thead th {\n",
       "        text-align: left;\n",
       "    }\n",
       "\n",
       "    .dataframe tbody tr th {\n",
       "        vertical-align: top;\n",
       "    }\n",
       "</style>\n",
       "<table border=\"1\" class=\"dataframe\">\n",
       "  <thead>\n",
       "    <tr style=\"text-align: right;\">\n",
       "      <th>klabel</th>\n",
       "      <th>0</th>\n",
       "      <th>1</th>\n",
       "      <th>2</th>\n",
       "      <th>3</th>\n",
       "    </tr>\n",
       "  </thead>\n",
       "  <tbody>\n",
       "    <tr>\n",
       "      <th>PC1</th>\n",
       "      <td>-1.829683</td>\n",
       "      <td>2.505731</td>\n",
       "      <td>0.332337</td>\n",
       "      <td>0.744899</td>\n",
       "    </tr>\n",
       "    <tr>\n",
       "      <th>PC2</th>\n",
       "      <td>-0.010223</td>\n",
       "      <td>-0.525328</td>\n",
       "      <td>-0.725396</td>\n",
       "      <td>1.092259</td>\n",
       "    </tr>\n",
       "    <tr>\n",
       "      <th>PC3</th>\n",
       "      <td>0.023359</td>\n",
       "      <td>-0.050505</td>\n",
       "      <td>-0.037303</td>\n",
       "      <td>0.036310</td>\n",
       "    </tr>\n",
       "    <tr>\n",
       "      <th>PC4</th>\n",
       "      <td>-0.008580</td>\n",
       "      <td>-0.134123</td>\n",
       "      <td>-0.139938</td>\n",
       "      <td>0.240053</td>\n",
       "    </tr>\n",
       "    <tr>\n",
       "      <th>PC5</th>\n",
       "      <td>-0.086957</td>\n",
       "      <td>-0.219663</td>\n",
       "      <td>0.264832</td>\n",
       "      <td>-0.019402</td>\n",
       "    </tr>\n",
       "  </tbody>\n",
       "</table>\n",
       "</div>"
      ],
      "text/plain": [
       "klabel         0         1         2         3\n",
       "PC1    -1.829683  2.505731  0.332337  0.744899\n",
       "PC2    -0.010223 -0.525328 -0.725396  1.092259\n",
       "PC3     0.023359 -0.050505 -0.037303  0.036310\n",
       "PC4    -0.008580 -0.134123 -0.139938  0.240053\n",
       "PC5    -0.086957 -0.219663  0.264832 -0.019402"
      ]
     },
     "execution_count": 47,
     "metadata": {},
     "output_type": "execute_result"
    }
   ],
   "source": [
    "kpca = KmeansPoke.pivot_table(values=['PC1', 'PC2', 'PC3', 'PC4', 'PC5'],index=['klabel'], aggfunc='mean').fillna(0)\n",
    "kpca.transpose()"
   ]
  },
  {
   "cell_type": "code",
   "execution_count": 48,
   "metadata": {},
   "outputs": [
    {
     "data": {
      "image/png": "[encoded data removed]",
      "text/plain": [
       "<matplotlib.figure.Figure at 0x1a1f89e5f8>"
      ]
     },
     "metadata": {},
     "output_type": "display_data"
    }
   ],
   "source": [
    "colors = plt.cm.tab20c(np.linspace(0, 1, 10))\n",
    "\n",
    "ax1 = kstats.plot(kind='bar', color=colors, figsize=(10, 5))\n",
    "ax1.set_ylabel(\"Value\")\n",
    "ax1.set_xticklabels(kstats.index,rotation='horizontal')\n",
    "ax1.set_title(\"Base stats comparison among each clusters\")\n",
    "plt.legend(prop={'size':10})\n",
    "plt.show()"
   ]
  },
  {
   "cell_type": "markdown",
   "metadata": {},
   "source": [
    "According to this graph, we can assume that cluster 1 has a high winning rate, while cluster 0 has a low winning rate. However, the winning rate result of cluster 2 and 3 is somehow surprising. \n",
    "- cluster 2 has a high winning rate (around 81%)\n",
    "- cluster 3 has a low winning rate (around 44%)\n",
    "- both average total stat of c2 and c3 are higher than the average total stat of all pokemons\n",
    "- This shows that although some pokemons has high stat, but it doesn't mean they have high winning rate"
   ]
  },
  {
   "cell_type": "code",
   "execution_count": 49,
   "metadata": {},
   "outputs": [
    {
     "data": {
      "text/html": [
       "<div>\n",
       "<style>\n",
       "    .dataframe thead tr:only-child th {\n",
       "        text-align: right;\n",
       "    }\n",
       "\n",
       "    .dataframe thead th {\n",
       "        text-align: left;\n",
       "    }\n",
       "\n",
       "    .dataframe tbody tr th {\n",
       "        vertical-align: top;\n",
       "    }\n",
       "</style>\n",
       "<table border=\"1\" class=\"dataframe\">\n",
       "  <thead>\n",
       "    <tr style=\"text-align: right;\">\n",
       "      <th>Type 1</th>\n",
       "      <th>Bug</th>\n",
       "      <th>Dark</th>\n",
       "      <th>Dragon</th>\n",
       "      <th>Electric</th>\n",
       "      <th>Fairy</th>\n",
       "      <th>Fighting</th>\n",
       "      <th>Fire</th>\n",
       "      <th>Flying</th>\n",
       "      <th>Ghost</th>\n",
       "      <th>Grass</th>\n",
       "      <th>Ground</th>\n",
       "      <th>Ice</th>\n",
       "      <th>Normal</th>\n",
       "      <th>Poison</th>\n",
       "      <th>Psychic</th>\n",
       "      <th>Rock</th>\n",
       "      <th>Steel</th>\n",
       "      <th>Water</th>\n",
       "    </tr>\n",
       "    <tr>\n",
       "      <th>klabel</th>\n",
       "      <th></th>\n",
       "      <th></th>\n",
       "      <th></th>\n",
       "      <th></th>\n",
       "      <th></th>\n",
       "      <th></th>\n",
       "      <th></th>\n",
       "      <th></th>\n",
       "      <th></th>\n",
       "      <th></th>\n",
       "      <th></th>\n",
       "      <th></th>\n",
       "      <th></th>\n",
       "      <th></th>\n",
       "      <th></th>\n",
       "      <th></th>\n",
       "      <th></th>\n",
       "      <th></th>\n",
       "    </tr>\n",
       "  </thead>\n",
       "  <tbody>\n",
       "    <tr>\n",
       "      <th>0</th>\n",
       "      <td>30</td>\n",
       "      <td>10</td>\n",
       "      <td>5</td>\n",
       "      <td>12</td>\n",
       "      <td>8</td>\n",
       "      <td>9</td>\n",
       "      <td>13</td>\n",
       "      <td>1</td>\n",
       "      <td>12</td>\n",
       "      <td>25</td>\n",
       "      <td>13</td>\n",
       "      <td>8</td>\n",
       "      <td>42</td>\n",
       "      <td>14</td>\n",
       "      <td>18</td>\n",
       "      <td>14</td>\n",
       "      <td>6</td>\n",
       "      <td>40</td>\n",
       "    </tr>\n",
       "    <tr>\n",
       "      <th>1</th>\n",
       "      <td>4</td>\n",
       "      <td>5</td>\n",
       "      <td>19</td>\n",
       "      <td>7</td>\n",
       "      <td>1</td>\n",
       "      <td>1</td>\n",
       "      <td>13</td>\n",
       "      <td>2</td>\n",
       "      <td>4</td>\n",
       "      <td>6</td>\n",
       "      <td>4</td>\n",
       "      <td>3</td>\n",
       "      <td>9</td>\n",
       "      <td>0</td>\n",
       "      <td>17</td>\n",
       "      <td>6</td>\n",
       "      <td>6</td>\n",
       "      <td>12</td>\n",
       "    </tr>\n",
       "    <tr>\n",
       "      <th>2</th>\n",
       "      <td>23</td>\n",
       "      <td>10</td>\n",
       "      <td>5</td>\n",
       "      <td>16</td>\n",
       "      <td>0</td>\n",
       "      <td>9</td>\n",
       "      <td>21</td>\n",
       "      <td>1</td>\n",
       "      <td>8</td>\n",
       "      <td>18</td>\n",
       "      <td>5</td>\n",
       "      <td>6</td>\n",
       "      <td>31</td>\n",
       "      <td>9</td>\n",
       "      <td>13</td>\n",
       "      <td>6</td>\n",
       "      <td>1</td>\n",
       "      <td>23</td>\n",
       "    </tr>\n",
       "    <tr>\n",
       "      <th>3</th>\n",
       "      <td>12</td>\n",
       "      <td>6</td>\n",
       "      <td>3</td>\n",
       "      <td>9</td>\n",
       "      <td>8</td>\n",
       "      <td>8</td>\n",
       "      <td>5</td>\n",
       "      <td>0</td>\n",
       "      <td>8</td>\n",
       "      <td>21</td>\n",
       "      <td>10</td>\n",
       "      <td>7</td>\n",
       "      <td>16</td>\n",
       "      <td>5</td>\n",
       "      <td>9</td>\n",
       "      <td>18</td>\n",
       "      <td>14</td>\n",
       "      <td>37</td>\n",
       "    </tr>\n",
       "  </tbody>\n",
       "</table>\n",
       "</div>"
      ],
      "text/plain": [
       "Type 1  Bug  Dark  Dragon  Electric  Fairy  Fighting  Fire  Flying  Ghost  \\\n",
       "klabel                                                                      \n",
       "0        30    10       5        12      8         9    13       1     12   \n",
       "1         4     5      19         7      1         1    13       2      4   \n",
       "2        23    10       5        16      0         9    21       1      8   \n",
       "3        12     6       3         9      8         8     5       0      8   \n",
       "\n",
       "Type 1  Grass  Ground  Ice  Normal  Poison  Psychic  Rock  Steel  Water  \n",
       "klabel                                                                   \n",
       "0          25      13    8      42      14       18    14      6     40  \n",
       "1           6       4    3       9       0       17     6      6     12  \n",
       "2          18       5    6      31       9       13     6      1     23  \n",
       "3          21      10    7      16       5        9    18     14     37  "
      ]
     },
     "execution_count": 49,
     "metadata": {},
     "output_type": "execute_result"
    }
   ],
   "source": [
    "ktype = KmeansPoke.pivot_table(values='Name', index=['Type 1'],columns=['klabel'], aggfunc='count').fillna(0).astype(int)\n",
    "ktype2 = KmeansPoke.pivot_table(values='Name', index=['Type 2'],columns=['klabel'], aggfunc='count').fillna(0).astype(int)\n",
    "ktype.transpose()"
   ]
  },
  {
   "cell_type": "code",
   "execution_count": 50,
   "metadata": {},
   "outputs": [
    {
     "data": {
      "text/html": [
       "<div>\n",
       "<style>\n",
       "    .dataframe thead tr:only-child th {\n",
       "        text-align: right;\n",
       "    }\n",
       "\n",
       "    .dataframe thead th {\n",
       "        text-align: left;\n",
       "    }\n",
       "\n",
       "    .dataframe tbody tr th {\n",
       "        vertical-align: top;\n",
       "    }\n",
       "</style>\n",
       "<table border=\"1\" class=\"dataframe\">\n",
       "  <thead>\n",
       "    <tr style=\"text-align: right;\">\n",
       "      <th>Type 2</th>\n",
       "      <th>Bug</th>\n",
       "      <th>Dark</th>\n",
       "      <th>Dragon</th>\n",
       "      <th>Electric</th>\n",
       "      <th>Fairy</th>\n",
       "      <th>Fighting</th>\n",
       "      <th>Fire</th>\n",
       "      <th>Flying</th>\n",
       "      <th>Ghost</th>\n",
       "      <th>Grass</th>\n",
       "      <th>Ground</th>\n",
       "      <th>Ice</th>\n",
       "      <th>None</th>\n",
       "      <th>Normal</th>\n",
       "      <th>Poison</th>\n",
       "      <th>Psychic</th>\n",
       "      <th>Rock</th>\n",
       "      <th>Steel</th>\n",
       "      <th>Water</th>\n",
       "    </tr>\n",
       "    <tr>\n",
       "      <th>klabel</th>\n",
       "      <th></th>\n",
       "      <th></th>\n",
       "      <th></th>\n",
       "      <th></th>\n",
       "      <th></th>\n",
       "      <th></th>\n",
       "      <th></th>\n",
       "      <th></th>\n",
       "      <th></th>\n",
       "      <th></th>\n",
       "      <th></th>\n",
       "      <th></th>\n",
       "      <th></th>\n",
       "      <th></th>\n",
       "      <th></th>\n",
       "      <th></th>\n",
       "      <th></th>\n",
       "      <th></th>\n",
       "      <th></th>\n",
       "    </tr>\n",
       "  </thead>\n",
       "  <tbody>\n",
       "    <tr>\n",
       "      <th>0</th>\n",
       "      <td>2</td>\n",
       "      <td>5</td>\n",
       "      <td>4</td>\n",
       "      <td>2</td>\n",
       "      <td>9</td>\n",
       "      <td>2</td>\n",
       "      <td>4</td>\n",
       "      <td>27</td>\n",
       "      <td>5</td>\n",
       "      <td>11</td>\n",
       "      <td>9</td>\n",
       "      <td>2</td>\n",
       "      <td>159</td>\n",
       "      <td>2</td>\n",
       "      <td>15</td>\n",
       "      <td>8</td>\n",
       "      <td>4</td>\n",
       "      <td>4</td>\n",
       "      <td>6</td>\n",
       "    </tr>\n",
       "    <tr>\n",
       "      <th>1</th>\n",
       "      <td>0</td>\n",
       "      <td>5</td>\n",
       "      <td>9</td>\n",
       "      <td>1</td>\n",
       "      <td>3</td>\n",
       "      <td>13</td>\n",
       "      <td>5</td>\n",
       "      <td>21</td>\n",
       "      <td>2</td>\n",
       "      <td>1</td>\n",
       "      <td>4</td>\n",
       "      <td>3</td>\n",
       "      <td>38</td>\n",
       "      <td>0</td>\n",
       "      <td>2</td>\n",
       "      <td>8</td>\n",
       "      <td>0</td>\n",
       "      <td>3</td>\n",
       "      <td>1</td>\n",
       "    </tr>\n",
       "    <tr>\n",
       "      <th>2</th>\n",
       "      <td>0</td>\n",
       "      <td>8</td>\n",
       "      <td>3</td>\n",
       "      <td>1</td>\n",
       "      <td>5</td>\n",
       "      <td>8</td>\n",
       "      <td>2</td>\n",
       "      <td>37</td>\n",
       "      <td>2</td>\n",
       "      <td>3</td>\n",
       "      <td>6</td>\n",
       "      <td>2</td>\n",
       "      <td>99</td>\n",
       "      <td>2</td>\n",
       "      <td>13</td>\n",
       "      <td>8</td>\n",
       "      <td>0</td>\n",
       "      <td>4</td>\n",
       "      <td>2</td>\n",
       "    </tr>\n",
       "    <tr>\n",
       "      <th>3</th>\n",
       "      <td>1</td>\n",
       "      <td>2</td>\n",
       "      <td>2</td>\n",
       "      <td>2</td>\n",
       "      <td>6</td>\n",
       "      <td>3</td>\n",
       "      <td>1</td>\n",
       "      <td>12</td>\n",
       "      <td>5</td>\n",
       "      <td>10</td>\n",
       "      <td>16</td>\n",
       "      <td>7</td>\n",
       "      <td>90</td>\n",
       "      <td>0</td>\n",
       "      <td>4</td>\n",
       "      <td>9</td>\n",
       "      <td>10</td>\n",
       "      <td>11</td>\n",
       "      <td>5</td>\n",
       "    </tr>\n",
       "  </tbody>\n",
       "</table>\n",
       "</div>"
      ],
      "text/plain": [
       "Type 2  Bug  Dark  Dragon  Electric  Fairy  Fighting  Fire  Flying  Ghost  \\\n",
       "klabel                                                                      \n",
       "0         2     5       4         2      9         2     4      27      5   \n",
       "1         0     5       9         1      3        13     5      21      2   \n",
       "2         0     8       3         1      5         8     2      37      2   \n",
       "3         1     2       2         2      6         3     1      12      5   \n",
       "\n",
       "Type 2  Grass  Ground  Ice  None  Normal  Poison  Psychic  Rock  Steel  Water  \n",
       "klabel                                                                         \n",
       "0          11       9    2   159       2      15        8     4      4      6  \n",
       "1           1       4    3    38       0       2        8     0      3      1  \n",
       "2           3       6    2    99       2      13        8     0      4      2  \n",
       "3          10      16    7    90       0       4        9    10     11      5  "
      ]
     },
     "execution_count": 50,
     "metadata": {},
     "output_type": "execute_result"
    }
   ],
   "source": [
    "ktype2.transpose()"
   ]
  },
  {
   "cell_type": "markdown",
   "metadata": {},
   "source": [
    "Discover the pokemon type in each cluster -> hard to see any specific type dominate the group"
   ]
  },
  {
   "cell_type": "code",
   "execution_count": 51,
   "metadata": {
    "collapsed": true
   },
   "outputs": [],
   "source": [
    "mega = KmeansPoke['Name'].str.contains('Mega')    \n",
    "KmeansPoke['Mega'] = mega"
   ]
  },
  {
   "cell_type": "code",
   "execution_count": 52,
   "metadata": {
    "collapsed": true
   },
   "outputs": [],
   "source": [
    "kleg = KmeansPoke.pivot_table(values='Name', index=['Legendary', 'Mega'],columns=['klabel'], aggfunc='count').fillna(0).astype(int)"
   ]
  },
  {
   "cell_type": "code",
   "execution_count": 53,
   "metadata": {},
   "outputs": [
    {
     "data": {
      "image/png": "[encoded data removed]",
      "text/plain": [
       "<matplotlib.figure.Figure at 0x1a1f75eeb8>"
      ]
     },
     "metadata": {},
     "output_type": "display_data"
    }
   ],
   "source": [
    "def my_autopct(pct):\n",
    "    return ('%.2f%%' % pct) if pct > 0 else ''\n",
    "\n",
    "colors = plt.cm.tab20(np.linspace(0, 1, 20))\n",
    "\n",
    "    \n",
    "fig, axes = plt.subplots(1, 4,  figsize=(12,6))\n",
    "for ax in axes.flat:\n",
    "    ax.axis('off')\n",
    "    \n",
    "for ax, col in zip(axes.flat, kleg.columns):\n",
    "    data = kleg[col]  \n",
    "    \n",
    "    pie = ax.pie(data, colors=colors, autopct=my_autopct)\n",
    "    ax.set(ylabel='', title=\"c\"+str(col)+\": legend vs mega\", aspect='equal')\n",
    "\n",
    "fig.legend(pie[0], kleg.index, loc=\"center\", bbox_to_anchor=(0.5,0.15))\n",
    "plt.tight_layout()\n",
    "plt.show()"
   ]
  },
  {
   "cell_type": "markdown",
   "metadata": {},
   "source": [
    "According to this chart, we can find out that:\n",
    "- c0 consists of all pokemons with non-legendary or non-mega-envolved pokemons\n",
    "- c1 consists of around 75% of legendary or mega-envolved or both pokemons, which describes why this cluster has a high base stats and high winning rate\n",
    "- c2 consists of 99% of non-legendary or non-mega-envolved pokemons and 1% or mega-envolved pokemons\n",
    "- c3 consists of a small amount of legendary or mega-envolved pokemon"
   ]
  },
  {
   "cell_type": "code",
   "execution_count": 54,
   "metadata": {},
   "outputs": [
    {
     "name": "stdout",
     "output_type": "stream",
     "text": [
      "Number of first pokemons in the battle: 784\n",
      "Number of second pokemons in the battle: 784\n",
      "Number of winning pokemons in the battle: 783\n"
     ]
    }
   ],
   "source": [
    "#win_counts.loc[231]\n",
    "#clus2_combat = combats[combats['First_pokemon'].isin(clus2_Idx) | combats['Second_pokemon'].isin(clus2_Idx)]\n",
    "first_battle = combats['First_pokemon'].value_counts()\n",
    "second_battle = combats['Second_pokemon'].value_counts()\n",
    "win_counts = combats['Winner'].value_counts()\n",
    "\n",
    "#make sure how many pokemons participated in the battle, first_battle union second battle\n",
    "print ('Number of first pokemons in the battle: %d' % (len(first_battle)))\n",
    "print ('Number of second pokemons in the battle: %d' % (len(second_battle)))\n",
    "print ('Number of winning pokemons in the battle: %d' % (len(win_counts)))"
   ]
  },
  {
   "cell_type": "markdown",
   "metadata": {},
   "source": [
    "From the outcome, we found out that the number of winning pokemons is different than the pokemons that participated in the combats and not all 800 pokemons participated in the combats. According to 2.1.1.2, we know that #No.231 Shuckle is the one that lost all the combats."
   ]
  },
  {
   "cell_type": "code",
   "execution_count": 55,
   "metadata": {
    "collapsed": true
   },
   "outputs": [],
   "source": [
    "win_counts.loc[231] = 0"
   ]
  },
  {
   "cell_type": "code",
   "execution_count": 56,
   "metadata": {},
   "outputs": [
    {
     "data": {
      "text/html": [
       "<div>\n",
       "<style>\n",
       "    .dataframe thead tr:only-child th {\n",
       "        text-align: right;\n",
       "    }\n",
       "\n",
       "    .dataframe thead th {\n",
       "        text-align: left;\n",
       "    }\n",
       "\n",
       "    .dataframe tbody tr th {\n",
       "        vertical-align: top;\n",
       "    }\n",
       "</style>\n",
       "<table border=\"1\" class=\"dataframe\">\n",
       "  <thead>\n",
       "    <tr style=\"text-align: right;\">\n",
       "      <th></th>\n",
       "      <th>WinRate</th>\n",
       "    </tr>\n",
       "  </thead>\n",
       "  <tbody>\n",
       "    <tr>\n",
       "      <th>155</th>\n",
       "      <td>0.984496</td>\n",
       "    </tr>\n",
       "    <tr>\n",
       "      <th>513</th>\n",
       "      <td>0.974790</td>\n",
       "    </tr>\n",
       "    <tr>\n",
       "      <th>704</th>\n",
       "      <td>0.968000</td>\n",
       "    </tr>\n",
       "    <tr>\n",
       "      <th>20</th>\n",
       "      <td>0.966387</td>\n",
       "    </tr>\n",
       "    <tr>\n",
       "      <th>154</th>\n",
       "      <td>0.964539</td>\n",
       "    </tr>\n",
       "  </tbody>\n",
       "</table>\n",
       "</div>"
      ],
      "text/plain": [
       "      WinRate\n",
       "155  0.984496\n",
       "513  0.974790\n",
       "704  0.968000\n",
       "20   0.966387\n",
       "154  0.964539"
      ]
     },
     "execution_count": 56,
     "metadata": {},
     "output_type": "execute_result"
    }
   ],
   "source": [
    "total_battle = first_battle + second_battle\n",
    "win_percentage = win_counts / total_battle\n",
    "win_percentage = win_percentage.sort_values(ascending=False).to_frame().rename(columns={0: \"WinRate\"})\n",
    "win_percentage.head() "
   ]
  },
  {
   "cell_type": "markdown",
   "metadata": {},
   "source": [
    "Let's see which clusters do these pokemons with different winning rate belongs to."
   ]
  },
  {
   "cell_type": "code",
   "execution_count": 57,
   "metadata": {
    "collapsed": true
   },
   "outputs": [],
   "source": [
    "winRate = win_percentage.copy().reset_index(col_fill='#').rename(columns={'index': \"#\"})"
   ]
  },
  {
   "cell_type": "code",
   "execution_count": 58,
   "metadata": {
    "collapsed": true
   },
   "outputs": [],
   "source": [
    "klab = KmeansPoke[['#', 'klabel']]\n",
    "klab = pd.merge(winRate, klab, on='#', how='right')\n",
    "klab = klab[klab.WinRate.notnull()]"
   ]
  },
  {
   "cell_type": "code",
   "execution_count": 59,
   "metadata": {
    "collapsed": true
   },
   "outputs": [],
   "source": [
    "def group(rate):\n",
    "    if (rate > 0.8):\n",
    "        return '81%~100%'\n",
    "    elif (rate > 0.6 and rate <= 0.8):\n",
    "        return '61%~80%'\n",
    "    elif (rate > 0.4 and rate <= 0.6):\n",
    "        return '41%~60%'\n",
    "    elif (rate > 0.2 and rate <= 0.4):\n",
    "        return '21%~40%'\n",
    "    elif (rate >= 0 and rate <= 0.2):\n",
    "        return '0%~20%'"
   ]
  },
  {
   "cell_type": "code",
   "execution_count": 60,
   "metadata": {
    "collapsed": true
   },
   "outputs": [],
   "source": [
    "func = np.vectorize(group)\n",
    "range_grp = func(klab[\"WinRate\"])\n",
    "klab[\"win_rate_range\"] = range_grp"
   ]
  },
  {
   "cell_type": "code",
   "execution_count": 61,
   "metadata": {
    "collapsed": true
   },
   "outputs": [],
   "source": [
    "klab_new = klab.pivot_table(values='#',columns=['klabel'], index=['win_rate_range'], aggfunc='count').fillna(0).astype(int)\n",
    "klab_new.columns = ['c0', 'c1', 'c2', 'c3']"
   ]
  },
  {
   "cell_type": "code",
   "execution_count": 62,
   "metadata": {},
   "outputs": [
    {
     "data": {
      "image/png": "[encoded data removed]",
      "text/plain": [
       "<matplotlib.figure.Figure at 0x1a1fa453c8>"
      ]
     },
     "metadata": {},
     "output_type": "display_data"
    }
   ],
   "source": [
    "colors = plt.cm.tab20c(np.linspace(0, 1, 10))\n",
    "\n",
    "ax1 = klab_new.plot(kind='bar', color=colors, figsize=(10, 5))\n",
    "ax1.set_xlabel(\"Range\")\n",
    "ax1.set_ylabel(\"Count\")\n",
    "ax1.set_xticklabels(klab_new.index, rotation='horizontal')\n",
    "ax1.set_title(\"Different winning rate range of cluster groups\")\n",
    "plt.legend(prop={'size':10})\n",
    "plt.show()"
   ]
  },
  {
   "cell_type": "markdown",
   "metadata": {},
   "source": [
    "Conclusion: It is hard to group the pokemons with their base stat, since it's more continuous distribution (?) rather than discrete, each clusters do not have strong characteristics to distinguish from others."
   ]
  },
  {
   "cell_type": "markdown",
   "metadata": {},
   "source": [
    "------------------------------------"
   ]
  },
  {
   "cell_type": "markdown",
   "metadata": {},
   "source": [
    "# Data Training 1 "
   ]
  },
  {
   "cell_type": "code",
   "execution_count": 63,
   "metadata": {
    "collapsed": true
   },
   "outputs": [],
   "source": [
    "tests = pd.read_csv(\"/Users/gillianchiang/Desktop/Course/year4_sem2/COMP4912/Data/pokemon-challenge/tests.csv\")"
   ]
  },
  {
   "cell_type": "markdown",
   "metadata": {},
   "source": [
    "1. Do prediction with all pokemons, with clustering result but without type \n",
    "2. then use type advantage to do the prediction see the accuracy of the prediction\n",
    "3. then see how to optimize the prediction"
   ]
  },
  {
   "cell_type": "markdown",
   "metadata": {},
   "source": [
    "## Data Preprocessing"
   ]
  },
  {
   "cell_type": "code",
   "execution_count": 64,
   "metadata": {},
   "outputs": [
    {
     "data": {
      "text/html": [
       "<div>\n",
       "<style>\n",
       "    .dataframe thead tr:only-child th {\n",
       "        text-align: right;\n",
       "    }\n",
       "\n",
       "    .dataframe thead th {\n",
       "        text-align: left;\n",
       "    }\n",
       "\n",
       "    .dataframe tbody tr th {\n",
       "        vertical-align: top;\n",
       "    }\n",
       "</style>\n",
       "<table border=\"1\" class=\"dataframe\">\n",
       "  <thead>\n",
       "    <tr style=\"text-align: right;\">\n",
       "      <th></th>\n",
       "      <th>#</th>\n",
       "      <th>Name</th>\n",
       "      <th>Type 1</th>\n",
       "      <th>Type 2</th>\n",
       "      <th>HP</th>\n",
       "      <th>Attack</th>\n",
       "      <th>Defense</th>\n",
       "      <th>Sp. Atk</th>\n",
       "      <th>Sp. Def</th>\n",
       "      <th>Speed</th>\n",
       "      <th>...</th>\n",
       "      <th>Legendary</th>\n",
       "      <th>Total</th>\n",
       "      <th>type</th>\n",
       "      <th>klabel</th>\n",
       "      <th>PC1</th>\n",
       "      <th>PC2</th>\n",
       "      <th>PC3</th>\n",
       "      <th>PC4</th>\n",
       "      <th>PC5</th>\n",
       "      <th>Mega</th>\n",
       "    </tr>\n",
       "  </thead>\n",
       "  <tbody>\n",
       "    <tr>\n",
       "      <th>0</th>\n",
       "      <td>1</td>\n",
       "      <td>Bulbasaur</td>\n",
       "      <td>Grass</td>\n",
       "      <td>Poison</td>\n",
       "      <td>45</td>\n",
       "      <td>49</td>\n",
       "      <td>49</td>\n",
       "      <td>65</td>\n",
       "      <td>65</td>\n",
       "      <td>45</td>\n",
       "      <td>...</td>\n",
       "      <td>False</td>\n",
       "      <td>318</td>\n",
       "      <td>12</td>\n",
       "      <td>0</td>\n",
       "      <td>-1.556375</td>\n",
       "      <td>-0.021482</td>\n",
       "      <td>0.666504</td>\n",
       "      <td>0.184176</td>\n",
       "      <td>-0.403807</td>\n",
       "      <td>False</td>\n",
       "    </tr>\n",
       "    <tr>\n",
       "      <th>1</th>\n",
       "      <td>2</td>\n",
       "      <td>Ivysaur</td>\n",
       "      <td>Grass</td>\n",
       "      <td>Poison</td>\n",
       "      <td>60</td>\n",
       "      <td>62</td>\n",
       "      <td>63</td>\n",
       "      <td>80</td>\n",
       "      <td>80</td>\n",
       "      <td>60</td>\n",
       "      <td>...</td>\n",
       "      <td>False</td>\n",
       "      <td>405</td>\n",
       "      <td>12</td>\n",
       "      <td>2</td>\n",
       "      <td>-0.362867</td>\n",
       "      <td>-0.050269</td>\n",
       "      <td>0.667913</td>\n",
       "      <td>0.269254</td>\n",
       "      <td>-0.225788</td>\n",
       "      <td>False</td>\n",
       "    </tr>\n",
       "    <tr>\n",
       "      <th>2</th>\n",
       "      <td>3</td>\n",
       "      <td>Venusaur</td>\n",
       "      <td>Grass</td>\n",
       "      <td>Poison</td>\n",
       "      <td>80</td>\n",
       "      <td>82</td>\n",
       "      <td>83</td>\n",
       "      <td>100</td>\n",
       "      <td>100</td>\n",
       "      <td>80</td>\n",
       "      <td>...</td>\n",
       "      <td>False</td>\n",
       "      <td>525</td>\n",
       "      <td>12</td>\n",
       "      <td>3</td>\n",
       "      <td>1.280152</td>\n",
       "      <td>-0.062720</td>\n",
       "      <td>0.623914</td>\n",
       "      <td>0.331391</td>\n",
       "      <td>-0.001545</td>\n",
       "      <td>False</td>\n",
       "    </tr>\n",
       "    <tr>\n",
       "      <th>3</th>\n",
       "      <td>4</td>\n",
       "      <td>Mega Venusaur</td>\n",
       "      <td>Grass</td>\n",
       "      <td>Poison</td>\n",
       "      <td>80</td>\n",
       "      <td>100</td>\n",
       "      <td>123</td>\n",
       "      <td>122</td>\n",
       "      <td>120</td>\n",
       "      <td>80</td>\n",
       "      <td>...</td>\n",
       "      <td>False</td>\n",
       "      <td>625</td>\n",
       "      <td>12</td>\n",
       "      <td>1</td>\n",
       "      <td>2.620916</td>\n",
       "      <td>0.704263</td>\n",
       "      <td>0.995538</td>\n",
       "      <td>-0.199321</td>\n",
       "      <td>-0.310170</td>\n",
       "      <td>True</td>\n",
       "    </tr>\n",
       "    <tr>\n",
       "      <th>4</th>\n",
       "      <td>5</td>\n",
       "      <td>Charmander</td>\n",
       "      <td>Fire</td>\n",
       "      <td>None</td>\n",
       "      <td>39</td>\n",
       "      <td>52</td>\n",
       "      <td>43</td>\n",
       "      <td>60</td>\n",
       "      <td>50</td>\n",
       "      <td>65</td>\n",
       "      <td>...</td>\n",
       "      <td>False</td>\n",
       "      <td>309</td>\n",
       "      <td>5</td>\n",
       "      <td>0</td>\n",
       "      <td>-1.758284</td>\n",
       "      <td>-0.706179</td>\n",
       "      <td>0.411454</td>\n",
       "      <td>-0.268602</td>\n",
       "      <td>-0.168877</td>\n",
       "      <td>False</td>\n",
       "    </tr>\n",
       "  </tbody>\n",
       "</table>\n",
       "<p>5 rows × 21 columns</p>\n",
       "</div>"
      ],
      "text/plain": [
       "   #           Name Type 1  Type 2  HP  Attack  Defense  Sp. Atk  Sp. Def  \\\n",
       "0  1      Bulbasaur  Grass  Poison  45      49       49       65       65   \n",
       "1  2        Ivysaur  Grass  Poison  60      62       63       80       80   \n",
       "2  3       Venusaur  Grass  Poison  80      82       83      100      100   \n",
       "3  4  Mega Venusaur  Grass  Poison  80     100      123      122      120   \n",
       "4  5     Charmander   Fire    None  39      52       43       60       50   \n",
       "\n",
       "   Speed  ...    Legendary  Total  type  klabel       PC1       PC2       PC3  \\\n",
       "0     45  ...        False    318    12       0 -1.556375 -0.021482  0.666504   \n",
       "1     60  ...        False    405    12       2 -0.362867 -0.050269  0.667913   \n",
       "2     80  ...        False    525    12       3  1.280152 -0.062720  0.623914   \n",
       "3     80  ...        False    625    12       1  2.620916  0.704263  0.995538   \n",
       "4     65  ...        False    309     5       0 -1.758284 -0.706179  0.411454   \n",
       "\n",
       "        PC4       PC5   Mega  \n",
       "0  0.184176 -0.403807  False  \n",
       "1  0.269254 -0.225788  False  \n",
       "2  0.331391 -0.001545  False  \n",
       "3 -0.199321 -0.310170   True  \n",
       "4 -0.268602 -0.168877  False  \n",
       "\n",
       "[5 rows x 21 columns]"
      ]
     },
     "execution_count": 64,
     "metadata": {},
     "output_type": "execute_result"
    }
   ],
   "source": [
    "KmeansPoke.head()"
   ]
  },
  {
   "cell_type": "markdown",
   "metadata": {},
   "source": [
    "This plot indicates the successive strength of each of the variables supplied to the PCA. If some of these could be discarded, there would be an obvious drop off where the values on the left were significantly larger than the values on the right. <b>This seems to indicate that there is no useful dimensional reduction that can be done on this data.</b>\n",
    "\n",
    "This would make sense as Pokemon is a purposefully designed game by humans, and also theoretically ‘balanced’ no one group of pokemon should be more useful than any other. However, there are some limitations in this analysis. Evolutionary lines and typing are not considered here. \n",
    "\n",
    "Since PCA is not necessary in this dataset, we will use all 6 base stats to do the prediction"
   ]
  },
  {
   "cell_type": "markdown",
   "metadata": {},
   "source": [
    "### Preprocess Base Stats"
   ]
  },
  {
   "cell_type": "code",
   "execution_count": 65,
   "metadata": {
    "collapsed": true
   },
   "outputs": [],
   "source": [
    "#change legendary and mega from T/F into 1/0\n",
    "KmeansPoke['Legendary'] = KmeansPoke['Legendary'].map({False: 0, True:1})\n",
    "KmeansPoke['Mega'] = KmeansPoke['Mega'].map({False: 0, True:1})"
   ]
  },
  {
   "cell_type": "code",
   "execution_count": 66,
   "metadata": {
    "collapsed": true
   },
   "outputs": [],
   "source": [
    "attribute = stat.copy()\n",
    "attribute.insert(0, '#')\n",
    "attribute.append('Legendary')\n",
    "attribute.append('Mega')\n",
    "attr_df = KmeansPoke.loc[:, attribute]"
   ]
  },
  {
   "cell_type": "code",
   "execution_count": 67,
   "metadata": {
    "collapsed": true
   },
   "outputs": [],
   "source": [
    "#create dictionaries\n",
    "attr_dict = attr_df.set_index('#').T.to_dict('list')"
   ]
  },
  {
   "cell_type": "code",
   "execution_count": 68,
   "metadata": {},
   "outputs": [
    {
     "data": {
      "text/html": [
       "<div>\n",
       "<style>\n",
       "    .dataframe thead tr:only-child th {\n",
       "        text-align: right;\n",
       "    }\n",
       "\n",
       "    .dataframe thead th {\n",
       "        text-align: left;\n",
       "    }\n",
       "\n",
       "    .dataframe tbody tr th {\n",
       "        vertical-align: top;\n",
       "    }\n",
       "</style>\n",
       "<table border=\"1\" class=\"dataframe\">\n",
       "  <thead>\n",
       "    <tr style=\"text-align: right;\">\n",
       "      <th></th>\n",
       "      <th>#</th>\n",
       "      <th>HP</th>\n",
       "      <th>Attack</th>\n",
       "      <th>Defense</th>\n",
       "      <th>Sp. Atk</th>\n",
       "      <th>Sp. Def</th>\n",
       "      <th>Speed</th>\n",
       "      <th>Legendary</th>\n",
       "      <th>Mega</th>\n",
       "    </tr>\n",
       "  </thead>\n",
       "  <tbody>\n",
       "    <tr>\n",
       "      <th>0</th>\n",
       "      <td>1</td>\n",
       "      <td>45</td>\n",
       "      <td>49</td>\n",
       "      <td>49</td>\n",
       "      <td>65</td>\n",
       "      <td>65</td>\n",
       "      <td>45</td>\n",
       "      <td>0</td>\n",
       "      <td>0</td>\n",
       "    </tr>\n",
       "    <tr>\n",
       "      <th>1</th>\n",
       "      <td>2</td>\n",
       "      <td>60</td>\n",
       "      <td>62</td>\n",
       "      <td>63</td>\n",
       "      <td>80</td>\n",
       "      <td>80</td>\n",
       "      <td>60</td>\n",
       "      <td>0</td>\n",
       "      <td>0</td>\n",
       "    </tr>\n",
       "    <tr>\n",
       "      <th>2</th>\n",
       "      <td>3</td>\n",
       "      <td>80</td>\n",
       "      <td>82</td>\n",
       "      <td>83</td>\n",
       "      <td>100</td>\n",
       "      <td>100</td>\n",
       "      <td>80</td>\n",
       "      <td>0</td>\n",
       "      <td>0</td>\n",
       "    </tr>\n",
       "    <tr>\n",
       "      <th>3</th>\n",
       "      <td>4</td>\n",
       "      <td>80</td>\n",
       "      <td>100</td>\n",
       "      <td>123</td>\n",
       "      <td>122</td>\n",
       "      <td>120</td>\n",
       "      <td>80</td>\n",
       "      <td>0</td>\n",
       "      <td>1</td>\n",
       "    </tr>\n",
       "    <tr>\n",
       "      <th>4</th>\n",
       "      <td>5</td>\n",
       "      <td>39</td>\n",
       "      <td>52</td>\n",
       "      <td>43</td>\n",
       "      <td>60</td>\n",
       "      <td>50</td>\n",
       "      <td>65</td>\n",
       "      <td>0</td>\n",
       "      <td>0</td>\n",
       "    </tr>\n",
       "  </tbody>\n",
       "</table>\n",
       "</div>"
      ],
      "text/plain": [
       "   #  HP  Attack  Defense  Sp. Atk  Sp. Def  Speed  Legendary  Mega\n",
       "0  1  45      49       49       65       65     45          0     0\n",
       "1  2  60      62       63       80       80     60          0     0\n",
       "2  3  80      82       83      100      100     80          0     0\n",
       "3  4  80     100      123      122      120     80          0     1\n",
       "4  5  39      52       43       60       50     65          0     0"
      ]
     },
     "execution_count": 68,
     "metadata": {},
     "output_type": "execute_result"
    }
   ],
   "source": [
    "attr_df.head()"
   ]
  },
  {
   "cell_type": "code",
   "execution_count": 69,
   "metadata": {
    "collapsed": true
   },
   "outputs": [],
   "source": [
    "#change winner from pokemon# to 0 (first pokemon win) or 1 (second pokemon win)\n",
    "attr_combats = combats.copy()\n",
    "attr_combats['Winner'] = np.where(attr_combats['Winner'] == combats['First_pokemon'], 0, 1)"
   ]
  },
  {
   "cell_type": "code",
   "execution_count": 70,
   "metadata": {},
   "outputs": [
    {
     "data": {
      "text/html": [
       "<div>\n",
       "<style>\n",
       "    .dataframe thead tr:only-child th {\n",
       "        text-align: right;\n",
       "    }\n",
       "\n",
       "    .dataframe thead th {\n",
       "        text-align: left;\n",
       "    }\n",
       "\n",
       "    .dataframe tbody tr th {\n",
       "        vertical-align: top;\n",
       "    }\n",
       "</style>\n",
       "<table border=\"1\" class=\"dataframe\">\n",
       "  <thead>\n",
       "    <tr style=\"text-align: right;\">\n",
       "      <th></th>\n",
       "      <th>First_pokemon</th>\n",
       "      <th>Second_pokemon</th>\n",
       "      <th>Winner</th>\n",
       "    </tr>\n",
       "  </thead>\n",
       "  <tbody>\n",
       "    <tr>\n",
       "      <th>0</th>\n",
       "      <td>266</td>\n",
       "      <td>298</td>\n",
       "      <td>1</td>\n",
       "    </tr>\n",
       "    <tr>\n",
       "      <th>1</th>\n",
       "      <td>702</td>\n",
       "      <td>701</td>\n",
       "      <td>1</td>\n",
       "    </tr>\n",
       "    <tr>\n",
       "      <th>2</th>\n",
       "      <td>191</td>\n",
       "      <td>668</td>\n",
       "      <td>1</td>\n",
       "    </tr>\n",
       "    <tr>\n",
       "      <th>3</th>\n",
       "      <td>237</td>\n",
       "      <td>683</td>\n",
       "      <td>1</td>\n",
       "    </tr>\n",
       "    <tr>\n",
       "      <th>4</th>\n",
       "      <td>151</td>\n",
       "      <td>231</td>\n",
       "      <td>0</td>\n",
       "    </tr>\n",
       "  </tbody>\n",
       "</table>\n",
       "</div>"
      ],
      "text/plain": [
       "   First_pokemon  Second_pokemon  Winner\n",
       "0            266             298       1\n",
       "1            702             701       1\n",
       "2            191             668       1\n",
       "3            237             683       1\n",
       "4            151             231       0"
      ]
     },
     "execution_count": 70,
     "metadata": {},
     "output_type": "execute_result"
    }
   ],
   "source": [
    "attr_combats.head()"
   ]
  },
  {
   "cell_type": "code",
   "execution_count": 71,
   "metadata": {
    "collapsed": true
   },
   "outputs": [],
   "source": [
    "#map each battle to pokemon data\n",
    "def stat_connect(data):\n",
    "    data['First_pokemon_stats'] = data.First_pokemon.map(attr_dict)\n",
    "    data['Second_pokemon_stats'] = data.Second_pokemon.map(attr_dict)\n",
    "    \n",
    "    return data"
   ]
  },
  {
   "cell_type": "code",
   "execution_count": 72,
   "metadata": {
    "collapsed": true
   },
   "outputs": [],
   "source": [
    "#calculate stat difference of two pokemons\n",
    "def stat_diff(data):\n",
    "    attr_diff_col = ['HP_diff', 'Atk_diff', 'Def_diff', 'SpAtk_diff', 'SpDef_diff', 'Speed_diff', 'Legend_diff', 'Mega_diff']\n",
    "    attr_diff = []\n",
    "    for row in data.itertuples():\n",
    "        attr_diff.append(np.array(row.First_pokemon_stats) - np.array(row.Second_pokemon_stats))\n",
    "        \n",
    "    attr_df = pd.DataFrame(attr_diff, columns=attr_diff_col)\n",
    "    data = pd.concat([data, attr_df], axis=1)\n",
    "    data.drop(['First_pokemon_stats', 'Second_pokemon_stats'], axis=1, inplace=True)\n",
    "    return data"
   ]
  },
  {
   "cell_type": "code",
   "execution_count": 73,
   "metadata": {},
   "outputs": [
    {
     "data": {
      "text/html": [
       "<div>\n",
       "<style>\n",
       "    .dataframe thead tr:only-child th {\n",
       "        text-align: right;\n",
       "    }\n",
       "\n",
       "    .dataframe thead th {\n",
       "        text-align: left;\n",
       "    }\n",
       "\n",
       "    .dataframe tbody tr th {\n",
       "        vertical-align: top;\n",
       "    }\n",
       "</style>\n",
       "<table border=\"1\" class=\"dataframe\">\n",
       "  <thead>\n",
       "    <tr style=\"text-align: right;\">\n",
       "      <th></th>\n",
       "      <th>Winner</th>\n",
       "      <th>HP_diff</th>\n",
       "      <th>Atk_diff</th>\n",
       "      <th>Def_diff</th>\n",
       "      <th>SpAtk_diff</th>\n",
       "      <th>SpDef_diff</th>\n",
       "      <th>Speed_diff</th>\n",
       "      <th>Legend_diff</th>\n",
       "      <th>Mega_diff</th>\n",
       "    </tr>\n",
       "  </thead>\n",
       "  <tbody>\n",
       "    <tr>\n",
       "      <th>0</th>\n",
       "      <td>1</td>\n",
       "      <td>-20</td>\n",
       "      <td>-6</td>\n",
       "      <td>10</td>\n",
       "      <td>-15</td>\n",
       "      <td>10</td>\n",
       "      <td>-19</td>\n",
       "      <td>0</td>\n",
       "      <td>0</td>\n",
       "    </tr>\n",
       "    <tr>\n",
       "      <th>1</th>\n",
       "      <td>1</td>\n",
       "      <td>0</td>\n",
       "      <td>-39</td>\n",
       "      <td>-18</td>\n",
       "      <td>18</td>\n",
       "      <td>39</td>\n",
       "      <td>0</td>\n",
       "      <td>0</td>\n",
       "      <td>0</td>\n",
       "    </tr>\n",
       "    <tr>\n",
       "      <th>2</th>\n",
       "      <td>1</td>\n",
       "      <td>-20</td>\n",
       "      <td>-35</td>\n",
       "      <td>10</td>\n",
       "      <td>-45</td>\n",
       "      <td>10</td>\n",
       "      <td>0</td>\n",
       "      <td>0</td>\n",
       "      <td>0</td>\n",
       "    </tr>\n",
       "    <tr>\n",
       "      <th>3</th>\n",
       "      <td>1</td>\n",
       "      <td>-37</td>\n",
       "      <td>-80</td>\n",
       "      <td>-50</td>\n",
       "      <td>10</td>\n",
       "      <td>-50</td>\n",
       "      <td>-28</td>\n",
       "      <td>0</td>\n",
       "      <td>0</td>\n",
       "    </tr>\n",
       "    <tr>\n",
       "      <th>4</th>\n",
       "      <td>0</td>\n",
       "      <td>50</td>\n",
       "      <td>50</td>\n",
       "      <td>-105</td>\n",
       "      <td>105</td>\n",
       "      <td>-160</td>\n",
       "      <td>50</td>\n",
       "      <td>0</td>\n",
       "      <td>0</td>\n",
       "    </tr>\n",
       "  </tbody>\n",
       "</table>\n",
       "</div>"
      ],
      "text/plain": [
       "   Winner  HP_diff  Atk_diff  Def_diff  SpAtk_diff  SpDef_diff  Speed_diff  \\\n",
       "0       1      -20        -6        10         -15          10         -19   \n",
       "1       1        0       -39       -18          18          39           0   \n",
       "2       1      -20       -35        10         -45          10           0   \n",
       "3       1      -37       -80       -50          10         -50         -28   \n",
       "4       0       50        50      -105         105        -160          50   \n",
       "\n",
       "   Legend_diff  Mega_diff  \n",
       "0            0          0  \n",
       "1            0          0  \n",
       "2            0          0  \n",
       "3            0          0  \n",
       "4            0          0  "
      ]
     },
     "execution_count": 73,
     "metadata": {},
     "output_type": "execute_result"
    }
   ],
   "source": [
    "#map the battle to pokemons data\n",
    "try:\n",
    "    attr_df = stat_connect(attr_combats)\n",
    "except TypeError:\n",
    "    pass\n",
    "\n",
    "#calculate difference\n",
    "attr_new_df = stat_diff(attr_df)\n",
    "attr_new_df = attr_new_df.drop(['First_pokemon', 'Second_pokemon'], axis=1)\n",
    "attr_new_df.head()"
   ]
  },
  {
   "cell_type": "markdown",
   "metadata": {},
   "source": [
    "### Preprocess Clustering Result"
   ]
  },
  {
   "cell_type": "code",
   "execution_count": 74,
   "metadata": {},
   "outputs": [
    {
     "data": {
      "text/html": [
       "<div>\n",
       "<style>\n",
       "    .dataframe thead tr:only-child th {\n",
       "        text-align: right;\n",
       "    }\n",
       "\n",
       "    .dataframe thead th {\n",
       "        text-align: left;\n",
       "    }\n",
       "\n",
       "    .dataframe tbody tr th {\n",
       "        vertical-align: top;\n",
       "    }\n",
       "</style>\n",
       "<table border=\"1\" class=\"dataframe\">\n",
       "  <thead>\n",
       "    <tr style=\"text-align: right;\">\n",
       "      <th></th>\n",
       "      <th>#</th>\n",
       "      <th>klabel</th>\n",
       "    </tr>\n",
       "  </thead>\n",
       "  <tbody>\n",
       "    <tr>\n",
       "      <th>0</th>\n",
       "      <td>1</td>\n",
       "      <td>0</td>\n",
       "    </tr>\n",
       "    <tr>\n",
       "      <th>1</th>\n",
       "      <td>2</td>\n",
       "      <td>2</td>\n",
       "    </tr>\n",
       "    <tr>\n",
       "      <th>2</th>\n",
       "      <td>3</td>\n",
       "      <td>3</td>\n",
       "    </tr>\n",
       "    <tr>\n",
       "      <th>3</th>\n",
       "      <td>4</td>\n",
       "      <td>1</td>\n",
       "    </tr>\n",
       "    <tr>\n",
       "      <th>4</th>\n",
       "      <td>5</td>\n",
       "      <td>0</td>\n",
       "    </tr>\n",
       "  </tbody>\n",
       "</table>\n",
       "</div>"
      ],
      "text/plain": [
       "   #  klabel\n",
       "0  1       0\n",
       "1  2       2\n",
       "2  3       3\n",
       "3  4       1\n",
       "4  5       0"
      ]
     },
     "execution_count": 74,
     "metadata": {},
     "output_type": "execute_result"
    }
   ],
   "source": [
    "klabel_df = KmeansPoke.loc[:,['#','klabel']]\n",
    "klabel_df.head()"
   ]
  },
  {
   "cell_type": "code",
   "execution_count": 75,
   "metadata": {
    "collapsed": true
   },
   "outputs": [],
   "source": [
    "klabel_dict = dict(zip(KmeansPoke['#'], KmeansPoke['klabel']))"
   ]
  },
  {
   "cell_type": "code",
   "execution_count": 76,
   "metadata": {
    "collapsed": true
   },
   "outputs": [],
   "source": [
    "def klabel_connect(data):\n",
    "    data['P1_klabel'] = data.First_pokemon.map(klabel_dict)\n",
    "    data['P2_klabel'] = data.Second_pokemon.map(klabel_dict)   \n",
    "    return data"
   ]
  },
  {
   "cell_type": "code",
   "execution_count": 77,
   "metadata": {
    "collapsed": true
   },
   "outputs": [],
   "source": [
    "klabel_combats = combats.copy()\n",
    "klabel_combats['Winner'] = np.where(klabel_combats['Winner'] == combats['First_pokemon'], 0, 1)"
   ]
  },
  {
   "cell_type": "code",
   "execution_count": 78,
   "metadata": {
    "collapsed": true
   },
   "outputs": [],
   "source": [
    "try:\n",
    "    klabel_df = klabel_connect(klabel_combats)\n",
    "except TypeError:\n",
    "    pass"
   ]
  },
  {
   "cell_type": "code",
   "execution_count": 79,
   "metadata": {},
   "outputs": [
    {
     "data": {
      "text/html": [
       "<div>\n",
       "<style>\n",
       "    .dataframe thead tr:only-child th {\n",
       "        text-align: right;\n",
       "    }\n",
       "\n",
       "    .dataframe thead th {\n",
       "        text-align: left;\n",
       "    }\n",
       "\n",
       "    .dataframe tbody tr th {\n",
       "        vertical-align: top;\n",
       "    }\n",
       "</style>\n",
       "<table border=\"1\" class=\"dataframe\">\n",
       "  <thead>\n",
       "    <tr style=\"text-align: right;\">\n",
       "      <th></th>\n",
       "      <th>Winner</th>\n",
       "      <th>P1_klabel</th>\n",
       "      <th>P2_klabel</th>\n",
       "    </tr>\n",
       "  </thead>\n",
       "  <tbody>\n",
       "    <tr>\n",
       "      <th>0</th>\n",
       "      <td>1</td>\n",
       "      <td>0</td>\n",
       "      <td>0</td>\n",
       "    </tr>\n",
       "    <tr>\n",
       "      <th>1</th>\n",
       "      <td>1</td>\n",
       "      <td>1</td>\n",
       "      <td>1</td>\n",
       "    </tr>\n",
       "    <tr>\n",
       "      <th>2</th>\n",
       "      <td>1</td>\n",
       "      <td>3</td>\n",
       "      <td>3</td>\n",
       "    </tr>\n",
       "    <tr>\n",
       "      <th>3</th>\n",
       "      <td>1</td>\n",
       "      <td>0</td>\n",
       "      <td>3</td>\n",
       "    </tr>\n",
       "    <tr>\n",
       "      <th>4</th>\n",
       "      <td>0</td>\n",
       "      <td>3</td>\n",
       "      <td>3</td>\n",
       "    </tr>\n",
       "  </tbody>\n",
       "</table>\n",
       "</div>"
      ],
      "text/plain": [
       "   Winner  P1_klabel  P2_klabel\n",
       "0       1          0          0\n",
       "1       1          1          1\n",
       "2       1          3          3\n",
       "3       1          0          3\n",
       "4       0          3          3"
      ]
     },
     "execution_count": 79,
     "metadata": {},
     "output_type": "execute_result"
    }
   ],
   "source": [
    "klabel_new_df = klabel_df.drop(['First_pokemon', 'Second_pokemon'], axis=1)\n",
    "klabel_new_df.head()"
   ]
  },
  {
   "cell_type": "markdown",
   "metadata": {},
   "source": [
    "## Data Training only with Base Stats"
   ]
  },
  {
   "cell_type": "code",
   "execution_count": 80,
   "metadata": {
    "collapsed": true
   },
   "outputs": [],
   "source": [
    "from sklearn.model_selection import train_test_split\n",
    "from sklearn.model_selection import GridSearchCV\n",
    "from sklearn.metrics import accuracy_score, roc_auc_score\n",
    "from sklearn.linear_model import LogisticRegression\n",
    "from sklearn.naive_bayes import GaussianNB\n",
    "from sklearn.ensemble import RandomForestClassifier, AdaBoostClassifier, GradientBoostingClassifier\n",
    "from sklearn.neighbors import KNeighborsClassifier\n",
    "from sklearn.svm import LinearSVC\n",
    "from sklearn.tree import DecisionTreeClassifier"
   ]
  },
  {
   "cell_type": "code",
   "execution_count": 81,
   "metadata": {
    "collapsed": true
   },
   "outputs": [],
   "source": [
    "y_combats = attr_new_df['Winner'] #train target (with winner)\n",
    "X_combats = attr_new_df.drop('Winner', axis=1) #train data"
   ]
  },
  {
   "cell_type": "markdown",
   "metadata": {},
   "source": [
    "### Training Set : Testing Set = 0.75 : 0.25"
   ]
  },
  {
   "cell_type": "code",
   "execution_count": 82,
   "metadata": {
    "collapsed": true
   },
   "outputs": [],
   "source": [
    "train_X25, test_X25, train_y25, test_y25 = train_test_split(X_combats, y_combats, test_size = 0.25, random_state=10)"
   ]
  },
  {
   "cell_type": "code",
   "execution_count": 83,
   "metadata": {
    "collapsed": true
   },
   "outputs": [],
   "source": [
    "clf_dict = {'log reg': LogisticRegression(), \n",
    "            'naive bayes': GaussianNB(), \n",
    "            'knn': KNeighborsClassifier(),\n",
    "            'linear svc': LinearSVC(),\n",
    "            'ada boost': AdaBoostClassifier(n_estimators=100),\n",
    "            'gradient boosting': GradientBoostingClassifier(n_estimators=100),\n",
    "            'CART': DecisionTreeClassifier(),\n",
    "            'random forest': RandomForestClassifier(n_estimators=100)}"
   ]
  },
  {
   "cell_type": "code",
   "execution_count": 84,
   "metadata": {
    "scrolled": true
   },
   "outputs": [
    {
     "name": "stdout",
     "output_type": "stream",
     "text": [
      "Accuracy of log reg: 0.8956\n",
      "Accuracy of naive bayes: 0.80672\n",
      "Accuracy of knn: 0.90504\n",
      "Accuracy of linear svc: 0.7628\n",
      "Accuracy of ada boost: 0.94312\n",
      "Accuracy of gradient boosting: 0.94728\n",
      "Accuracy of CART: 0.91216\n",
      "Accuracy of random forest: 0.95256\n"
     ]
    }
   ],
   "source": [
    "for name, clf25 in clf_dict.items():\n",
    "    model = clf25.fit(train_X25, train_y25)\n",
    "    predict = model.predict(test_X25)\n",
    "    print('Accuracy of {}:'.format(name), accuracy_score(predict, test_y25))"
   ]
  },
  {
   "cell_type": "markdown",
   "metadata": {},
   "source": [
    "### Training Set : Testing Set = 0.5 : 0.5"
   ]
  },
  {
   "cell_type": "code",
   "execution_count": 85,
   "metadata": {
    "collapsed": true
   },
   "outputs": [],
   "source": [
    "train_X50, test_X50, train_y50, test_y50 = train_test_split(X_combats, y_combats, test_size = 0.5, random_state=10)"
   ]
  },
  {
   "cell_type": "code",
   "execution_count": 86,
   "metadata": {},
   "outputs": [
    {
     "name": "stdout",
     "output_type": "stream",
     "text": [
      "Accuracy of log reg: 0.8926\n",
      "Accuracy of naive bayes: 0.80952\n",
      "Accuracy of knn: 0.90132\n",
      "Accuracy of linear svc: 0.79184\n",
      "Accuracy of ada boost: 0.94184\n",
      "Accuracy of gradient boosting: 0.947\n",
      "Accuracy of CART: 0.90712\n",
      "Accuracy of random forest: 0.9492\n"
     ]
    }
   ],
   "source": [
    "for name, clf in clf_dict.items():\n",
    "    model = clf.fit(train_X50, train_y50)\n",
    "    predict = model.predict(test_X50)\n",
    "    print('Accuracy of {}:'.format(name), accuracy_score(predict, test_y50))"
   ]
  },
  {
   "cell_type": "markdown",
   "metadata": {},
   "source": [
    "### Training Set : Testing Set = 0.25 : 0.75"
   ]
  },
  {
   "cell_type": "code",
   "execution_count": 87,
   "metadata": {
    "collapsed": true
   },
   "outputs": [],
   "source": [
    "train_X75, test_X75, train_y75, test_y75 = train_test_split(X_combats, y_combats, test_size = 0.75, random_state=10)"
   ]
  },
  {
   "cell_type": "code",
   "execution_count": 88,
   "metadata": {},
   "outputs": [
    {
     "name": "stdout",
     "output_type": "stream",
     "text": [
      "Accuracy of log reg: 0.894186666667\n",
      "Accuracy of naive bayes: 0.811546666667\n",
      "Accuracy of knn: 0.889413333333\n",
      "Accuracy of linear svc: 0.845946666667\n",
      "Accuracy of ada boost: 0.93984\n",
      "Accuracy of gradient boosting: 0.94424\n",
      "Accuracy of CART: 0.904426666667\n",
      "Accuracy of random forest: 0.944666666667\n"
     ]
    }
   ],
   "source": [
    "for name, clf in clf_dict.items():\n",
    "    model = clf.fit(train_X75, train_y75)\n",
    "    predict = model.predict(test_X75)\n",
    "    print('Accuracy of {}:'.format(name), accuracy_score(predict, test_y75))"
   ]
  },
  {
   "cell_type": "markdown",
   "metadata": {},
   "source": [
    "According to the results, random forest model (75:25 - 95.248%) seems like the best model for this dataset. Apart from random forest, ada boost, gradient boosting, and decision tree classifier all has high accuracy too."
   ]
  },
  {
   "cell_type": "markdown",
   "metadata": {},
   "source": [
    "- print the training time of each training model\n",
    "- how to improve the training time"
   ]
  },
  {
   "cell_type": "markdown",
   "metadata": {},
   "source": [
    "## Data Training only with Kmeans Clustering Result"
   ]
  },
  {
   "cell_type": "code",
   "execution_count": 89,
   "metadata": {
    "collapsed": true
   },
   "outputs": [],
   "source": [
    "y_combat_clus = klabel_new_df['Winner'] #train target (with winner)\n",
    "X_combat_clus = klabel_new_df.drop('Winner', axis=1) #train data"
   ]
  },
  {
   "cell_type": "code",
   "execution_count": 90,
   "metadata": {
    "collapsed": true
   },
   "outputs": [],
   "source": [
    "train_X25, test_X25, train_y25, test_y25 = train_test_split(X_combat_clus, y_combat_clus, test_size = 0.25, random_state=10)"
   ]
  },
  {
   "cell_type": "code",
   "execution_count": 91,
   "metadata": {
    "scrolled": false
   },
   "outputs": [
    {
     "name": "stdout",
     "output_type": "stream",
     "text": [
      "Accuracy of log reg: 0.56472\n",
      "Accuracy of naive bayes: 0.68272\n",
      "Accuracy of knn: 0.69096\n",
      "Accuracy of linear svc: 0.56472\n",
      "Accuracy of ada boost: 0.72552\n",
      "Accuracy of gradient boosting: 0.72552\n",
      "Accuracy of CART: 0.72552\n",
      "Accuracy of random forest: 0.72552\n"
     ]
    }
   ],
   "source": [
    "for name, clf25c in clf_dict.items():\n",
    "    model = clf25c.fit(train_X25, train_y25)\n",
    "    predict = model.predict(test_X25)\n",
    "    print('Accuracy of {}:'.format(name), accuracy_score(predict, test_y25))"
   ]
  },
  {
   "cell_type": "markdown",
   "metadata": {},
   "source": [
    "## Data Training with Base Stats and Kmeans Clustering Result"
   ]
  },
  {
   "cell_type": "code",
   "execution_count": 92,
   "metadata": {
    "scrolled": true
   },
   "outputs": [
    {
     "data": {
      "text/html": [
       "<div>\n",
       "<style>\n",
       "    .dataframe thead tr:only-child th {\n",
       "        text-align: right;\n",
       "    }\n",
       "\n",
       "    .dataframe thead th {\n",
       "        text-align: left;\n",
       "    }\n",
       "\n",
       "    .dataframe tbody tr th {\n",
       "        vertical-align: top;\n",
       "    }\n",
       "</style>\n",
       "<table border=\"1\" class=\"dataframe\">\n",
       "  <thead>\n",
       "    <tr style=\"text-align: right;\">\n",
       "      <th></th>\n",
       "      <th>Winner</th>\n",
       "      <th>HP_diff</th>\n",
       "      <th>Atk_diff</th>\n",
       "      <th>Def_diff</th>\n",
       "      <th>SpAtk_diff</th>\n",
       "      <th>SpDef_diff</th>\n",
       "      <th>Speed_diff</th>\n",
       "      <th>Legend_diff</th>\n",
       "      <th>Mega_diff</th>\n",
       "      <th>P1_klabel</th>\n",
       "      <th>P2_klabel</th>\n",
       "    </tr>\n",
       "  </thead>\n",
       "  <tbody>\n",
       "    <tr>\n",
       "      <th>0</th>\n",
       "      <td>1</td>\n",
       "      <td>-20</td>\n",
       "      <td>-6</td>\n",
       "      <td>10</td>\n",
       "      <td>-15</td>\n",
       "      <td>10</td>\n",
       "      <td>-19</td>\n",
       "      <td>0</td>\n",
       "      <td>0</td>\n",
       "      <td>0</td>\n",
       "      <td>0</td>\n",
       "    </tr>\n",
       "    <tr>\n",
       "      <th>1</th>\n",
       "      <td>1</td>\n",
       "      <td>0</td>\n",
       "      <td>-39</td>\n",
       "      <td>-18</td>\n",
       "      <td>18</td>\n",
       "      <td>39</td>\n",
       "      <td>0</td>\n",
       "      <td>0</td>\n",
       "      <td>0</td>\n",
       "      <td>1</td>\n",
       "      <td>1</td>\n",
       "    </tr>\n",
       "    <tr>\n",
       "      <th>2</th>\n",
       "      <td>1</td>\n",
       "      <td>-20</td>\n",
       "      <td>-35</td>\n",
       "      <td>10</td>\n",
       "      <td>-45</td>\n",
       "      <td>10</td>\n",
       "      <td>0</td>\n",
       "      <td>0</td>\n",
       "      <td>0</td>\n",
       "      <td>3</td>\n",
       "      <td>3</td>\n",
       "    </tr>\n",
       "    <tr>\n",
       "      <th>3</th>\n",
       "      <td>1</td>\n",
       "      <td>-37</td>\n",
       "      <td>-80</td>\n",
       "      <td>-50</td>\n",
       "      <td>10</td>\n",
       "      <td>-50</td>\n",
       "      <td>-28</td>\n",
       "      <td>0</td>\n",
       "      <td>0</td>\n",
       "      <td>0</td>\n",
       "      <td>3</td>\n",
       "    </tr>\n",
       "    <tr>\n",
       "      <th>4</th>\n",
       "      <td>0</td>\n",
       "      <td>50</td>\n",
       "      <td>50</td>\n",
       "      <td>-105</td>\n",
       "      <td>105</td>\n",
       "      <td>-160</td>\n",
       "      <td>50</td>\n",
       "      <td>0</td>\n",
       "      <td>0</td>\n",
       "      <td>3</td>\n",
       "      <td>3</td>\n",
       "    </tr>\n",
       "  </tbody>\n",
       "</table>\n",
       "</div>"
      ],
      "text/plain": [
       "   Winner  HP_diff  Atk_diff  Def_diff  SpAtk_diff  SpDef_diff  Speed_diff  \\\n",
       "0       1      -20        -6        10         -15          10         -19   \n",
       "1       1        0       -39       -18          18          39           0   \n",
       "2       1      -20       -35        10         -45          10           0   \n",
       "3       1      -37       -80       -50          10         -50         -28   \n",
       "4       0       50        50      -105         105        -160          50   \n",
       "\n",
       "   Legend_diff  Mega_diff  P1_klabel  P2_klabel  \n",
       "0            0          0          0          0  \n",
       "1            0          0          1          1  \n",
       "2            0          0          3          3  \n",
       "3            0          0          0          3  \n",
       "4            0          0          3          3  "
      ]
     },
     "execution_count": 92,
     "metadata": {},
     "output_type": "execute_result"
    }
   ],
   "source": [
    "klabel_new_df2 = klabel_new_df.drop(['Winner'], axis=1).copy()\n",
    "result = pd.concat([attr_new_df, klabel_new_df2], axis=1)\n",
    "result.head()"
   ]
  },
  {
   "cell_type": "code",
   "execution_count": 93,
   "metadata": {
    "collapsed": true
   },
   "outputs": [],
   "source": [
    "y_combat_result = result['Winner'] #train target (with winner)\n",
    "X_combat_result = result.drop('Winner', axis=1) #train data"
   ]
  },
  {
   "cell_type": "code",
   "execution_count": 94,
   "metadata": {},
   "outputs": [
    {
     "data": {
      "text/html": [
       "<div>\n",
       "<style>\n",
       "    .dataframe thead tr:only-child th {\n",
       "        text-align: right;\n",
       "    }\n",
       "\n",
       "    .dataframe thead th {\n",
       "        text-align: left;\n",
       "    }\n",
       "\n",
       "    .dataframe tbody tr th {\n",
       "        vertical-align: top;\n",
       "    }\n",
       "</style>\n",
       "<table border=\"1\" class=\"dataframe\">\n",
       "  <thead>\n",
       "    <tr style=\"text-align: right;\">\n",
       "      <th></th>\n",
       "      <th>HP_diff</th>\n",
       "      <th>Atk_diff</th>\n",
       "      <th>Def_diff</th>\n",
       "      <th>SpAtk_diff</th>\n",
       "      <th>SpDef_diff</th>\n",
       "      <th>Speed_diff</th>\n",
       "      <th>Legend_diff</th>\n",
       "      <th>Mega_diff</th>\n",
       "      <th>P1_klabel</th>\n",
       "      <th>P2_klabel</th>\n",
       "    </tr>\n",
       "  </thead>\n",
       "  <tbody>\n",
       "    <tr>\n",
       "      <th>0</th>\n",
       "      <td>-20</td>\n",
       "      <td>-6</td>\n",
       "      <td>10</td>\n",
       "      <td>-15</td>\n",
       "      <td>10</td>\n",
       "      <td>-19</td>\n",
       "      <td>0</td>\n",
       "      <td>0</td>\n",
       "      <td>0</td>\n",
       "      <td>0</td>\n",
       "    </tr>\n",
       "    <tr>\n",
       "      <th>1</th>\n",
       "      <td>0</td>\n",
       "      <td>-39</td>\n",
       "      <td>-18</td>\n",
       "      <td>18</td>\n",
       "      <td>39</td>\n",
       "      <td>0</td>\n",
       "      <td>0</td>\n",
       "      <td>0</td>\n",
       "      <td>1</td>\n",
       "      <td>1</td>\n",
       "    </tr>\n",
       "    <tr>\n",
       "      <th>2</th>\n",
       "      <td>-20</td>\n",
       "      <td>-35</td>\n",
       "      <td>10</td>\n",
       "      <td>-45</td>\n",
       "      <td>10</td>\n",
       "      <td>0</td>\n",
       "      <td>0</td>\n",
       "      <td>0</td>\n",
       "      <td>3</td>\n",
       "      <td>3</td>\n",
       "    </tr>\n",
       "    <tr>\n",
       "      <th>3</th>\n",
       "      <td>-37</td>\n",
       "      <td>-80</td>\n",
       "      <td>-50</td>\n",
       "      <td>10</td>\n",
       "      <td>-50</td>\n",
       "      <td>-28</td>\n",
       "      <td>0</td>\n",
       "      <td>0</td>\n",
       "      <td>0</td>\n",
       "      <td>3</td>\n",
       "    </tr>\n",
       "    <tr>\n",
       "      <th>4</th>\n",
       "      <td>50</td>\n",
       "      <td>50</td>\n",
       "      <td>-105</td>\n",
       "      <td>105</td>\n",
       "      <td>-160</td>\n",
       "      <td>50</td>\n",
       "      <td>0</td>\n",
       "      <td>0</td>\n",
       "      <td>3</td>\n",
       "      <td>3</td>\n",
       "    </tr>\n",
       "  </tbody>\n",
       "</table>\n",
       "</div>"
      ],
      "text/plain": [
       "   HP_diff  Atk_diff  Def_diff  SpAtk_diff  SpDef_diff  Speed_diff  \\\n",
       "0      -20        -6        10         -15          10         -19   \n",
       "1        0       -39       -18          18          39           0   \n",
       "2      -20       -35        10         -45          10           0   \n",
       "3      -37       -80       -50          10         -50         -28   \n",
       "4       50        50      -105         105        -160          50   \n",
       "\n",
       "   Legend_diff  Mega_diff  P1_klabel  P2_klabel  \n",
       "0            0          0          0          0  \n",
       "1            0          0          1          1  \n",
       "2            0          0          3          3  \n",
       "3            0          0          0          3  \n",
       "4            0          0          3          3  "
      ]
     },
     "execution_count": 94,
     "metadata": {},
     "output_type": "execute_result"
    }
   ],
   "source": [
    "X_combat_result.head()"
   ]
  },
  {
   "cell_type": "code",
   "execution_count": 95,
   "metadata": {
    "collapsed": true
   },
   "outputs": [],
   "source": [
    "train_X25, test_X25, train_y25, test_y25 = train_test_split(X_combat_result, y_combat_result, test_size = 0.25, random_state=10)"
   ]
  },
  {
   "cell_type": "code",
   "execution_count": 96,
   "metadata": {
    "scrolled": true
   },
   "outputs": [
    {
     "name": "stdout",
     "output_type": "stream",
     "text": [
      "Accuracy of log reg: 0.8948\n",
      "Accuracy of naive bayes: 0.80512\n",
      "Accuracy of knn: 0.9056\n",
      "Accuracy of linear svc: 0.7744\n",
      "Accuracy of ada boost: 0.9432\n",
      "Accuracy of gradient boosting: 0.95064\n",
      "Accuracy of CART: 0.9136\n",
      "Accuracy of random forest: 0.95416\n"
     ]
    }
   ],
   "source": [
    "for name, clf25 in clf_dict.items():\n",
    "    model = clf25.fit(train_X25, train_y25)\n",
    "    predict = model.predict(test_X25)\n",
    "    print('Accuracy of {}:'.format(name), accuracy_score(predict, test_y25))"
   ]
  },
  {
   "cell_type": "code",
   "execution_count": 97,
   "metadata": {},
   "outputs": [
    {
     "name": "stdout",
     "output_type": "stream",
     "text": [
      "HP_diff: 3.59%\n",
      "Atk_diff: 7.24%\n",
      "Def_diff: 3.35%\n",
      "SpAtk_diff: 5.44%\n",
      "SpDef_diff: 3.56%\n",
      "Speed_diff: 69.79%\n",
      "Legend_diff: 0.42%\n",
      "Mega_diff: 0.32%\n",
      "P1_klabel: 3.67%\n",
      "P2_klabel: 2.62%\n"
     ]
    }
   ],
   "source": [
    "for i in range(clf25.n_features_):\n",
    "    result_feature_column = X_combat_result.columns[i]\n",
    "    feature_importance = clf25.feature_importances_[i]\n",
    "    print('%s: %s' % (result_feature_column, \"{:.2%}\".format(feature_importance)))"
   ]
  },
  {
   "cell_type": "code",
   "execution_count": 98,
   "metadata": {},
   "outputs": [
    {
     "data": {
      "image/png": "[encoded data removed]",
      "text/plain": [
       "<matplotlib.figure.Figure at 0x1a1f0db898>"
      ]
     },
     "metadata": {},
     "output_type": "display_data"
    }
   ],
   "source": [
    "#feature importance of decision tree (CART)\n",
    "colors = plt.cm.Paired(np.linspace(0, 1, 1))\n",
    "x = X_combat_result.columns\n",
    "y = clf25.feature_importances_\n",
    "\n",
    "plt.figure(figsize=(18,7))\n",
    "plt.bar(x, y, width=0.4, color=colors)\n",
    "plt.ylabel('Percentage')\n",
    "plt.title('Feature Importance of test set')\n",
    "plt.show()"
   ]
  },
  {
   "cell_type": "markdown",
   "metadata": {},
   "source": [
    "After adding the clustering labels to the training set, the prediction accuracy slightly increased for most of the training models. As we can see, random forest seems to be the best model for training thies dataset. Next step, we would like to add <b>Type</b> into the training set, to see how it will influence the training."
   ]
  },
  {
   "cell_type": "markdown",
   "metadata": {},
   "source": [
    "-------------"
   ]
  },
  {
   "cell_type": "markdown",
   "metadata": {},
   "source": [
    "# Type / First Attack Analysis"
   ]
  },
  {
   "cell_type": "markdown",
   "metadata": {},
   "source": [
    "Add type analysis to see the prediction result\n",
    "- type advantage winning rate\n",
    "- first attacker winning rate"
   ]
  },
  {
   "cell_type": "code",
   "execution_count": 99,
   "metadata": {
    "collapsed": true
   },
   "outputs": [],
   "source": [
    "type_chart = pd.read_csv(\"/Users/gillianchiang/Desktop/Course/year4_sem2/COMP4912/Data/pokemon-challenge/poke_type_chart.csv\")"
   ]
  },
  {
   "cell_type": "code",
   "execution_count": 100,
   "metadata": {},
   "outputs": [
    {
     "data": {
      "text/html": [
       "<div>\n",
       "<style>\n",
       "    .dataframe thead tr:only-child th {\n",
       "        text-align: right;\n",
       "    }\n",
       "\n",
       "    .dataframe thead th {\n",
       "        text-align: left;\n",
       "    }\n",
       "\n",
       "    .dataframe tbody tr th {\n",
       "        vertical-align: top;\n",
       "    }\n",
       "</style>\n",
       "<table border=\"1\" class=\"dataframe\">\n",
       "  <thead>\n",
       "    <tr style=\"text-align: right;\">\n",
       "      <th></th>\n",
       "      <th>Attacking</th>\n",
       "      <th>Normal</th>\n",
       "      <th>Fire</th>\n",
       "      <th>Water</th>\n",
       "      <th>Electric</th>\n",
       "      <th>Grass</th>\n",
       "      <th>Ice</th>\n",
       "      <th>Fighting</th>\n",
       "      <th>Poison</th>\n",
       "      <th>Ground</th>\n",
       "      <th>Flying</th>\n",
       "      <th>Psychic</th>\n",
       "      <th>Bug</th>\n",
       "      <th>Rock</th>\n",
       "      <th>Ghost</th>\n",
       "      <th>Dragon</th>\n",
       "      <th>Dark</th>\n",
       "      <th>Steel</th>\n",
       "      <th>Fairy</th>\n",
       "    </tr>\n",
       "  </thead>\n",
       "  <tbody>\n",
       "    <tr>\n",
       "      <th>0</th>\n",
       "      <td>Normal</td>\n",
       "      <td>1</td>\n",
       "      <td>1.0</td>\n",
       "      <td>1.0</td>\n",
       "      <td>1.0</td>\n",
       "      <td>1.0</td>\n",
       "      <td>1.0</td>\n",
       "      <td>1.0</td>\n",
       "      <td>1.0</td>\n",
       "      <td>1.0</td>\n",
       "      <td>1.0</td>\n",
       "      <td>1.0</td>\n",
       "      <td>1.0</td>\n",
       "      <td>0.5</td>\n",
       "      <td>0.0</td>\n",
       "      <td>1.0</td>\n",
       "      <td>1.0</td>\n",
       "      <td>0.5</td>\n",
       "      <td>1.0</td>\n",
       "    </tr>\n",
       "    <tr>\n",
       "      <th>1</th>\n",
       "      <td>Fire</td>\n",
       "      <td>1</td>\n",
       "      <td>0.5</td>\n",
       "      <td>0.5</td>\n",
       "      <td>1.0</td>\n",
       "      <td>2.0</td>\n",
       "      <td>2.0</td>\n",
       "      <td>1.0</td>\n",
       "      <td>1.0</td>\n",
       "      <td>1.0</td>\n",
       "      <td>1.0</td>\n",
       "      <td>1.0</td>\n",
       "      <td>2.0</td>\n",
       "      <td>0.5</td>\n",
       "      <td>1.0</td>\n",
       "      <td>0.5</td>\n",
       "      <td>1.0</td>\n",
       "      <td>2.0</td>\n",
       "      <td>1.0</td>\n",
       "    </tr>\n",
       "    <tr>\n",
       "      <th>2</th>\n",
       "      <td>Water</td>\n",
       "      <td>1</td>\n",
       "      <td>2.0</td>\n",
       "      <td>0.5</td>\n",
       "      <td>1.0</td>\n",
       "      <td>0.5</td>\n",
       "      <td>1.0</td>\n",
       "      <td>1.0</td>\n",
       "      <td>1.0</td>\n",
       "      <td>2.0</td>\n",
       "      <td>1.0</td>\n",
       "      <td>1.0</td>\n",
       "      <td>1.0</td>\n",
       "      <td>2.0</td>\n",
       "      <td>1.0</td>\n",
       "      <td>0.5</td>\n",
       "      <td>1.0</td>\n",
       "      <td>1.0</td>\n",
       "      <td>1.0</td>\n",
       "    </tr>\n",
       "    <tr>\n",
       "      <th>3</th>\n",
       "      <td>Electric</td>\n",
       "      <td>1</td>\n",
       "      <td>1.0</td>\n",
       "      <td>2.0</td>\n",
       "      <td>0.5</td>\n",
       "      <td>0.5</td>\n",
       "      <td>1.0</td>\n",
       "      <td>1.0</td>\n",
       "      <td>1.0</td>\n",
       "      <td>0.0</td>\n",
       "      <td>2.0</td>\n",
       "      <td>1.0</td>\n",
       "      <td>1.0</td>\n",
       "      <td>1.0</td>\n",
       "      <td>1.0</td>\n",
       "      <td>0.5</td>\n",
       "      <td>1.0</td>\n",
       "      <td>1.0</td>\n",
       "      <td>1.0</td>\n",
       "    </tr>\n",
       "    <tr>\n",
       "      <th>4</th>\n",
       "      <td>Grass</td>\n",
       "      <td>1</td>\n",
       "      <td>0.5</td>\n",
       "      <td>2.0</td>\n",
       "      <td>1.0</td>\n",
       "      <td>0.5</td>\n",
       "      <td>1.0</td>\n",
       "      <td>1.0</td>\n",
       "      <td>0.5</td>\n",
       "      <td>2.0</td>\n",
       "      <td>0.5</td>\n",
       "      <td>1.0</td>\n",
       "      <td>0.5</td>\n",
       "      <td>2.0</td>\n",
       "      <td>1.0</td>\n",
       "      <td>0.5</td>\n",
       "      <td>1.0</td>\n",
       "      <td>0.5</td>\n",
       "      <td>1.0</td>\n",
       "    </tr>\n",
       "    <tr>\n",
       "      <th>5</th>\n",
       "      <td>Ice</td>\n",
       "      <td>1</td>\n",
       "      <td>0.5</td>\n",
       "      <td>0.5</td>\n",
       "      <td>1.0</td>\n",
       "      <td>2.0</td>\n",
       "      <td>0.5</td>\n",
       "      <td>1.0</td>\n",
       "      <td>1.0</td>\n",
       "      <td>2.0</td>\n",
       "      <td>2.0</td>\n",
       "      <td>1.0</td>\n",
       "      <td>1.0</td>\n",
       "      <td>1.0</td>\n",
       "      <td>1.0</td>\n",
       "      <td>2.0</td>\n",
       "      <td>1.0</td>\n",
       "      <td>0.5</td>\n",
       "      <td>1.0</td>\n",
       "    </tr>\n",
       "    <tr>\n",
       "      <th>6</th>\n",
       "      <td>Fighting</td>\n",
       "      <td>2</td>\n",
       "      <td>1.0</td>\n",
       "      <td>1.0</td>\n",
       "      <td>1.0</td>\n",
       "      <td>1.0</td>\n",
       "      <td>2.0</td>\n",
       "      <td>1.0</td>\n",
       "      <td>0.5</td>\n",
       "      <td>1.0</td>\n",
       "      <td>0.5</td>\n",
       "      <td>0.5</td>\n",
       "      <td>0.5</td>\n",
       "      <td>2.0</td>\n",
       "      <td>0.0</td>\n",
       "      <td>1.0</td>\n",
       "      <td>2.0</td>\n",
       "      <td>2.0</td>\n",
       "      <td>0.5</td>\n",
       "    </tr>\n",
       "    <tr>\n",
       "      <th>7</th>\n",
       "      <td>Poison</td>\n",
       "      <td>1</td>\n",
       "      <td>1.0</td>\n",
       "      <td>1.0</td>\n",
       "      <td>1.0</td>\n",
       "      <td>2.0</td>\n",
       "      <td>1.0</td>\n",
       "      <td>1.0</td>\n",
       "      <td>0.5</td>\n",
       "      <td>0.5</td>\n",
       "      <td>1.0</td>\n",
       "      <td>1.0</td>\n",
       "      <td>1.0</td>\n",
       "      <td>0.5</td>\n",
       "      <td>0.5</td>\n",
       "      <td>1.0</td>\n",
       "      <td>1.0</td>\n",
       "      <td>0.0</td>\n",
       "      <td>2.0</td>\n",
       "    </tr>\n",
       "    <tr>\n",
       "      <th>8</th>\n",
       "      <td>Ground</td>\n",
       "      <td>1</td>\n",
       "      <td>2.0</td>\n",
       "      <td>1.0</td>\n",
       "      <td>2.0</td>\n",
       "      <td>0.5</td>\n",
       "      <td>1.0</td>\n",
       "      <td>1.0</td>\n",
       "      <td>2.0</td>\n",
       "      <td>1.0</td>\n",
       "      <td>0.0</td>\n",
       "      <td>1.0</td>\n",
       "      <td>0.5</td>\n",
       "      <td>2.0</td>\n",
       "      <td>1.0</td>\n",
       "      <td>1.0</td>\n",
       "      <td>1.0</td>\n",
       "      <td>2.0</td>\n",
       "      <td>1.0</td>\n",
       "    </tr>\n",
       "    <tr>\n",
       "      <th>9</th>\n",
       "      <td>Flying</td>\n",
       "      <td>1</td>\n",
       "      <td>1.0</td>\n",
       "      <td>1.0</td>\n",
       "      <td>0.5</td>\n",
       "      <td>2.0</td>\n",
       "      <td>1.0</td>\n",
       "      <td>2.0</td>\n",
       "      <td>1.0</td>\n",
       "      <td>1.0</td>\n",
       "      <td>1.0</td>\n",
       "      <td>1.0</td>\n",
       "      <td>2.0</td>\n",
       "      <td>0.5</td>\n",
       "      <td>1.0</td>\n",
       "      <td>1.0</td>\n",
       "      <td>1.0</td>\n",
       "      <td>0.5</td>\n",
       "      <td>1.0</td>\n",
       "    </tr>\n",
       "    <tr>\n",
       "      <th>10</th>\n",
       "      <td>Psychic</td>\n",
       "      <td>1</td>\n",
       "      <td>1.0</td>\n",
       "      <td>1.0</td>\n",
       "      <td>1.0</td>\n",
       "      <td>1.0</td>\n",
       "      <td>1.0</td>\n",
       "      <td>2.0</td>\n",
       "      <td>2.0</td>\n",
       "      <td>1.0</td>\n",
       "      <td>1.0</td>\n",
       "      <td>0.5</td>\n",
       "      <td>1.0</td>\n",
       "      <td>1.0</td>\n",
       "      <td>1.0</td>\n",
       "      <td>1.0</td>\n",
       "      <td>0.0</td>\n",
       "      <td>0.5</td>\n",
       "      <td>1.0</td>\n",
       "    </tr>\n",
       "    <tr>\n",
       "      <th>11</th>\n",
       "      <td>Bug</td>\n",
       "      <td>1</td>\n",
       "      <td>0.5</td>\n",
       "      <td>1.0</td>\n",
       "      <td>1.0</td>\n",
       "      <td>2.0</td>\n",
       "      <td>1.0</td>\n",
       "      <td>0.5</td>\n",
       "      <td>0.5</td>\n",
       "      <td>1.0</td>\n",
       "      <td>0.5</td>\n",
       "      <td>2.0</td>\n",
       "      <td>1.0</td>\n",
       "      <td>1.0</td>\n",
       "      <td>0.5</td>\n",
       "      <td>1.0</td>\n",
       "      <td>2.0</td>\n",
       "      <td>0.5</td>\n",
       "      <td>0.5</td>\n",
       "    </tr>\n",
       "    <tr>\n",
       "      <th>12</th>\n",
       "      <td>Rock</td>\n",
       "      <td>1</td>\n",
       "      <td>2.0</td>\n",
       "      <td>1.0</td>\n",
       "      <td>1.0</td>\n",
       "      <td>1.0</td>\n",
       "      <td>2.0</td>\n",
       "      <td>0.5</td>\n",
       "      <td>1.0</td>\n",
       "      <td>0.5</td>\n",
       "      <td>2.0</td>\n",
       "      <td>1.0</td>\n",
       "      <td>2.0</td>\n",
       "      <td>1.0</td>\n",
       "      <td>1.0</td>\n",
       "      <td>1.0</td>\n",
       "      <td>1.0</td>\n",
       "      <td>0.5</td>\n",
       "      <td>1.0</td>\n",
       "    </tr>\n",
       "    <tr>\n",
       "      <th>13</th>\n",
       "      <td>Ghost</td>\n",
       "      <td>0</td>\n",
       "      <td>1.0</td>\n",
       "      <td>1.0</td>\n",
       "      <td>1.0</td>\n",
       "      <td>1.0</td>\n",
       "      <td>1.0</td>\n",
       "      <td>1.0</td>\n",
       "      <td>1.0</td>\n",
       "      <td>1.0</td>\n",
       "      <td>1.0</td>\n",
       "      <td>2.0</td>\n",
       "      <td>1.0</td>\n",
       "      <td>1.0</td>\n",
       "      <td>2.0</td>\n",
       "      <td>1.0</td>\n",
       "      <td>0.5</td>\n",
       "      <td>1.0</td>\n",
       "      <td>1.0</td>\n",
       "    </tr>\n",
       "    <tr>\n",
       "      <th>14</th>\n",
       "      <td>Dragon</td>\n",
       "      <td>1</td>\n",
       "      <td>1.0</td>\n",
       "      <td>1.0</td>\n",
       "      <td>1.0</td>\n",
       "      <td>1.0</td>\n",
       "      <td>1.0</td>\n",
       "      <td>1.0</td>\n",
       "      <td>1.0</td>\n",
       "      <td>1.0</td>\n",
       "      <td>1.0</td>\n",
       "      <td>1.0</td>\n",
       "      <td>1.0</td>\n",
       "      <td>1.0</td>\n",
       "      <td>1.0</td>\n",
       "      <td>2.0</td>\n",
       "      <td>1.0</td>\n",
       "      <td>0.5</td>\n",
       "      <td>0.0</td>\n",
       "    </tr>\n",
       "    <tr>\n",
       "      <th>15</th>\n",
       "      <td>Dark</td>\n",
       "      <td>1</td>\n",
       "      <td>1.0</td>\n",
       "      <td>1.0</td>\n",
       "      <td>1.0</td>\n",
       "      <td>1.0</td>\n",
       "      <td>1.0</td>\n",
       "      <td>0.5</td>\n",
       "      <td>1.0</td>\n",
       "      <td>1.0</td>\n",
       "      <td>1.0</td>\n",
       "      <td>2.0</td>\n",
       "      <td>1.0</td>\n",
       "      <td>1.0</td>\n",
       "      <td>2.0</td>\n",
       "      <td>1.0</td>\n",
       "      <td>0.5</td>\n",
       "      <td>1.0</td>\n",
       "      <td>0.5</td>\n",
       "    </tr>\n",
       "    <tr>\n",
       "      <th>16</th>\n",
       "      <td>Steel</td>\n",
       "      <td>1</td>\n",
       "      <td>0.5</td>\n",
       "      <td>0.5</td>\n",
       "      <td>0.5</td>\n",
       "      <td>1.0</td>\n",
       "      <td>2.0</td>\n",
       "      <td>1.0</td>\n",
       "      <td>1.0</td>\n",
       "      <td>1.0</td>\n",
       "      <td>1.0</td>\n",
       "      <td>1.0</td>\n",
       "      <td>1.0</td>\n",
       "      <td>2.0</td>\n",
       "      <td>1.0</td>\n",
       "      <td>1.0</td>\n",
       "      <td>1.0</td>\n",
       "      <td>0.5</td>\n",
       "      <td>2.0</td>\n",
       "    </tr>\n",
       "    <tr>\n",
       "      <th>17</th>\n",
       "      <td>Fairy</td>\n",
       "      <td>1</td>\n",
       "      <td>0.5</td>\n",
       "      <td>1.0</td>\n",
       "      <td>1.0</td>\n",
       "      <td>1.0</td>\n",
       "      <td>1.0</td>\n",
       "      <td>2.0</td>\n",
       "      <td>0.5</td>\n",
       "      <td>1.0</td>\n",
       "      <td>1.0</td>\n",
       "      <td>1.0</td>\n",
       "      <td>1.0</td>\n",
       "      <td>1.0</td>\n",
       "      <td>1.0</td>\n",
       "      <td>2.0</td>\n",
       "      <td>2.0</td>\n",
       "      <td>0.5</td>\n",
       "      <td>1.0</td>\n",
       "    </tr>\n",
       "  </tbody>\n",
       "</table>\n",
       "</div>"
      ],
      "text/plain": [
       "   Attacking  Normal  Fire  Water  Electric  Grass  Ice  Fighting  Poison  \\\n",
       "0     Normal       1   1.0    1.0       1.0    1.0  1.0       1.0     1.0   \n",
       "1       Fire       1   0.5    0.5       1.0    2.0  2.0       1.0     1.0   \n",
       "2      Water       1   2.0    0.5       1.0    0.5  1.0       1.0     1.0   \n",
       "3   Electric       1   1.0    2.0       0.5    0.5  1.0       1.0     1.0   \n",
       "4      Grass       1   0.5    2.0       1.0    0.5  1.0       1.0     0.5   \n",
       "5        Ice       1   0.5    0.5       1.0    2.0  0.5       1.0     1.0   \n",
       "6   Fighting       2   1.0    1.0       1.0    1.0  2.0       1.0     0.5   \n",
       "7     Poison       1   1.0    1.0       1.0    2.0  1.0       1.0     0.5   \n",
       "8     Ground       1   2.0    1.0       2.0    0.5  1.0       1.0     2.0   \n",
       "9     Flying       1   1.0    1.0       0.5    2.0  1.0       2.0     1.0   \n",
       "10   Psychic       1   1.0    1.0       1.0    1.0  1.0       2.0     2.0   \n",
       "11       Bug       1   0.5    1.0       1.0    2.0  1.0       0.5     0.5   \n",
       "12      Rock       1   2.0    1.0       1.0    1.0  2.0       0.5     1.0   \n",
       "13     Ghost       0   1.0    1.0       1.0    1.0  1.0       1.0     1.0   \n",
       "14    Dragon       1   1.0    1.0       1.0    1.0  1.0       1.0     1.0   \n",
       "15      Dark       1   1.0    1.0       1.0    1.0  1.0       0.5     1.0   \n",
       "16     Steel       1   0.5    0.5       0.5    1.0  2.0       1.0     1.0   \n",
       "17     Fairy       1   0.5    1.0       1.0    1.0  1.0       2.0     0.5   \n",
       "\n",
       "    Ground  Flying  Psychic  Bug  Rock  Ghost  Dragon  Dark  Steel  Fairy  \n",
       "0      1.0     1.0      1.0  1.0   0.5    0.0     1.0   1.0    0.5    1.0  \n",
       "1      1.0     1.0      1.0  2.0   0.5    1.0     0.5   1.0    2.0    1.0  \n",
       "2      2.0     1.0      1.0  1.0   2.0    1.0     0.5   1.0    1.0    1.0  \n",
       "3      0.0     2.0      1.0  1.0   1.0    1.0     0.5   1.0    1.0    1.0  \n",
       "4      2.0     0.5      1.0  0.5   2.0    1.0     0.5   1.0    0.5    1.0  \n",
       "5      2.0     2.0      1.0  1.0   1.0    1.0     2.0   1.0    0.5    1.0  \n",
       "6      1.0     0.5      0.5  0.5   2.0    0.0     1.0   2.0    2.0    0.5  \n",
       "7      0.5     1.0      1.0  1.0   0.5    0.5     1.0   1.0    0.0    2.0  \n",
       "8      1.0     0.0      1.0  0.5   2.0    1.0     1.0   1.0    2.0    1.0  \n",
       "9      1.0     1.0      1.0  2.0   0.5    1.0     1.0   1.0    0.5    1.0  \n",
       "10     1.0     1.0      0.5  1.0   1.0    1.0     1.0   0.0    0.5    1.0  \n",
       "11     1.0     0.5      2.0  1.0   1.0    0.5     1.0   2.0    0.5    0.5  \n",
       "12     0.5     2.0      1.0  2.0   1.0    1.0     1.0   1.0    0.5    1.0  \n",
       "13     1.0     1.0      2.0  1.0   1.0    2.0     1.0   0.5    1.0    1.0  \n",
       "14     1.0     1.0      1.0  1.0   1.0    1.0     2.0   1.0    0.5    0.0  \n",
       "15     1.0     1.0      2.0  1.0   1.0    2.0     1.0   0.5    1.0    0.5  \n",
       "16     1.0     1.0      1.0  1.0   2.0    1.0     1.0   1.0    0.5    2.0  \n",
       "17     1.0     1.0      1.0  1.0   1.0    1.0     2.0   2.0    0.5    1.0  "
      ]
     },
     "execution_count": 100,
     "metadata": {},
     "output_type": "execute_result"
    }
   ],
   "source": [
    "type_chart"
   ]
  },
  {
   "cell_type": "markdown",
   "metadata": {},
   "source": [
    "According to the type chart, we can see the effectiveness of attack of different type of pokemon. \n",
    "- \"1\" represent normal attack\n",
    "- \"2\" represent the pokemon is an effective type (compare to its enemy), the effectiveness of attack will * 2\n",
    "- \"0.5\" represent the pokemon is not an effective type, the effectiveness of attack will * 0.5\n",
    "- \"0\" represent the pokemon's attack is not effective to it's enemy at all"
   ]
  },
  {
   "cell_type": "code",
   "execution_count": 101,
   "metadata": {
    "collapsed": true
   },
   "outputs": [],
   "source": [
    "type_df = KmeansPoke.iloc[:, 0:4]\n",
    "type_df = type_df.drop('Name', axis=1)"
   ]
  },
  {
   "cell_type": "code",
   "execution_count": 102,
   "metadata": {
    "collapsed": true
   },
   "outputs": [],
   "source": [
    "#create dictionaries\n",
    "type_dict = type_df.set_index('#').T.to_dict('list')"
   ]
  },
  {
   "cell_type": "code",
   "execution_count": 103,
   "metadata": {
    "collapsed": true
   },
   "outputs": [],
   "source": [
    "#change winner from pokemon# to 0 (first pokemon win) or 1 (second pokemon win)\n",
    "type_combats = combats.copy()\n",
    "type_combats['Winner'] = np.where(type_combats['Winner'] == combats['First_pokemon'], 0, 1)"
   ]
  },
  {
   "cell_type": "code",
   "execution_count": 104,
   "metadata": {
    "collapsed": true
   },
   "outputs": [],
   "source": [
    "#map each battle to pokemon data\n",
    "def type_connect(data):\n",
    "    data['First_pokemon'] = data.First_pokemon.map(type_dict)\n",
    "    data['Second_pokemon'] = data.Second_pokemon.map(type_dict)\n",
    "    return data"
   ]
  },
  {
   "cell_type": "code",
   "execution_count": 105,
   "metadata": {
    "collapsed": true
   },
   "outputs": [],
   "source": [
    "def type_effect(data):\n",
    "    p1_type1 = []\n",
    "    p1_type2 = []\n",
    "    p2_type1 = []\n",
    "    p2_type2 = []\n",
    "\n",
    "    #k = 0\n",
    "    for row in data.itertuples(): \n",
    "        nested_type = [[1, 1], [1, 1]]\n",
    "\n",
    "        for i in range(2):\n",
    "            for j in range(2):\n",
    "                fst_atk_type = type_chart.loc[type_chart['Attacking'] == row.First_pokemon[i]]\n",
    "                fst_atk_eff = fst_atk_type[row.Second_pokemon[j]].item()\n",
    "                nested_type[0][i] = nested_type[0][i] * fst_atk_eff\n",
    "                \n",
    "                sec_atk_type = type_chart.loc[type_chart['Attacking'] == row.Second_pokemon[i]]\n",
    "                sec_atk_eff = sec_atk_type[row.First_pokemon[j]].item()\n",
    "                nested_type[1][i] = nested_type[1][i] * sec_atk_eff \n",
    "                \n",
    "        \n",
    "        p1_type1.append(nested_type[0][0])\n",
    "        p1_type2.append(nested_type[0][1])\n",
    "        p2_type1.append(nested_type[1][0])\n",
    "        p2_type2.append(nested_type[1][1])\n",
    "        \n",
    "        #k += 1\n",
    "        #print(k)\n",
    "    data = data.assign(P1_type1=p1_type1, P1_type2=p1_type2, P2_type1=p2_type1, P2_type2=p2_type2)\n",
    "    data = data.drop(['First_pokemon', 'Second_pokemon'], axis=1)\n",
    "    return data"
   ]
  },
  {
   "cell_type": "code",
   "execution_count": 106,
   "metadata": {
    "collapsed": true,
    "scrolled": true
   },
   "outputs": [],
   "source": [
    "#map the battle to pokemons data\n",
    "try:\n",
    "    type_combats = type_connect(type_combats)\n",
    "except TypeError:\n",
    "    pass"
   ]
  },
  {
   "cell_type": "code",
   "execution_count": 107,
   "metadata": {
    "collapsed": true
   },
   "outputs": [],
   "source": [
    "type_chart[\"None\"] = 1\n",
    "type_chart = type_chart.set_value('18', 'Attacking', 'None').fillna(1).copy()  "
   ]
  },
  {
   "cell_type": "code",
   "execution_count": 108,
   "metadata": {},
   "outputs": [
    {
     "name": "stderr",
     "output_type": "stream",
     "text": [
      "ERROR:root:Cell magic `%%` not found.\n"
     ]
    }
   ],
   "source": [
    "%%\n",
    "type_combats = type_effect(type_combats)#need to run around 6 min"
   ]
  },
  {
   "cell_type": "code",
   "execution_count": 109,
   "metadata": {},
   "outputs": [
    {
     "name": "stderr",
     "output_type": "stream",
     "text": [
      "ERROR:root:Cell magic `%%` not found.\n"
     ]
    }
   ],
   "source": [
    "%%\n",
    "#to save time, save train_new_df2 into csv first then use it to do the further implementation\n",
    "type_combats.to_csv('/Users/gillianchiang/Desktop/Course/year4_sem2/COMP4912/Data/pokemon-challenge/train_output.csv')"
   ]
  },
  {
   "cell_type": "code",
   "execution_count": 110,
   "metadata": {
    "collapsed": true
   },
   "outputs": [],
   "source": [
    "type_output = pd.read_csv(\"/Users/gillianchiang/Desktop/Course/year4_sem2/COMP4912/Data/pokemon-challenge/train_output.csv\")"
   ]
  },
  {
   "cell_type": "code",
   "execution_count": 111,
   "metadata": {
    "scrolled": true
   },
   "outputs": [
    {
     "data": {
      "text/html": [
       "<div>\n",
       "<style>\n",
       "    .dataframe thead tr:only-child th {\n",
       "        text-align: right;\n",
       "    }\n",
       "\n",
       "    .dataframe thead th {\n",
       "        text-align: left;\n",
       "    }\n",
       "\n",
       "    .dataframe tbody tr th {\n",
       "        vertical-align: top;\n",
       "    }\n",
       "</style>\n",
       "<table border=\"1\" class=\"dataframe\">\n",
       "  <thead>\n",
       "    <tr style=\"text-align: right;\">\n",
       "      <th></th>\n",
       "      <th>Winner</th>\n",
       "      <th>P1_type1</th>\n",
       "      <th>P1_type2</th>\n",
       "      <th>P2_type1</th>\n",
       "      <th>P2_type2</th>\n",
       "    </tr>\n",
       "  </thead>\n",
       "  <tbody>\n",
       "    <tr>\n",
       "      <th>0</th>\n",
       "      <td>1</td>\n",
       "      <td>1.0</td>\n",
       "      <td>0.5</td>\n",
       "      <td>4.0</td>\n",
       "      <td>1.0</td>\n",
       "    </tr>\n",
       "    <tr>\n",
       "      <th>1</th>\n",
       "      <td>1</td>\n",
       "      <td>2.0</td>\n",
       "      <td>2.0</td>\n",
       "      <td>0.5</td>\n",
       "      <td>1.0</td>\n",
       "    </tr>\n",
       "    <tr>\n",
       "      <th>2</th>\n",
       "      <td>1</td>\n",
       "      <td>1.0</td>\n",
       "      <td>1.0</td>\n",
       "      <td>1.0</td>\n",
       "      <td>1.0</td>\n",
       "    </tr>\n",
       "    <tr>\n",
       "      <th>3</th>\n",
       "      <td>1</td>\n",
       "      <td>0.5</td>\n",
       "      <td>1.0</td>\n",
       "      <td>1.0</td>\n",
       "      <td>1.0</td>\n",
       "    </tr>\n",
       "    <tr>\n",
       "      <th>4</th>\n",
       "      <td>0</td>\n",
       "      <td>2.0</td>\n",
       "      <td>2.0</td>\n",
       "      <td>1.0</td>\n",
       "      <td>1.0</td>\n",
       "    </tr>\n",
       "  </tbody>\n",
       "</table>\n",
       "</div>"
      ],
      "text/plain": [
       "   Winner  P1_type1  P1_type2  P2_type1  P2_type2\n",
       "0       1       1.0       0.5       4.0       1.0\n",
       "1       1       2.0       2.0       0.5       1.0\n",
       "2       1       1.0       1.0       1.0       1.0\n",
       "3       1       0.5       1.0       1.0       1.0\n",
       "4       0       2.0       2.0       1.0       1.0"
      ]
     },
     "execution_count": 111,
     "metadata": {},
     "output_type": "execute_result"
    }
   ],
   "source": [
    "type_output = type_output.drop([\"Unnamed: 0\"], axis=1).copy()\n",
    "type_output.head()"
   ]
  },
  {
   "cell_type": "markdown",
   "metadata": {},
   "source": [
    "## Type Advantage"
   ]
  },
  {
   "cell_type": "code",
   "execution_count": 112,
   "metadata": {
    "collapsed": true,
    "scrolled": true
   },
   "outputs": [],
   "source": [
    "type_analysis = type_output.copy()"
   ]
  },
  {
   "cell_type": "code",
   "execution_count": 113,
   "metadata": {},
   "outputs": [
    {
     "data": {
      "text/html": [
       "<div>\n",
       "<style>\n",
       "    .dataframe thead tr:only-child th {\n",
       "        text-align: right;\n",
       "    }\n",
       "\n",
       "    .dataframe thead th {\n",
       "        text-align: left;\n",
       "    }\n",
       "\n",
       "    .dataframe tbody tr th {\n",
       "        vertical-align: top;\n",
       "    }\n",
       "</style>\n",
       "<table border=\"1\" class=\"dataframe\">\n",
       "  <thead>\n",
       "    <tr style=\"text-align: right;\">\n",
       "      <th></th>\n",
       "      <th>Winner</th>\n",
       "      <th>P1_type1</th>\n",
       "      <th>P1_type2</th>\n",
       "      <th>P2_type1</th>\n",
       "      <th>P2_type2</th>\n",
       "      <th>P1</th>\n",
       "      <th>P2</th>\n",
       "    </tr>\n",
       "  </thead>\n",
       "  <tbody>\n",
       "    <tr>\n",
       "      <th>0</th>\n",
       "      <td>1</td>\n",
       "      <td>1.0</td>\n",
       "      <td>0.5</td>\n",
       "      <td>4.0</td>\n",
       "      <td>1.0</td>\n",
       "      <td>0.5</td>\n",
       "      <td>4.0</td>\n",
       "    </tr>\n",
       "    <tr>\n",
       "      <th>1</th>\n",
       "      <td>1</td>\n",
       "      <td>2.0</td>\n",
       "      <td>2.0</td>\n",
       "      <td>0.5</td>\n",
       "      <td>1.0</td>\n",
       "      <td>4.0</td>\n",
       "      <td>0.5</td>\n",
       "    </tr>\n",
       "    <tr>\n",
       "      <th>2</th>\n",
       "      <td>1</td>\n",
       "      <td>1.0</td>\n",
       "      <td>1.0</td>\n",
       "      <td>1.0</td>\n",
       "      <td>1.0</td>\n",
       "      <td>1.0</td>\n",
       "      <td>1.0</td>\n",
       "    </tr>\n",
       "    <tr>\n",
       "      <th>3</th>\n",
       "      <td>1</td>\n",
       "      <td>0.5</td>\n",
       "      <td>1.0</td>\n",
       "      <td>1.0</td>\n",
       "      <td>1.0</td>\n",
       "      <td>0.5</td>\n",
       "      <td>1.0</td>\n",
       "    </tr>\n",
       "    <tr>\n",
       "      <th>4</th>\n",
       "      <td>0</td>\n",
       "      <td>2.0</td>\n",
       "      <td>2.0</td>\n",
       "      <td>1.0</td>\n",
       "      <td>1.0</td>\n",
       "      <td>4.0</td>\n",
       "      <td>1.0</td>\n",
       "    </tr>\n",
       "  </tbody>\n",
       "</table>\n",
       "</div>"
      ],
      "text/plain": [
       "   Winner  P1_type1  P1_type2  P2_type1  P2_type2   P1   P2\n",
       "0       1       1.0       0.5       4.0       1.0  0.5  4.0\n",
       "1       1       2.0       2.0       0.5       1.0  4.0  0.5\n",
       "2       1       1.0       1.0       1.0       1.0  1.0  1.0\n",
       "3       1       0.5       1.0       1.0       1.0  0.5  1.0\n",
       "4       0       2.0       2.0       1.0       1.0  4.0  1.0"
      ]
     },
     "execution_count": 113,
     "metadata": {},
     "output_type": "execute_result"
    }
   ],
   "source": [
    "type_analysis['P1'] = type_analysis['P1_type1'] * type_analysis['P1_type2']\n",
    "type_analysis['P2'] = type_analysis['P2_type1'] * type_analysis['P2_type2']\n",
    "type_analysis.head()"
   ]
  },
  {
   "cell_type": "code",
   "execution_count": 114,
   "metadata": {},
   "outputs": [
    {
     "data": {
      "text/html": [
       "<div>\n",
       "<style>\n",
       "    .dataframe thead tr:only-child th {\n",
       "        text-align: right;\n",
       "    }\n",
       "\n",
       "    .dataframe thead th {\n",
       "        text-align: left;\n",
       "    }\n",
       "\n",
       "    .dataframe tbody tr th {\n",
       "        vertical-align: top;\n",
       "    }\n",
       "</style>\n",
       "<table border=\"1\" class=\"dataframe\">\n",
       "  <thead>\n",
       "    <tr style=\"text-align: right;\">\n",
       "      <th></th>\n",
       "      <th>Winner</th>\n",
       "      <th>P1_type1</th>\n",
       "      <th>P1_type2</th>\n",
       "      <th>P2_type1</th>\n",
       "      <th>P2_type2</th>\n",
       "      <th>P1</th>\n",
       "      <th>P2</th>\n",
       "      <th>effect</th>\n",
       "    </tr>\n",
       "  </thead>\n",
       "  <tbody>\n",
       "    <tr>\n",
       "      <th>0</th>\n",
       "      <td>1</td>\n",
       "      <td>1.0</td>\n",
       "      <td>0.5</td>\n",
       "      <td>4.0</td>\n",
       "      <td>1.0</td>\n",
       "      <td>0.5</td>\n",
       "      <td>4.0</td>\n",
       "      <td>2</td>\n",
       "    </tr>\n",
       "    <tr>\n",
       "      <th>1</th>\n",
       "      <td>1</td>\n",
       "      <td>2.0</td>\n",
       "      <td>2.0</td>\n",
       "      <td>0.5</td>\n",
       "      <td>1.0</td>\n",
       "      <td>4.0</td>\n",
       "      <td>0.5</td>\n",
       "      <td>0</td>\n",
       "    </tr>\n",
       "    <tr>\n",
       "      <th>2</th>\n",
       "      <td>1</td>\n",
       "      <td>1.0</td>\n",
       "      <td>1.0</td>\n",
       "      <td>1.0</td>\n",
       "      <td>1.0</td>\n",
       "      <td>1.0</td>\n",
       "      <td>1.0</td>\n",
       "      <td>1</td>\n",
       "    </tr>\n",
       "    <tr>\n",
       "      <th>3</th>\n",
       "      <td>1</td>\n",
       "      <td>0.5</td>\n",
       "      <td>1.0</td>\n",
       "      <td>1.0</td>\n",
       "      <td>1.0</td>\n",
       "      <td>0.5</td>\n",
       "      <td>1.0</td>\n",
       "      <td>2</td>\n",
       "    </tr>\n",
       "    <tr>\n",
       "      <th>4</th>\n",
       "      <td>0</td>\n",
       "      <td>2.0</td>\n",
       "      <td>2.0</td>\n",
       "      <td>1.0</td>\n",
       "      <td>1.0</td>\n",
       "      <td>4.0</td>\n",
       "      <td>1.0</td>\n",
       "      <td>2</td>\n",
       "    </tr>\n",
       "  </tbody>\n",
       "</table>\n",
       "</div>"
      ],
      "text/plain": [
       "   Winner  P1_type1  P1_type2  P2_type1  P2_type2   P1   P2  effect\n",
       "0       1       1.0       0.5       4.0       1.0  0.5  4.0       2\n",
       "1       1       2.0       2.0       0.5       1.0  4.0  0.5       0\n",
       "2       1       1.0       1.0       1.0       1.0  1.0  1.0       1\n",
       "3       1       0.5       1.0       1.0       1.0  0.5  1.0       2\n",
       "4       0       2.0       2.0       1.0       1.0  4.0  1.0       2"
      ]
     },
     "execution_count": 114,
     "metadata": {},
     "output_type": "execute_result"
    }
   ],
   "source": [
    "# not effective = 0, normal = 1, effective = 2\n",
    "effect = []\n",
    "for i in range(len(type_analysis)):\n",
    "    if (type_analysis['Winner'][i] == 0 and type_analysis['P1'][i] > type_analysis['P2'][i]):\n",
    "        effect.append(2)\n",
    "    elif(type_analysis['Winner'][i] == 1 and type_analysis['P2'][i] > type_analysis['P1'][i]):\n",
    "        effect.append(2)\n",
    "    elif(type_analysis['Winner'][i] == 0 and type_analysis['P1'][i] == type_analysis['P2'][i]):\n",
    "        effect.append(1)\n",
    "    elif(type_analysis['Winner'][i] == 1 and type_analysis['P2'][i] == type_analysis['P1'][i]):\n",
    "        effect.append(1)\n",
    "    elif(type_analysis['Winner'][i] == 0 and type_analysis['P1'][i] < type_analysis['P2'][i]):\n",
    "        effect.append(0)\n",
    "    elif(type_analysis['Winner'][i] == 1 and type_analysis['P2'][i] < type_analysis['P1'][i]):\n",
    "        effect.append(0)\n",
    "\n",
    "type_analysis['effect'] = effect\n",
    "type_analysis.head()"
   ]
  },
  {
   "cell_type": "code",
   "execution_count": 115,
   "metadata": {
    "collapsed": true,
    "scrolled": true
   },
   "outputs": [],
   "source": [
    "type_analysis2 = type_analysis[['Winner','effect']]\n",
    "type_analysis2 = type_analysis2.pivot_table(values='Winner', index=['effect'], aggfunc='count')"
   ]
  },
  {
   "cell_type": "code",
   "execution_count": 116,
   "metadata": {},
   "outputs": [
    {
     "data": {
      "image/png": "[encoded data removed]",
      "text/plain": [
       "<matplotlib.figure.Figure at 0x1a1661fd30>"
      ]
     },
     "metadata": {},
     "output_type": "display_data"
    }
   ],
   "source": [
    "colors = plt.cm.Paired(np.linspace(0, 1, 10))\n",
    "\n",
    "ax1 = type_analysis2.plot(kind='bar', color=colors, figsize=(10, 5))\n",
    "\n",
    "ax1.set_xticklabels(('Not Effective', 'Effective', 'Very Effective'), rotation='horizontal')\n",
    "ax1.set_xlabel(\"\")\n",
    "ax1.set_ylabel(\"Winning Combats Count\")\n",
    "ax1.set_title(\"Winning Combats vs Type Advantages\")\n",
    "plt.show()"
   ]
  },
  {
   "cell_type": "markdown",
   "metadata": {},
   "source": [
    "## First Attack Advantage"
   ]
  },
  {
   "cell_type": "code",
   "execution_count": 117,
   "metadata": {
    "scrolled": true
   },
   "outputs": [
    {
     "data": {
      "text/html": [
       "<div>\n",
       "<style>\n",
       "    .dataframe thead tr:only-child th {\n",
       "        text-align: right;\n",
       "    }\n",
       "\n",
       "    .dataframe thead th {\n",
       "        text-align: left;\n",
       "    }\n",
       "\n",
       "    .dataframe tbody tr th {\n",
       "        vertical-align: top;\n",
       "    }\n",
       "</style>\n",
       "<table border=\"1\" class=\"dataframe\">\n",
       "  <thead>\n",
       "    <tr style=\"text-align: right;\">\n",
       "      <th></th>\n",
       "      <th>counts</th>\n",
       "    </tr>\n",
       "    <tr>\n",
       "      <th>Winner</th>\n",
       "      <th></th>\n",
       "    </tr>\n",
       "  </thead>\n",
       "  <tbody>\n",
       "    <tr>\n",
       "      <th>0</th>\n",
       "      <td>23601</td>\n",
       "    </tr>\n",
       "    <tr>\n",
       "      <th>1</th>\n",
       "      <td>26399</td>\n",
       "    </tr>\n",
       "  </tbody>\n",
       "</table>\n",
       "</div>"
      ],
      "text/plain": [
       "        counts\n",
       "Winner        \n",
       "0        23601\n",
       "1        26399"
      ]
     },
     "execution_count": 117,
     "metadata": {},
     "output_type": "execute_result"
    }
   ],
   "source": [
    "fst_attck = type_combats[['Winner']].copy()\n",
    "fst_attck = fst_attck.groupby(['Winner']).size().reset_index(name='counts')\n",
    "fst_attck = fst_attck.set_index('Winner')\n",
    "fst_attck"
   ]
  },
  {
   "cell_type": "code",
   "execution_count": 118,
   "metadata": {},
   "outputs": [
    {
     "data": {
      "image/png": "[encoded data removed]",
      "text/plain": [
       "<matplotlib.figure.Figure at 0x1a1efd0f60>"
      ]
     },
     "metadata": {},
     "output_type": "display_data"
    }
   ],
   "source": [
    "colors = plt.cm.Set3(np.linspace(0, 1, 2))\n",
    "fig1, ax1 = plt.subplots()\n",
    "ax1.pie(fst_attck.loc[fst_attck.index], labels=['First Attack Win', 'Second Attack Win'], colors=colors, autopct='%1.1f%%')\n",
    "ax1.axis('equal') \n",
    "plt.title(\"Winning Ratio First Attacker\")\n",
    "plt.show()"
   ]
  },
  {
   "cell_type": "markdown",
   "metadata": {},
   "source": [
    "First Attacker don't seems that they have advantages, how about first attacker with type advantage, how is their winning rate"
   ]
  },
  {
   "cell_type": "markdown",
   "metadata": {},
   "source": [
    "## First Attacker and Type Advantage"
   ]
  },
  {
   "cell_type": "code",
   "execution_count": 119,
   "metadata": {
    "scrolled": false
   },
   "outputs": [
    {
     "data": {
      "text/html": [
       "<div>\n",
       "<style>\n",
       "    .dataframe thead tr:only-child th {\n",
       "        text-align: right;\n",
       "    }\n",
       "\n",
       "    .dataframe thead th {\n",
       "        text-align: left;\n",
       "    }\n",
       "\n",
       "    .dataframe tbody tr th {\n",
       "        vertical-align: top;\n",
       "    }\n",
       "</style>\n",
       "<table border=\"1\" class=\"dataframe\">\n",
       "  <thead>\n",
       "    <tr style=\"text-align: right;\">\n",
       "      <th>Winner</th>\n",
       "      <th>0</th>\n",
       "      <th>1</th>\n",
       "    </tr>\n",
       "    <tr>\n",
       "      <th>effect</th>\n",
       "      <th></th>\n",
       "      <th></th>\n",
       "    </tr>\n",
       "  </thead>\n",
       "  <tbody>\n",
       "    <tr>\n",
       "      <th>0</th>\n",
       "      <td>6266</td>\n",
       "      <td>6991</td>\n",
       "    </tr>\n",
       "    <tr>\n",
       "      <th>1</th>\n",
       "      <td>9664</td>\n",
       "      <td>10854</td>\n",
       "    </tr>\n",
       "    <tr>\n",
       "      <th>2</th>\n",
       "      <td>7671</td>\n",
       "      <td>8554</td>\n",
       "    </tr>\n",
       "  </tbody>\n",
       "</table>\n",
       "</div>"
      ],
      "text/plain": [
       "Winner     0      1\n",
       "effect             \n",
       "0       6266   6991\n",
       "1       9664  10854\n",
       "2       7671   8554"
      ]
     },
     "execution_count": 119,
     "metadata": {},
     "output_type": "execute_result"
    }
   ],
   "source": [
    "type_fst_analysis = type_analysis.copy()\n",
    "type_fst_analysis = type_fst_analysis.pivot_table(values='P1', columns=['Winner'],index=['effect'], aggfunc='count')\n",
    "type_fst_analysis"
   ]
  },
  {
   "cell_type": "code",
   "execution_count": 120,
   "metadata": {},
   "outputs": [
    {
     "data": {
      "text/html": [
       "<div>\n",
       "<style>\n",
       "    .dataframe thead tr:only-child th {\n",
       "        text-align: right;\n",
       "    }\n",
       "\n",
       "    .dataframe thead th {\n",
       "        text-align: left;\n",
       "    }\n",
       "\n",
       "    .dataframe tbody tr th {\n",
       "        vertical-align: top;\n",
       "    }\n",
       "</style>\n",
       "<table border=\"1\" class=\"dataframe\">\n",
       "  <thead>\n",
       "    <tr style=\"text-align: right;\">\n",
       "      <th>effect</th>\n",
       "      <th>0</th>\n",
       "      <th>1</th>\n",
       "      <th>2</th>\n",
       "    </tr>\n",
       "    <tr>\n",
       "      <th>Winner</th>\n",
       "      <th></th>\n",
       "      <th></th>\n",
       "      <th></th>\n",
       "    </tr>\n",
       "  </thead>\n",
       "  <tbody>\n",
       "    <tr>\n",
       "      <th>0</th>\n",
       "      <td>6266</td>\n",
       "      <td>9664</td>\n",
       "      <td>7671</td>\n",
       "    </tr>\n",
       "    <tr>\n",
       "      <th>1</th>\n",
       "      <td>6991</td>\n",
       "      <td>10854</td>\n",
       "      <td>8554</td>\n",
       "    </tr>\n",
       "  </tbody>\n",
       "</table>\n",
       "</div>"
      ],
      "text/plain": [
       "effect     0      1     2\n",
       "Winner                   \n",
       "0       6266   9664  7671\n",
       "1       6991  10854  8554"
      ]
     },
     "execution_count": 120,
     "metadata": {},
     "output_type": "execute_result"
    }
   ],
   "source": [
    "type_fst_analysis1 = type_fst_analysis.transpose().copy()\n",
    "type_fst_analysis1"
   ]
  },
  {
   "cell_type": "code",
   "execution_count": 121,
   "metadata": {
    "scrolled": false
   },
   "outputs": [
    {
     "data": {
      "text/html": [
       "<div>\n",
       "<style>\n",
       "    .dataframe thead tr:only-child th {\n",
       "        text-align: right;\n",
       "    }\n",
       "\n",
       "    .dataframe thead th {\n",
       "        text-align: left;\n",
       "    }\n",
       "\n",
       "    .dataframe tbody tr th {\n",
       "        vertical-align: top;\n",
       "    }\n",
       "</style>\n",
       "<table border=\"1\" class=\"dataframe\">\n",
       "  <thead>\n",
       "    <tr style=\"text-align: right;\">\n",
       "      <th>effect</th>\n",
       "      <th>0</th>\n",
       "      <th>1</th>\n",
       "      <th>2</th>\n",
       "    </tr>\n",
       "    <tr>\n",
       "      <th>Winner</th>\n",
       "      <th></th>\n",
       "      <th></th>\n",
       "      <th></th>\n",
       "    </tr>\n",
       "  </thead>\n",
       "  <tbody>\n",
       "    <tr>\n",
       "      <th>0</th>\n",
       "      <td>0.265497</td>\n",
       "      <td>0.409474</td>\n",
       "      <td>0.325029</td>\n",
       "    </tr>\n",
       "    <tr>\n",
       "      <th>1</th>\n",
       "      <td>0.264821</td>\n",
       "      <td>0.411152</td>\n",
       "      <td>0.324027</td>\n",
       "    </tr>\n",
       "  </tbody>\n",
       "</table>\n",
       "</div>"
      ],
      "text/plain": [
       "effect         0         1         2\n",
       "Winner                              \n",
       "0       0.265497  0.409474  0.325029\n",
       "1       0.264821  0.411152  0.324027"
      ]
     },
     "execution_count": 121,
     "metadata": {},
     "output_type": "execute_result"
    }
   ],
   "source": [
    "total = type_fst_analysis1.sum(axis=1)\n",
    "type_fst_analysis1[0] = (type_fst_analysis1[0] / total)\n",
    "type_fst_analysis1[1] = (type_fst_analysis1[1] / total)\n",
    "type_fst_analysis1[2] = (type_fst_analysis1[2] / total)\n",
    "type_fst_analysis1"
   ]
  },
  {
   "cell_type": "code",
   "execution_count": 122,
   "metadata": {
    "collapsed": true
   },
   "outputs": [],
   "source": [
    "type_fst_analysis1 = type_fst_analysis1.transpose()"
   ]
  },
  {
   "cell_type": "code",
   "execution_count": 123,
   "metadata": {},
   "outputs": [
    {
     "data": {
      "image/png": "[encoded data removed]",
      "text/plain": [
       "<matplotlib.figure.Figure at 0x1a163192e8>"
      ]
     },
     "metadata": {},
     "output_type": "display_data"
    }
   ],
   "source": [
    "colors = plt.cm.Paired(np.linspace(0, 1, 2))\n",
    "\n",
    "ax1 = type_fst_analysis1.plot(kind='bar', color=colors, figsize=(10, 5))\n",
    "ax1.set_xlabel(\"Type Effectiveness\")\n",
    "ax1.set_ylabel(\"Perventage\")\n",
    "ax1.set_xticklabels(('Not Effective', 'Effective', 'Very Effective'), rotation='horizontal')\n",
    "ax1.set_title(\"Different winning rate range of cluster groups\")\n",
    "plt.legend(['Fst_Attack_Win', 'Fst_Attack_Lose'],prop={'size':10})\n",
    "plt.show()"
   ]
  },
  {
   "cell_type": "markdown",
   "metadata": {},
   "source": [
    "According to this result, type advantage does not effect the winning rate of first attack pokemon."
   ]
  },
  {
   "cell_type": "markdown",
   "metadata": {},
   "source": [
    "---------------------"
   ]
  },
  {
   "cell_type": "markdown",
   "metadata": {},
   "source": [
    "# Data Training 2"
   ]
  },
  {
   "cell_type": "markdown",
   "metadata": {},
   "source": [
    "## Data Preprocessing"
   ]
  },
  {
   "cell_type": "code",
   "execution_count": 124,
   "metadata": {
    "scrolled": true
   },
   "outputs": [
    {
     "data": {
      "text/html": [
       "<div>\n",
       "<style>\n",
       "    .dataframe thead tr:only-child th {\n",
       "        text-align: right;\n",
       "    }\n",
       "\n",
       "    .dataframe thead th {\n",
       "        text-align: left;\n",
       "    }\n",
       "\n",
       "    .dataframe tbody tr th {\n",
       "        vertical-align: top;\n",
       "    }\n",
       "</style>\n",
       "<table border=\"1\" class=\"dataframe\">\n",
       "  <thead>\n",
       "    <tr style=\"text-align: right;\">\n",
       "      <th></th>\n",
       "      <th>Winner</th>\n",
       "      <th>P1_type1</th>\n",
       "      <th>P1_type2</th>\n",
       "      <th>P2_type1</th>\n",
       "      <th>P2_type2</th>\n",
       "    </tr>\n",
       "  </thead>\n",
       "  <tbody>\n",
       "    <tr>\n",
       "      <th>0</th>\n",
       "      <td>1</td>\n",
       "      <td>1.0</td>\n",
       "      <td>0.5</td>\n",
       "      <td>4.0</td>\n",
       "      <td>1.0</td>\n",
       "    </tr>\n",
       "    <tr>\n",
       "      <th>1</th>\n",
       "      <td>1</td>\n",
       "      <td>2.0</td>\n",
       "      <td>2.0</td>\n",
       "      <td>0.5</td>\n",
       "      <td>1.0</td>\n",
       "    </tr>\n",
       "    <tr>\n",
       "      <th>2</th>\n",
       "      <td>1</td>\n",
       "      <td>1.0</td>\n",
       "      <td>1.0</td>\n",
       "      <td>1.0</td>\n",
       "      <td>1.0</td>\n",
       "    </tr>\n",
       "    <tr>\n",
       "      <th>3</th>\n",
       "      <td>1</td>\n",
       "      <td>0.5</td>\n",
       "      <td>1.0</td>\n",
       "      <td>1.0</td>\n",
       "      <td>1.0</td>\n",
       "    </tr>\n",
       "    <tr>\n",
       "      <th>4</th>\n",
       "      <td>0</td>\n",
       "      <td>2.0</td>\n",
       "      <td>2.0</td>\n",
       "      <td>1.0</td>\n",
       "      <td>1.0</td>\n",
       "    </tr>\n",
       "  </tbody>\n",
       "</table>\n",
       "</div>"
      ],
      "text/plain": [
       "   Winner  P1_type1  P1_type2  P2_type1  P2_type2\n",
       "0       1       1.0       0.5       4.0       1.0\n",
       "1       1       2.0       2.0       0.5       1.0\n",
       "2       1       1.0       1.0       1.0       1.0\n",
       "3       1       0.5       1.0       1.0       1.0\n",
       "4       0       2.0       2.0       1.0       1.0"
      ]
     },
     "execution_count": 124,
     "metadata": {},
     "output_type": "execute_result"
    }
   ],
   "source": [
    "type_output.head()"
   ]
  },
  {
   "cell_type": "code",
   "execution_count": 125,
   "metadata": {},
   "outputs": [
    {
     "data": {
      "text/html": [
       "<div>\n",
       "<style>\n",
       "    .dataframe thead tr:only-child th {\n",
       "        text-align: right;\n",
       "    }\n",
       "\n",
       "    .dataframe thead th {\n",
       "        text-align: left;\n",
       "    }\n",
       "\n",
       "    .dataframe tbody tr th {\n",
       "        vertical-align: top;\n",
       "    }\n",
       "</style>\n",
       "<table border=\"1\" class=\"dataframe\">\n",
       "  <thead>\n",
       "    <tr style=\"text-align: right;\">\n",
       "      <th></th>\n",
       "      <th>Winner</th>\n",
       "      <th>HP_diff</th>\n",
       "      <th>Atk_diff</th>\n",
       "      <th>Def_diff</th>\n",
       "      <th>SpAtk_diff</th>\n",
       "      <th>SpDef_diff</th>\n",
       "      <th>Speed_diff</th>\n",
       "      <th>Legend_diff</th>\n",
       "      <th>Mega_diff</th>\n",
       "      <th>P1_klabel</th>\n",
       "      <th>P2_klabel</th>\n",
       "      <th>P1_type1</th>\n",
       "      <th>P1_type2</th>\n",
       "      <th>P2_type1</th>\n",
       "      <th>P2_type2</th>\n",
       "    </tr>\n",
       "  </thead>\n",
       "  <tbody>\n",
       "    <tr>\n",
       "      <th>0</th>\n",
       "      <td>1</td>\n",
       "      <td>-20</td>\n",
       "      <td>-6</td>\n",
       "      <td>10</td>\n",
       "      <td>-15</td>\n",
       "      <td>10</td>\n",
       "      <td>-19</td>\n",
       "      <td>0</td>\n",
       "      <td>0</td>\n",
       "      <td>0</td>\n",
       "      <td>0</td>\n",
       "      <td>1.0</td>\n",
       "      <td>0.5</td>\n",
       "      <td>4.0</td>\n",
       "      <td>1.0</td>\n",
       "    </tr>\n",
       "    <tr>\n",
       "      <th>1</th>\n",
       "      <td>1</td>\n",
       "      <td>0</td>\n",
       "      <td>-39</td>\n",
       "      <td>-18</td>\n",
       "      <td>18</td>\n",
       "      <td>39</td>\n",
       "      <td>0</td>\n",
       "      <td>0</td>\n",
       "      <td>0</td>\n",
       "      <td>1</td>\n",
       "      <td>1</td>\n",
       "      <td>2.0</td>\n",
       "      <td>2.0</td>\n",
       "      <td>0.5</td>\n",
       "      <td>1.0</td>\n",
       "    </tr>\n",
       "    <tr>\n",
       "      <th>2</th>\n",
       "      <td>1</td>\n",
       "      <td>-20</td>\n",
       "      <td>-35</td>\n",
       "      <td>10</td>\n",
       "      <td>-45</td>\n",
       "      <td>10</td>\n",
       "      <td>0</td>\n",
       "      <td>0</td>\n",
       "      <td>0</td>\n",
       "      <td>3</td>\n",
       "      <td>3</td>\n",
       "      <td>1.0</td>\n",
       "      <td>1.0</td>\n",
       "      <td>1.0</td>\n",
       "      <td>1.0</td>\n",
       "    </tr>\n",
       "    <tr>\n",
       "      <th>3</th>\n",
       "      <td>1</td>\n",
       "      <td>-37</td>\n",
       "      <td>-80</td>\n",
       "      <td>-50</td>\n",
       "      <td>10</td>\n",
       "      <td>-50</td>\n",
       "      <td>-28</td>\n",
       "      <td>0</td>\n",
       "      <td>0</td>\n",
       "      <td>0</td>\n",
       "      <td>3</td>\n",
       "      <td>0.5</td>\n",
       "      <td>1.0</td>\n",
       "      <td>1.0</td>\n",
       "      <td>1.0</td>\n",
       "    </tr>\n",
       "    <tr>\n",
       "      <th>4</th>\n",
       "      <td>0</td>\n",
       "      <td>50</td>\n",
       "      <td>50</td>\n",
       "      <td>-105</td>\n",
       "      <td>105</td>\n",
       "      <td>-160</td>\n",
       "      <td>50</td>\n",
       "      <td>0</td>\n",
       "      <td>0</td>\n",
       "      <td>3</td>\n",
       "      <td>3</td>\n",
       "      <td>2.0</td>\n",
       "      <td>2.0</td>\n",
       "      <td>1.0</td>\n",
       "      <td>1.0</td>\n",
       "    </tr>\n",
       "  </tbody>\n",
       "</table>\n",
       "</div>"
      ],
      "text/plain": [
       "   Winner  HP_diff  Atk_diff  Def_diff  SpAtk_diff  SpDef_diff  Speed_diff  \\\n",
       "0       1      -20        -6        10         -15          10         -19   \n",
       "1       1        0       -39       -18          18          39           0   \n",
       "2       1      -20       -35        10         -45          10           0   \n",
       "3       1      -37       -80       -50          10         -50         -28   \n",
       "4       0       50        50      -105         105        -160          50   \n",
       "\n",
       "   Legend_diff  Mega_diff  P1_klabel  P2_klabel  P1_type1  P1_type2  P2_type1  \\\n",
       "0            0          0          0          0       1.0       0.5       4.0   \n",
       "1            0          0          1          1       2.0       2.0       0.5   \n",
       "2            0          0          3          3       1.0       1.0       1.0   \n",
       "3            0          0          0          3       0.5       1.0       1.0   \n",
       "4            0          0          3          3       2.0       2.0       1.0   \n",
       "\n",
       "   P2_type2  \n",
       "0       1.0  \n",
       "1       1.0  \n",
       "2       1.0  \n",
       "3       1.0  \n",
       "4       1.0  "
      ]
     },
     "execution_count": 125,
     "metadata": {},
     "output_type": "execute_result"
    }
   ],
   "source": [
    "type_combats2 = type_output.drop(['Winner'], axis=1).copy()\n",
    "result2 = pd.concat([result, type_combats2], axis=1)\n",
    "result2.head()"
   ]
  },
  {
   "cell_type": "markdown",
   "metadata": {},
   "source": [
    "## Data Training with Type Effectiveness"
   ]
  },
  {
   "cell_type": "code",
   "execution_count": 126,
   "metadata": {
    "collapsed": true
   },
   "outputs": [],
   "source": [
    "from sklearn.model_selection import train_test_split\n",
    "from sklearn.model_selection import GridSearchCV\n",
    "from sklearn.metrics import accuracy_score, roc_auc_score\n",
    "from sklearn.linear_model import LogisticRegression\n",
    "from sklearn.naive_bayes import GaussianNB\n",
    "from sklearn.ensemble import RandomForestClassifier, AdaBoostClassifier, GradientBoostingClassifier\n",
    "from sklearn.neighbors import KNeighborsClassifier\n",
    "from sklearn.svm import LinearSVC\n",
    "from sklearn.tree import DecisionTreeClassifier"
   ]
  },
  {
   "cell_type": "code",
   "execution_count": 127,
   "metadata": {
    "collapsed": true
   },
   "outputs": [],
   "source": [
    "y_combats_r2 = result2['Winner'] #train target (with winner)\n",
    "X_combats_r2 = result2.drop('Winner', axis=1) #train data"
   ]
  },
  {
   "cell_type": "markdown",
   "metadata": {},
   "source": [
    "### Training Set : Testing Set = 0.75 : 0.25"
   ]
  },
  {
   "cell_type": "code",
   "execution_count": 128,
   "metadata": {
    "collapsed": true
   },
   "outputs": [],
   "source": [
    "train_X25_r2, test_X25_r2, train_y25_r2, test_y25_r2 = train_test_split(X_combats_r2, y_combats_r2, test_size = 0.25, random_state=10)"
   ]
  },
  {
   "cell_type": "code",
   "execution_count": 129,
   "metadata": {
    "scrolled": true
   },
   "outputs": [
    {
     "name": "stdout",
     "output_type": "stream",
     "text": [
      "Accuracy of log reg: 0.88736\n",
      "Accuracy of naive bayes: 0.8\n",
      "Accuracy of knn: 0.90512\n",
      "Accuracy of linear svc: 0.88408\n",
      "Accuracy of ada boost: 0.94536\n",
      "Accuracy of gradient boosting: 0.95824\n",
      "Accuracy of CART: 0.95032\n",
      "Accuracy of random forest: 0.96736\n"
     ]
    }
   ],
   "source": [
    "for name, clf25_r2 in clf_dict.items():\n",
    "    model = clf25_r2.fit(train_X25_r2, train_y25_r2)\n",
    "    predict = model.predict(test_X25_r2)\n",
    "    print('Accuracy of {}:'.format(name), accuracy_score(predict, test_y25_r2))"
   ]
  },
  {
   "cell_type": "markdown",
   "metadata": {},
   "source": [
    "### Random Forest Feature Importance"
   ]
  },
  {
   "cell_type": "code",
   "execution_count": 130,
   "metadata": {},
   "outputs": [
    {
     "name": "stdout",
     "output_type": "stream",
     "text": [
      "HP_diff: 3.00%\n",
      "Atk_diff: 6.04%\n",
      "Def_diff: 2.44%\n",
      "SpAtk_diff: 4.27%\n",
      "SpDef_diff: 2.58%\n",
      "Speed_diff: 67.09%\n",
      "Legend_diff: 0.61%\n",
      "Mega_diff: 0.35%\n",
      "P1_klabel: 3.68%\n",
      "P2_klabel: 3.27%\n",
      "P1_type1: 2.75%\n",
      "P1_type2: 1.26%\n",
      "P2_type1: 1.63%\n",
      "P2_type2: 1.04%\n"
     ]
    }
   ],
   "source": [
    "for i in range(clf25_r2.n_features_):\n",
    "    test_column = X_combats_r2.columns[i]\n",
    "    feature_importance = clf25_r2.feature_importances_[i]\n",
    "    print('%s: %s' % (test_column, \"{:.2%}\".format(feature_importance)))"
   ]
  },
  {
   "cell_type": "code",
   "execution_count": 131,
   "metadata": {
    "scrolled": false
   },
   "outputs": [
    {
     "data": {
      "image/png": "[encoded data removed]",
      "text/plain": [
       "<matplotlib.figure.Figure at 0x1a1fbb1400>"
      ]
     },
     "metadata": {},
     "output_type": "display_data"
    }
   ],
   "source": [
    "colors = plt.cm.Paired(np.linspace(0, 1, 1))\n",
    "x = X_combats_r2.columns\n",
    "y = clf25_r2.feature_importances_\n",
    "\n",
    "plt.figure(figsize=(16,7))\n",
    "plt.bar(x, y, width=0.5, color=colors)\n",
    "plt.ylabel('Percentage')\n",
    "plt.title('Feature Importance of training set (75:25)')\n",
    "plt.show()"
   ]
  },
  {
   "cell_type": "markdown",
   "metadata": {},
   "source": [
    "### Training Set : Testing Set = 0.5 : 0.5"
   ]
  },
  {
   "cell_type": "code",
   "execution_count": 132,
   "metadata": {
    "collapsed": true
   },
   "outputs": [],
   "source": [
    "train_X50_r2, test_X50_r2, train_y50_r2, test_y50_r2 = train_test_split(X_combats_r2, y_combats_r2, test_size = 0.5, random_state=10)"
   ]
  },
  {
   "cell_type": "code",
   "execution_count": 133,
   "metadata": {},
   "outputs": [
    {
     "name": "stdout",
     "output_type": "stream",
     "text": [
      "Accuracy of log reg: 0.88728\n",
      "Accuracy of naive bayes: 0.80548\n",
      "Accuracy of knn: 0.90136\n",
      "Accuracy of linear svc: 0.7746\n",
      "Accuracy of ada boost: 0.94512\n",
      "Accuracy of gradient boosting: 0.95884\n",
      "Accuracy of CART: 0.9444\n",
      "Accuracy of random forest: 0.96316\n"
     ]
    }
   ],
   "source": [
    "for name, clf50_r2 in clf_dict.items():\n",
    "    model = clf50_r2.fit(train_X50_r2, train_y50_r2)\n",
    "    predict = model.predict(test_X50_r2)\n",
    "    print('Accuracy of {}:'.format(name), accuracy_score(predict, test_y50_r2))"
   ]
  },
  {
   "cell_type": "markdown",
   "metadata": {},
   "source": [
    "### Training Set : Testing Set = 0.25 : 0.75"
   ]
  },
  {
   "cell_type": "code",
   "execution_count": 134,
   "metadata": {
    "collapsed": true
   },
   "outputs": [],
   "source": [
    "train_X75_r2, test_X75_r2, train_y75_r2, test_y75_r2 = train_test_split(X_combats_r2, y_combats_r2, test_size = 0.75, random_state=10)"
   ]
  },
  {
   "cell_type": "code",
   "execution_count": 135,
   "metadata": {},
   "outputs": [
    {
     "name": "stdout",
     "output_type": "stream",
     "text": [
      "Accuracy of log reg: 0.888133333333\n",
      "Accuracy of naive bayes: 0.807786666667\n",
      "Accuracy of knn: 0.88936\n",
      "Accuracy of linear svc: 0.842266666667\n",
      "Accuracy of ada boost: 0.944533333333\n",
      "Accuracy of gradient boosting: 0.955066666667\n",
      "Accuracy of CART: 0.939333333333\n",
      "Accuracy of random forest: 0.956666666667\n"
     ]
    }
   ],
   "source": [
    "for name, clf75_r2 in clf_dict.items():\n",
    "    model = clf75_r2.fit(train_X75_r2, train_y75_r2)\n",
    "    predict = model.predict(test_X75_r2)\n",
    "    print('Accuracy of {}:'.format(name), accuracy_score(predict, test_y75_r2))"
   ]
  },
  {
   "cell_type": "markdown",
   "metadata": {},
   "source": [
    "After adding the type into training attribute, random forest model is still the best model for this dataset. And the accuracy slightly increased from 95.383% to 96.7%"
   ]
  },
  {
   "cell_type": "markdown",
   "metadata": {},
   "source": [
    "### Decision Tree Feature Importance"
   ]
  },
  {
   "cell_type": "code",
   "execution_count": 136,
   "metadata": {},
   "outputs": [
    {
     "data": {
      "text/html": [
       "<div>\n",
       "<style>\n",
       "    .dataframe thead tr:only-child th {\n",
       "        text-align: right;\n",
       "    }\n",
       "\n",
       "    .dataframe thead th {\n",
       "        text-align: left;\n",
       "    }\n",
       "\n",
       "    .dataframe tbody tr th {\n",
       "        vertical-align: top;\n",
       "    }\n",
       "</style>\n",
       "<table border=\"1\" class=\"dataframe\">\n",
       "  <thead>\n",
       "    <tr style=\"text-align: right;\">\n",
       "      <th></th>\n",
       "      <th>Winner</th>\n",
       "      <th>HP_diff</th>\n",
       "      <th>Atk_diff</th>\n",
       "      <th>Def_diff</th>\n",
       "      <th>SpAtk_diff</th>\n",
       "      <th>SpDef_diff</th>\n",
       "      <th>Speed_diff</th>\n",
       "      <th>Legend_diff</th>\n",
       "      <th>Mega_diff</th>\n",
       "    </tr>\n",
       "  </thead>\n",
       "  <tbody>\n",
       "    <tr>\n",
       "      <th>0</th>\n",
       "      <td>1</td>\n",
       "      <td>-20</td>\n",
       "      <td>-6</td>\n",
       "      <td>10</td>\n",
       "      <td>-15</td>\n",
       "      <td>10</td>\n",
       "      <td>-19</td>\n",
       "      <td>0</td>\n",
       "      <td>0</td>\n",
       "    </tr>\n",
       "    <tr>\n",
       "      <th>1</th>\n",
       "      <td>1</td>\n",
       "      <td>0</td>\n",
       "      <td>-39</td>\n",
       "      <td>-18</td>\n",
       "      <td>18</td>\n",
       "      <td>39</td>\n",
       "      <td>0</td>\n",
       "      <td>0</td>\n",
       "      <td>0</td>\n",
       "    </tr>\n",
       "    <tr>\n",
       "      <th>2</th>\n",
       "      <td>1</td>\n",
       "      <td>-20</td>\n",
       "      <td>-35</td>\n",
       "      <td>10</td>\n",
       "      <td>-45</td>\n",
       "      <td>10</td>\n",
       "      <td>0</td>\n",
       "      <td>0</td>\n",
       "      <td>0</td>\n",
       "    </tr>\n",
       "    <tr>\n",
       "      <th>3</th>\n",
       "      <td>1</td>\n",
       "      <td>-37</td>\n",
       "      <td>-80</td>\n",
       "      <td>-50</td>\n",
       "      <td>10</td>\n",
       "      <td>-50</td>\n",
       "      <td>-28</td>\n",
       "      <td>0</td>\n",
       "      <td>0</td>\n",
       "    </tr>\n",
       "    <tr>\n",
       "      <th>4</th>\n",
       "      <td>0</td>\n",
       "      <td>50</td>\n",
       "      <td>50</td>\n",
       "      <td>-105</td>\n",
       "      <td>105</td>\n",
       "      <td>-160</td>\n",
       "      <td>50</td>\n",
       "      <td>0</td>\n",
       "      <td>0</td>\n",
       "    </tr>\n",
       "  </tbody>\n",
       "</table>\n",
       "</div>"
      ],
      "text/plain": [
       "   Winner  HP_diff  Atk_diff  Def_diff  SpAtk_diff  SpDef_diff  Speed_diff  \\\n",
       "0       1      -20        -6        10         -15          10         -19   \n",
       "1       1        0       -39       -18          18          39           0   \n",
       "2       1      -20       -35        10         -45          10           0   \n",
       "3       1      -37       -80       -50          10         -50         -28   \n",
       "4       0       50        50      -105         105        -160          50   \n",
       "\n",
       "   Legend_diff  Mega_diff  \n",
       "0            0          0  \n",
       "1            0          0  \n",
       "2            0          0  \n",
       "3            0          0  \n",
       "4            0          0  "
      ]
     },
     "execution_count": 136,
     "metadata": {},
     "output_type": "execute_result"
    }
   ],
   "source": [
    "result_dt = result2.copy()\n",
    "result_dt = result_dt.drop(['P1_klabel', 'P2_klabel', 'P1_type1', 'P1_type2', 'P2_type1', 'P2_type2'], axis=1)\n",
    "result_dt.head()"
   ]
  },
  {
   "cell_type": "code",
   "execution_count": 137,
   "metadata": {
    "collapsed": true
   },
   "outputs": [],
   "source": [
    "y_combats_dt = result_dt['Winner'] #train target (with winner)\n",
    "X_combats_dt = result_dt.drop('Winner', axis=1) #train data"
   ]
  },
  {
   "cell_type": "code",
   "execution_count": 138,
   "metadata": {
    "collapsed": true
   },
   "outputs": [],
   "source": [
    "train_X_dt, test_X_dt, train_y_dt, test_y_dt = train_test_split(X_combats_dt, y_combats_dt, test_size = 0.25, random_state=10)"
   ]
  },
  {
   "cell_type": "code",
   "execution_count": 139,
   "metadata": {
    "collapsed": true
   },
   "outputs": [],
   "source": [
    "clf_dt = DecisionTreeClassifier(random_state=100)\n",
    "model = clf_dt.fit(train_X_dt, train_y_dt)\n",
    "predict = model.predict(test_X_dt)"
   ]
  },
  {
   "cell_type": "code",
   "execution_count": 140,
   "metadata": {},
   "outputs": [
    {
     "name": "stdout",
     "output_type": "stream",
     "text": [
      "HP_diff: 3.51%\n",
      "Atk_diff: 4.17%\n",
      "Def_diff: 3.78%\n",
      "SpAtk_diff: 3.19%\n",
      "SpDef_diff: 2.79%\n",
      "Speed_diff: 81.88%\n",
      "Legend_diff: 0.40%\n",
      "Mega_diff: 0.28%\n"
     ]
    }
   ],
   "source": [
    "for i in range(clf_dt.n_features_):\n",
    "    test_column = X_combats_r2.columns[i]\n",
    "    feature_importance = clf_dt.feature_importances_[i]\n",
    "    print('%s: %s' % (test_column, \"{:.2%}\".format(feature_importance)))"
   ]
  },
  {
   "cell_type": "code",
   "execution_count": 141,
   "metadata": {
    "scrolled": false
   },
   "outputs": [
    {
     "data": {
      "image/png": "[encoded data removed]",
      "text/plain": [
       "<matplotlib.figure.Figure at 0x1a1f6c3c18>"
      ]
     },
     "metadata": {},
     "output_type": "display_data"
    }
   ],
   "source": [
    "colors = plt.cm.Paired(np.linspace(0, 1, 1))\n",
    "x = X_combats_dt.columns\n",
    "y = clf_dt.feature_importances_\n",
    "\n",
    "plt.figure(figsize=(14,5))\n",
    "plt.barh(x, y, color=colors)\n",
    "plt.ylabel('Percentage')\n",
    "plt.title('Feature Importance of training set (75:25)')\n",
    "plt.show()"
   ]
  },
  {
   "cell_type": "code",
   "execution_count": 142,
   "metadata": {
    "collapsed": true
   },
   "outputs": [],
   "source": [
    "#from sklearn import tree"
   ]
  },
  {
   "cell_type": "code",
   "execution_count": 143,
   "metadata": {
    "collapsed": true
   },
   "outputs": [],
   "source": [
    "#tree.export_graphviz(clf_dt, out_file='tree.dot') "
   ]
  },
  {
   "cell_type": "code",
   "execution_count": 144,
   "metadata": {
    "collapsed": true,
    "scrolled": true
   },
   "outputs": [],
   "source": [
    "#import graphviz\n",
    "#with open(\"tree.dot\") as f:\n",
    "#    dot_graph=f.read()\n",
    "#graphviz.Source(dot_graph)"
   ]
  },
  {
   "cell_type": "code",
   "execution_count": 145,
   "metadata": {},
   "outputs": [
    {
     "name": "stderr",
     "output_type": "stream",
     "text": [
      "ERROR:root:Cell magic `%%` not found.\n"
     ]
    }
   ],
   "source": [
    "%%\n",
    "from sklearn.externals.six import StringIO  \n",
    "import pydot \n",
    "dot_data = StringIO() \n",
    "tree.export_graphviz(clf_dt, out_file=dot_data) \n",
    "graph = pydot.graph_from_dot_data(dot_data.getvalue()) \n",
    "graph[0].write_pdf(\"tree.pdf\")"
   ]
  },
  {
   "cell_type": "markdown",
   "metadata": {},
   "source": [
    "- print the training of random forest\n",
    "- how to improve the training time"
   ]
  },
  {
   "cell_type": "markdown",
   "metadata": {},
   "source": [
    "# Pokemon Combat Prediction"
   ]
  },
  {
   "cell_type": "code",
   "execution_count": 146,
   "metadata": {
    "collapsed": true
   },
   "outputs": [],
   "source": [
    "tests = pd.read_csv(\"/Users/gillianchiang/Desktop/Course/year4_sem2/COMP4912/Data/pokemon-challenge/tests.csv\")"
   ]
  },
  {
   "cell_type": "code",
   "execution_count": 147,
   "metadata": {},
   "outputs": [
    {
     "data": {
      "text/html": [
       "<div>\n",
       "<style>\n",
       "    .dataframe thead tr:only-child th {\n",
       "        text-align: right;\n",
       "    }\n",
       "\n",
       "    .dataframe thead th {\n",
       "        text-align: left;\n",
       "    }\n",
       "\n",
       "    .dataframe tbody tr th {\n",
       "        vertical-align: top;\n",
       "    }\n",
       "</style>\n",
       "<table border=\"1\" class=\"dataframe\">\n",
       "  <thead>\n",
       "    <tr style=\"text-align: right;\">\n",
       "      <th></th>\n",
       "      <th>First_pokemon</th>\n",
       "      <th>Second_pokemon</th>\n",
       "    </tr>\n",
       "  </thead>\n",
       "  <tbody>\n",
       "    <tr>\n",
       "      <th>0</th>\n",
       "      <td>129</td>\n",
       "      <td>117</td>\n",
       "    </tr>\n",
       "    <tr>\n",
       "      <th>1</th>\n",
       "      <td>660</td>\n",
       "      <td>211</td>\n",
       "    </tr>\n",
       "    <tr>\n",
       "      <th>2</th>\n",
       "      <td>706</td>\n",
       "      <td>115</td>\n",
       "    </tr>\n",
       "    <tr>\n",
       "      <th>3</th>\n",
       "      <td>195</td>\n",
       "      <td>618</td>\n",
       "    </tr>\n",
       "    <tr>\n",
       "      <th>4</th>\n",
       "      <td>27</td>\n",
       "      <td>656</td>\n",
       "    </tr>\n",
       "  </tbody>\n",
       "</table>\n",
       "</div>"
      ],
      "text/plain": [
       "   First_pokemon  Second_pokemon\n",
       "0            129             117\n",
       "1            660             211\n",
       "2            706             115\n",
       "3            195             618\n",
       "4             27             656"
      ]
     },
     "execution_count": 147,
     "metadata": {},
     "output_type": "execute_result"
    }
   ],
   "source": [
    "predict_df = tests.copy()\n",
    "predict_df.head()"
   ]
  },
  {
   "cell_type": "code",
   "execution_count": 148,
   "metadata": {
    "scrolled": true
   },
   "outputs": [
    {
     "data": {
      "text/html": [
       "<div>\n",
       "<style>\n",
       "    .dataframe thead tr:only-child th {\n",
       "        text-align: right;\n",
       "    }\n",
       "\n",
       "    .dataframe thead th {\n",
       "        text-align: left;\n",
       "    }\n",
       "\n",
       "    .dataframe tbody tr th {\n",
       "        vertical-align: top;\n",
       "    }\n",
       "</style>\n",
       "<table border=\"1\" class=\"dataframe\">\n",
       "  <thead>\n",
       "    <tr style=\"text-align: right;\">\n",
       "      <th></th>\n",
       "      <th>First_pokemon</th>\n",
       "      <th>Second_pokemon</th>\n",
       "      <th>HP_diff</th>\n",
       "      <th>Atk_diff</th>\n",
       "      <th>Def_diff</th>\n",
       "      <th>SpAtk_diff</th>\n",
       "      <th>SpDef_diff</th>\n",
       "      <th>Speed_diff</th>\n",
       "      <th>Legend_diff</th>\n",
       "      <th>Mega_diff</th>\n",
       "    </tr>\n",
       "  </thead>\n",
       "  <tbody>\n",
       "    <tr>\n",
       "      <th>0</th>\n",
       "      <td>129</td>\n",
       "      <td>117</td>\n",
       "      <td>-10</td>\n",
       "      <td>37</td>\n",
       "      <td>-10</td>\n",
       "      <td>5</td>\n",
       "      <td>5</td>\n",
       "      <td>38</td>\n",
       "      <td>0</td>\n",
       "      <td>0</td>\n",
       "    </tr>\n",
       "    <tr>\n",
       "      <th>1</th>\n",
       "      <td>660</td>\n",
       "      <td>211</td>\n",
       "      <td>-21</td>\n",
       "      <td>9</td>\n",
       "      <td>46</td>\n",
       "      <td>-11</td>\n",
       "      <td>51</td>\n",
       "      <td>-15</td>\n",
       "      <td>0</td>\n",
       "      <td>0</td>\n",
       "    </tr>\n",
       "    <tr>\n",
       "      <th>2</th>\n",
       "      <td>706</td>\n",
       "      <td>115</td>\n",
       "      <td>29</td>\n",
       "      <td>-15</td>\n",
       "      <td>17</td>\n",
       "      <td>110</td>\n",
       "      <td>-30</td>\n",
       "      <td>14</td>\n",
       "      <td>1</td>\n",
       "      <td>0</td>\n",
       "    </tr>\n",
       "    <tr>\n",
       "      <th>3</th>\n",
       "      <td>195</td>\n",
       "      <td>618</td>\n",
       "      <td>-5</td>\n",
       "      <td>-31</td>\n",
       "      <td>-12</td>\n",
       "      <td>-26</td>\n",
       "      <td>-7</td>\n",
       "      <td>-15</td>\n",
       "      <td>0</td>\n",
       "      <td>0</td>\n",
       "    </tr>\n",
       "    <tr>\n",
       "      <th>4</th>\n",
       "      <td>27</td>\n",
       "      <td>656</td>\n",
       "      <td>-125</td>\n",
       "      <td>-15</td>\n",
       "      <td>-50</td>\n",
       "      <td>-9</td>\n",
       "      <td>-14</td>\n",
       "      <td>5</td>\n",
       "      <td>0</td>\n",
       "      <td>0</td>\n",
       "    </tr>\n",
       "  </tbody>\n",
       "</table>\n",
       "</div>"
      ],
      "text/plain": [
       "   First_pokemon  Second_pokemon  HP_diff  Atk_diff  Def_diff  SpAtk_diff  \\\n",
       "0            129             117      -10        37       -10           5   \n",
       "1            660             211      -21         9        46         -11   \n",
       "2            706             115       29       -15        17         110   \n",
       "3            195             618       -5       -31       -12         -26   \n",
       "4             27             656     -125       -15       -50          -9   \n",
       "\n",
       "   SpDef_diff  Speed_diff  Legend_diff  Mega_diff  \n",
       "0           5          38            0          0  \n",
       "1          51         -15            0          0  \n",
       "2         -30          14            1          0  \n",
       "3          -7         -15            0          0  \n",
       "4         -14           5            0          0  "
      ]
     },
     "execution_count": 148,
     "metadata": {},
     "output_type": "execute_result"
    }
   ],
   "source": [
    "#map the battle to pokemons data\n",
    "tests1 = tests.copy()\n",
    "try:\n",
    "    train_df = stat_connect(tests1)   \n",
    "\n",
    "except TypeError:\n",
    "    pass\n",
    "\n",
    "#calculate difference\n",
    "test_new_df = stat_diff(train_df)\n",
    "test_new_df.head()"
   ]
  },
  {
   "cell_type": "code",
   "execution_count": 149,
   "metadata": {
    "scrolled": true
   },
   "outputs": [
    {
     "data": {
      "text/html": [
       "<div>\n",
       "<style>\n",
       "    .dataframe thead tr:only-child th {\n",
       "        text-align: right;\n",
       "    }\n",
       "\n",
       "    .dataframe thead th {\n",
       "        text-align: left;\n",
       "    }\n",
       "\n",
       "    .dataframe tbody tr th {\n",
       "        vertical-align: top;\n",
       "    }\n",
       "</style>\n",
       "<table border=\"1\" class=\"dataframe\">\n",
       "  <thead>\n",
       "    <tr style=\"text-align: right;\">\n",
       "      <th></th>\n",
       "      <th>First_pokemon</th>\n",
       "      <th>Second_pokemon</th>\n",
       "      <th>HP_diff</th>\n",
       "      <th>Atk_diff</th>\n",
       "      <th>Def_diff</th>\n",
       "      <th>SpAtk_diff</th>\n",
       "      <th>SpDef_diff</th>\n",
       "      <th>Speed_diff</th>\n",
       "      <th>Legend_diff</th>\n",
       "      <th>Mega_diff</th>\n",
       "      <th>P1_klabel</th>\n",
       "      <th>P2_klabel</th>\n",
       "    </tr>\n",
       "  </thead>\n",
       "  <tbody>\n",
       "    <tr>\n",
       "      <th>0</th>\n",
       "      <td>[Water, None]</td>\n",
       "      <td>[Normal, None]</td>\n",
       "      <td>-10</td>\n",
       "      <td>37</td>\n",
       "      <td>-10</td>\n",
       "      <td>5</td>\n",
       "      <td>5</td>\n",
       "      <td>38</td>\n",
       "      <td>0</td>\n",
       "      <td>0</td>\n",
       "      <td>2</td>\n",
       "      <td>3</td>\n",
       "    </tr>\n",
       "    <tr>\n",
       "      <th>1</th>\n",
       "      <td>[Grass, Steel]</td>\n",
       "      <td>[Water, Ground]</td>\n",
       "      <td>-21</td>\n",
       "      <td>9</td>\n",
       "      <td>46</td>\n",
       "      <td>-11</td>\n",
       "      <td>51</td>\n",
       "      <td>-15</td>\n",
       "      <td>0</td>\n",
       "      <td>0</td>\n",
       "      <td>3</td>\n",
       "      <td>3</td>\n",
       "    </tr>\n",
       "    <tr>\n",
       "      <th>2</th>\n",
       "      <td>[Electric, Flying]</td>\n",
       "      <td>[Fighting, None]</td>\n",
       "      <td>29</td>\n",
       "      <td>-15</td>\n",
       "      <td>17</td>\n",
       "      <td>110</td>\n",
       "      <td>-30</td>\n",
       "      <td>14</td>\n",
       "      <td>1</td>\n",
       "      <td>0</td>\n",
       "      <td>1</td>\n",
       "      <td>2</td>\n",
       "    </tr>\n",
       "    <tr>\n",
       "      <th>3</th>\n",
       "      <td>[Electric, None]</td>\n",
       "      <td>[Grass, None]</td>\n",
       "      <td>-5</td>\n",
       "      <td>-31</td>\n",
       "      <td>-12</td>\n",
       "      <td>-26</td>\n",
       "      <td>-7</td>\n",
       "      <td>-15</td>\n",
       "      <td>0</td>\n",
       "      <td>0</td>\n",
       "      <td>0</td>\n",
       "      <td>2</td>\n",
       "    </tr>\n",
       "    <tr>\n",
       "      <th>4</th>\n",
       "      <td>[Normal, Flying]</td>\n",
       "      <td>[Water, None]</td>\n",
       "      <td>-125</td>\n",
       "      <td>-15</td>\n",
       "      <td>-50</td>\n",
       "      <td>-9</td>\n",
       "      <td>-14</td>\n",
       "      <td>5</td>\n",
       "      <td>0</td>\n",
       "      <td>0</td>\n",
       "      <td>0</td>\n",
       "      <td>3</td>\n",
       "    </tr>\n",
       "  </tbody>\n",
       "</table>\n",
       "</div>"
      ],
      "text/plain": [
       "        First_pokemon    Second_pokemon  HP_diff  Atk_diff  Def_diff  \\\n",
       "0       [Water, None]    [Normal, None]      -10        37       -10   \n",
       "1      [Grass, Steel]   [Water, Ground]      -21         9        46   \n",
       "2  [Electric, Flying]  [Fighting, None]       29       -15        17   \n",
       "3    [Electric, None]     [Grass, None]       -5       -31       -12   \n",
       "4    [Normal, Flying]     [Water, None]     -125       -15       -50   \n",
       "\n",
       "   SpAtk_diff  SpDef_diff  Speed_diff  Legend_diff  Mega_diff  P1_klabel  \\\n",
       "0           5           5          38            0          0          2   \n",
       "1         -11          51         -15            0          0          3   \n",
       "2         110         -30          14            1          0          1   \n",
       "3         -26          -7         -15            0          0          0   \n",
       "4          -9         -14           5            0          0          0   \n",
       "\n",
       "   P2_klabel  \n",
       "0          3  \n",
       "1          3  \n",
       "2          2  \n",
       "3          2  \n",
       "4          3  "
      ]
     },
     "execution_count": 149,
     "metadata": {},
     "output_type": "execute_result"
    }
   ],
   "source": [
    "try:  \n",
    "    test_new_df = klabel_connect(test_new_df)\n",
    "    test_new_df = type_connect(test_new_df)\n",
    "\n",
    "except TypeError:\n",
    "    pass\n",
    "\n",
    "test_new_df.head()"
   ]
  },
  {
   "cell_type": "code",
   "execution_count": 150,
   "metadata": {
    "collapsed": true
   },
   "outputs": [],
   "source": [
    "type_chart[\"None\"] = 1\n",
    "type_chart = type_chart.set_value('18', 'Attacking', 'None').fillna(1).copy()  "
   ]
  },
  {
   "cell_type": "code",
   "execution_count": 151,
   "metadata": {},
   "outputs": [
    {
     "name": "stderr",
     "output_type": "stream",
     "text": [
      "ERROR:root:Cell magic `%%` not found.\n"
     ]
    }
   ],
   "source": [
    "%%\n",
    "test_new_df2 = type_effect(test_new_df) #need to run around 1 min\n",
    "test_new_df2.head()"
   ]
  },
  {
   "cell_type": "code",
   "execution_count": 152,
   "metadata": {},
   "outputs": [
    {
     "name": "stderr",
     "output_type": "stream",
     "text": [
      "ERROR:root:Cell magic `%%` not found.\n"
     ]
    }
   ],
   "source": [
    "%%\n",
    "#to save time, save test_new_df2 into csv first then use it to do the further implementation\n",
    "test_new_df2.to_csv('/Users/gillianchiang/Desktop/Course/year4_sem2/COMP4912/Data/pokemon-challenge/test_train_output.csv')"
   ]
  },
  {
   "cell_type": "code",
   "execution_count": 153,
   "metadata": {},
   "outputs": [
    {
     "data": {
      "text/html": [
       "<div>\n",
       "<style>\n",
       "    .dataframe thead tr:only-child th {\n",
       "        text-align: right;\n",
       "    }\n",
       "\n",
       "    .dataframe thead th {\n",
       "        text-align: left;\n",
       "    }\n",
       "\n",
       "    .dataframe tbody tr th {\n",
       "        vertical-align: top;\n",
       "    }\n",
       "</style>\n",
       "<table border=\"1\" class=\"dataframe\">\n",
       "  <thead>\n",
       "    <tr style=\"text-align: right;\">\n",
       "      <th></th>\n",
       "      <th>HP_diff</th>\n",
       "      <th>Atk_diff</th>\n",
       "      <th>Def_diff</th>\n",
       "      <th>SpAtk_diff</th>\n",
       "      <th>SpDef_diff</th>\n",
       "      <th>Speed_diff</th>\n",
       "      <th>Legend_diff</th>\n",
       "      <th>Mega_diff</th>\n",
       "      <th>P1_klabel</th>\n",
       "      <th>P2_klabel</th>\n",
       "      <th>P1_type1</th>\n",
       "      <th>P1_type2</th>\n",
       "      <th>P2_type1</th>\n",
       "      <th>P2_type2</th>\n",
       "    </tr>\n",
       "  </thead>\n",
       "  <tbody>\n",
       "    <tr>\n",
       "      <th>0</th>\n",
       "      <td>-10</td>\n",
       "      <td>37</td>\n",
       "      <td>-10</td>\n",
       "      <td>5</td>\n",
       "      <td>5</td>\n",
       "      <td>38</td>\n",
       "      <td>0</td>\n",
       "      <td>0</td>\n",
       "      <td>2</td>\n",
       "      <td>3</td>\n",
       "      <td>1.0</td>\n",
       "      <td>1.0</td>\n",
       "      <td>1.0</td>\n",
       "      <td>1.0</td>\n",
       "    </tr>\n",
       "    <tr>\n",
       "      <th>1</th>\n",
       "      <td>-21</td>\n",
       "      <td>9</td>\n",
       "      <td>46</td>\n",
       "      <td>-11</td>\n",
       "      <td>51</td>\n",
       "      <td>-15</td>\n",
       "      <td>0</td>\n",
       "      <td>0</td>\n",
       "      <td>3</td>\n",
       "      <td>3</td>\n",
       "      <td>4.0</td>\n",
       "      <td>0.5</td>\n",
       "      <td>0.5</td>\n",
       "      <td>1.0</td>\n",
       "    </tr>\n",
       "    <tr>\n",
       "      <th>2</th>\n",
       "      <td>29</td>\n",
       "      <td>-15</td>\n",
       "      <td>17</td>\n",
       "      <td>110</td>\n",
       "      <td>-30</td>\n",
       "      <td>14</td>\n",
       "      <td>1</td>\n",
       "      <td>0</td>\n",
       "      <td>1</td>\n",
       "      <td>2</td>\n",
       "      <td>1.0</td>\n",
       "      <td>2.0</td>\n",
       "      <td>0.5</td>\n",
       "      <td>1.0</td>\n",
       "    </tr>\n",
       "    <tr>\n",
       "      <th>3</th>\n",
       "      <td>-5</td>\n",
       "      <td>-31</td>\n",
       "      <td>-12</td>\n",
       "      <td>-26</td>\n",
       "      <td>-7</td>\n",
       "      <td>-15</td>\n",
       "      <td>0</td>\n",
       "      <td>0</td>\n",
       "      <td>0</td>\n",
       "      <td>2</td>\n",
       "      <td>0.5</td>\n",
       "      <td>1.0</td>\n",
       "      <td>1.0</td>\n",
       "      <td>1.0</td>\n",
       "    </tr>\n",
       "    <tr>\n",
       "      <th>4</th>\n",
       "      <td>-125</td>\n",
       "      <td>-15</td>\n",
       "      <td>-50</td>\n",
       "      <td>-9</td>\n",
       "      <td>-14</td>\n",
       "      <td>5</td>\n",
       "      <td>0</td>\n",
       "      <td>0</td>\n",
       "      <td>0</td>\n",
       "      <td>3</td>\n",
       "      <td>1.0</td>\n",
       "      <td>1.0</td>\n",
       "      <td>1.0</td>\n",
       "      <td>1.0</td>\n",
       "    </tr>\n",
       "  </tbody>\n",
       "</table>\n",
       "</div>"
      ],
      "text/plain": [
       "   HP_diff  Atk_diff  Def_diff  SpAtk_diff  SpDef_diff  Speed_diff  \\\n",
       "0      -10        37       -10           5           5          38   \n",
       "1      -21         9        46         -11          51         -15   \n",
       "2       29       -15        17         110         -30          14   \n",
       "3       -5       -31       -12         -26          -7         -15   \n",
       "4     -125       -15       -50          -9         -14           5   \n",
       "\n",
       "   Legend_diff  Mega_diff  P1_klabel  P2_klabel  P1_type1  P1_type2  P2_type1  \\\n",
       "0            0          0          2          3       1.0       1.0       1.0   \n",
       "1            0          0          3          3       4.0       0.5       0.5   \n",
       "2            1          0          1          2       1.0       2.0       0.5   \n",
       "3            0          0          0          2       0.5       1.0       1.0   \n",
       "4            0          0          0          3       1.0       1.0       1.0   \n",
       "\n",
       "   P2_type2  \n",
       "0       1.0  \n",
       "1       1.0  \n",
       "2       1.0  \n",
       "3       1.0  \n",
       "4       1.0  "
      ]
     },
     "execution_count": 153,
     "metadata": {},
     "output_type": "execute_result"
    }
   ],
   "source": [
    "test_output = pd.read_csv(\"/Users/gillianchiang/Desktop/Course/year4_sem2/COMP4912/Data/pokemon-challenge/test_train_output.csv\")\n",
    "test_output = test_output.drop([\"Unnamed: 0\"], axis=1).copy()\n",
    "test_output.head()"
   ]
  },
  {
   "cell_type": "markdown",
   "metadata": {},
   "source": [
    "## Random Forest Classification"
   ]
  },
  {
   "cell_type": "markdown",
   "metadata": {},
   "source": [
    "Before performing random forest classification, we need to decide the best parameters. With default parameter n_estimators = 100, the accuracy of the performance is around 96.7%. "
   ]
  },
  {
   "cell_type": "markdown",
   "metadata": {},
   "source": [
    "### Parameter Tuning "
   ]
  },
  {
   "cell_type": "code",
   "execution_count": 154,
   "metadata": {
    "collapsed": true
   },
   "outputs": [],
   "source": [
    "from time import time"
   ]
  },
  {
   "cell_type": "markdown",
   "metadata": {},
   "source": [
    "https://www.kaggle.com/hadend/tuning-random-forest-parameters"
   ]
  },
  {
   "cell_type": "code",
   "execution_count": 155,
   "metadata": {},
   "outputs": [],
   "source": [
    "# calculate the time to run a GridSearchCV for multiple numbers of parameter permutations.  \n",
    "grid_times = {}\n",
    "estimator = RandomForestClassifier(max_features='auto', random_state=10)\n",
    "\n",
    "\n",
    "# I commented this out after running once locally since this block of code takes a long time to run\n",
    "\n",
    "for number in np.arange(2, 300, 50):\n",
    "    \n",
    "    param = np.arange(1,number,10)\n",
    "    param_grid = {\"n_estimators\": param,\n",
    "                  \"criterion\": [\"gini\", \"entropy\"]}\n",
    "    \n",
    "    grid_search = GridSearchCV(estimator, param_grid = param_grid, scoring='roc_auc')\n",
    "    \n",
    "    t0 = time()\n",
    "    grid_search.fit(X_combats_r2,y_combats_r2)\n",
    "    compute_time = time() - t0\n",
    "    grid_times[len(grid_search.grid_scores_)] = time() - t0\n",
    "    \n",
    "grid_times = pd.DataFrame.from_dict(grid_times, orient = 'index')"
   ]
  },
  {
   "cell_type": "code",
   "execution_count": 156,
   "metadata": {},
   "outputs": [
    {
     "data": {
      "text/plain": [
       "Text(0.5,1,'Time vs. Number of Parameter Permutations of GridSearchCV')"
      ]
     },
     "execution_count": 156,
     "metadata": {},
     "output_type": "execute_result"
    },
    {
     "data": {
      "image/png": "[encoded data removed]",
      "text/plain": [
       "<matplotlib.figure.Figure at 0x1a1efdb0f0>"
      ]
     },
     "metadata": {},
     "output_type": "display_data"
    }
   ],
   "source": [
    "final = pd.DataFrame.from_dict(grid_times)\n",
    "final = final.sort_index()\n",
    "plt.plot(final.index.values, final[0])\n",
    "plt.xlabel('Number of Parameter Permutations')\n",
    "plt.ylabel('Time (sec)')\n",
    "plt.title('Time vs. Number of Parameter Permutations of GridSearchCV')"
   ]
  },
  {
   "cell_type": "code",
   "execution_count": 157,
   "metadata": {
    "collapsed": true
   },
   "outputs": [],
   "source": [
    "# function takes a RF parameter and a ranger and produces a plot and dataframe of CV scores for parameter values\n",
    "def evaluate_param(parameter, num_range, index):\n",
    "    grid_search = GridSearchCV(clf, param_grid = {parameter: num_range})\n",
    "    grid_search.fit(X_combats_r2[features], y_combats_r2)\n",
    "    \n",
    "    df = {}\n",
    "    for i, score in enumerate(grid_search.grid_scores_):\n",
    "        df[score[0][parameter]] = score[1]\n",
    "       \n",
    "    \n",
    "    df = pd.DataFrame.from_dict(df, orient='index')\n",
    "    df.reset_index(level=0, inplace=True)\n",
    "    df = df.sort_values(by='index')\n",
    " \n",
    "    plt.subplot(3,2,index)\n",
    "    plot = plt.plot(df['index'], df[0])\n",
    "    plt.title(parameter)\n",
    "    return plot, df"
   ]
  },
  {
   "cell_type": "code",
   "execution_count": 158,
   "metadata": {
    "collapsed": true
   },
   "outputs": [],
   "source": [
    "# parameters and ranges to plot\n",
    "param_grid = {\"n_estimators\": np.arange(2, 120, 2),\n",
    "              \"max_depth\": np.arange(1, 28, 1),\n",
    "              \"min_samples_split\": np.arange(2,150,1),\n",
    "              \"min_samples_leaf\": np.arange(1,60,1),\n",
    "              \"max_leaf_nodes\": np.arange(2,1500,100),\n",
    "              \"min_weight_fraction_leaf\": np.arange(0.0,0.4, 0.1)}"
   ]
  },
  {
   "cell_type": "code",
   "execution_count": 159,
   "metadata": {},
   "outputs": [
    {
     "data": {
      "image/png": "[encoded data removed]",
      "text/plain": [
       "<matplotlib.figure.Figure at 0x1a1f1c95c0>"
      ]
     },
     "metadata": {},
     "output_type": "display_data"
    }
   ],
   "source": [
    "features = X_combats_r2.columns\n",
    "index = 1\n",
    "plt.figure(figsize=(16,12))\n",
    "for parameter, param_range in dict.items(param_grid):   \n",
    "    evaluate_param(parameter, param_range, index)\n",
    "    index += 1"
   ]
  },
  {
   "cell_type": "code",
   "execution_count": 160,
   "metadata": {
    "collapsed": true
   },
   "outputs": [],
   "source": [
    "from operator import itemgetter\n",
    "\n",
    "# Utility function to report best scores\n",
    "def report(grid_scores, n_top):\n",
    "    top_scores = sorted(grid_scores, key=itemgetter(1), reverse=True)[:n_top]\n",
    "    for i, score in enumerate(top_scores):\n",
    "        print(\"Model with rank: {0}\".format(i + 1))\n",
    "        print(\"Mean validation score: {0:.4f})\".format(\n",
    "              score.mean_validation_score,\n",
    "              np.std(score.cv_validation_scores)))\n",
    "        print(\"Parameters: {0}\".format(score.parameters))\n",
    "        print(\"\")"
   ]
  },
  {
   "cell_type": "code",
   "execution_count": 180,
   "metadata": {},
   "outputs": [],
   "source": [
    "# parameters for GridSearchCV, dont assume max_leaf_node\n",
    "param_grid2 = {\"n_estimators\": range(10,120,1),\n",
    "              \"max_depth\": range(15,25,1),\n",
    "              \"min_samples_split\": [2],\n",
    "              \"min_samples_leaf\": [1],\n",
    "              \"min_weight_fraction_leaf\": [0.0],\n",
    "              }"
   ]
  },
  {
   "cell_type": "code",
   "execution_count": 181,
   "metadata": {},
   "outputs": [
    {
     "name": "stdout",
     "output_type": "stream",
     "text": [
      "Model with rank: 1\n",
      "Mean validation score: 0.9636)\n",
      "Parameters: {'max_depth': 23, 'min_samples_leaf': 1, 'min_samples_split': 2, 'min_weight_fraction_leaf': 0.0, 'n_estimators': 56}\n",
      "\n",
      "Model with rank: 2\n",
      "Mean validation score: 0.9636)\n",
      "Parameters: {'max_depth': 23, 'min_samples_leaf': 1, 'min_samples_split': 2, 'min_weight_fraction_leaf': 0.0, 'n_estimators': 55}\n",
      "\n",
      "Model with rank: 3\n",
      "Mean validation score: 0.9636)\n",
      "Parameters: {'max_depth': 23, 'min_samples_leaf': 1, 'min_samples_split': 2, 'min_weight_fraction_leaf': 0.0, 'n_estimators': 113}\n",
      "\n",
      "Model with rank: 4\n",
      "Mean validation score: 0.9635)\n",
      "Parameters: {'max_depth': 23, 'min_samples_leaf': 1, 'min_samples_split': 2, 'min_weight_fraction_leaf': 0.0, 'n_estimators': 58}\n",
      "\n"
     ]
    }
   ],
   "source": [
    "grid_search = GridSearchCV(clf, param_grid=param_grid2)\n",
    "grid_search.fit(X_combats_r2[features], y_combats_r2)\n",
    "\n",
    "report(grid_search.grid_scores_, 4)"
   ]
  },
  {
   "cell_type": "markdown",
   "metadata": {},
   "source": [
    "### Random Forest"
   ]
  },
  {
   "cell_type": "code",
   "execution_count": 184,
   "metadata": {},
   "outputs": [
    {
     "name": "stdout",
     "output_type": "stream",
     "text": [
      "Accuracy of Random Forest: 0.963040\n",
      "AUC Score (Train): 0.962684\n"
     ]
    }
   ],
   "source": [
    "#test accuracy from training data \n",
    "clf_test = RandomForestClassifier(random_state=10)\n",
    "\n",
    "model_test = clf_test.fit(train_X25_r2, train_y25_r2)\n",
    "predict_test = model_test.predict(test_X25_r2)\n",
    "print('Accuracy of Random Forest: %f' % accuracy_score(predict_test, test_y25_r2))\n",
    "print(\"AUC Score (Train): %f\" % roc_auc_score(predict_test, test_y25_r2)) "
   ]
  },
  {
   "cell_type": "markdown",
   "metadata": {},
   "source": [
    "After parameter tuning "
   ]
  },
  {
   "cell_type": "code",
   "execution_count": 182,
   "metadata": {},
   "outputs": [
    {
     "name": "stdout",
     "output_type": "stream",
     "text": [
      "Accuracy of Random Forest: 0.966720\n",
      "AUC Score (Train): 0.966466\n"
     ]
    }
   ],
   "source": [
    "\n",
    "#test accuracy from training data \n",
    "#max_depth=13\n",
    "clf_test = RandomForestClassifier(n_estimators=56, #minor\n",
    "                                  max_depth=23, # major influence\n",
    "                                  min_samples_split=2, #default\n",
    "                                  min_samples_leaf=1, #default\n",
    "                                  max_leaf_nodes=None, # major influence, dont assume, that the system find the best leaf node\n",
    "                                  min_weight_fraction_leaf=0.0, #major influence\n",
    "                                  random_state=10)\n",
    "\n",
    "model_test = clf_test.fit(train_X25_r2, train_y25_r2)\n",
    "predict_test = model_test.predict(test_X25_r2)\n",
    "print('Accuracy of Random Forest: %f' % accuracy_score(predict_test, test_y25_r2))\n",
    "print(\"AUC Score (Train): %f\" % roc_auc_score(predict_test, test_y25_r2)) "
   ]
  },
  {
   "cell_type": "markdown",
   "metadata": {},
   "source": [
    "## Data Visualization"
   ]
  },
  {
   "cell_type": "markdown",
   "metadata": {},
   "source": [
    "Find out with attribute affects the training result the most"
   ]
  },
  {
   "cell_type": "code",
   "execution_count": 167,
   "metadata": {
    "scrolled": true
   },
   "outputs": [
    {
     "name": "stdout",
     "output_type": "stream",
     "text": [
      "HP_diff: 2.16%\n",
      "Atk_diff: 5.06%\n",
      "Def_diff: 1.91%\n",
      "SpAtk_diff: 4.59%\n",
      "SpDef_diff: 2.02%\n",
      "Speed_diff: 68.96%\n",
      "Legend_diff: 0.71%\n",
      "Mega_diff: 0.34%\n",
      "P1_klabel: 4.73%\n",
      "P2_klabel: 3.57%\n",
      "P1_type1: 2.50%\n",
      "P1_type2: 1.16%\n",
      "P2_type1: 1.38%\n",
      "P2_type2: 0.92%\n"
     ]
    }
   ],
   "source": [
    "for i in range(clf_test.n_features_):\n",
    "    test_column = test_output.columns[i]\n",
    "    feature_importance = clf_test.feature_importances_[i]\n",
    "    print('%s: %s' % (test_column, \"{:.2%}\".format(feature_importance)))"
   ]
  },
  {
   "cell_type": "code",
   "execution_count": 168,
   "metadata": {},
   "outputs": [
    {
     "data": {
      "image/png": "[encoded data removed]",
      "text/plain": [
       "<matplotlib.figure.Figure at 0x1a1f6ad7f0>"
      ]
     },
     "metadata": {},
     "output_type": "display_data"
    }
   ],
   "source": [
    "colors = plt.cm.Paired(np.linspace(0, 1, 1))\n",
    "x = test_output.columns\n",
    "y = clf_test.feature_importances_\n",
    "\n",
    "plt.figure(figsize=(13,8))\n",
    "plt.barh(x, y, color=colors)\n",
    "plt.ylabel('Percentage')\n",
    "plt.title('Feature Importance of test set')\n",
    "plt.show()"
   ]
  },
  {
   "cell_type": "markdown",
   "metadata": {},
   "source": [
    "According to this result speed is the most important feature to impact the combat result "
   ]
  },
  {
   "cell_type": "markdown",
   "metadata": {},
   "source": [
    "## Predict tests.csv With Random Forest"
   ]
  },
  {
   "cell_type": "code",
   "execution_count": 169,
   "metadata": {
    "collapsed": true
   },
   "outputs": [],
   "source": [
    "clf = RandomForestClassifier(n_estimators=140, max_features='auto', oob_score=True, random_state=10)\n",
    "model = clf.fit(X_combats_r2, y_combats_r2)\n",
    "predict = model.predict(test_output)"
   ]
  },
  {
   "cell_type": "code",
   "execution_count": 170,
   "metadata": {
    "scrolled": false
   },
   "outputs": [
    {
     "data": {
      "text/html": [
       "<div>\n",
       "<style>\n",
       "    .dataframe thead tr:only-child th {\n",
       "        text-align: right;\n",
       "    }\n",
       "\n",
       "    .dataframe thead th {\n",
       "        text-align: left;\n",
       "    }\n",
       "\n",
       "    .dataframe tbody tr th {\n",
       "        vertical-align: top;\n",
       "    }\n",
       "</style>\n",
       "<table border=\"1\" class=\"dataframe\">\n",
       "  <thead>\n",
       "    <tr style=\"text-align: right;\">\n",
       "      <th></th>\n",
       "      <th>First_pokemon</th>\n",
       "      <th>Second_pokemon</th>\n",
       "      <th>Winner</th>\n",
       "    </tr>\n",
       "  </thead>\n",
       "  <tbody>\n",
       "    <tr>\n",
       "      <th>0</th>\n",
       "      <td>129</td>\n",
       "      <td>117</td>\n",
       "      <td>129</td>\n",
       "    </tr>\n",
       "    <tr>\n",
       "      <th>1</th>\n",
       "      <td>660</td>\n",
       "      <td>211</td>\n",
       "      <td>211</td>\n",
       "    </tr>\n",
       "    <tr>\n",
       "      <th>2</th>\n",
       "      <td>706</td>\n",
       "      <td>115</td>\n",
       "      <td>706</td>\n",
       "    </tr>\n",
       "    <tr>\n",
       "      <th>3</th>\n",
       "      <td>195</td>\n",
       "      <td>618</td>\n",
       "      <td>618</td>\n",
       "    </tr>\n",
       "    <tr>\n",
       "      <th>4</th>\n",
       "      <td>27</td>\n",
       "      <td>656</td>\n",
       "      <td>27</td>\n",
       "    </tr>\n",
       "    <tr>\n",
       "      <th>5</th>\n",
       "      <td>126</td>\n",
       "      <td>222</td>\n",
       "      <td>126</td>\n",
       "    </tr>\n",
       "    <tr>\n",
       "      <th>6</th>\n",
       "      <td>436</td>\n",
       "      <td>207</td>\n",
       "      <td>436</td>\n",
       "    </tr>\n",
       "    <tr>\n",
       "      <th>7</th>\n",
       "      <td>121</td>\n",
       "      <td>36</td>\n",
       "      <td>36</td>\n",
       "    </tr>\n",
       "    <tr>\n",
       "      <th>8</th>\n",
       "      <td>169</td>\n",
       "      <td>636</td>\n",
       "      <td>169</td>\n",
       "    </tr>\n",
       "    <tr>\n",
       "      <th>9</th>\n",
       "      <td>302</td>\n",
       "      <td>688</td>\n",
       "      <td>688</td>\n",
       "    </tr>\n",
       "  </tbody>\n",
       "</table>\n",
       "</div>"
      ],
      "text/plain": [
       "   First_pokemon  Second_pokemon  Winner\n",
       "0            129             117     129\n",
       "1            660             211     211\n",
       "2            706             115     706\n",
       "3            195             618     618\n",
       "4             27             656      27\n",
       "5            126             222     126\n",
       "6            436             207     436\n",
       "7            121              36      36\n",
       "8            169             636     169\n",
       "9            302             688     688"
      ]
     },
     "execution_count": 170,
     "metadata": {},
     "output_type": "execute_result"
    }
   ],
   "source": [
    "predict_df['Winner'] = predict\n",
    "predict_df['Winner'] = np.where(predict_df['Winner'] == 0, predict_df['First_pokemon'], predict_df['Second_pokemon'])\n",
    "predict_df.head(10)"
   ]
  },
  {
   "cell_type": "code",
   "execution_count": 171,
   "metadata": {
    "collapsed": true
   },
   "outputs": [],
   "source": [
    "#predict_df.to_csv('/Users/gillianchiang/Desktop/Course/year4_sem2/COMP4912/Data/pokemon-challenge/test_output.csv')"
   ]
  },
  {
   "cell_type": "code",
   "execution_count": null,
   "metadata": {
    "collapsed": true
   },
   "outputs": [],
   "source": []
  }
 ],
 "metadata": {
  "kernelspec": {
   "display_name": "Python 3",
   "language": "python",
   "name": "python3"
  },
  "language_info": {
   "codemirror_mode": {
    "name": "ipython",
    "version": 3
   },
   "file_extension": ".py",
   "mimetype": "text/x-python",
   "name": "python",
   "nbconvert_exporter": "python",
   "pygments_lexer": "ipython3",
   "version": "3.6.3"
  },
  "toc": {
   "nav_menu": {
    "height": "208px",
    "width": "277px"
   },
   "number_sections": true,
   "sideBar": true,
   "skip_h1_title": false,
   "title_cell": "Table of Contents",
   "title_sidebar": "Contents",
   "toc_cell": true,
   "toc_position": {
    "height": "calc(100% - 180px)",
    "left": "10px",
    "top": "150px",
    "width": "295px"
   },
   "toc_section_display": true,
   "toc_window_display": true
  }
 },
 "nbformat": 4,
 "nbformat_minor": 2
}
