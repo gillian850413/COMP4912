{
 "cells": [
  {
   "cell_type": "markdown",
   "metadata": {
    "toc": true
   },
   "source": [
    "<h1>Table of Contents<span class=\"tocSkip\"></span></h1>\n",
    "<div class=\"toc\"><ul class=\"toc-item\"><li><span><a href=\"#Exploratory-Data-Analysis\" data-toc-modified-id=\"Exploratory-Data-Analysis-1\"><span class=\"toc-item-num\">1&nbsp;&nbsp;</span>Exploratory Data Analysis</a></span><ul class=\"toc-item\"><li><span><a href=\"#Data-Cleaning\" data-toc-modified-id=\"Data-Cleaning-1.1\"><span class=\"toc-item-num\">1.1&nbsp;&nbsp;</span>Data Cleaning</a></span></li><li><span><a href=\"#Principal-Component-Analysis\" data-toc-modified-id=\"Principal-Component-Analysis-1.2\"><span class=\"toc-item-num\">1.2&nbsp;&nbsp;</span>Principal Component Analysis</a></span><ul class=\"toc-item\"><li><span><a href=\"#Preprocessing-Data\" data-toc-modified-id=\"Preprocessing-Data-1.2.1\"><span class=\"toc-item-num\">1.2.1&nbsp;&nbsp;</span>Preprocessing Data</a></span></li><li><span><a href=\"#Perfrom-PCA\" data-toc-modified-id=\"Perfrom-PCA-1.2.2\"><span class=\"toc-item-num\">1.2.2&nbsp;&nbsp;</span>Perfrom PCA</a></span></li></ul></li><li><span><a href=\"#Visualize-the-dataset\" data-toc-modified-id=\"Visualize-the-dataset-1.3\"><span class=\"toc-item-num\">1.3&nbsp;&nbsp;</span>Visualize the dataset</a></span></li></ul></li><li><span><a href=\"#Unsupervised-Machine-Learning\" data-toc-modified-id=\"Unsupervised-Machine-Learning-2\"><span class=\"toc-item-num\">2&nbsp;&nbsp;</span>Unsupervised Machine Learning</a></span><ul class=\"toc-item\"><li><span><a href=\"#Mean-Shift-Clustering\" data-toc-modified-id=\"Mean-Shift-Clustering-2.1\"><span class=\"toc-item-num\">2.1&nbsp;&nbsp;</span>Mean Shift Clustering</a></span><ul class=\"toc-item\"><li><span><a href=\"#Outlier-Analysis\" data-toc-modified-id=\"Outlier-Analysis-2.1.1\"><span class=\"toc-item-num\">2.1.1&nbsp;&nbsp;</span>Outlier Analysis</a></span><ul class=\"toc-item\"><li><span><a href=\"#Analyze-Cluster-2\" data-toc-modified-id=\"Analyze-Cluster-2-2.1.1.1\"><span class=\"toc-item-num\">2.1.1.1&nbsp;&nbsp;</span>Analyze Cluster 2</a></span></li><li><span><a href=\"#Analyze-Cluster-3\" data-toc-modified-id=\"Analyze-Cluster-3-2.1.1.2\"><span class=\"toc-item-num\">2.1.1.2&nbsp;&nbsp;</span>Analyze Cluster 3</a></span></li></ul></li></ul></li><li><span><a href=\"#Kmeans\" data-toc-modified-id=\"Kmeans-2.2\"><span class=\"toc-item-num\">2.2&nbsp;&nbsp;</span>Kmeans</a></span></li></ul></li><li><span><a href=\"#Pokemon-Combat-Prediction\" data-toc-modified-id=\"Pokemon-Combat-Prediction-3\"><span class=\"toc-item-num\">3&nbsp;&nbsp;</span>Pokemon Combat Prediction</a></span><ul class=\"toc-item\"><li><span><a href=\"#Combat-Prediction\" data-toc-modified-id=\"Combat-Prediction-3.1\"><span class=\"toc-item-num\">3.1&nbsp;&nbsp;</span>Combat Prediction</a></span></li></ul></li></ul></div>"
   ]
  },
  {
   "cell_type": "markdown",
   "metadata": {},
   "source": [
    "# Exploratory Data Analysis"
   ]
  },
  {
   "cell_type": "code",
   "execution_count": 448,
   "metadata": {
    "collapsed": true
   },
   "outputs": [],
   "source": [
    "%matplotlib inline"
   ]
  },
  {
   "cell_type": "code",
   "execution_count": 449,
   "metadata": {
    "collapsed": true
   },
   "outputs": [],
   "source": [
    "import numpy as np\n",
    "import pandas as pd\n",
    "import seaborn as sns\n",
    "import matplotlib.cm as cm\n",
    "import matplotlib.pyplot as plt\n",
    "from sklearn.preprocessing import StandardScaler\n",
    "from sklearn.decomposition import PCA\n",
    "from sklearn.cluster import MeanShift\n",
    "from mpl_toolkits.mplot3d import Axes3D"
   ]
  },
  {
   "cell_type": "code",
   "execution_count": 450,
   "metadata": {
    "collapsed": true
   },
   "outputs": [],
   "source": [
    "#load data\n",
    "pokemon = pd.read_csv(\"/Users/gillianchiang/Desktop/Course/year4_sem2/COMP4912/Data/pokemon-challenge/pokemon.csv\")\n",
    "combats = pd.read_csv(\"/Users/gillianchiang/Desktop/Course/year4_sem2/COMP4912/Data/pokemon-challenge/combats.csv\")"
   ]
  },
  {
   "cell_type": "code",
   "execution_count": 451,
   "metadata": {},
   "outputs": [
    {
     "data": {
      "text/html": [
       "<div>\n",
       "<style>\n",
       "    .dataframe thead tr:only-child th {\n",
       "        text-align: right;\n",
       "    }\n",
       "\n",
       "    .dataframe thead th {\n",
       "        text-align: left;\n",
       "    }\n",
       "\n",
       "    .dataframe tbody tr th {\n",
       "        vertical-align: top;\n",
       "    }\n",
       "</style>\n",
       "<table border=\"1\" class=\"dataframe\">\n",
       "  <thead>\n",
       "    <tr style=\"text-align: right;\">\n",
       "      <th></th>\n",
       "      <th>#</th>\n",
       "      <th>Name</th>\n",
       "      <th>Type 1</th>\n",
       "      <th>Type 2</th>\n",
       "      <th>HP</th>\n",
       "      <th>Attack</th>\n",
       "      <th>Defense</th>\n",
       "      <th>Sp. Atk</th>\n",
       "      <th>Sp. Def</th>\n",
       "      <th>Speed</th>\n",
       "      <th>Generation</th>\n",
       "      <th>Legendary</th>\n",
       "    </tr>\n",
       "  </thead>\n",
       "  <tbody>\n",
       "    <tr>\n",
       "      <th>0</th>\n",
       "      <td>1</td>\n",
       "      <td>Bulbasaur</td>\n",
       "      <td>Grass</td>\n",
       "      <td>Poison</td>\n",
       "      <td>45</td>\n",
       "      <td>49</td>\n",
       "      <td>49</td>\n",
       "      <td>65</td>\n",
       "      <td>65</td>\n",
       "      <td>45</td>\n",
       "      <td>1</td>\n",
       "      <td>False</td>\n",
       "    </tr>\n",
       "    <tr>\n",
       "      <th>1</th>\n",
       "      <td>2</td>\n",
       "      <td>Ivysaur</td>\n",
       "      <td>Grass</td>\n",
       "      <td>Poison</td>\n",
       "      <td>60</td>\n",
       "      <td>62</td>\n",
       "      <td>63</td>\n",
       "      <td>80</td>\n",
       "      <td>80</td>\n",
       "      <td>60</td>\n",
       "      <td>1</td>\n",
       "      <td>False</td>\n",
       "    </tr>\n",
       "    <tr>\n",
       "      <th>2</th>\n",
       "      <td>3</td>\n",
       "      <td>Venusaur</td>\n",
       "      <td>Grass</td>\n",
       "      <td>Poison</td>\n",
       "      <td>80</td>\n",
       "      <td>82</td>\n",
       "      <td>83</td>\n",
       "      <td>100</td>\n",
       "      <td>100</td>\n",
       "      <td>80</td>\n",
       "      <td>1</td>\n",
       "      <td>False</td>\n",
       "    </tr>\n",
       "    <tr>\n",
       "      <th>3</th>\n",
       "      <td>4</td>\n",
       "      <td>Mega Venusaur</td>\n",
       "      <td>Grass</td>\n",
       "      <td>Poison</td>\n",
       "      <td>80</td>\n",
       "      <td>100</td>\n",
       "      <td>123</td>\n",
       "      <td>122</td>\n",
       "      <td>120</td>\n",
       "      <td>80</td>\n",
       "      <td>1</td>\n",
       "      <td>False</td>\n",
       "    </tr>\n",
       "    <tr>\n",
       "      <th>4</th>\n",
       "      <td>5</td>\n",
       "      <td>Charmander</td>\n",
       "      <td>Fire</td>\n",
       "      <td>NaN</td>\n",
       "      <td>39</td>\n",
       "      <td>52</td>\n",
       "      <td>43</td>\n",
       "      <td>60</td>\n",
       "      <td>50</td>\n",
       "      <td>65</td>\n",
       "      <td>1</td>\n",
       "      <td>False</td>\n",
       "    </tr>\n",
       "  </tbody>\n",
       "</table>\n",
       "</div>"
      ],
      "text/plain": [
       "   #           Name Type 1  Type 2  HP  Attack  Defense  Sp. Atk  Sp. Def  \\\n",
       "0  1      Bulbasaur  Grass  Poison  45      49       49       65       65   \n",
       "1  2        Ivysaur  Grass  Poison  60      62       63       80       80   \n",
       "2  3       Venusaur  Grass  Poison  80      82       83      100      100   \n",
       "3  4  Mega Venusaur  Grass  Poison  80     100      123      122      120   \n",
       "4  5     Charmander   Fire     NaN  39      52       43       60       50   \n",
       "\n",
       "   Speed  Generation  Legendary  \n",
       "0     45           1      False  \n",
       "1     60           1      False  \n",
       "2     80           1      False  \n",
       "3     80           1      False  \n",
       "4     65           1      False  "
      ]
     },
     "execution_count": 451,
     "metadata": {},
     "output_type": "execute_result"
    }
   ],
   "source": [
    "pokemon.head()"
   ]
  },
  {
   "cell_type": "markdown",
   "metadata": {},
   "source": [
    "## Data Cleaning"
   ]
  },
  {
   "cell_type": "code",
   "execution_count": 452,
   "metadata": {
    "scrolled": true
   },
   "outputs": [
    {
     "name": "stdout",
     "output_type": "stream",
     "text": [
      "<class 'pandas.core.frame.DataFrame'>\n",
      "RangeIndex: 800 entries, 0 to 799\n",
      "Data columns (total 12 columns):\n",
      "#             800 non-null int64\n",
      "Name          799 non-null object\n",
      "Type 1        800 non-null object\n",
      "Type 2        414 non-null object\n",
      "HP            800 non-null int64\n",
      "Attack        800 non-null int64\n",
      "Defense       800 non-null int64\n",
      "Sp. Atk       800 non-null int64\n",
      "Sp. Def       800 non-null int64\n",
      "Speed         800 non-null int64\n",
      "Generation    800 non-null int64\n",
      "Legendary     800 non-null bool\n",
      "dtypes: bool(1), int64(8), object(3)\n",
      "memory usage: 69.6+ KB\n"
     ]
    }
   ],
   "source": [
    "pokemon.info()"
   ]
  },
  {
   "cell_type": "markdown",
   "metadata": {},
   "source": [
    "According to date info, we found out that one of the \"Name\" is missing, and Pokemon's without a second type is showed as NaN. Thus, we would like to fill in the blanks to make the data complete."
   ]
  },
  {
   "cell_type": "code",
   "execution_count": 453,
   "metadata": {
    "scrolled": true
   },
   "outputs": [
    {
     "data": {
      "text/html": [
       "<div>\n",
       "<style>\n",
       "    .dataframe thead tr:only-child th {\n",
       "        text-align: right;\n",
       "    }\n",
       "\n",
       "    .dataframe thead th {\n",
       "        text-align: left;\n",
       "    }\n",
       "\n",
       "    .dataframe tbody tr th {\n",
       "        vertical-align: top;\n",
       "    }\n",
       "</style>\n",
       "<table border=\"1\" class=\"dataframe\">\n",
       "  <thead>\n",
       "    <tr style=\"text-align: right;\">\n",
       "      <th></th>\n",
       "      <th>#</th>\n",
       "      <th>Name</th>\n",
       "      <th>Type 1</th>\n",
       "      <th>Type 2</th>\n",
       "      <th>HP</th>\n",
       "      <th>Attack</th>\n",
       "      <th>Defense</th>\n",
       "      <th>Sp. Atk</th>\n",
       "      <th>Sp. Def</th>\n",
       "      <th>Speed</th>\n",
       "      <th>Generation</th>\n",
       "      <th>Legendary</th>\n",
       "    </tr>\n",
       "  </thead>\n",
       "  <tbody>\n",
       "    <tr>\n",
       "      <th>62</th>\n",
       "      <td>63</td>\n",
       "      <td>NaN</td>\n",
       "      <td>Fighting</td>\n",
       "      <td>NaN</td>\n",
       "      <td>65</td>\n",
       "      <td>105</td>\n",
       "      <td>60</td>\n",
       "      <td>60</td>\n",
       "      <td>70</td>\n",
       "      <td>95</td>\n",
       "      <td>1</td>\n",
       "      <td>False</td>\n",
       "    </tr>\n",
       "  </tbody>\n",
       "</table>\n",
       "</div>"
      ],
      "text/plain": [
       "     # Name    Type 1 Type 2  HP  Attack  Defense  Sp. Atk  Sp. Def  Speed  \\\n",
       "62  63  NaN  Fighting    NaN  65     105       60       60       70     95   \n",
       "\n",
       "    Generation  Legendary  \n",
       "62           1      False  "
      ]
     },
     "execution_count": 453,
     "metadata": {},
     "output_type": "execute_result"
    }
   ],
   "source": [
    "pokemon.loc[pokemon['Name'].isnull()==True]"
   ]
  },
  {
   "cell_type": "markdown",
   "metadata": {},
   "source": [
    "<p>According to <a href=\"https://pokemondb.net/pokedex/all\"> Pokemon Database</a>, we found out the No.63 pokemon is \"Primeape\".</p>"
   ]
  },
  {
   "cell_type": "code",
   "execution_count": 454,
   "metadata": {
    "collapsed": true
   },
   "outputs": [],
   "source": [
    "pokemon['Name'] = pokemon['Name'].fillna('Primeape')\n",
    "pokemon['Type 2'] = pokemon['Type 2'].fillna('None')"
   ]
  },
  {
   "cell_type": "code",
   "execution_count": 455,
   "metadata": {},
   "outputs": [
    {
     "name": "stdout",
     "output_type": "stream",
     "text": [
      "<class 'pandas.core.frame.DataFrame'>\n",
      "RangeIndex: 800 entries, 0 to 799\n",
      "Data columns (total 12 columns):\n",
      "#             800 non-null int64\n",
      "Name          800 non-null object\n",
      "Type 1        800 non-null object\n",
      "Type 2        800 non-null object\n",
      "HP            800 non-null int64\n",
      "Attack        800 non-null int64\n",
      "Defense       800 non-null int64\n",
      "Sp. Atk       800 non-null int64\n",
      "Sp. Def       800 non-null int64\n",
      "Speed         800 non-null int64\n",
      "Generation    800 non-null int64\n",
      "Legendary     800 non-null bool\n",
      "dtypes: bool(1), int64(8), object(3)\n",
      "memory usage: 69.6+ KB\n"
     ]
    }
   ],
   "source": [
    "pokemon.info()"
   ]
  },
  {
   "cell_type": "markdown",
   "metadata": {},
   "source": [
    "## Principal Component Analysis"
   ]
  },
  {
   "cell_type": "markdown",
   "metadata": {},
   "source": [
    "Since clustering generally depends on some sort of distance measure, which groups the points that are near each other into the same cluster. However, in high dimensional spaces, distance measures do not work very well. Therefore, I tried to reduce the number of dimensions first by implementing PCA so that the distance metric can make sense."
   ]
  },
  {
   "cell_type": "markdown",
   "metadata": {},
   "source": [
    "### Preprocessing Data"
   ]
  },
  {
   "cell_type": "code",
   "execution_count": 456,
   "metadata": {
    "collapsed": true,
    "slideshow": {
     "slide_type": "skip"
    }
   },
   "outputs": [],
   "source": [
    "pokemon[\"Total\"] = pokemon[\"HP\"] + pokemon[\"Attack\"] + pokemon[\"Defense\"] + pokemon[\"Sp. Atk\"] + pokemon[\"Sp. Def\"] + pokemon[\"Speed\"]\n",
    "stats=['Attack', 'Defense','HP', 'Sp. Atk','Sp. Def', 'Speed', 'Total']"
   ]
  },
  {
   "cell_type": "code",
   "execution_count": 457,
   "metadata": {},
   "outputs": [
    {
     "name": "stderr",
     "output_type": "stream",
     "text": [
      "ERROR:root:Cell magic `%%` not found.\n"
     ]
    }
   ],
   "source": [
    "%%\n",
    "from pandas.plotting import scatter_matrix\n",
    "scatter_matrix(pokemon[stats], alpha=0.2, figsize=(10, 10), diagonal='kde')\n",
    "scatter_matrix"
   ]
  },
  {
   "cell_type": "code",
   "execution_count": 458,
   "metadata": {},
   "outputs": [
    {
     "name": "stdout",
     "output_type": "stream",
     "text": [
      "mean: -2.48689957516e-16\n",
      "SD: 1.0\n"
     ]
    }
   ],
   "source": [
    "#standardize the data\n",
    "stat = ['HP', 'Attack', 'Defense', 'Sp. Atk','Sp. Def', 'Speed']\n",
    "poke_stat_scaled = StandardScaler().fit_transform(pokemon[stat])\n",
    "\n",
    "print(\"mean: \"+str(poke_stat_scaled[:,0].mean()))  # very close to 0\n",
    "print(\"SD: \"+str(poke_stat_scaled[:,0].std()))  # very close to 1"
   ]
  },
  {
   "cell_type": "markdown",
   "metadata": {},
   "source": [
    "### Perfrom PCA"
   ]
  },
  {
   "cell_type": "code",
   "execution_count": 459,
   "metadata": {},
   "outputs": [
    {
     "name": "stdout",
     "output_type": "stream",
     "text": [
      "Number of principle components: 5\n",
      "PC1: 45.19%\n",
      "PC2: 18.23%\n",
      "PC3: 12.98%\n",
      "PC4: 12.01%\n",
      "PC5: 7.14%\n",
      "Total explained variance ratio: 95.55%\n"
     ]
    }
   ],
   "source": [
    "#pca\n",
    "pca = PCA(n_components = 'mle',svd_solver='full') #maximum likelihood estimation\n",
    "pcscores = pd.DataFrame(pca.fit_transform(poke_stat_scaled)) \n",
    "pcscores.columns = ['PC'+str(i+1) for i in range(len(pcscores.columns))]\n",
    "#print(pca.explained_variance_ratio_)\n",
    "#print(pca.explained_variance_)\n",
    "\n",
    "print(\"Number of principle components: \"+str(pca.n_components_))\n",
    "pcaVarRatioSum = 0\n",
    "for i in range(pca.n_components_):\n",
    "    pcaVarRatio = pca.explained_variance_ratio_.tolist()\n",
    "    pcaSingleVarRatio = \"{:.2%}\".format(pcaVarRatio[i])\n",
    "    print(\"PC\"+str(i+1)+\": \"+str(pcaSingleVarRatio))\n",
    "    pcaVarRatioSum = pcaVarRatioSum + pcaVarRatio[i]\n",
    "print(\"Total explained variance ratio: \"+\"{:.2%}\".format(pcaVarRatioSum))\n",
    "    \n",
    "    "
   ]
  },
  {
   "cell_type": "markdown",
   "metadata": {},
   "source": [
    "When we perform PCA with Maximum Likelihood Estimation, the base stats are reduced to 5 principle components, which explained 95.55% of variance. This shows that PCA might not be an neccessary step before implementing the clustering method in this dataset."
   ]
  },
  {
   "cell_type": "code",
   "execution_count": 460,
   "metadata": {},
   "outputs": [
    {
     "data": {
      "text/html": [
       "<div>\n",
       "<style>\n",
       "    .dataframe thead tr:only-child th {\n",
       "        text-align: right;\n",
       "    }\n",
       "\n",
       "    .dataframe thead th {\n",
       "        text-align: left;\n",
       "    }\n",
       "\n",
       "    .dataframe tbody tr th {\n",
       "        vertical-align: top;\n",
       "    }\n",
       "</style>\n",
       "<table border=\"1\" class=\"dataframe\">\n",
       "  <thead>\n",
       "    <tr style=\"text-align: right;\">\n",
       "      <th></th>\n",
       "      <th>HP</th>\n",
       "      <th>Attack</th>\n",
       "      <th>Defense</th>\n",
       "      <th>Sp. Atk</th>\n",
       "      <th>Sp. Def</th>\n",
       "      <th>Speed</th>\n",
       "    </tr>\n",
       "  </thead>\n",
       "  <tbody>\n",
       "    <tr>\n",
       "      <th>PC1</th>\n",
       "      <td>0.389886</td>\n",
       "      <td>0.439254</td>\n",
       "      <td>0.363747</td>\n",
       "      <td>0.457162</td>\n",
       "      <td>0.448570</td>\n",
       "      <td>0.335440</td>\n",
       "    </tr>\n",
       "    <tr>\n",
       "      <th>PC2</th>\n",
       "      <td>0.084835</td>\n",
       "      <td>-0.011825</td>\n",
       "      <td>0.628789</td>\n",
       "      <td>-0.305414</td>\n",
       "      <td>0.239097</td>\n",
       "      <td>-0.668463</td>\n",
       "    </tr>\n",
       "    <tr>\n",
       "      <th>PC3</th>\n",
       "      <td>-0.471926</td>\n",
       "      <td>-0.594153</td>\n",
       "      <td>0.069339</td>\n",
       "      <td>0.305612</td>\n",
       "      <td>0.565594</td>\n",
       "      <td>0.078513</td>\n",
       "    </tr>\n",
       "    <tr>\n",
       "      <th>PC4</th>\n",
       "      <td>0.717691</td>\n",
       "      <td>-0.405836</td>\n",
       "      <td>-0.419237</td>\n",
       "      <td>0.147517</td>\n",
       "      <td>0.185445</td>\n",
       "      <td>-0.297163</td>\n",
       "    </tr>\n",
       "    <tr>\n",
       "      <th>PC5</th>\n",
       "      <td>0.219991</td>\n",
       "      <td>-0.190255</td>\n",
       "      <td>0.059032</td>\n",
       "      <td>-0.735345</td>\n",
       "      <td>0.300200</td>\n",
       "      <td>0.530161</td>\n",
       "    </tr>\n",
       "  </tbody>\n",
       "</table>\n",
       "</div>"
      ],
      "text/plain": [
       "           HP    Attack   Defense   Sp. Atk   Sp. Def     Speed\n",
       "PC1  0.389886  0.439254  0.363747  0.457162  0.448570  0.335440\n",
       "PC2  0.084835 -0.011825  0.628789 -0.305414  0.239097 -0.668463\n",
       "PC3 -0.471926 -0.594153  0.069339  0.305612  0.565594  0.078513\n",
       "PC4  0.717691 -0.405836 -0.419237  0.147517  0.185445 -0.297163\n",
       "PC5  0.219991 -0.190255  0.059032 -0.735345  0.300200  0.530161"
      ]
     },
     "execution_count": 460,
     "metadata": {},
     "output_type": "execute_result"
    }
   ],
   "source": [
    "#loading factors\n",
    "loadings = pd.DataFrame(pca.components_, columns=stat)\n",
    "loadings.index = ['PC'+str(i+1) for i in range(len(pcscores.columns))]\n",
    "loadings"
   ]
  },
  {
   "cell_type": "code",
   "execution_count": 461,
   "metadata": {
    "scrolled": true
   },
   "outputs": [
    {
     "data": {
      "image/png": "[encoded data removed]",
      "text/plain": [
       "<matplotlib.figure.Figure at 0x1a1a1cc5c0>"
      ]
     },
     "metadata": {},
     "output_type": "display_data"
    }
   ],
   "source": [
    "#visualize the square values of loading factors\n",
    "load_sqr = loadings**2 #so that the sum of the stats will equal to 1\n",
    "ax1 = sns.heatmap(load_sqr.transpose(), linewidths=0.5, cmap=\"BuGn\", annot=True)\n",
    "ax1.set_xticklabels(ax1.xaxis.get_majorticklabels(), rotation=0)\n",
    "ax1.set_yticklabels(ax1.yaxis.get_majorticklabels(), rotation=0)\n",
    "plt.show()"
   ]
  },
  {
   "cell_type": "markdown",
   "metadata": {},
   "source": [
    "The darkest shades in the plot above indicate which parameters are the most important. For example, PC4 show that HP is the most dominant parameter. That is, Pokemon with high HP will have high absolute values of PC4.<br>\n",
    "<br>\n",
    "However, if you want to see more trends, the <b>actual values</b> of the loading factors will give you more insights:"
   ]
  },
  {
   "cell_type": "code",
   "execution_count": 462,
   "metadata": {},
   "outputs": [
    {
     "data": {
      "image/png": "[encoded data removed]",
      "text/plain": [
       "<matplotlib.figure.Figure at 0x1a199051d0>"
      ]
     },
     "metadata": {},
     "output_type": "display_data"
    }
   ],
   "source": [
    "ax = sns.heatmap(loadings.transpose(), center=0, linewidths=0.5, \n",
    "                 cmap=\"RdBu\", vmin=-1, vmax=1, annot=True)\n",
    "ax.set_xticklabels(ax.xaxis.get_majorticklabels(), rotation=0)\n",
    "ax.set_yticklabels(ax.yaxis.get_majorticklabels(), rotation=0)\n",
    "plt.show()"
   ]
  },
  {
   "cell_type": "markdown",
   "metadata": {},
   "source": [
    "For example, a Pokemon with high Defense or low Speed will have a positive value of PC2. On the other hand, things like Attack or Sp. Defense will control what value a Pokemon will have for PC3."
   ]
  },
  {
   "cell_type": "markdown",
   "metadata": {},
   "source": [
    "The next step, I would like first visualize the dataset, then implement clustering method to find out the how the pokemons can be grouped together."
   ]
  },
  {
   "cell_type": "markdown",
   "metadata": {},
   "source": [
    "--------------------------------"
   ]
  },
  {
   "cell_type": "markdown",
   "metadata": {},
   "source": [
    "## Visualize the dataset"
   ]
  },
  {
   "cell_type": "markdown",
   "metadata": {},
   "source": [
    "I use <b>biplot</b> to examine the data, which is a scatter plot with vectors indicating what direction a datapoint will take in the PCA given its underlying parameters. In addition, the <b>Pokemon Type</b> will be colored to see if there is any obvious trends."
   ]
  },
  {
   "cell_type": "code",
   "execution_count": 463,
   "metadata": {},
   "outputs": [
    {
     "data": {
      "image/png": "[encoded data removed]",
      "text/plain": [
       "<matplotlib.figure.Figure at 0x1a19997908>"
      ]
     },
     "metadata": {},
     "output_type": "display_data"
    }
   ],
   "source": [
    "from math import sqrt\n",
    "# Create labels abased on Type 1\n",
    "labels = set(pokemon['Type 1'])\n",
    "pokemon['type'] = pokemon['Type 1']\n",
    "lab_dict = dict()\n",
    "for i, elem in enumerate(labels):\n",
    "    lab_dict[elem] = i\n",
    "pokemon = pokemon.replace({'type' : lab_dict})\n",
    "\n",
    "pc_types = pcscores.copy()\n",
    "pc_types['Type'] = pokemon['Type 1']\n",
    "pc_types = pc_types.sort_values('Type')\n",
    "\n",
    "# Biplots\n",
    "def biplot(pcscores, loadings, xval=0, yval=1, max_arrow=0.2, alpha=0.4):\n",
    "    n = loadings.shape[1]\n",
    "    scalex = 1.0 / (pcscores.iloc[:, xval].max() - pcscores.iloc[:, xval].min())  # Rescaling to be from -1 to +1\n",
    "    scaley = 1.0 / (pcscores.iloc[:, yval].max() - pcscores.iloc[:, yval].min())\n",
    "\n",
    "    pcscores.iloc[:, xval] = pcscores.iloc[:, xval] * scalex\n",
    "    pcscores.iloc[:, yval] = pcscores.iloc[:, yval] * scaley\n",
    "\n",
    "    g = sns.lmplot(x='PC{}'.format(xval + 1), y='PC{}'.format(yval + 1), hue='Type', data=pcscores,\n",
    "                   fit_reg=False, size=8, palette=sns.color_palette(\"hls\", n_colors=20))\n",
    "\n",
    "    for i in range(n):\n",
    "        # Only plot the longer ones\n",
    "        length = sqrt(loadings.iloc[xval, i] ** 2 + loadings.iloc[yval, i] ** 2)\n",
    "        if length < max_arrow:\n",
    "            continue\n",
    "\n",
    "        plt.arrow(0, 0, loadings.iloc[xval, i], loadings.iloc[yval, i], color='k', alpha=0.9)\n",
    "        plt.text(loadings.iloc[xval, i] * 1.15, loadings.iloc[yval, i] * 1.15,\n",
    "                 loadings.columns.tolist()[i], color='k', ha='center', va='center')\n",
    "        \n",
    "    g.set(ylim=(-1, 1))\n",
    "    g.set(xlim=(-1, 1))   \n",
    "    plt.grid(True)\n",
    "    \n",
    "# Actually make a biplot (PC3 vs PC4)\n",
    "biplot(pc_types, loadings, 2, 3, max_arrow=0.3)"
   ]
  },
  {
   "cell_type": "markdown",
   "metadata": {},
   "source": [
    "<b>Check whether the PCA result is as expected:</b>\n",
    "- There are 2 normal type pokemon with high value of PC4, which means they probably have high HP and low Attack, Defense and Speed. "
   ]
  },
  {
   "cell_type": "code",
   "execution_count": 464,
   "metadata": {},
   "outputs": [
    {
     "data": {
      "text/html": [
       "<div>\n",
       "<style>\n",
       "    .dataframe thead tr:only-child th {\n",
       "        text-align: right;\n",
       "    }\n",
       "\n",
       "    .dataframe thead th {\n",
       "        text-align: left;\n",
       "    }\n",
       "\n",
       "    .dataframe tbody tr th {\n",
       "        vertical-align: top;\n",
       "    }\n",
       "</style>\n",
       "<table border=\"1\" class=\"dataframe\">\n",
       "  <thead>\n",
       "    <tr style=\"text-align: right;\">\n",
       "      <th></th>\n",
       "      <th>PC1</th>\n",
       "      <th>PC2</th>\n",
       "      <th>PC3</th>\n",
       "      <th>PC4</th>\n",
       "      <th>PC5</th>\n",
       "    </tr>\n",
       "  </thead>\n",
       "  <tbody>\n",
       "    <tr>\n",
       "      <th>0</th>\n",
       "      <td>-1.556375</td>\n",
       "      <td>-0.021482</td>\n",
       "      <td>0.666504</td>\n",
       "      <td>0.184176</td>\n",
       "      <td>-0.403807</td>\n",
       "    </tr>\n",
       "    <tr>\n",
       "      <th>1</th>\n",
       "      <td>-0.362867</td>\n",
       "      <td>-0.050269</td>\n",
       "      <td>0.667913</td>\n",
       "      <td>0.269254</td>\n",
       "      <td>-0.225788</td>\n",
       "    </tr>\n",
       "    <tr>\n",
       "      <th>2</th>\n",
       "      <td>1.280152</td>\n",
       "      <td>-0.062720</td>\n",
       "      <td>0.623914</td>\n",
       "      <td>0.331391</td>\n",
       "      <td>-0.001545</td>\n",
       "    </tr>\n",
       "    <tr>\n",
       "      <th>3</th>\n",
       "      <td>2.620916</td>\n",
       "      <td>0.704263</td>\n",
       "      <td>0.995538</td>\n",
       "      <td>-0.199321</td>\n",
       "      <td>-0.310170</td>\n",
       "    </tr>\n",
       "    <tr>\n",
       "      <th>4</th>\n",
       "      <td>-1.758284</td>\n",
       "      <td>-0.706179</td>\n",
       "      <td>0.411454</td>\n",
       "      <td>-0.268602</td>\n",
       "      <td>-0.168877</td>\n",
       "    </tr>\n",
       "  </tbody>\n",
       "</table>\n",
       "</div>"
      ],
      "text/plain": [
       "        PC1       PC2       PC3       PC4       PC5\n",
       "0 -1.556375 -0.021482  0.666504  0.184176 -0.403807\n",
       "1 -0.362867 -0.050269  0.667913  0.269254 -0.225788\n",
       "2  1.280152 -0.062720  0.623914  0.331391 -0.001545\n",
       "3  2.620916  0.704263  0.995538 -0.199321 -0.310170\n",
       "4 -1.758284 -0.706179  0.411454 -0.268602 -0.168877"
      ]
     },
     "execution_count": 464,
     "metadata": {},
     "output_type": "execute_result"
    }
   ],
   "source": [
    "pcscores.head()"
   ]
  },
  {
   "cell_type": "code",
   "execution_count": 465,
   "metadata": {
    "scrolled": false
   },
   "outputs": [
    {
     "data": {
      "text/html": [
       "<div>\n",
       "<style>\n",
       "    .dataframe thead tr:only-child th {\n",
       "        text-align: right;\n",
       "    }\n",
       "\n",
       "    .dataframe thead th {\n",
       "        text-align: left;\n",
       "    }\n",
       "\n",
       "    .dataframe tbody tr th {\n",
       "        vertical-align: top;\n",
       "    }\n",
       "</style>\n",
       "<table border=\"1\" class=\"dataframe\">\n",
       "  <thead>\n",
       "    <tr style=\"text-align: right;\">\n",
       "      <th></th>\n",
       "      <th>#</th>\n",
       "      <th>Name</th>\n",
       "      <th>Type 1</th>\n",
       "      <th>Type 2</th>\n",
       "      <th>HP</th>\n",
       "      <th>Attack</th>\n",
       "      <th>Defense</th>\n",
       "      <th>Sp. Atk</th>\n",
       "      <th>Sp. Def</th>\n",
       "      <th>Speed</th>\n",
       "      <th>Generation</th>\n",
       "      <th>Legendary</th>\n",
       "      <th>Total</th>\n",
       "      <th>type</th>\n",
       "    </tr>\n",
       "  </thead>\n",
       "  <tbody>\n",
       "    <tr>\n",
       "      <th>261</th>\n",
       "      <td>262</td>\n",
       "      <td>Blissey</td>\n",
       "      <td>Normal</td>\n",
       "      <td>None</td>\n",
       "      <td>255</td>\n",
       "      <td>10</td>\n",
       "      <td>10</td>\n",
       "      <td>75</td>\n",
       "      <td>135</td>\n",
       "      <td>55</td>\n",
       "      <td>2</td>\n",
       "      <td>False</td>\n",
       "      <td>540</td>\n",
       "      <td>17</td>\n",
       "    </tr>\n",
       "    <tr>\n",
       "      <th>121</th>\n",
       "      <td>122</td>\n",
       "      <td>Chansey</td>\n",
       "      <td>Normal</td>\n",
       "      <td>None</td>\n",
       "      <td>250</td>\n",
       "      <td>5</td>\n",
       "      <td>5</td>\n",
       "      <td>35</td>\n",
       "      <td>105</td>\n",
       "      <td>50</td>\n",
       "      <td>1</td>\n",
       "      <td>False</td>\n",
       "      <td>450</td>\n",
       "      <td>17</td>\n",
       "    </tr>\n",
       "  </tbody>\n",
       "</table>\n",
       "</div>"
      ],
      "text/plain": [
       "       #     Name  Type 1 Type 2   HP  Attack  Defense  Sp. Atk  Sp. Def  \\\n",
       "261  262  Blissey  Normal   None  255      10       10       75      135   \n",
       "121  122  Chansey  Normal   None  250       5        5       35      105   \n",
       "\n",
       "     Speed  Generation  Legendary  Total  type  \n",
       "261     55           2      False    540    17  \n",
       "121     50           1      False    450    17  "
      ]
     },
     "execution_count": 465,
     "metadata": {},
     "output_type": "execute_result"
    }
   ],
   "source": [
    "#find the pokemons in PC4 with highest HP\n",
    "pc4_poke = pc_types.sort_values(by='PC4', ascending=False)[:2]\n",
    "pokemon.loc[pc4_poke.index]"
   ]
  },
  {
   "cell_type": "code",
   "execution_count": 466,
   "metadata": {
    "scrolled": false
   },
   "outputs": [
    {
     "data": {
      "text/html": [
       "<div>\n",
       "<style>\n",
       "    .dataframe thead tr:only-child th {\n",
       "        text-align: right;\n",
       "    }\n",
       "\n",
       "    .dataframe thead th {\n",
       "        text-align: left;\n",
       "    }\n",
       "\n",
       "    .dataframe tbody tr th {\n",
       "        vertical-align: top;\n",
       "    }\n",
       "</style>\n",
       "<table border=\"1\" class=\"dataframe\">\n",
       "  <thead>\n",
       "    <tr style=\"text-align: right;\">\n",
       "      <th></th>\n",
       "      <th>#</th>\n",
       "      <th>Name</th>\n",
       "      <th>Type 1</th>\n",
       "      <th>Type 2</th>\n",
       "      <th>HP</th>\n",
       "      <th>Attack</th>\n",
       "      <th>Defense</th>\n",
       "      <th>Sp. Atk</th>\n",
       "      <th>Sp. Def</th>\n",
       "      <th>Speed</th>\n",
       "      <th>Generation</th>\n",
       "      <th>Legendary</th>\n",
       "      <th>Total</th>\n",
       "      <th>type</th>\n",
       "    </tr>\n",
       "  </thead>\n",
       "  <tbody>\n",
       "    <tr>\n",
       "      <th>261</th>\n",
       "      <td>262</td>\n",
       "      <td>Blissey</td>\n",
       "      <td>Normal</td>\n",
       "      <td>None</td>\n",
       "      <td>255</td>\n",
       "      <td>10</td>\n",
       "      <td>10</td>\n",
       "      <td>75</td>\n",
       "      <td>135</td>\n",
       "      <td>55</td>\n",
       "      <td>2</td>\n",
       "      <td>False</td>\n",
       "      <td>540</td>\n",
       "      <td>17</td>\n",
       "    </tr>\n",
       "    <tr>\n",
       "      <th>121</th>\n",
       "      <td>122</td>\n",
       "      <td>Chansey</td>\n",
       "      <td>Normal</td>\n",
       "      <td>None</td>\n",
       "      <td>250</td>\n",
       "      <td>5</td>\n",
       "      <td>5</td>\n",
       "      <td>35</td>\n",
       "      <td>105</td>\n",
       "      <td>50</td>\n",
       "      <td>1</td>\n",
       "      <td>False</td>\n",
       "      <td>450</td>\n",
       "      <td>17</td>\n",
       "    </tr>\n",
       "  </tbody>\n",
       "</table>\n",
       "</div>"
      ],
      "text/plain": [
       "       #     Name  Type 1 Type 2   HP  Attack  Defense  Sp. Atk  Sp. Def  \\\n",
       "261  262  Blissey  Normal   None  255      10       10       75      135   \n",
       "121  122  Chansey  Normal   None  250       5        5       35      105   \n",
       "\n",
       "     Speed  Generation  Legendary  Total  type  \n",
       "261     55           2      False    540    17  \n",
       "121     50           1      False    450    17  "
      ]
     },
     "execution_count": 466,
     "metadata": {},
     "output_type": "execute_result"
    }
   ],
   "source": [
    "#sort the pokemon data by HP\n",
    "pokemon.sort_values(by='HP', ascending=False)[:2]"
   ]
  },
  {
   "cell_type": "markdown",
   "metadata": {},
   "source": [
    "- There is 1 bug type pokemon with high value of PC3, which means it probably has high Sp. Def and low HP, Sp. Atk and Speed. "
   ]
  },
  {
   "cell_type": "code",
   "execution_count": 467,
   "metadata": {
    "scrolled": false
   },
   "outputs": [
    {
     "data": {
      "text/html": [
       "<div>\n",
       "<style>\n",
       "    .dataframe thead tr:only-child th {\n",
       "        text-align: right;\n",
       "    }\n",
       "\n",
       "    .dataframe thead th {\n",
       "        text-align: left;\n",
       "    }\n",
       "\n",
       "    .dataframe tbody tr th {\n",
       "        vertical-align: top;\n",
       "    }\n",
       "</style>\n",
       "<table border=\"1\" class=\"dataframe\">\n",
       "  <thead>\n",
       "    <tr style=\"text-align: right;\">\n",
       "      <th></th>\n",
       "      <th>#</th>\n",
       "      <th>Name</th>\n",
       "      <th>Type 1</th>\n",
       "      <th>Type 2</th>\n",
       "      <th>HP</th>\n",
       "      <th>Attack</th>\n",
       "      <th>Defense</th>\n",
       "      <th>Sp. Atk</th>\n",
       "      <th>Sp. Def</th>\n",
       "      <th>Speed</th>\n",
       "      <th>Generation</th>\n",
       "      <th>Legendary</th>\n",
       "      <th>Total</th>\n",
       "      <th>type</th>\n",
       "    </tr>\n",
       "  </thead>\n",
       "  <tbody>\n",
       "    <tr>\n",
       "      <th>230</th>\n",
       "      <td>231</td>\n",
       "      <td>Shuckle</td>\n",
       "      <td>Bug</td>\n",
       "      <td>Rock</td>\n",
       "      <td>20</td>\n",
       "      <td>10</td>\n",
       "      <td>230</td>\n",
       "      <td>10</td>\n",
       "      <td>230</td>\n",
       "      <td>5</td>\n",
       "      <td>2</td>\n",
       "      <td>False</td>\n",
       "      <td>505</td>\n",
       "      <td>7</td>\n",
       "    </tr>\n",
       "  </tbody>\n",
       "</table>\n",
       "</div>"
      ],
      "text/plain": [
       "       #     Name Type 1 Type 2  HP  Attack  Defense  Sp. Atk  Sp. Def  Speed  \\\n",
       "230  231  Shuckle    Bug   Rock  20      10      230       10      230      5   \n",
       "\n",
       "     Generation  Legendary  Total  type  \n",
       "230           2      False    505     7  "
      ]
     },
     "execution_count": 467,
     "metadata": {},
     "output_type": "execute_result"
    }
   ],
   "source": [
    "#find the pokemons in PC3 with highest Sp. Def\n",
    "pc3_poke = pc_types.sort_values(by='PC3', ascending=False)[:1]\n",
    "pokemon.loc[pc3_poke.index]"
   ]
  },
  {
   "cell_type": "code",
   "execution_count": 468,
   "metadata": {
    "scrolled": false
   },
   "outputs": [
    {
     "data": {
      "text/html": [
       "<div>\n",
       "<style>\n",
       "    .dataframe thead tr:only-child th {\n",
       "        text-align: right;\n",
       "    }\n",
       "\n",
       "    .dataframe thead th {\n",
       "        text-align: left;\n",
       "    }\n",
       "\n",
       "    .dataframe tbody tr th {\n",
       "        vertical-align: top;\n",
       "    }\n",
       "</style>\n",
       "<table border=\"1\" class=\"dataframe\">\n",
       "  <thead>\n",
       "    <tr style=\"text-align: right;\">\n",
       "      <th></th>\n",
       "      <th>#</th>\n",
       "      <th>Name</th>\n",
       "      <th>Type 1</th>\n",
       "      <th>Type 2</th>\n",
       "      <th>HP</th>\n",
       "      <th>Attack</th>\n",
       "      <th>Defense</th>\n",
       "      <th>Sp. Atk</th>\n",
       "      <th>Sp. Def</th>\n",
       "      <th>Speed</th>\n",
       "      <th>Generation</th>\n",
       "      <th>Legendary</th>\n",
       "      <th>Total</th>\n",
       "      <th>type</th>\n",
       "    </tr>\n",
       "  </thead>\n",
       "  <tbody>\n",
       "    <tr>\n",
       "      <th>230</th>\n",
       "      <td>231</td>\n",
       "      <td>Shuckle</td>\n",
       "      <td>Bug</td>\n",
       "      <td>Rock</td>\n",
       "      <td>20</td>\n",
       "      <td>10</td>\n",
       "      <td>230</td>\n",
       "      <td>10</td>\n",
       "      <td>230</td>\n",
       "      <td>5</td>\n",
       "      <td>2</td>\n",
       "      <td>False</td>\n",
       "      <td>505</td>\n",
       "      <td>7</td>\n",
       "    </tr>\n",
       "  </tbody>\n",
       "</table>\n",
       "</div>"
      ],
      "text/plain": [
       "       #     Name Type 1 Type 2  HP  Attack  Defense  Sp. Atk  Sp. Def  Speed  \\\n",
       "230  231  Shuckle    Bug   Rock  20      10      230       10      230      5   \n",
       "\n",
       "     Generation  Legendary  Total  type  \n",
       "230           2      False    505     7  "
      ]
     },
     "execution_count": 468,
     "metadata": {},
     "output_type": "execute_result"
    }
   ],
   "source": [
    "pokemon.sort_values(by='Sp. Def', ascending=False)[:1]"
   ]
  },
  {
   "cell_type": "markdown",
   "metadata": {},
   "source": [
    "\n",
    "The result is as expected. However, most pokemons are centrally distributed, which can hardly observe any trends between the types. "
   ]
  },
  {
   "cell_type": "code",
   "execution_count": 469,
   "metadata": {
    "scrolled": false
   },
   "outputs": [
    {
     "name": "stderr",
     "output_type": "stream",
     "text": [
      "ERROR:root:Cell magic `%%` not found.\n"
     ]
    }
   ],
   "source": [
    "%%\n",
    "g = sns.pairplot(pc_types, hue='Type', palette=sns.color_palette(\"RdBu\", n_colors=20))"
   ]
  },
  {
   "cell_type": "markdown",
   "metadata": {},
   "source": [
    "After visualizing the data, the next step is to implement clustering methods put the pokemons into groups."
   ]
  },
  {
   "cell_type": "markdown",
   "metadata": {},
   "source": [
    "--------------------------------"
   ]
  },
  {
   "cell_type": "markdown",
   "metadata": {},
   "source": [
    "# Clustering\n",
    "## Mean Shift Clustering"
   ]
  },
  {
   "cell_type": "markdown",
   "metadata": {},
   "source": [
    "Since we do not know how many clusters will there be in this dataset, we adopted <b>Mean Shift Clustering</b> to implement unsupervised machine learning."
   ]
  },
  {
   "cell_type": "code",
   "execution_count": 470,
   "metadata": {},
   "outputs": [
    {
     "name": "stdout",
     "output_type": "stream",
     "text": [
      "Number of estimated clusters: 3\n",
      "Count of cluster1 : 796\n",
      "Count of cluster2 : 3\n",
      "Count of cluster3 : 1\n"
     ]
    }
   ],
   "source": [
    "#clustering \n",
    "ms = MeanShift()\n",
    "ms.fit(pcscores)\n",
    "labels = ms.labels_\n",
    "cluster_centers = ms.cluster_centers_\n",
    "pcscores_arr = np.array(pcscores)\n",
    "colors = plt.cm.tab10(np.linspace(0, 1, 10))\n",
    "\n",
    "unique, counts = np.unique(labels, return_counts=True)\n",
    "cluster_counts = np.asarray((unique, counts)).T\n",
    "n_clusters_ = len(cluster_counts)\n",
    "\n",
    "print(\"Number of estimated clusters:\", n_clusters_)\n",
    "for i in range(len(cluster_counts)):\n",
    "    group = 'cluster'+str(i+1)\n",
    "    print(\"Count of \"+group+' :', cluster_counts[i][1])"
   ]
  },
  {
   "cell_type": "markdown",
   "metadata": {},
   "source": [
    "1. According to the mean shift clustering method, we can discover that most of the pokemons are in the same cluster.\n",
    "2. Although we reduced the dimensions from 6 to 4, it is still hard to view 4D data, therefore, we tried to used 2D plot and 3D plot to visualize the data with the cluster center. "
   ]
  },
  {
   "cell_type": "code",
   "execution_count": 471,
   "metadata": {},
   "outputs": [
    {
     "data": {
      "image/png": "[encoded data removed]",
      "text/plain": [
       "<matplotlib.figure.Figure at 0x1a1a5630f0>"
      ]
     },
     "metadata": {},
     "output_type": "display_data"
    }
   ],
   "source": [
    "#2D visualization\n",
    "fig, ax = plt.subplots()\n",
    "for i in range(len(pcscores_arr)):\n",
    "    ax.scatter(pcscores_arr[i][2], pcscores_arr[i][3], c=colors[labels[i]])\n",
    "ax.scatter(cluster_centers[:,2],cluster_centers[:,3], marker=\"x\",color='k', s=150, linewidths = 5, zorder=10)\n",
    "plt.title('2D Pokemon Clusters')\n",
    "ax.set_xlabel('PC3')\n",
    "ax.set_ylabel('PC4')\n",
    "plt.grid(True)\n",
    "plt.show()"
   ]
  },
  {
   "cell_type": "code",
   "execution_count": 472,
   "metadata": {},
   "outputs": [
    {
     "data": {
      "image/png": "[encoded data removed]",
      "text/plain": [
       "<matplotlib.figure.Figure at 0x1a10410518>"
      ]
     },
     "metadata": {},
     "output_type": "display_data"
    },
    {
     "name": "stdout",
     "output_type": "stream",
     "text": [
      "Clusters centers points:\n",
      "[[-0.53164448 -0.1094121  -0.03073481 -0.04129142  0.01750439]\n",
      " [ 1.40144978  0.23972975 -1.4577019   7.34232795  2.5052496 ]\n",
      " [ 1.07656453  6.41447043  4.97934432 -1.20451716  2.23986007]]\n"
     ]
    }
   ],
   "source": [
    "#3D visualization\n",
    "fig = plt.figure()\n",
    "ax = fig.add_subplot(111, projection='3d')\n",
    "\n",
    "for i in range(len(pcscores_arr)):\n",
    "    ax.scatter(pcscores_arr[i][1], pcscores_arr[i][2], pcscores_arr[i][3], c=colors[labels[i]], marker='o')\n",
    "\n",
    "ax.scatter(cluster_centers[:,1],cluster_centers[:,2],cluster_centers[:,3], marker=\"x\",color='k', s=150, linewidths = 5, zorder=10)\n",
    "ax.set_xlabel('PC2')\n",
    "ax.set_ylabel('PC3')\n",
    "ax.set_zlabel('PC4')\n",
    "plt.show()\n",
    "print(\"Clusters centers points:\")\n",
    "print(cluster_centers)"
   ]
  },
  {
   "cell_type": "markdown",
   "metadata": {},
   "source": [
    "Mean shift clustering is first used because we don't know how many clusters will there be in this data. After implementing the method, the pokemon data is separated into 3 clusters. However, the result showed that the first cluster has contained 99.375% of pokemons. The next step, I would like to first focus on the outliners (cluster 2 and cluster 3)."
   ]
  },
  {
   "cell_type": "markdown",
   "metadata": {},
   "source": [
    "### Outlier Analysis"
   ]
  },
  {
   "cell_type": "code",
   "execution_count": 473,
   "metadata": {
    "collapsed": true,
    "scrolled": false
   },
   "outputs": [],
   "source": [
    "plabel = pokemon.copy()\n",
    "plabel['label'] = labels\n",
    "newPokemon = pd.concat([plabel, pcscores], axis=1)"
   ]
  },
  {
   "cell_type": "code",
   "execution_count": 474,
   "metadata": {},
   "outputs": [
    {
     "data": {
      "text/html": [
       "<div>\n",
       "<style>\n",
       "    .dataframe thead tr:only-child th {\n",
       "        text-align: right;\n",
       "    }\n",
       "\n",
       "    .dataframe thead th {\n",
       "        text-align: left;\n",
       "    }\n",
       "\n",
       "    .dataframe tbody tr th {\n",
       "        vertical-align: top;\n",
       "    }\n",
       "</style>\n",
       "<table border=\"1\" class=\"dataframe\">\n",
       "  <thead>\n",
       "    <tr style=\"text-align: right;\">\n",
       "      <th></th>\n",
       "      <th>#</th>\n",
       "      <th>Name</th>\n",
       "      <th>Type 1</th>\n",
       "      <th>Type 2</th>\n",
       "      <th>HP</th>\n",
       "      <th>Attack</th>\n",
       "      <th>Defense</th>\n",
       "      <th>Sp. Atk</th>\n",
       "      <th>Sp. Def</th>\n",
       "      <th>Speed</th>\n",
       "      <th>Generation</th>\n",
       "      <th>Legendary</th>\n",
       "      <th>Total</th>\n",
       "      <th>type</th>\n",
       "      <th>label</th>\n",
       "      <th>PC1</th>\n",
       "      <th>PC2</th>\n",
       "      <th>PC3</th>\n",
       "      <th>PC4</th>\n",
       "      <th>PC5</th>\n",
       "    </tr>\n",
       "  </thead>\n",
       "  <tbody>\n",
       "    <tr>\n",
       "      <th>121</th>\n",
       "      <td>122</td>\n",
       "      <td>Chansey</td>\n",
       "      <td>Normal</td>\n",
       "      <td>None</td>\n",
       "      <td>250</td>\n",
       "      <td>5</td>\n",
       "      <td>5</td>\n",
       "      <td>35</td>\n",
       "      <td>105</td>\n",
       "      <td>50</td>\n",
       "      <td>1</td>\n",
       "      <td>False</td>\n",
       "      <td>450</td>\n",
       "      <td>17</td>\n",
       "      <td>1</td>\n",
       "      <td>0.749816</td>\n",
       "      <td>0.297262</td>\n",
       "      <td>-1.869955</td>\n",
       "      <td>7.172270</td>\n",
       "      <td>2.735804</td>\n",
       "    </tr>\n",
       "    <tr>\n",
       "      <th>217</th>\n",
       "      <td>218</td>\n",
       "      <td>Wobbuffet</td>\n",
       "      <td>Psychic</td>\n",
       "      <td>None</td>\n",
       "      <td>190</td>\n",
       "      <td>33</td>\n",
       "      <td>58</td>\n",
       "      <td>33</td>\n",
       "      <td>58</td>\n",
       "      <td>33</td>\n",
       "      <td>2</td>\n",
       "      <td>False</td>\n",
       "      <td>405</td>\n",
       "      <td>15</td>\n",
       "      <td>1</td>\n",
       "      <td>-0.151475</td>\n",
       "      <td>1.162863</td>\n",
       "      <td>-2.175783</td>\n",
       "      <td>4.273044</td>\n",
       "      <td>1.382044</td>\n",
       "    </tr>\n",
       "    <tr>\n",
       "      <th>261</th>\n",
       "      <td>262</td>\n",
       "      <td>Blissey</td>\n",
       "      <td>Normal</td>\n",
       "      <td>None</td>\n",
       "      <td>255</td>\n",
       "      <td>10</td>\n",
       "      <td>10</td>\n",
       "      <td>75</td>\n",
       "      <td>135</td>\n",
       "      <td>55</td>\n",
       "      <td>2</td>\n",
       "      <td>False</td>\n",
       "      <td>540</td>\n",
       "      <td>17</td>\n",
       "      <td>1</td>\n",
       "      <td>2.053084</td>\n",
       "      <td>0.182197</td>\n",
       "      <td>-1.045449</td>\n",
       "      <td>7.512386</td>\n",
       "      <td>2.274695</td>\n",
       "    </tr>\n",
       "    <tr>\n",
       "      <th>230</th>\n",
       "      <td>231</td>\n",
       "      <td>Shuckle</td>\n",
       "      <td>Bug</td>\n",
       "      <td>Rock</td>\n",
       "      <td>20</td>\n",
       "      <td>10</td>\n",
       "      <td>230</td>\n",
       "      <td>10</td>\n",
       "      <td>230</td>\n",
       "      <td>5</td>\n",
       "      <td>2</td>\n",
       "      <td>False</td>\n",
       "      <td>505</td>\n",
       "      <td>7</td>\n",
       "      <td>2</td>\n",
       "      <td>1.076565</td>\n",
       "      <td>6.414470</td>\n",
       "      <td>4.979344</td>\n",
       "      <td>-1.204517</td>\n",
       "      <td>2.239860</td>\n",
       "    </tr>\n",
       "  </tbody>\n",
       "</table>\n",
       "</div>"
      ],
      "text/plain": [
       "       #       Name   Type 1 Type 2   HP  Attack  Defense  Sp. Atk  Sp. Def  \\\n",
       "121  122    Chansey   Normal   None  250       5        5       35      105   \n",
       "217  218  Wobbuffet  Psychic   None  190      33       58       33       58   \n",
       "261  262    Blissey   Normal   None  255      10       10       75      135   \n",
       "230  231    Shuckle      Bug   Rock   20      10      230       10      230   \n",
       "\n",
       "     Speed  Generation  Legendary  Total  type  label       PC1       PC2  \\\n",
       "121     50           1      False    450    17      1  0.749816  0.297262   \n",
       "217     33           2      False    405    15      1 -0.151475  1.162863   \n",
       "261     55           2      False    540    17      1  2.053084  0.182197   \n",
       "230      5           2      False    505     7      2  1.076565  6.414470   \n",
       "\n",
       "          PC3       PC4       PC5  \n",
       "121 -1.869955  7.172270  2.735804  \n",
       "217 -2.175783  4.273044  1.382044  \n",
       "261 -1.045449  7.512386  2.274695  \n",
       "230  4.979344 -1.204517  2.239860  "
      ]
     },
     "execution_count": 474,
     "metadata": {},
     "output_type": "execute_result"
    }
   ],
   "source": [
    "#outlier = newPokemon.loc[:,['#','label']]\n",
    "outlier = newPokemon.query('label  == [1, 2]').sort_values(by='label')\n",
    "outlier"
   ]
  },
  {
   "cell_type": "markdown",
   "metadata": {},
   "source": [
    "1. Cluster 2 (label 1): \n",
    "    - 2 pokemons are normal type and another one is psychic\n",
    "    - All of them have high PC4\n",
    "    - High HP, Low attack and defense\n",
    "    - None Legendary or Mega-evolved pokemon \n",
    "2. Cluster 3 (label 2): \n",
    "    - High Defense and Sp.Def\n",
    "    - Low HP, Attack, Sp. Atk, Speed\n",
    "    - High value of PC2 and PC3 and low value of PC1 and PC4\n",
    "    - None Legendary or Mega-evolved pokemon "
   ]
  },
  {
   "cell_type": "markdown",
   "metadata": {},
   "source": [
    "#### Analyze Cluster 2"
   ]
  },
  {
   "cell_type": "code",
   "execution_count": 475,
   "metadata": {},
   "outputs": [
    {
     "data": {
      "text/html": [
       "<div>\n",
       "<style>\n",
       "    .dataframe thead tr:only-child th {\n",
       "        text-align: right;\n",
       "    }\n",
       "\n",
       "    .dataframe thead th {\n",
       "        text-align: left;\n",
       "    }\n",
       "\n",
       "    .dataframe tbody tr th {\n",
       "        vertical-align: top;\n",
       "    }\n",
       "</style>\n",
       "<table border=\"1\" class=\"dataframe\">\n",
       "  <thead>\n",
       "    <tr style=\"text-align: right;\">\n",
       "      <th></th>\n",
       "      <th>First_pokemon</th>\n",
       "      <th>Second_pokemon</th>\n",
       "      <th>Winner</th>\n",
       "    </tr>\n",
       "  </thead>\n",
       "  <tbody>\n",
       "    <tr>\n",
       "      <th>258</th>\n",
       "      <td>644</td>\n",
       "      <td>218</td>\n",
       "      <td>644</td>\n",
       "    </tr>\n",
       "    <tr>\n",
       "      <th>452</th>\n",
       "      <td>122</td>\n",
       "      <td>588</td>\n",
       "      <td>588</td>\n",
       "    </tr>\n",
       "    <tr>\n",
       "      <th>506</th>\n",
       "      <td>262</td>\n",
       "      <td>67</td>\n",
       "      <td>67</td>\n",
       "    </tr>\n",
       "    <tr>\n",
       "      <th>589</th>\n",
       "      <td>262</td>\n",
       "      <td>210</td>\n",
       "      <td>210</td>\n",
       "    </tr>\n",
       "    <tr>\n",
       "      <th>660</th>\n",
       "      <td>262</td>\n",
       "      <td>47</td>\n",
       "      <td>47</td>\n",
       "    </tr>\n",
       "  </tbody>\n",
       "</table>\n",
       "</div>"
      ],
      "text/plain": [
       "     First_pokemon  Second_pokemon  Winner\n",
       "258            644             218     644\n",
       "452            122             588     588\n",
       "506            262              67      67\n",
       "589            262             210     210\n",
       "660            262              47      47"
      ]
     },
     "execution_count": 475,
     "metadata": {},
     "output_type": "execute_result"
    }
   ],
   "source": [
    "clus2_Idx = outlier.query('label == 1')['#'].tolist()\n",
    "clus2_combat = combats[combats['First_pokemon'].isin(clus2_Idx) | combats['Second_pokemon'].isin(clus2_Idx)]\n",
    "clus2_combat.head()"
   ]
  },
  {
   "cell_type": "code",
   "execution_count": 476,
   "metadata": {
    "collapsed": true
   },
   "outputs": [],
   "source": [
    "clus2_win = clus2_combat.copy()\n",
    "clus2_win['WinCombat'] = clus2_win['Winner'].isin(clus2_Idx)\n",
    "clus2_win['WinCombat'] = np.where(clus2_win['WinCombat'] == True, clus2_win['Winner'], \"Others\")"
   ]
  },
  {
   "cell_type": "code",
   "execution_count": 477,
   "metadata": {},
   "outputs": [
    {
     "data": {
      "text/html": [
       "<div>\n",
       "<style>\n",
       "    .dataframe thead tr:only-child th {\n",
       "        text-align: right;\n",
       "    }\n",
       "\n",
       "    .dataframe thead th {\n",
       "        text-align: left;\n",
       "    }\n",
       "\n",
       "    .dataframe tbody tr th {\n",
       "        vertical-align: top;\n",
       "    }\n",
       "</style>\n",
       "<table border=\"1\" class=\"dataframe\">\n",
       "  <thead>\n",
       "    <tr style=\"text-align: right;\">\n",
       "      <th></th>\n",
       "      <th>Winner</th>\n",
       "    </tr>\n",
       "    <tr>\n",
       "      <th>WinCombat</th>\n",
       "      <th></th>\n",
       "    </tr>\n",
       "  </thead>\n",
       "  <tbody>\n",
       "    <tr>\n",
       "      <th>122</th>\n",
       "      <td>15</td>\n",
       "    </tr>\n",
       "    <tr>\n",
       "      <th>218</th>\n",
       "      <td>18</td>\n",
       "    </tr>\n",
       "    <tr>\n",
       "      <th>262</th>\n",
       "      <td>40</td>\n",
       "    </tr>\n",
       "    <tr>\n",
       "      <th>Others</th>\n",
       "      <td>287</td>\n",
       "    </tr>\n",
       "  </tbody>\n",
       "</table>\n",
       "</div>"
      ],
      "text/plain": [
       "           Winner\n",
       "WinCombat        \n",
       "122            15\n",
       "218            18\n",
       "262            40\n",
       "Others        287"
      ]
     },
     "execution_count": 477,
     "metadata": {},
     "output_type": "execute_result"
    }
   ],
   "source": [
    "clus2_win_count = clus2_win.pivot_table(values='Winner', index=['WinCombat'], aggfunc='count')\n",
    "clus2_win_count"
   ]
  },
  {
   "cell_type": "code",
   "execution_count": 478,
   "metadata": {},
   "outputs": [
    {
     "data": {
      "image/png": "[encoded data removed]",
      "text/plain": [
       "<matplotlib.figure.Figure at 0x1a191e4588>"
      ]
     },
     "metadata": {},
     "output_type": "display_data"
    }
   ],
   "source": [
    "colors = plt.cm.tab20(np.linspace(0, 1, 20))\n",
    "fig1, ax1 = plt.subplots()\n",
    "ax1.pie(clus2_win_count.loc[clus2_win_count.index], labels=clus2_win_count.index, colors=colors, autopct='%1.1f%%')\n",
    "ax1.axis('equal') \n",
    "plt.title(\"Winning Ratio of Cluster 2 pokemon\")\n",
    "plt.show()"
   ]
  },
  {
   "cell_type": "markdown",
   "metadata": {},
   "source": [
    "The result shows that although pokemons in cluster 2 has low attack and defense, however, with high HP, they may still win the game. Therefore, we would like to conduct a further anaylsis to discover in what kind of situation these pokemons could win the combat."
   ]
  },
  {
   "cell_type": "code",
   "execution_count": 479,
   "metadata": {},
   "outputs": [
    {
     "data": {
      "text/html": [
       "<div>\n",
       "<style>\n",
       "    .dataframe thead tr:only-child th {\n",
       "        text-align: right;\n",
       "    }\n",
       "\n",
       "    .dataframe thead th {\n",
       "        text-align: left;\n",
       "    }\n",
       "\n",
       "    .dataframe tbody tr th {\n",
       "        vertical-align: top;\n",
       "    }\n",
       "</style>\n",
       "<table border=\"1\" class=\"dataframe\">\n",
       "  <thead>\n",
       "    <tr style=\"text-align: right;\">\n",
       "      <th></th>\n",
       "      <th>First_pokemon</th>\n",
       "      <th>Second_pokemon</th>\n",
       "    </tr>\n",
       "    <tr>\n",
       "      <th>WinCombat</th>\n",
       "      <th></th>\n",
       "      <th></th>\n",
       "    </tr>\n",
       "  </thead>\n",
       "  <tbody>\n",
       "    <tr>\n",
       "      <th>122</th>\n",
       "      <td>3</td>\n",
       "      <td>12</td>\n",
       "    </tr>\n",
       "    <tr>\n",
       "      <th>218</th>\n",
       "      <td>12</td>\n",
       "      <td>6</td>\n",
       "    </tr>\n",
       "    <tr>\n",
       "      <th>262</th>\n",
       "      <td>24</td>\n",
       "      <td>16</td>\n",
       "    </tr>\n",
       "  </tbody>\n",
       "</table>\n",
       "</div>"
      ],
      "text/plain": [
       "           First_pokemon  Second_pokemon\n",
       "WinCombat                               \n",
       "122                    3              12\n",
       "218                   12               6\n",
       "262                   24              16"
      ]
     },
     "execution_count": 479,
     "metadata": {},
     "output_type": "execute_result"
    }
   ],
   "source": [
    "outlier_win = clus2_win.query('WinCombat != \"Others\"').copy()\n",
    "outlier_win['isFstPoke'] = outlier_win['First_pokemon'].isin(outlier_win['Winner'])\n",
    "\n",
    "clus2_win_fs = outlier_win.pivot_table(values='Winner', index=['WinCombat'], columns=['isFstPoke'], aggfunc='count')\n",
    "clus2_win_fs.columns = ['First_pokemon', 'Second_pokemon']\n",
    "clus2_win_fs"
   ]
  },
  {
   "cell_type": "markdown",
   "metadata": {},
   "source": [
    "#### Analyze Cluster 3"
   ]
  },
  {
   "cell_type": "code",
   "execution_count": 480,
   "metadata": {
    "collapsed": true
   },
   "outputs": [],
   "source": [
    "clus3_Idx = outlier.query('label == 2')['#'].tolist()\n",
    "clus3_combat = combats[combats['First_pokemon'].isin(clus3_Idx) | combats['Second_pokemon'].isin(clus3_Idx)]"
   ]
  },
  {
   "cell_type": "code",
   "execution_count": 481,
   "metadata": {
    "collapsed": true
   },
   "outputs": [],
   "source": [
    "clus3_win = clus3_combat.copy()\n",
    "clus3_win['WinCombat'] = clus3_win['Winner'].isin(clus3_Idx)\n",
    "clus3_win['WinCombat'] = np.where(clus3_win['WinCombat'] == True, clus3_win['Winner'], \"Others\")"
   ]
  },
  {
   "cell_type": "code",
   "execution_count": 482,
   "metadata": {},
   "outputs": [
    {
     "data": {
      "text/html": [
       "<div>\n",
       "<style>\n",
       "    .dataframe thead tr:only-child th {\n",
       "        text-align: right;\n",
       "    }\n",
       "\n",
       "    .dataframe thead th {\n",
       "        text-align: left;\n",
       "    }\n",
       "\n",
       "    .dataframe tbody tr th {\n",
       "        vertical-align: top;\n",
       "    }\n",
       "</style>\n",
       "<table border=\"1\" class=\"dataframe\">\n",
       "  <thead>\n",
       "    <tr style=\"text-align: right;\">\n",
       "      <th></th>\n",
       "      <th>Winner</th>\n",
       "    </tr>\n",
       "    <tr>\n",
       "      <th>WinCombat</th>\n",
       "      <th></th>\n",
       "    </tr>\n",
       "  </thead>\n",
       "  <tbody>\n",
       "    <tr>\n",
       "      <th>Others</th>\n",
       "      <td>135</td>\n",
       "    </tr>\n",
       "  </tbody>\n",
       "</table>\n",
       "</div>"
      ],
      "text/plain": [
       "           Winner\n",
       "WinCombat        \n",
       "Others        135"
      ]
     },
     "execution_count": 482,
     "metadata": {},
     "output_type": "execute_result"
    }
   ],
   "source": [
    "clus3_win = clus3_win.pivot_table(values='Winner', index=['WinCombat'], aggfunc='count')\n",
    "clus3_win"
   ]
  },
  {
   "cell_type": "code",
   "execution_count": 483,
   "metadata": {},
   "outputs": [
    {
     "data": {
      "image/png": "[encoded data removed]",
      "text/plain": [
       "<matplotlib.figure.Figure at 0x1a19c6b390>"
      ]
     },
     "metadata": {},
     "output_type": "display_data"
    }
   ],
   "source": [
    "colors = plt.cm.tab20(np.linspace(0, 1, 20))\n",
    "fig1, ax1 = plt.subplots()\n",
    "ax1.pie(clus3_win.loc[clus3_win.index], labels=clus3_win.index, colors=colors, autopct='%1.1f%%')\n",
    "ax1.axis('equal') \n",
    "plt.title(\"Winning Ratio of Cluster 3 pokemon\")\n",
    "plt.show()"
   ]
  },
  {
   "cell_type": "markdown",
   "metadata": {},
   "source": [
    "Among the 135 combats, Shuckle (#231) lost all the games, which may predict although having a high defense and Sp.Def (high PC2 and PC3), it could not help it win the combat.  "
   ]
  },
  {
   "cell_type": "markdown",
   "metadata": {},
   "source": [
    "After analyzing the outliers, I would like to use Kmeans clustering method to do a further analysis. Unlike mean shift, kmeans allows the users to decide how many clusters they would like the machine to generate. In this way, I could find out how the machine will divide cluster 1. "
   ]
  },
  {
   "cell_type": "markdown",
   "metadata": {},
   "source": [
    "## Kmeans"
   ]
  },
  {
   "cell_type": "code",
   "execution_count": 484,
   "metadata": {
    "collapsed": true
   },
   "outputs": [],
   "source": [
    "from sklearn.cluster import KMeans\n",
    "from sklearn.metrics import silhouette_samples, silhouette_score"
   ]
  },
  {
   "cell_type": "markdown",
   "metadata": {},
   "source": [
    "Find the optimal k (number of clusters):\n",
    "- Elbow Method\n",
    "- Silhouette Method"
   ]
  },
  {
   "cell_type": "code",
   "execution_count": 485,
   "metadata": {
    "collapsed": true
   },
   "outputs": [],
   "source": [
    "#elbow method\n",
    "x = []\n",
    "y = []\n",
    "for k in range (1, 11):\n",
    "    # create a kmeans model on our data, using k clusters.  \n",
    "    # random_state helps ensure that the algorithm returns the same results each time.\n",
    "    ekmeans = KMeans(n_clusters=k, random_state=10).fit(pcscores.iloc[:, :])\n",
    "    eklabels = ekmeans.labels_\n",
    "    # sum of distances of samples to their closest cluster center\n",
    "    interia = ekmeans.inertia_\n",
    "    x.append(k)\n",
    "    y.append(interia)"
   ]
  },
  {
   "cell_type": "code",
   "execution_count": 486,
   "metadata": {},
   "outputs": [
    {
     "data": {
      "image/png": "[encoded data removed]",
      "text/plain": [
       "<matplotlib.figure.Figure at 0x1a1a296390>"
      ]
     },
     "metadata": {},
     "output_type": "display_data"
    }
   ],
   "source": [
    "f, ax = plt.subplots()\n",
    "ax.plot(x, y, zorder=2, marker='o')\n",
    "\n",
    "#for i, txt in enumerate(y):\n",
    "#    ax.annotate(int(txt), (x[i],y[i]))\n",
    "\n",
    "plt.title(\"Determine the best K\")    \n",
    "ax.set_xlabel(\"Number of clusters\")\n",
    "ax.set_ylabel(\"Inertia\")\n",
    "plt.show()"
   ]
  },
  {
   "cell_type": "markdown",
   "metadata": {},
   "source": [
    "Although the elbow point of this dataset is not really obvious, according to this result, I will choose to generate 4 clusters by implementing kmeans."
   ]
  },
  {
   "cell_type": "code",
   "execution_count": 487,
   "metadata": {},
   "outputs": [
    {
     "name": "stdout",
     "output_type": "stream",
     "text": [
      "Count of cluster1 : 280\n",
      "Count of cluster2 : 119\n",
      "Count of cluster3 : 205\n",
      "Count of cluster4 : 196\n"
     ]
    }
   ],
   "source": [
    "cluster_num = 4\n",
    "kmeans = KMeans(n_clusters=cluster_num, random_state=10)\n",
    "kmeans.fit(pcscores)\n",
    "\n",
    "centroids = kmeans.cluster_centers_\n",
    "klabels = kmeans.labels_\n",
    "#print(centroids)\n",
    "\n",
    "gname = []\n",
    "gcenters = []\n",
    "for i in range(cluster_num):\n",
    "    gname.append(i)\n",
    "    center = centroids[i].tolist()\n",
    "    (x, y) = (center[0], center[1])\n",
    "    gcenters.append((x, y))\n",
    "    groups = dict(zip(gname, gcenters))\n",
    "\n",
    "for i in range(cluster_num):\n",
    "    group = 'cluster'+str(i+1)\n",
    "    print(\"Count of \"+group+' :', str(klabels.tolist().count(i)))\n",
    "    "
   ]
  },
  {
   "cell_type": "code",
   "execution_count": 488,
   "metadata": {
    "collapsed": true
   },
   "outputs": [],
   "source": [
    "pkmeans = pokemon.copy()\n",
    "pkmeans['klabel'] = klabels\n",
    "KmeansPoke = pd.concat([pkmeans, pcscores], axis=1)"
   ]
  },
  {
   "cell_type": "code",
   "execution_count": 489,
   "metadata": {},
   "outputs": [
    {
     "data": {
      "image/png": "[encoded data removed]",
      "text/plain": [
       "<matplotlib.figure.Figure at 0x1a19c6b0b8>"
      ]
     },
     "metadata": {},
     "output_type": "display_data"
    }
   ],
   "source": [
    "colors = plt.cm.Pastel1(np.linspace(0, 1, 10))\n",
    "groups_keys = list(groups.keys())\n",
    "#loop through labels and plot each cluster\n",
    "for i, label in enumerate(groups.keys()):\n",
    "\n",
    "    #add data points \n",
    "    plt.scatter(x=KmeansPoke.loc[KmeansPoke['klabel']==label, 'PC1'], \n",
    "                y=KmeansPoke.loc[KmeansPoke['klabel']==label,'PC2'],\n",
    "                color=colors[i])\n",
    "    \n",
    "    #add label\n",
    "    plt.annotate(label, xy = groups[groups_keys[i]],\n",
    "                 horizontalalignment='center', verticalalignment='center',\n",
    "                 size=20, color='k') \n",
    "    \n",
    "\n",
    "plt.title('2D Pokemon Kmeans Clustering')\n",
    "plt.xlabel('PC1')\n",
    "plt.ylabel('PC2')\n",
    "plt.legend(groups_keys, loc='best')\n",
    "plt.show()"
   ]
  },
  {
   "cell_type": "code",
   "execution_count": 490,
   "metadata": {},
   "outputs": [
    {
     "data": {
      "text/html": [
       "<div>\n",
       "<style>\n",
       "    .dataframe thead tr:only-child th {\n",
       "        text-align: right;\n",
       "    }\n",
       "\n",
       "    .dataframe thead th {\n",
       "        text-align: left;\n",
       "    }\n",
       "\n",
       "    .dataframe tbody tr th {\n",
       "        vertical-align: top;\n",
       "    }\n",
       "</style>\n",
       "<table border=\"1\" class=\"dataframe\">\n",
       "  <thead>\n",
       "    <tr style=\"text-align: right;\">\n",
       "      <th>WinCombat</th>\n",
       "      <th>False</th>\n",
       "      <th>True</th>\n",
       "    </tr>\n",
       "  </thead>\n",
       "  <tbody>\n",
       "    <tr>\n",
       "      <th>c0</th>\n",
       "      <td>63.08%</td>\n",
       "      <td>36.92%</td>\n",
       "    </tr>\n",
       "    <tr>\n",
       "      <th>c1</th>\n",
       "      <td>15.16%</td>\n",
       "      <td>84.84%</td>\n",
       "    </tr>\n",
       "    <tr>\n",
       "      <th>c2</th>\n",
       "      <td>19.06%</td>\n",
       "      <td>80.94%</td>\n",
       "    </tr>\n",
       "    <tr>\n",
       "      <th>c3</th>\n",
       "      <td>55.56%</td>\n",
       "      <td>44.44%</td>\n",
       "    </tr>\n",
       "  </tbody>\n",
       "</table>\n",
       "</div>"
      ],
      "text/plain": [
       "WinCombat   False   True \n",
       "c0         63.08%  36.92%\n",
       "c1         15.16%  84.84%\n",
       "c2         19.06%  80.94%\n",
       "c3         55.56%  44.44%"
      ]
     },
     "execution_count": 490,
     "metadata": {},
     "output_type": "execute_result"
    }
   ],
   "source": [
    "kclus_combat_index = []\n",
    "kclus_combat_table = []\n",
    "for i in range(cluster_num):\n",
    "    \n",
    "    kclus_Idx = KmeansPoke.query('klabel == '+str(i))['#'].tolist()\n",
    "    kclus_combat = combats[combats['First_pokemon'].isin(kclus_Idx) | combats['Second_pokemon'].isin(kclus_Idx)]\n",
    "    winner = kclus_combat['Winner'].isin(kclus_Idx).tolist()\n",
    "    kclus_combat = kclus_combat.assign(WinCombat=winner)\n",
    "    kclusPivot = kclus_combat.pivot_table(values='Winner', index=['WinCombat'], aggfunc='count')\n",
    "    \n",
    "    locals()[\"c\"+str(i+1)] = kclus_combat.pivot_table(values='Winner', columns=['WinCombat'], aggfunc='count')\n",
    "    kclus_combat_index.append(\"c\"+str(i))\n",
    "    kclus_combat_table.append(locals()[\"c\"+str(i+1)])\n",
    "\n",
    "\n",
    "kclus_win = pd.concat(kclus_combat_table)\n",
    "kclus_win.index = kclus_combat_index\n",
    "total = kclus_win.sum(axis=1)\n",
    "\n",
    "kclus_win[False] = (kclus_win[False] / total).apply('{:.2%}'.format)\n",
    "kclus_win[True] = (kclus_win[True] / total).apply('{:.2%}'.format)\n",
    "\n",
    "kclus_win"
   ]
  },
  {
   "cell_type": "markdown",
   "metadata": {},
   "source": [
    "When we implemented kmeans clustering method, we are asked to specify how many clusters we want to generate.\n",
    "- When there are 4 clusters:\n",
    "    - two groups with high winning rate \n",
    "    - two group with low winning rate "
   ]
  },
  {
   "cell_type": "code",
   "execution_count": 491,
   "metadata": {},
   "outputs": [
    {
     "data": {
      "text/html": [
       "<div>\n",
       "<style>\n",
       "    .dataframe thead tr:only-child th {\n",
       "        text-align: right;\n",
       "    }\n",
       "\n",
       "    .dataframe thead th {\n",
       "        text-align: left;\n",
       "    }\n",
       "\n",
       "    .dataframe tbody tr th {\n",
       "        vertical-align: top;\n",
       "    }\n",
       "</style>\n",
       "<table border=\"1\" class=\"dataframe\">\n",
       "  <thead>\n",
       "    <tr style=\"text-align: right;\">\n",
       "      <th>klabel</th>\n",
       "      <th>0</th>\n",
       "      <th>1</th>\n",
       "      <th>2</th>\n",
       "      <th>3</th>\n",
       "      <th>All</th>\n",
       "    </tr>\n",
       "  </thead>\n",
       "  <tbody>\n",
       "    <tr>\n",
       "      <th>Attack</th>\n",
       "      <td>53.678571</td>\n",
       "      <td>119.907563</td>\n",
       "      <td>84.400000</td>\n",
       "      <td>84.693878</td>\n",
       "      <td>79.00125</td>\n",
       "    </tr>\n",
       "    <tr>\n",
       "      <th>Defense</th>\n",
       "      <td>52.346429</td>\n",
       "      <td>92.260504</td>\n",
       "      <td>66.185366</td>\n",
       "      <td>101.377551</td>\n",
       "      <td>73.84250</td>\n",
       "    </tr>\n",
       "    <tr>\n",
       "      <th>HP</th>\n",
       "      <td>49.907143</td>\n",
       "      <td>89.638655</td>\n",
       "      <td>70.565854</td>\n",
       "      <td>83.163265</td>\n",
       "      <td>69.25875</td>\n",
       "    </tr>\n",
       "    <tr>\n",
       "      <th>Sp. Atk</th>\n",
       "      <td>47.628571</td>\n",
       "      <td>119.285714</td>\n",
       "      <td>77.839024</td>\n",
       "      <td>75.346939</td>\n",
       "      <td>72.82000</td>\n",
       "    </tr>\n",
       "    <tr>\n",
       "      <th>Sp. Def</th>\n",
       "      <td>49.110714</td>\n",
       "      <td>97.193277</td>\n",
       "      <td>71.624390</td>\n",
       "      <td>89.397959</td>\n",
       "      <td>71.90250</td>\n",
       "    </tr>\n",
       "    <tr>\n",
       "      <th>Speed</th>\n",
       "      <td>49.192857</td>\n",
       "      <td>100.134454</td>\n",
       "      <td>91.043902</td>\n",
       "      <td>52.387755</td>\n",
       "      <td>68.27750</td>\n",
       "    </tr>\n",
       "    <tr>\n",
       "      <th>Total</th>\n",
       "      <td>301.864286</td>\n",
       "      <td>618.420168</td>\n",
       "      <td>461.658537</td>\n",
       "      <td>486.367347</td>\n",
       "      <td>435.10250</td>\n",
       "    </tr>\n",
       "  </tbody>\n",
       "</table>\n",
       "</div>"
      ],
      "text/plain": [
       "klabel            0           1           2           3        All\n",
       "Attack    53.678571  119.907563   84.400000   84.693878   79.00125\n",
       "Defense   52.346429   92.260504   66.185366  101.377551   73.84250\n",
       "HP        49.907143   89.638655   70.565854   83.163265   69.25875\n",
       "Sp. Atk   47.628571  119.285714   77.839024   75.346939   72.82000\n",
       "Sp. Def   49.110714   97.193277   71.624390   89.397959   71.90250\n",
       "Speed     49.192857  100.134454   91.043902   52.387755   68.27750\n",
       "Total    301.864286  618.420168  461.658537  486.367347  435.10250"
      ]
     },
     "execution_count": 491,
     "metadata": {},
     "output_type": "execute_result"
    }
   ],
   "source": [
    "kstats = KmeansPoke.pivot_table(values=stats,index=['klabel'], aggfunc='mean').fillna(0)\n",
    "kstats = kstats.transpose()\n",
    "kstats = kstats.assign(All=pokemon[stats].mean())\n",
    "kstats"
   ]
  },
  {
   "cell_type": "code",
   "execution_count": 492,
   "metadata": {},
   "outputs": [
    {
     "data": {
      "text/html": [
       "<div>\n",
       "<style>\n",
       "    .dataframe thead tr:only-child th {\n",
       "        text-align: right;\n",
       "    }\n",
       "\n",
       "    .dataframe thead th {\n",
       "        text-align: left;\n",
       "    }\n",
       "\n",
       "    .dataframe tbody tr th {\n",
       "        vertical-align: top;\n",
       "    }\n",
       "</style>\n",
       "<table border=\"1\" class=\"dataframe\">\n",
       "  <thead>\n",
       "    <tr style=\"text-align: right;\">\n",
       "      <th></th>\n",
       "      <th>count</th>\n",
       "      <th>mean</th>\n",
       "      <th>std</th>\n",
       "      <th>min</th>\n",
       "      <th>25%</th>\n",
       "      <th>50%</th>\n",
       "      <th>75%</th>\n",
       "      <th>max</th>\n",
       "    </tr>\n",
       "  </thead>\n",
       "  <tbody>\n",
       "    <tr>\n",
       "      <th>Attack</th>\n",
       "      <td>800.0</td>\n",
       "      <td>79.00125</td>\n",
       "      <td>32.457366</td>\n",
       "      <td>5.0</td>\n",
       "      <td>55.00</td>\n",
       "      <td>75.0</td>\n",
       "      <td>100.0</td>\n",
       "      <td>190.0</td>\n",
       "    </tr>\n",
       "    <tr>\n",
       "      <th>Defense</th>\n",
       "      <td>800.0</td>\n",
       "      <td>73.84250</td>\n",
       "      <td>31.183501</td>\n",
       "      <td>5.0</td>\n",
       "      <td>50.00</td>\n",
       "      <td>70.0</td>\n",
       "      <td>90.0</td>\n",
       "      <td>230.0</td>\n",
       "    </tr>\n",
       "    <tr>\n",
       "      <th>HP</th>\n",
       "      <td>800.0</td>\n",
       "      <td>69.25875</td>\n",
       "      <td>25.534669</td>\n",
       "      <td>1.0</td>\n",
       "      <td>50.00</td>\n",
       "      <td>65.0</td>\n",
       "      <td>80.0</td>\n",
       "      <td>255.0</td>\n",
       "    </tr>\n",
       "    <tr>\n",
       "      <th>Sp. Atk</th>\n",
       "      <td>800.0</td>\n",
       "      <td>72.82000</td>\n",
       "      <td>32.722294</td>\n",
       "      <td>10.0</td>\n",
       "      <td>49.75</td>\n",
       "      <td>65.0</td>\n",
       "      <td>95.0</td>\n",
       "      <td>194.0</td>\n",
       "    </tr>\n",
       "    <tr>\n",
       "      <th>Sp. Def</th>\n",
       "      <td>800.0</td>\n",
       "      <td>71.90250</td>\n",
       "      <td>27.828916</td>\n",
       "      <td>20.0</td>\n",
       "      <td>50.00</td>\n",
       "      <td>70.0</td>\n",
       "      <td>90.0</td>\n",
       "      <td>230.0</td>\n",
       "    </tr>\n",
       "    <tr>\n",
       "      <th>Speed</th>\n",
       "      <td>800.0</td>\n",
       "      <td>68.27750</td>\n",
       "      <td>29.060474</td>\n",
       "      <td>5.0</td>\n",
       "      <td>45.00</td>\n",
       "      <td>65.0</td>\n",
       "      <td>90.0</td>\n",
       "      <td>180.0</td>\n",
       "    </tr>\n",
       "    <tr>\n",
       "      <th>Total</th>\n",
       "      <td>800.0</td>\n",
       "      <td>435.10250</td>\n",
       "      <td>119.963040</td>\n",
       "      <td>180.0</td>\n",
       "      <td>330.00</td>\n",
       "      <td>450.0</td>\n",
       "      <td>515.0</td>\n",
       "      <td>780.0</td>\n",
       "    </tr>\n",
       "  </tbody>\n",
       "</table>\n",
       "</div>"
      ],
      "text/plain": [
       "         count       mean         std    min     25%    50%    75%    max\n",
       "Attack   800.0   79.00125   32.457366    5.0   55.00   75.0  100.0  190.0\n",
       "Defense  800.0   73.84250   31.183501    5.0   50.00   70.0   90.0  230.0\n",
       "HP       800.0   69.25875   25.534669    1.0   50.00   65.0   80.0  255.0\n",
       "Sp. Atk  800.0   72.82000   32.722294   10.0   49.75   65.0   95.0  194.0\n",
       "Sp. Def  800.0   71.90250   27.828916   20.0   50.00   70.0   90.0  230.0\n",
       "Speed    800.0   68.27750   29.060474    5.0   45.00   65.0   90.0  180.0\n",
       "Total    800.0  435.10250  119.963040  180.0  330.00  450.0  515.0  780.0"
      ]
     },
     "execution_count": 492,
     "metadata": {},
     "output_type": "execute_result"
    }
   ],
   "source": [
    "pokemon[stats].describe().transpose()"
   ]
  },
  {
   "cell_type": "code",
   "execution_count": 493,
   "metadata": {},
   "outputs": [
    {
     "data": {
      "text/html": [
       "<div>\n",
       "<style>\n",
       "    .dataframe thead tr:only-child th {\n",
       "        text-align: right;\n",
       "    }\n",
       "\n",
       "    .dataframe thead th {\n",
       "        text-align: left;\n",
       "    }\n",
       "\n",
       "    .dataframe tbody tr th {\n",
       "        vertical-align: top;\n",
       "    }\n",
       "</style>\n",
       "<table border=\"1\" class=\"dataframe\">\n",
       "  <thead>\n",
       "    <tr style=\"text-align: right;\">\n",
       "      <th>klabel</th>\n",
       "      <th>0</th>\n",
       "      <th>1</th>\n",
       "      <th>2</th>\n",
       "      <th>3</th>\n",
       "    </tr>\n",
       "  </thead>\n",
       "  <tbody>\n",
       "    <tr>\n",
       "      <th>PC1</th>\n",
       "      <td>-1.829683</td>\n",
       "      <td>2.505731</td>\n",
       "      <td>0.332337</td>\n",
       "      <td>0.744899</td>\n",
       "    </tr>\n",
       "    <tr>\n",
       "      <th>PC2</th>\n",
       "      <td>-0.010223</td>\n",
       "      <td>-0.525328</td>\n",
       "      <td>-0.725396</td>\n",
       "      <td>1.092259</td>\n",
       "    </tr>\n",
       "    <tr>\n",
       "      <th>PC3</th>\n",
       "      <td>0.023359</td>\n",
       "      <td>-0.050505</td>\n",
       "      <td>-0.037303</td>\n",
       "      <td>0.036310</td>\n",
       "    </tr>\n",
       "    <tr>\n",
       "      <th>PC4</th>\n",
       "      <td>-0.008580</td>\n",
       "      <td>-0.134123</td>\n",
       "      <td>-0.139938</td>\n",
       "      <td>0.240053</td>\n",
       "    </tr>\n",
       "    <tr>\n",
       "      <th>PC5</th>\n",
       "      <td>-0.086957</td>\n",
       "      <td>-0.219663</td>\n",
       "      <td>0.264832</td>\n",
       "      <td>-0.019402</td>\n",
       "    </tr>\n",
       "  </tbody>\n",
       "</table>\n",
       "</div>"
      ],
      "text/plain": [
       "klabel         0         1         2         3\n",
       "PC1    -1.829683  2.505731  0.332337  0.744899\n",
       "PC2    -0.010223 -0.525328 -0.725396  1.092259\n",
       "PC3     0.023359 -0.050505 -0.037303  0.036310\n",
       "PC4    -0.008580 -0.134123 -0.139938  0.240053\n",
       "PC5    -0.086957 -0.219663  0.264832 -0.019402"
      ]
     },
     "execution_count": 493,
     "metadata": {},
     "output_type": "execute_result"
    }
   ],
   "source": [
    "kpca = KmeansPoke.pivot_table(values=['PC1', 'PC2', 'PC3', 'PC4', 'PC5'],index=['klabel'], aggfunc='mean').fillna(0)\n",
    "kpca.transpose()"
   ]
  },
  {
   "cell_type": "code",
   "execution_count": 494,
   "metadata": {},
   "outputs": [
    {
     "data": {
      "image/png": "[encoded data removed]",
      "text/plain": [
       "<matplotlib.figure.Figure at 0x1a1b270550>"
      ]
     },
     "metadata": {},
     "output_type": "display_data"
    }
   ],
   "source": [
    "colors = plt.cm.tab20c(np.linspace(0, 1, 10))\n",
    "\n",
    "ax1 = kstats.plot(kind='bar', color=colors, figsize=(10, 5))\n",
    "ax1.set_ylabel(\"Value\")\n",
    "ax1.set_xticklabels(kstats.index)\n",
    "ax1.set_title(\"Base stats comparison among each clusters\")\n",
    "plt.legend(prop={'size':10})\n",
    "plt.show()"
   ]
  },
  {
   "cell_type": "markdown",
   "metadata": {},
   "source": [
    "According to this graph, we can assume that cluster 1 has a high winning rate, while cluster 0 has a low winning rate. However, the winning rate result of cluster 2 and 3 is somehow surprising. \n",
    "- cluster 2 has a high winning rate (around 81%)\n",
    "- cluster 3 has a low winning rate (around 44%)\n",
    "- both average total stat of c2 and c3 are higher than the average total stat of all pokemons\n",
    "- This shows that although some pokemons has high stat, but it doesn't mean they have high winning rate"
   ]
  },
  {
   "cell_type": "code",
   "execution_count": 495,
   "metadata": {},
   "outputs": [
    {
     "data": {
      "text/html": [
       "<div>\n",
       "<style>\n",
       "    .dataframe thead tr:only-child th {\n",
       "        text-align: right;\n",
       "    }\n",
       "\n",
       "    .dataframe thead th {\n",
       "        text-align: left;\n",
       "    }\n",
       "\n",
       "    .dataframe tbody tr th {\n",
       "        vertical-align: top;\n",
       "    }\n",
       "</style>\n",
       "<table border=\"1\" class=\"dataframe\">\n",
       "  <thead>\n",
       "    <tr style=\"text-align: right;\">\n",
       "      <th>Type 1</th>\n",
       "      <th>Bug</th>\n",
       "      <th>Dark</th>\n",
       "      <th>Dragon</th>\n",
       "      <th>Electric</th>\n",
       "      <th>Fairy</th>\n",
       "      <th>Fighting</th>\n",
       "      <th>Fire</th>\n",
       "      <th>Flying</th>\n",
       "      <th>Ghost</th>\n",
       "      <th>Grass</th>\n",
       "      <th>Ground</th>\n",
       "      <th>Ice</th>\n",
       "      <th>Normal</th>\n",
       "      <th>Poison</th>\n",
       "      <th>Psychic</th>\n",
       "      <th>Rock</th>\n",
       "      <th>Steel</th>\n",
       "      <th>Water</th>\n",
       "    </tr>\n",
       "    <tr>\n",
       "      <th>klabel</th>\n",
       "      <th></th>\n",
       "      <th></th>\n",
       "      <th></th>\n",
       "      <th></th>\n",
       "      <th></th>\n",
       "      <th></th>\n",
       "      <th></th>\n",
       "      <th></th>\n",
       "      <th></th>\n",
       "      <th></th>\n",
       "      <th></th>\n",
       "      <th></th>\n",
       "      <th></th>\n",
       "      <th></th>\n",
       "      <th></th>\n",
       "      <th></th>\n",
       "      <th></th>\n",
       "      <th></th>\n",
       "    </tr>\n",
       "  </thead>\n",
       "  <tbody>\n",
       "    <tr>\n",
       "      <th>0</th>\n",
       "      <td>30</td>\n",
       "      <td>10</td>\n",
       "      <td>5</td>\n",
       "      <td>12</td>\n",
       "      <td>8</td>\n",
       "      <td>9</td>\n",
       "      <td>13</td>\n",
       "      <td>1</td>\n",
       "      <td>12</td>\n",
       "      <td>25</td>\n",
       "      <td>13</td>\n",
       "      <td>8</td>\n",
       "      <td>42</td>\n",
       "      <td>14</td>\n",
       "      <td>18</td>\n",
       "      <td>14</td>\n",
       "      <td>6</td>\n",
       "      <td>40</td>\n",
       "    </tr>\n",
       "    <tr>\n",
       "      <th>1</th>\n",
       "      <td>4</td>\n",
       "      <td>5</td>\n",
       "      <td>19</td>\n",
       "      <td>7</td>\n",
       "      <td>1</td>\n",
       "      <td>1</td>\n",
       "      <td>13</td>\n",
       "      <td>2</td>\n",
       "      <td>4</td>\n",
       "      <td>6</td>\n",
       "      <td>4</td>\n",
       "      <td>3</td>\n",
       "      <td>9</td>\n",
       "      <td>0</td>\n",
       "      <td>17</td>\n",
       "      <td>6</td>\n",
       "      <td>6</td>\n",
       "      <td>12</td>\n",
       "    </tr>\n",
       "    <tr>\n",
       "      <th>2</th>\n",
       "      <td>23</td>\n",
       "      <td>10</td>\n",
       "      <td>5</td>\n",
       "      <td>16</td>\n",
       "      <td>0</td>\n",
       "      <td>9</td>\n",
       "      <td>21</td>\n",
       "      <td>1</td>\n",
       "      <td>8</td>\n",
       "      <td>18</td>\n",
       "      <td>5</td>\n",
       "      <td>6</td>\n",
       "      <td>31</td>\n",
       "      <td>9</td>\n",
       "      <td>13</td>\n",
       "      <td>6</td>\n",
       "      <td>1</td>\n",
       "      <td>23</td>\n",
       "    </tr>\n",
       "    <tr>\n",
       "      <th>3</th>\n",
       "      <td>12</td>\n",
       "      <td>6</td>\n",
       "      <td>3</td>\n",
       "      <td>9</td>\n",
       "      <td>8</td>\n",
       "      <td>8</td>\n",
       "      <td>5</td>\n",
       "      <td>0</td>\n",
       "      <td>8</td>\n",
       "      <td>21</td>\n",
       "      <td>10</td>\n",
       "      <td>7</td>\n",
       "      <td>16</td>\n",
       "      <td>5</td>\n",
       "      <td>9</td>\n",
       "      <td>18</td>\n",
       "      <td>14</td>\n",
       "      <td>37</td>\n",
       "    </tr>\n",
       "  </tbody>\n",
       "</table>\n",
       "</div>"
      ],
      "text/plain": [
       "Type 1  Bug  Dark  Dragon  Electric  Fairy  Fighting  Fire  Flying  Ghost  \\\n",
       "klabel                                                                      \n",
       "0        30    10       5        12      8         9    13       1     12   \n",
       "1         4     5      19         7      1         1    13       2      4   \n",
       "2        23    10       5        16      0         9    21       1      8   \n",
       "3        12     6       3         9      8         8     5       0      8   \n",
       "\n",
       "Type 1  Grass  Ground  Ice  Normal  Poison  Psychic  Rock  Steel  Water  \n",
       "klabel                                                                   \n",
       "0          25      13    8      42      14       18    14      6     40  \n",
       "1           6       4    3       9       0       17     6      6     12  \n",
       "2          18       5    6      31       9       13     6      1     23  \n",
       "3          21      10    7      16       5        9    18     14     37  "
      ]
     },
     "execution_count": 495,
     "metadata": {},
     "output_type": "execute_result"
    }
   ],
   "source": [
    "ktype = KmeansPoke.pivot_table(values='Name', index=['Type 1'],columns=['klabel'], aggfunc='count').fillna(0).astype(int)\n",
    "ktype2 = KmeansPoke.pivot_table(values='Name', index=['Type 2'],columns=['klabel'], aggfunc='count').fillna(0).astype(int)\n",
    "ktype.transpose()"
   ]
  },
  {
   "cell_type": "code",
   "execution_count": 496,
   "metadata": {},
   "outputs": [
    {
     "data": {
      "text/html": [
       "<div>\n",
       "<style>\n",
       "    .dataframe thead tr:only-child th {\n",
       "        text-align: right;\n",
       "    }\n",
       "\n",
       "    .dataframe thead th {\n",
       "        text-align: left;\n",
       "    }\n",
       "\n",
       "    .dataframe tbody tr th {\n",
       "        vertical-align: top;\n",
       "    }\n",
       "</style>\n",
       "<table border=\"1\" class=\"dataframe\">\n",
       "  <thead>\n",
       "    <tr style=\"text-align: right;\">\n",
       "      <th>Type 2</th>\n",
       "      <th>Bug</th>\n",
       "      <th>Dark</th>\n",
       "      <th>Dragon</th>\n",
       "      <th>Electric</th>\n",
       "      <th>Fairy</th>\n",
       "      <th>Fighting</th>\n",
       "      <th>Fire</th>\n",
       "      <th>Flying</th>\n",
       "      <th>Ghost</th>\n",
       "      <th>Grass</th>\n",
       "      <th>Ground</th>\n",
       "      <th>Ice</th>\n",
       "      <th>None</th>\n",
       "      <th>Normal</th>\n",
       "      <th>Poison</th>\n",
       "      <th>Psychic</th>\n",
       "      <th>Rock</th>\n",
       "      <th>Steel</th>\n",
       "      <th>Water</th>\n",
       "    </tr>\n",
       "    <tr>\n",
       "      <th>klabel</th>\n",
       "      <th></th>\n",
       "      <th></th>\n",
       "      <th></th>\n",
       "      <th></th>\n",
       "      <th></th>\n",
       "      <th></th>\n",
       "      <th></th>\n",
       "      <th></th>\n",
       "      <th></th>\n",
       "      <th></th>\n",
       "      <th></th>\n",
       "      <th></th>\n",
       "      <th></th>\n",
       "      <th></th>\n",
       "      <th></th>\n",
       "      <th></th>\n",
       "      <th></th>\n",
       "      <th></th>\n",
       "      <th></th>\n",
       "    </tr>\n",
       "  </thead>\n",
       "  <tbody>\n",
       "    <tr>\n",
       "      <th>0</th>\n",
       "      <td>2</td>\n",
       "      <td>5</td>\n",
       "      <td>4</td>\n",
       "      <td>2</td>\n",
       "      <td>9</td>\n",
       "      <td>2</td>\n",
       "      <td>4</td>\n",
       "      <td>27</td>\n",
       "      <td>5</td>\n",
       "      <td>11</td>\n",
       "      <td>9</td>\n",
       "      <td>2</td>\n",
       "      <td>159</td>\n",
       "      <td>2</td>\n",
       "      <td>15</td>\n",
       "      <td>8</td>\n",
       "      <td>4</td>\n",
       "      <td>4</td>\n",
       "      <td>6</td>\n",
       "    </tr>\n",
       "    <tr>\n",
       "      <th>1</th>\n",
       "      <td>0</td>\n",
       "      <td>5</td>\n",
       "      <td>9</td>\n",
       "      <td>1</td>\n",
       "      <td>3</td>\n",
       "      <td>13</td>\n",
       "      <td>5</td>\n",
       "      <td>21</td>\n",
       "      <td>2</td>\n",
       "      <td>1</td>\n",
       "      <td>4</td>\n",
       "      <td>3</td>\n",
       "      <td>38</td>\n",
       "      <td>0</td>\n",
       "      <td>2</td>\n",
       "      <td>8</td>\n",
       "      <td>0</td>\n",
       "      <td>3</td>\n",
       "      <td>1</td>\n",
       "    </tr>\n",
       "    <tr>\n",
       "      <th>2</th>\n",
       "      <td>0</td>\n",
       "      <td>8</td>\n",
       "      <td>3</td>\n",
       "      <td>1</td>\n",
       "      <td>5</td>\n",
       "      <td>8</td>\n",
       "      <td>2</td>\n",
       "      <td>37</td>\n",
       "      <td>2</td>\n",
       "      <td>3</td>\n",
       "      <td>6</td>\n",
       "      <td>2</td>\n",
       "      <td>99</td>\n",
       "      <td>2</td>\n",
       "      <td>13</td>\n",
       "      <td>8</td>\n",
       "      <td>0</td>\n",
       "      <td>4</td>\n",
       "      <td>2</td>\n",
       "    </tr>\n",
       "    <tr>\n",
       "      <th>3</th>\n",
       "      <td>1</td>\n",
       "      <td>2</td>\n",
       "      <td>2</td>\n",
       "      <td>2</td>\n",
       "      <td>6</td>\n",
       "      <td>3</td>\n",
       "      <td>1</td>\n",
       "      <td>12</td>\n",
       "      <td>5</td>\n",
       "      <td>10</td>\n",
       "      <td>16</td>\n",
       "      <td>7</td>\n",
       "      <td>90</td>\n",
       "      <td>0</td>\n",
       "      <td>4</td>\n",
       "      <td>9</td>\n",
       "      <td>10</td>\n",
       "      <td>11</td>\n",
       "      <td>5</td>\n",
       "    </tr>\n",
       "  </tbody>\n",
       "</table>\n",
       "</div>"
      ],
      "text/plain": [
       "Type 2  Bug  Dark  Dragon  Electric  Fairy  Fighting  Fire  Flying  Ghost  \\\n",
       "klabel                                                                      \n",
       "0         2     5       4         2      9         2     4      27      5   \n",
       "1         0     5       9         1      3        13     5      21      2   \n",
       "2         0     8       3         1      5         8     2      37      2   \n",
       "3         1     2       2         2      6         3     1      12      5   \n",
       "\n",
       "Type 2  Grass  Ground  Ice  None  Normal  Poison  Psychic  Rock  Steel  Water  \n",
       "klabel                                                                         \n",
       "0          11       9    2   159       2      15        8     4      4      6  \n",
       "1           1       4    3    38       0       2        8     0      3      1  \n",
       "2           3       6    2    99       2      13        8     0      4      2  \n",
       "3          10      16    7    90       0       4        9    10     11      5  "
      ]
     },
     "execution_count": 496,
     "metadata": {},
     "output_type": "execute_result"
    }
   ],
   "source": [
    "ktype2.transpose()"
   ]
  },
  {
   "cell_type": "markdown",
   "metadata": {},
   "source": [
    "Discover the pokemon type in each cluster -> hard to see any specific type dominate the group"
   ]
  },
  {
   "cell_type": "code",
   "execution_count": 497,
   "metadata": {
    "collapsed": true
   },
   "outputs": [],
   "source": [
    "mega = KmeansPoke['Name'].str.contains('Mega')    \n",
    "KmeansPoke['Mega'] = mega"
   ]
  },
  {
   "cell_type": "code",
   "execution_count": 498,
   "metadata": {
    "collapsed": true
   },
   "outputs": [],
   "source": [
    "kleg = KmeansPoke.pivot_table(values='Name', index=['Legendary', 'Mega'],columns=['klabel'], aggfunc='count').fillna(0).astype(int)"
   ]
  },
  {
   "cell_type": "code",
   "execution_count": 499,
   "metadata": {},
   "outputs": [
    {
     "data": {
      "image/png": "[encoded data removed]",
      "text/plain": [
       "<matplotlib.figure.Figure at 0x1a1a4930f0>"
      ]
     },
     "metadata": {},
     "output_type": "display_data"
    }
   ],
   "source": [
    "def my_autopct(pct):\n",
    "    return ('%.2f%%' % pct) if pct > 0 else ''\n",
    "\n",
    "colors = plt.cm.tab20(np.linspace(0, 1, 20))\n",
    "\n",
    "    \n",
    "fig, axes = plt.subplots(1, 4,  figsize=(12,6))\n",
    "for ax in axes.flat:\n",
    "    ax.axis('off')\n",
    "    \n",
    "for ax, col in zip(axes.flat, kleg.columns):\n",
    "    data = kleg[col]  \n",
    "    \n",
    "    pie = ax.pie(data, colors=colors, autopct=my_autopct)\n",
    "    ax.set(ylabel='', title=\"c\"+str(col)+\": legend vs mega\", aspect='equal')\n",
    "\n",
    "fig.legend(pie[0], kleg.index, loc=\"center\", bbox_to_anchor=(0.5,0.15))\n",
    "plt.tight_layout()\n",
    "plt.show()"
   ]
  },
  {
   "cell_type": "markdown",
   "metadata": {},
   "source": [
    "According to this chart, we can find out that:\n",
    "- c0 consists of all pokemons with non-legendary or non-mega-envolved pokemons\n",
    "- c1 consists of around 75% of legendary or mega-envolved or both pokemons, which describes why this cluster has a high base stats and high winning rate\n",
    "- c2 consists of 99% of non-legendary or non-mega-envolved pokemons and 1% or mega-envolved pokemons\n",
    "- c3 consists of a small amount of legendary or mega-envolved pokemon"
   ]
  },
  {
   "cell_type": "code",
   "execution_count": 500,
   "metadata": {},
   "outputs": [
    {
     "data": {
      "text/plain": [
       "\"\\nname_dict = dict(zip(pokemon['#'], pokemon['Name']))\\ncombats_name = combats[['First_pokemon', 'Second_pokemon', 'Winner']].replace(name_dict)\\ncombats_name.head()\\n\""
      ]
     },
     "execution_count": 500,
     "metadata": {},
     "output_type": "execute_result"
    }
   ],
   "source": [
    "#add winning rate of each pokemon to pokemon dataset\n",
    "#KmeansPoke = KmeansPoke.assign(winRate=pokemon[stats].mean())\n",
    "\"\"\"\n",
    "name_dict = dict(zip(pokemon['#'], pokemon['Name']))\n",
    "combats_name = combats[['First_pokemon', 'Second_pokemon', 'Winner']].replace(name_dict)\n",
    "combats_name.head()\n",
    "\"\"\""
   ]
  },
  {
   "cell_type": "code",
   "execution_count": 501,
   "metadata": {},
   "outputs": [
    {
     "name": "stdout",
     "output_type": "stream",
     "text": [
      "Number of first pokemons in the battle: 784\n",
      "Number of second pokemons in the battle: 784\n",
      "Number of winning pokemons in the battle: 783\n"
     ]
    }
   ],
   "source": [
    "#win_counts.loc[231]\n",
    "#clus2_combat = combats[combats['First_pokemon'].isin(clus2_Idx) | combats['Second_pokemon'].isin(clus2_Idx)]\n",
    "first_battle = combats['First_pokemon'].value_counts()\n",
    "second_battle = combats['Second_pokemon'].value_counts()\n",
    "win_counts = combats['Winner'].value_counts()\n",
    "\n",
    "#make sure how many pokemons participated in the battle, first_battle union second battle\n",
    "print ('Number of first pokemons in the battle: %d' % (len(first_battle)))\n",
    "print ('Number of second pokemons in the battle: %d' % (len(second_battle)))\n",
    "print ('Number of winning pokemons in the battle: %d' % (len(win_counts)))"
   ]
  },
  {
   "cell_type": "markdown",
   "metadata": {},
   "source": [
    "From the outcome, we found out that the number of winning pokemons is different than the pokemons that participated in the combats. According to 2.1.1.2, we know that #No.231 Shuckle is the one that lost all the combats."
   ]
  },
  {
   "cell_type": "code",
   "execution_count": 502,
   "metadata": {},
   "outputs": [],
   "source": [
    "win_counts.loc[231] = 0"
   ]
  },
  {
   "cell_type": "code",
   "execution_count": 503,
   "metadata": {},
   "outputs": [
    {
     "data": {
      "text/html": [
       "<div>\n",
       "<style>\n",
       "    .dataframe thead tr:only-child th {\n",
       "        text-align: right;\n",
       "    }\n",
       "\n",
       "    .dataframe thead th {\n",
       "        text-align: left;\n",
       "    }\n",
       "\n",
       "    .dataframe tbody tr th {\n",
       "        vertical-align: top;\n",
       "    }\n",
       "</style>\n",
       "<table border=\"1\" class=\"dataframe\">\n",
       "  <thead>\n",
       "    <tr style=\"text-align: right;\">\n",
       "      <th></th>\n",
       "      <th>WinRate</th>\n",
       "    </tr>\n",
       "  </thead>\n",
       "  <tbody>\n",
       "    <tr>\n",
       "      <th>155</th>\n",
       "      <td>0.984496</td>\n",
       "    </tr>\n",
       "    <tr>\n",
       "      <th>513</th>\n",
       "      <td>0.974790</td>\n",
       "    </tr>\n",
       "    <tr>\n",
       "      <th>704</th>\n",
       "      <td>0.968000</td>\n",
       "    </tr>\n",
       "    <tr>\n",
       "      <th>20</th>\n",
       "      <td>0.966387</td>\n",
       "    </tr>\n",
       "    <tr>\n",
       "      <th>154</th>\n",
       "      <td>0.964539</td>\n",
       "    </tr>\n",
       "  </tbody>\n",
       "</table>\n",
       "</div>"
      ],
      "text/plain": [
       "      WinRate\n",
       "155  0.984496\n",
       "513  0.974790\n",
       "704  0.968000\n",
       "20   0.966387\n",
       "154  0.964539"
      ]
     },
     "execution_count": 503,
     "metadata": {},
     "output_type": "execute_result"
    }
   ],
   "source": [
    "total_battle = first_battle + second_battle\n",
    "win_percentage = win_counts / total_battle\n",
    "win_percentage = win_percentage.sort_values(ascending=False).to_frame().rename(columns={0: \"WinRate\"})\n",
    "win_percentage.head() "
   ]
  },
  {
   "cell_type": "markdown",
   "metadata": {},
   "source": [
    "Let's see which clusters do these pokemons with different winning rate belongs to."
   ]
  },
  {
   "cell_type": "code",
   "execution_count": 504,
   "metadata": {},
   "outputs": [],
   "source": [
    "winRate = win_percentage.copy().reset_index(col_fill='#').rename(columns={'index': \"#\"})"
   ]
  },
  {
   "cell_type": "code",
   "execution_count": 541,
   "metadata": {},
   "outputs": [],
   "source": [
    "klab = KmeansPoke[['#', 'klabel']]\n",
    "klab = pd.merge(winRate, klab, on='#', how='right')\n",
    "klab = klab[klab.WinRate.notnull()]"
   ]
  },
  {
   "cell_type": "code",
   "execution_count": 528,
   "metadata": {},
   "outputs": [],
   "source": [
    "def group(rate):\n",
    "    if (rate > 0.8):\n",
    "        return '81%~100%'\n",
    "    elif (rate > 0.6 and rate <= 0.8):\n",
    "        return '61%~80%'\n",
    "    elif (rate > 0.4 and rate <= 0.6):\n",
    "        return '41%~60%'\n",
    "    elif (rate > 0.2 and rate <= 0.4):\n",
    "        return '21%~40%'\n",
    "    elif (rate >= 0 and rate <= 0.2):\n",
    "        return '0%~20%'"
   ]
  },
  {
   "cell_type": "code",
   "execution_count": 532,
   "metadata": {},
   "outputs": [],
   "source": [
    "func = np.vectorize(group)\n",
    "range_grp = func(klab[\"WinRate\"])\n",
    "klab[\"win_rate_range\"] = range_grp"
   ]
  },
  {
   "cell_type": "code",
   "execution_count": 539,
   "metadata": {},
   "outputs": [],
   "source": [
    "klab_new = klab.pivot_table(values='#',columns=['klabel'], index=['win_rate_range'], aggfunc='count').fillna(0).astype(int)\n",
    "klab_new.columns = ['c0', 'c1', 'c2', 'c3']"
   ]
  },
  {
   "cell_type": "code",
   "execution_count": 540,
   "metadata": {},
   "outputs": [
    {
     "data": {
      "image/png": "[encoded data removed]",
      "text/plain": [
       "<matplotlib.figure.Figure at 0x1a10187198>"
      ]
     },
     "metadata": {},
     "output_type": "display_data"
    }
   ],
   "source": [
    "colors = plt.cm.tab20c(np.linspace(0, 1, 10))\n",
    "\n",
    "ax1 = klab_new.plot(kind='bar', color=colors, figsize=(10, 5))\n",
    "ax1.set_xlabel(\"Range\")\n",
    "ax1.set_ylabel(\"Count\")\n",
    "ax1.set_title(\"Different winning rate range of cluster groups\")\n",
    "plt.legend(prop={'size':10})\n",
    "plt.show()"
   ]
  },
  {
   "cell_type": "markdown",
   "metadata": {},
   "source": [
    "------------------------------------"
   ]
  },
  {
   "cell_type": "markdown",
   "metadata": {},
   "source": [
    "# Pokemon Combat Prediction"
   ]
  },
  {
   "cell_type": "code",
   "execution_count": null,
   "metadata": {},
   "outputs": [],
   "source": [
    "tests = pd.read_csv(\"/Users/gillianchiang/Desktop/Course/year4_sem2/COMP4912/Data/pokemon-challenge/tests.csv\")"
   ]
  },
  {
   "cell_type": "markdown",
   "metadata": {},
   "source": [
    "## Combat Prediction\n",
    "### Initial Prediction"
   ]
  },
  {
   "cell_type": "code",
   "execution_count": null,
   "metadata": {
    "collapsed": true
   },
   "outputs": [],
   "source": []
  },
  {
   "cell_type": "markdown",
   "metadata": {},
   "source": [
    "### Prediction Model Optimization"
   ]
  },
  {
   "cell_type": "code",
   "execution_count": null,
   "metadata": {},
   "outputs": [],
   "source": []
  },
  {
   "cell_type": "markdown",
   "metadata": {},
   "source": [
    "## New Pokemon Prediction"
   ]
  },
  {
   "cell_type": "markdown",
   "metadata": {},
   "source": [
    "When there is a new type of pokemon, given a specific stat, how will other stat distribute"
   ]
  }
 ],
 "metadata": {
  "kernelspec": {
   "display_name": "Python 3",
   "language": "python",
   "name": "python3"
  },
  "language_info": {
   "codemirror_mode": {
    "name": "ipython",
    "version": 3
   },
   "file_extension": ".py",
   "mimetype": "text/x-python",
   "name": "python",
   "nbconvert_exporter": "python",
   "pygments_lexer": "ipython3",
   "version": "3.6.3"
  },
  "toc": {
   "nav_menu": {
    "height": "208px",
    "width": "277px"
   },
   "number_sections": true,
   "sideBar": true,
   "skip_h1_title": false,
   "title_cell": "Table of Contents",
   "title_sidebar": "Contents",
   "toc_cell": true,
   "toc_position": {
    "height": "calc(100% - 180px)",
    "left": "10px",
    "top": "150px",
    "width": "287px"
   },
   "toc_section_display": true,
   "toc_window_display": true
  }
 },
 "nbformat": 4,
 "nbformat_minor": 2
}
